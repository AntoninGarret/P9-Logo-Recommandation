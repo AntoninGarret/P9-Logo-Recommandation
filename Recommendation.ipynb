{
 "cells": [
  {
   "cell_type": "code",
   "execution_count": 1,
   "id": "8cf4672f",
   "metadata": {
    "_cell_guid": "b1076dfc-b9ad-4769-8c92-a6c4dae69d19",
    "_uuid": "8f2839f25d086af736a60e9eeb907d3b93b6e0e5",
    "execution": {
     "iopub.execute_input": "2021-10-02T15:50:53.718012Z",
     "iopub.status.busy": "2021-10-02T15:50:53.712960Z",
     "iopub.status.idle": "2021-10-02T15:50:54.748617Z",
     "shell.execute_reply": "2021-10-02T15:50:54.747891Z",
     "shell.execute_reply.started": "2021-10-02T15:50:25.590715Z"
    },
    "papermill": {
     "duration": 1.088893,
     "end_time": "2021-10-02T15:50:54.748818",
     "exception": false,
     "start_time": "2021-10-02T15:50:53.659925",
     "status": "completed"
    },
    "tags": []
   },
   "outputs": [],
   "source": [
    "import os\n",
    "\n",
    "import random\n",
    "\n",
    "import pandas as pd\n",
    "import numpy as np\n",
    "from collections import defaultdict\n",
    "\n",
    "import seaborn as sns\n",
    "import matplotlib.pyplot as plt\n",
    "%matplotlib inline\n",
    "\n",
    "import missingno\n",
    "\n",
    "import sklearn\n",
    "import sklearn.model_selection\n",
    "\n",
    "from surprise import NormalPredictor\n",
    "from surprise import Dataset\n",
    "from surprise import Reader\n",
    "from surprise.model_selection import cross_validate, train_test_split, GridSearchCV\n",
    "from surprise import KNNWithMeans, SVD\n",
    "from surprise import accuracy\n",
    "\n",
    "import pickle\n",
    "\n",
    "#Settings\n",
    "pd.set_option('display.max_columns', None)\n",
    "sns.set(color_codes=True)\n",
    "\n",
    "#To be avoided in your notebook.\n",
    "import warnings\n",
    "warnings.filterwarnings(\"ignore\")"
   ]
  },
  {
   "cell_type": "markdown",
   "id": "053aef80",
   "metadata": {
    "papermill": {
     "duration": 0.044856,
     "end_time": "2021-10-02T15:50:54.839324",
     "exception": false,
     "start_time": "2021-10-02T15:50:54.794468",
     "status": "completed"
    },
    "tags": []
   },
   "source": [
    "# 1. Exploratory Data Analysis"
   ]
  },
  {
   "cell_type": "markdown",
   "id": "236a890e",
   "metadata": {
    "papermill": {
     "duration": 0.043907,
     "end_time": "2021-10-02T15:50:54.927809",
     "exception": false,
     "start_time": "2021-10-02T15:50:54.883902",
     "status": "completed"
    },
    "tags": []
   },
   "source": [
    "## Dataset Content\n",
    "\n",
    "* **articles_metadata.csv** : CSV file with metadata information about all (364047) published articles\n",
    "* **articles_embeddings.pickle** : Pickle (Python 3) of a NumPy matrix containing the Article Content Embeddings (250-dimensional vectors), trained upon articles' text and metadata by the CHAMELEON's ACR module (see paper for details) for 364047 published articles.\n",
    "* **clicks** : Folder with CSV files (one per hour), containing user sessions interactions in the news portal.\n",
    "* **clicks_sample.csv** : CSV file containing user sessions interactions in the news portal."
   ]
  },
  {
   "cell_type": "code",
   "execution_count": 4,
   "id": "863d29c1",
   "metadata": {
    "execution": {
     "iopub.execute_input": "2021-10-02T15:50:55.024491Z",
     "iopub.status.busy": "2021-10-02T15:50:55.023705Z",
     "iopub.status.idle": "2021-10-02T15:50:55.034338Z",
     "shell.execute_reply": "2021-10-02T15:50:55.034867Z",
     "shell.execute_reply.started": "2021-10-02T15:48:58.684026Z"
    },
    "papermill": {
     "duration": 0.062679,
     "end_time": "2021-10-02T15:50:55.035026",
     "exception": false,
     "start_time": "2021-10-02T15:50:54.972347",
     "status": "completed"
    },
    "tags": []
   },
   "outputs": [
    {
     "name": "stdout",
     "output_type": "stream",
     "text": [
      "articles_embeddings.pickle\n",
      "articles_metadata.csv\n",
      "clicks\n",
      "clicks_sample.csv\n"
     ]
    }
   ],
   "source": [
    "[print(x) for x in os.listdir('news-portal-user-interactions-by-globocom')];"
   ]
  },
  {
   "cell_type": "markdown",
   "id": "b707e43b",
   "metadata": {
    "papermill": {
     "duration": 0.045969,
     "end_time": "2021-10-02T15:50:55.126796",
     "exception": false,
     "start_time": "2021-10-02T15:50:55.080827",
     "status": "completed"
    },
    "tags": []
   },
   "source": [
    "## 1.1 **articles_metadata.csv**"
   ]
  },
  {
   "cell_type": "markdown",
   "id": "3ad2c1d4",
   "metadata": {
    "papermill": {
     "duration": 0.044372,
     "end_time": "2021-10-02T15:50:55.216436",
     "exception": false,
     "start_time": "2021-10-02T15:50:55.172064",
     "status": "completed"
    },
    "tags": []
   },
   "source": [
    "### Content"
   ]
  },
  {
   "cell_type": "code",
   "execution_count": 5,
   "id": "f744f1fc",
   "metadata": {
    "execution": {
     "iopub.execute_input": "2021-10-02T15:50:55.310164Z",
     "iopub.status.busy": "2021-10-02T15:50:55.309564Z",
     "iopub.status.idle": "2021-10-02T15:50:55.614756Z",
     "shell.execute_reply": "2021-10-02T15:50:55.615278Z",
     "shell.execute_reply.started": "2021-10-02T15:48:58.702929Z"
    },
    "papermill": {
     "duration": 0.353371,
     "end_time": "2021-10-02T15:50:55.615467",
     "exception": false,
     "start_time": "2021-10-02T15:50:55.262096",
     "status": "completed"
    },
    "tags": []
   },
   "outputs": [],
   "source": [
    "PATH_ARTICLES_DATA = \"news-portal-user-interactions-by-globocom/articles_metadata.csv\"\n",
    "articles_df = pd.read_csv(PATH_ARTICLES_DATA)"
   ]
  },
  {
   "cell_type": "code",
   "execution_count": 6,
   "id": "694d8aa2",
   "metadata": {
    "execution": {
     "iopub.execute_input": "2021-10-02T15:50:55.732804Z",
     "iopub.status.busy": "2021-10-02T15:50:55.732087Z",
     "iopub.status.idle": "2021-10-02T15:50:55.743984Z",
     "shell.execute_reply": "2021-10-02T15:50:55.743523Z",
     "shell.execute_reply.started": "2021-10-02T15:48:58.940552Z"
    },
    "papermill": {
     "duration": 0.068603,
     "end_time": "2021-10-02T15:50:55.744128",
     "exception": false,
     "start_time": "2021-10-02T15:50:55.675525",
     "status": "completed"
    },
    "tags": []
   },
   "outputs": [
    {
     "data": {
      "text/html": [
       "<div>\n",
       "<style scoped>\n",
       "    .dataframe tbody tr th:only-of-type {\n",
       "        vertical-align: middle;\n",
       "    }\n",
       "\n",
       "    .dataframe tbody tr th {\n",
       "        vertical-align: top;\n",
       "    }\n",
       "\n",
       "    .dataframe thead th {\n",
       "        text-align: right;\n",
       "    }\n",
       "</style>\n",
       "<table border=\"1\" class=\"dataframe\">\n",
       "  <thead>\n",
       "    <tr style=\"text-align: right;\">\n",
       "      <th></th>\n",
       "      <th>article_id</th>\n",
       "      <th>category_id</th>\n",
       "      <th>created_at_ts</th>\n",
       "      <th>publisher_id</th>\n",
       "      <th>words_count</th>\n",
       "    </tr>\n",
       "  </thead>\n",
       "  <tbody>\n",
       "    <tr>\n",
       "      <th>0</th>\n",
       "      <td>0</td>\n",
       "      <td>0</td>\n",
       "      <td>1513144419000</td>\n",
       "      <td>0</td>\n",
       "      <td>168</td>\n",
       "    </tr>\n",
       "    <tr>\n",
       "      <th>1</th>\n",
       "      <td>1</td>\n",
       "      <td>1</td>\n",
       "      <td>1405341936000</td>\n",
       "      <td>0</td>\n",
       "      <td>189</td>\n",
       "    </tr>\n",
       "    <tr>\n",
       "      <th>2</th>\n",
       "      <td>2</td>\n",
       "      <td>1</td>\n",
       "      <td>1408667706000</td>\n",
       "      <td>0</td>\n",
       "      <td>250</td>\n",
       "    </tr>\n",
       "    <tr>\n",
       "      <th>3</th>\n",
       "      <td>3</td>\n",
       "      <td>1</td>\n",
       "      <td>1408468313000</td>\n",
       "      <td>0</td>\n",
       "      <td>230</td>\n",
       "    </tr>\n",
       "    <tr>\n",
       "      <th>4</th>\n",
       "      <td>4</td>\n",
       "      <td>1</td>\n",
       "      <td>1407071171000</td>\n",
       "      <td>0</td>\n",
       "      <td>162</td>\n",
       "    </tr>\n",
       "  </tbody>\n",
       "</table>\n",
       "</div>"
      ],
      "text/plain": [
       "   article_id  category_id  created_at_ts  publisher_id  words_count\n",
       "0           0            0  1513144419000             0          168\n",
       "1           1            1  1405341936000             0          189\n",
       "2           2            1  1408667706000             0          250\n",
       "3           3            1  1408468313000             0          230\n",
       "4           4            1  1407071171000             0          162"
      ]
     },
     "execution_count": 6,
     "metadata": {},
     "output_type": "execute_result"
    }
   ],
   "source": [
    "articles_df.head(5)"
   ]
  },
  {
   "cell_type": "markdown",
   "id": "0b6bad8b",
   "metadata": {
    "papermill": {
     "duration": 0.045353,
     "end_time": "2021-10-02T15:50:55.834711",
     "exception": false,
     "start_time": "2021-10-02T15:50:55.789358",
     "status": "completed"
    },
    "tags": []
   },
   "source": [
    "**articles_metadata.csv contain 5 columns :**\n",
    "* **article_id :** ID of the article\n",
    "* **category_id :** Category ID of the article\n",
    "* **created_at_ts :** Date of creation (timestamp)\n",
    "* **publisher_id :** ID of the publisher\n",
    "* **words_count :** Total word contain in the article"
   ]
  },
  {
   "cell_type": "markdown",
   "id": "e5a4fc02",
   "metadata": {
    "papermill": {
     "duration": 0.044804,
     "end_time": "2021-10-02T15:50:55.925435",
     "exception": false,
     "start_time": "2021-10-02T15:50:55.880631",
     "status": "completed"
    },
    "tags": []
   },
   "source": [
    "### Missing Values"
   ]
  },
  {
   "cell_type": "code",
   "execution_count": 7,
   "id": "cb0601d9",
   "metadata": {
    "execution": {
     "iopub.execute_input": "2021-10-02T15:50:56.020428Z",
     "iopub.status.busy": "2021-10-02T15:50:56.019359Z",
     "iopub.status.idle": "2021-10-02T15:50:57.230972Z",
     "shell.execute_reply": "2021-10-02T15:50:57.231643Z",
     "shell.execute_reply.started": "2021-10-02T15:48:58.957804Z"
    },
    "papermill": {
     "duration": 1.261039,
     "end_time": "2021-10-02T15:50:57.231826",
     "exception": false,
     "start_time": "2021-10-02T15:50:55.970787",
     "status": "completed"
    },
    "tags": []
   },
   "outputs": [
    {
     "data": {
      "image/png": "[encoded data removed]",
      "text/plain": [
       "<Figure size 1800x720 with 2 Axes>"
      ]
     },
     "metadata": {},
     "output_type": "display_data"
    }
   ],
   "source": [
    "missingno.matrix(articles_df);"
   ]
  },
  {
   "cell_type": "markdown",
   "id": "6f35e4a4",
   "metadata": {
    "papermill": {
     "duration": 0.047246,
     "end_time": "2021-10-02T15:50:57.326979",
     "exception": false,
     "start_time": "2021-10-02T15:50:57.279733",
     "status": "completed"
    },
    "tags": []
   },
   "source": [
    "No value are missing."
   ]
  },
  {
   "cell_type": "code",
   "execution_count": 8,
   "id": "2b93ab95",
   "metadata": {
    "execution": {
     "iopub.execute_input": "2021-10-02T15:50:57.429357Z",
     "iopub.status.busy": "2021-10-02T15:50:57.428664Z",
     "iopub.status.idle": "2021-10-02T15:50:57.446805Z",
     "shell.execute_reply": "2021-10-02T15:50:57.447406Z",
     "shell.execute_reply.started": "2021-10-02T15:49:00.445413Z"
    },
    "papermill": {
     "duration": 0.073277,
     "end_time": "2021-10-02T15:50:57.447569",
     "exception": false,
     "start_time": "2021-10-02T15:50:57.374292",
     "status": "completed"
    },
    "tags": []
   },
   "outputs": [
    {
     "data": {
      "text/plain": [
       "count    364047.000000\n",
       "mean        190.897727\n",
       "std          59.502766\n",
       "min           0.000000\n",
       "25%         159.000000\n",
       "50%         186.000000\n",
       "75%         218.000000\n",
       "max        6690.000000\n",
       "Name: words_count, dtype: float64"
      ]
     },
     "execution_count": 8,
     "metadata": {},
     "output_type": "execute_result"
    }
   ],
   "source": [
    "articles_df['words_count'].describe()"
   ]
  },
  {
   "cell_type": "code",
   "execution_count": 9,
   "id": "4f1560b1",
   "metadata": {
    "execution": {
     "iopub.execute_input": "2021-10-02T15:50:57.546080Z",
     "iopub.status.busy": "2021-10-02T15:50:57.545501Z",
     "iopub.status.idle": "2021-10-02T15:51:05.660708Z",
     "shell.execute_reply": "2021-10-02T15:51:05.660196Z",
     "shell.execute_reply.started": "2021-10-02T15:49:00.473133Z"
    },
    "papermill": {
     "duration": 8.165598,
     "end_time": "2021-10-02T15:51:05.660885",
     "exception": false,
     "start_time": "2021-10-02T15:50:57.495287",
     "status": "completed"
    },
    "tags": []
   },
   "outputs": [
    {
     "data": {
      "image/png": "[encoded data removed]",
      "text/plain": [
       "<Figure size 864x576 with 1 Axes>"
      ]
     },
     "metadata": {},
     "output_type": "display_data"
    }
   ],
   "source": [
    "fig, ax = plt.subplots(figsize=(12, 8))\n",
    "\n",
    "sns.histplot(articles_df['words_count'],\n",
    "            color=\"deepskyblue\",\n",
    "            edgecolor=\"black\",\n",
    "            alpha=0.7,\n",
    "            ax=ax)\n",
    "\n",
    "plt.xlim([0,400])\n",
    "plt.title('words per article distribution');\n",
    "plt.show()"
   ]
  },
  {
   "cell_type": "code",
   "execution_count": 10,
   "id": "9fb14646",
   "metadata": {
    "execution": {
     "iopub.execute_input": "2021-10-02T15:51:05.763327Z",
     "iopub.status.busy": "2021-10-02T15:51:05.762653Z",
     "iopub.status.idle": "2021-10-02T15:51:05.769660Z",
     "shell.execute_reply": "2021-10-02T15:51:05.770338Z",
     "shell.execute_reply.started": "2021-10-02T15:49:10.027644Z"
    },
    "papermill": {
     "duration": 0.059769,
     "end_time": "2021-10-02T15:51:05.770576",
     "exception": false,
     "start_time": "2021-10-02T15:51:05.710807",
     "status": "completed"
    },
    "tags": []
   },
   "outputs": [
    {
     "name": "stdout",
     "output_type": "stream",
     "text": [
      "Empty article(s) : 35\n"
     ]
    }
   ],
   "source": [
    "print(f'Empty article(s) : {articles_df[articles_df[\"words_count\"] == 0].count()[0]}')"
   ]
  },
  {
   "cell_type": "code",
   "execution_count": 11,
   "id": "0afc51e2",
   "metadata": {
    "execution": {
     "iopub.execute_input": "2021-10-02T15:51:05.872374Z",
     "iopub.status.busy": "2021-10-02T15:51:05.871738Z",
     "iopub.status.idle": "2021-10-02T15:51:06.496436Z",
     "shell.execute_reply": "2021-10-02T15:51:06.496974Z",
     "shell.execute_reply.started": "2021-10-02T15:49:10.039069Z"
    },
    "papermill": {
     "duration": 0.676756,
     "end_time": "2021-10-02T15:51:06.497151",
     "exception": false,
     "start_time": "2021-10-02T15:51:05.820395",
     "status": "completed"
    },
    "tags": []
   },
   "outputs": [
    {
     "data": {
      "image/png": "[encoded data removed]",
      "text/plain": [
       "<Figure size 864x576 with 1 Axes>"
      ]
     },
     "metadata": {},
     "output_type": "display_data"
    }
   ],
   "source": [
    "fig, ax = plt.subplots(figsize=(12, 8))\n",
    "\n",
    "sns.histplot(articles_df['category_id'],\n",
    "            color=\"deepskyblue\",\n",
    "            edgecolor=\"black\",\n",
    "            alpha=0.7,\n",
    "            ax=ax)\n",
    "\n",
    "plt.title('categories distribution');\n",
    "plt.show()"
   ]
  },
  {
   "cell_type": "markdown",
   "id": "b5873e5d",
   "metadata": {
    "papermill": {
     "duration": 0.053399,
     "end_time": "2021-10-02T15:51:06.601007",
     "exception": false,
     "start_time": "2021-10-02T15:51:06.547608",
     "status": "completed"
    },
    "tags": []
   },
   "source": [
    "## **1.2 clicks_{}.csv**"
   ]
  },
  {
   "cell_type": "markdown",
   "id": "9792aec2",
   "metadata": {
    "papermill": {
     "duration": 0.055116,
     "end_time": "2021-10-02T15:51:06.716837",
     "exception": false,
     "start_time": "2021-10-02T15:51:06.661721",
     "status": "completed"
    },
    "tags": []
   },
   "source": [
    "### Content"
   ]
  },
  {
   "cell_type": "code",
   "execution_count": 12,
   "id": "93d1b01c",
   "metadata": {
    "execution": {
     "iopub.execute_input": "2021-10-02T15:51:06.819133Z",
     "iopub.status.busy": "2021-10-02T15:51:06.818521Z",
     "iopub.status.idle": "2021-10-02T15:51:06.834065Z",
     "shell.execute_reply": "2021-10-02T15:51:06.834567Z",
     "shell.execute_reply.started": "2021-10-02T15:49:10.810041Z"
    },
    "papermill": {
     "duration": 0.068228,
     "end_time": "2021-10-02T15:51:06.834742",
     "exception": false,
     "start_time": "2021-10-02T15:51:06.766514",
     "status": "completed"
    },
    "tags": []
   },
   "outputs": [],
   "source": [
    "PATH_CLICK_SAMPLE_DATA = \"news-portal-user-interactions-by-globocom/clicks_sample.csv\"\n",
    "clicks_samp_df = pd.read_csv(PATH_CLICK_SAMPLE_DATA)"
   ]
  },
  {
   "cell_type": "code",
   "execution_count": 13,
   "id": "0c360589",
   "metadata": {
    "execution": {
     "iopub.execute_input": "2021-10-02T15:51:06.936682Z",
     "iopub.status.busy": "2021-10-02T15:51:06.936075Z",
     "iopub.status.idle": "2021-10-02T15:51:06.948407Z",
     "shell.execute_reply": "2021-10-02T15:51:06.949015Z",
     "shell.execute_reply.started": "2021-10-02T15:49:10.826683Z"
    },
    "papermill": {
     "duration": 0.064544,
     "end_time": "2021-10-02T15:51:06.949198",
     "exception": false,
     "start_time": "2021-10-02T15:51:06.884654",
     "status": "completed"
    },
    "tags": []
   },
   "outputs": [
    {
     "data": {
      "text/html": [
       "<div>\n",
       "<style scoped>\n",
       "    .dataframe tbody tr th:only-of-type {\n",
       "        vertical-align: middle;\n",
       "    }\n",
       "\n",
       "    .dataframe tbody tr th {\n",
       "        vertical-align: top;\n",
       "    }\n",
       "\n",
       "    .dataframe thead th {\n",
       "        text-align: right;\n",
       "    }\n",
       "</style>\n",
       "<table border=\"1\" class=\"dataframe\">\n",
       "  <thead>\n",
       "    <tr style=\"text-align: right;\">\n",
       "      <th></th>\n",
       "      <th>user_id</th>\n",
       "      <th>session_id</th>\n",
       "      <th>session_start</th>\n",
       "      <th>session_size</th>\n",
       "      <th>click_article_id</th>\n",
       "      <th>click_timestamp</th>\n",
       "      <th>click_environment</th>\n",
       "      <th>click_deviceGroup</th>\n",
       "      <th>click_os</th>\n",
       "      <th>click_country</th>\n",
       "      <th>click_region</th>\n",
       "      <th>click_referrer_type</th>\n",
       "    </tr>\n",
       "  </thead>\n",
       "  <tbody>\n",
       "    <tr>\n",
       "      <th>0</th>\n",
       "      <td>0</td>\n",
       "      <td>1506825423271737</td>\n",
       "      <td>1506825423000</td>\n",
       "      <td>2</td>\n",
       "      <td>157541</td>\n",
       "      <td>1506826828020</td>\n",
       "      <td>4</td>\n",
       "      <td>3</td>\n",
       "      <td>20</td>\n",
       "      <td>1</td>\n",
       "      <td>20</td>\n",
       "      <td>2</td>\n",
       "    </tr>\n",
       "    <tr>\n",
       "      <th>1</th>\n",
       "      <td>0</td>\n",
       "      <td>1506825423271737</td>\n",
       "      <td>1506825423000</td>\n",
       "      <td>2</td>\n",
       "      <td>68866</td>\n",
       "      <td>1506826858020</td>\n",
       "      <td>4</td>\n",
       "      <td>3</td>\n",
       "      <td>20</td>\n",
       "      <td>1</td>\n",
       "      <td>20</td>\n",
       "      <td>2</td>\n",
       "    </tr>\n",
       "    <tr>\n",
       "      <th>2</th>\n",
       "      <td>1</td>\n",
       "      <td>1506825426267738</td>\n",
       "      <td>1506825426000</td>\n",
       "      <td>2</td>\n",
       "      <td>235840</td>\n",
       "      <td>1506827017951</td>\n",
       "      <td>4</td>\n",
       "      <td>1</td>\n",
       "      <td>17</td>\n",
       "      <td>1</td>\n",
       "      <td>16</td>\n",
       "      <td>2</td>\n",
       "    </tr>\n",
       "    <tr>\n",
       "      <th>3</th>\n",
       "      <td>1</td>\n",
       "      <td>1506825426267738</td>\n",
       "      <td>1506825426000</td>\n",
       "      <td>2</td>\n",
       "      <td>96663</td>\n",
       "      <td>1506827047951</td>\n",
       "      <td>4</td>\n",
       "      <td>1</td>\n",
       "      <td>17</td>\n",
       "      <td>1</td>\n",
       "      <td>16</td>\n",
       "      <td>2</td>\n",
       "    </tr>\n",
       "    <tr>\n",
       "      <th>4</th>\n",
       "      <td>2</td>\n",
       "      <td>1506825435299739</td>\n",
       "      <td>1506825435000</td>\n",
       "      <td>2</td>\n",
       "      <td>119592</td>\n",
       "      <td>1506827090575</td>\n",
       "      <td>4</td>\n",
       "      <td>1</td>\n",
       "      <td>17</td>\n",
       "      <td>1</td>\n",
       "      <td>24</td>\n",
       "      <td>2</td>\n",
       "    </tr>\n",
       "  </tbody>\n",
       "</table>\n",
       "</div>"
      ],
      "text/plain": [
       "   user_id        session_id  session_start  session_size  click_article_id  \\\n",
       "0        0  1506825423271737  1506825423000             2            157541   \n",
       "1        0  1506825423271737  1506825423000             2             68866   \n",
       "2        1  1506825426267738  1506825426000             2            235840   \n",
       "3        1  1506825426267738  1506825426000             2             96663   \n",
       "4        2  1506825435299739  1506825435000             2            119592   \n",
       "\n",
       "   click_timestamp  click_environment  click_deviceGroup  click_os  \\\n",
       "0    1506826828020                  4                  3        20   \n",
       "1    1506826858020                  4                  3        20   \n",
       "2    1506827017951                  4                  1        17   \n",
       "3    1506827047951                  4                  1        17   \n",
       "4    1506827090575                  4                  1        17   \n",
       "\n",
       "   click_country  click_region  click_referrer_type  \n",
       "0              1            20                    2  \n",
       "1              1            20                    2  \n",
       "2              1            16                    2  \n",
       "3              1            16                    2  \n",
       "4              1            24                    2  "
      ]
     },
     "execution_count": 13,
     "metadata": {},
     "output_type": "execute_result"
    }
   ],
   "source": [
    "clicks_samp_df.head(5)"
   ]
  },
  {
   "cell_type": "code",
   "execution_count": 14,
   "id": "0e38a5e1",
   "metadata": {},
   "outputs": [],
   "source": [
    "for session in clicks_samp_df.session_id:\n",
    "    session_cliks = clicks_samp_df[clicks_samp_df.session_id == session]\n",
    "    "
   ]
  },
  {
   "cell_type": "code",
   "execution_count": 15,
   "id": "bd34f5fa",
   "metadata": {},
   "outputs": [
    {
     "data": {
      "text/plain": [
       "<AxesSubplot:>"
      ]
     },
     "execution_count": 15,
     "metadata": {},
     "output_type": "execute_result"
    },
    {
     "data": {
      "image/png": "[encoded data removed]",
      "text/plain": [
       "<Figure size 432x288 with 1 Axes>"
      ]
     },
     "metadata": {},
     "output_type": "display_data"
    }
   ],
   "source": [
    "clicks_samp_df.session_size.hist()"
   ]
  },
  {
   "cell_type": "code",
   "execution_count": 47,
   "id": "138c365a",
   "metadata": {},
   "outputs": [
    {
     "data": {
      "text/plain": [
       "0       1506826828020\n",
       "1       1506826858020\n",
       "2       1506827017951\n",
       "3       1506827047951\n",
       "4       1506827090575\n",
       "            ...      \n",
       "1877    1506830999954\n",
       "1878    1506830912301\n",
       "1879    1506830942301\n",
       "1880    1506829027334\n",
       "1881    1506829095732\n",
       "Name: click_timestamp, Length: 1882, dtype: int64"
      ]
     },
     "execution_count": 47,
     "metadata": {},
     "output_type": "execute_result"
    }
   ],
   "source": [
    "clicks_samp_df.iloc[:-1].click_timestamp "
   ]
  },
  {
   "cell_type": "code",
   "execution_count": 42,
   "id": "fde09e12",
   "metadata": {},
   "outputs": [
    {
     "data": {
      "text/plain": [
       "0       1506826828020\n",
       "1       1506826858020\n",
       "2       1506827017951\n",
       "3       1506827047951\n",
       "4       1506827090575\n",
       "            ...      \n",
       "1877    1506830999954\n",
       "1878    1506830912301\n",
       "1879    1506830942301\n",
       "1880    1506829027334\n",
       "1881    1506829095732\n",
       "Name: click_timestamp, Length: 1882, dtype: int64"
      ]
     },
     "execution_count": 42,
     "metadata": {},
     "output_type": "execute_result"
    }
   ],
   "source": [
    "clicks_samp_df.iloc[:-1].click_timestamp"
   ]
  },
  {
   "cell_type": "code",
   "execution_count": 71,
   "id": "20ed68fa",
   "metadata": {},
   "outputs": [],
   "source": [
    "clicks_samp_df['time_read'] = np.append((clicks_samp_df.click_timestamp.values[1:] - clicks_samp_df.click_timestamp.values[:-1]),-1)\n",
    "clicks_samp_df['not_last'] = np.append((clicks_samp_df.session_id.values[:-1] == clicks_samp_df.session_id.values[1:]), [False])"
   ]
  },
  {
   "cell_type": "code",
   "execution_count": 72,
   "id": "e4dcff1b",
   "metadata": {},
   "outputs": [
    {
     "data": {
      "text/plain": [
       "0        True\n",
       "1       False\n",
       "2        True\n",
       "3       False\n",
       "4        True\n",
       "        ...  \n",
       "1878     True\n",
       "1879    False\n",
       "1880     True\n",
       "1881     True\n",
       "1882     True\n",
       "Name: last, Length: 1883, dtype: bool"
      ]
     },
     "execution_count": 72,
     "metadata": {},
     "output_type": "execute_result"
    }
   ],
   "source": [
    "clicks_samp_df['last']"
   ]
  },
  {
   "cell_type": "code",
   "execution_count": 73,
   "id": "ef8d55da",
   "metadata": {},
   "outputs": [
    {
     "data": {
      "text/html": [
       "<div>\n",
       "<style scoped>\n",
       "    .dataframe tbody tr th:only-of-type {\n",
       "        vertical-align: middle;\n",
       "    }\n",
       "\n",
       "    .dataframe tbody tr th {\n",
       "        vertical-align: top;\n",
       "    }\n",
       "\n",
       "    .dataframe thead th {\n",
       "        text-align: right;\n",
       "    }\n",
       "</style>\n",
       "<table border=\"1\" class=\"dataframe\">\n",
       "  <thead>\n",
       "    <tr style=\"text-align: right;\">\n",
       "      <th></th>\n",
       "      <th>user_id</th>\n",
       "      <th>session_id</th>\n",
       "      <th>session_start</th>\n",
       "      <th>session_size</th>\n",
       "      <th>click_article_id</th>\n",
       "      <th>click_timestamp</th>\n",
       "      <th>click_environment</th>\n",
       "      <th>click_deviceGroup</th>\n",
       "      <th>click_os</th>\n",
       "      <th>click_country</th>\n",
       "      <th>click_region</th>\n",
       "      <th>click_referrer_type</th>\n",
       "      <th>time_read</th>\n",
       "      <th>last</th>\n",
       "      <th>not_last</th>\n",
       "    </tr>\n",
       "  </thead>\n",
       "  <tbody>\n",
       "    <tr>\n",
       "      <th>0</th>\n",
       "      <td>0</td>\n",
       "      <td>1506825423271737</td>\n",
       "      <td>1506825423000</td>\n",
       "      <td>2</td>\n",
       "      <td>157541</td>\n",
       "      <td>1506826828020</td>\n",
       "      <td>4</td>\n",
       "      <td>3</td>\n",
       "      <td>20</td>\n",
       "      <td>1</td>\n",
       "      <td>20</td>\n",
       "      <td>2</td>\n",
       "      <td>30000</td>\n",
       "      <td>True</td>\n",
       "      <td>True</td>\n",
       "    </tr>\n",
       "    <tr>\n",
       "      <th>2</th>\n",
       "      <td>1</td>\n",
       "      <td>1506825426267738</td>\n",
       "      <td>1506825426000</td>\n",
       "      <td>2</td>\n",
       "      <td>235840</td>\n",
       "      <td>1506827017951</td>\n",
       "      <td>4</td>\n",
       "      <td>1</td>\n",
       "      <td>17</td>\n",
       "      <td>1</td>\n",
       "      <td>16</td>\n",
       "      <td>2</td>\n",
       "      <td>30000</td>\n",
       "      <td>True</td>\n",
       "      <td>True</td>\n",
       "    </tr>\n",
       "    <tr>\n",
       "      <th>4</th>\n",
       "      <td>2</td>\n",
       "      <td>1506825435299739</td>\n",
       "      <td>1506825435000</td>\n",
       "      <td>2</td>\n",
       "      <td>119592</td>\n",
       "      <td>1506827090575</td>\n",
       "      <td>4</td>\n",
       "      <td>1</td>\n",
       "      <td>17</td>\n",
       "      <td>1</td>\n",
       "      <td>24</td>\n",
       "      <td>2</td>\n",
       "      <td>30000</td>\n",
       "      <td>True</td>\n",
       "      <td>True</td>\n",
       "    </tr>\n",
       "    <tr>\n",
       "      <th>6</th>\n",
       "      <td>3</td>\n",
       "      <td>1506825442704740</td>\n",
       "      <td>1506825442000</td>\n",
       "      <td>2</td>\n",
       "      <td>236065</td>\n",
       "      <td>1506827536942</td>\n",
       "      <td>4</td>\n",
       "      <td>3</td>\n",
       "      <td>2</td>\n",
       "      <td>1</td>\n",
       "      <td>21</td>\n",
       "      <td>1</td>\n",
       "      <td>30000</td>\n",
       "      <td>True</td>\n",
       "      <td>True</td>\n",
       "    </tr>\n",
       "    <tr>\n",
       "      <th>8</th>\n",
       "      <td>4</td>\n",
       "      <td>1506825528135741</td>\n",
       "      <td>1506825528000</td>\n",
       "      <td>2</td>\n",
       "      <td>48915</td>\n",
       "      <td>1506826927593</td>\n",
       "      <td>4</td>\n",
       "      <td>1</td>\n",
       "      <td>17</td>\n",
       "      <td>1</td>\n",
       "      <td>17</td>\n",
       "      <td>1</td>\n",
       "      <td>30000</td>\n",
       "      <td>True</td>\n",
       "      <td>True</td>\n",
       "    </tr>\n",
       "    <tr>\n",
       "      <th>...</th>\n",
       "      <td>...</td>\n",
       "      <td>...</td>\n",
       "      <td>...</td>\n",
       "      <td>...</td>\n",
       "      <td>...</td>\n",
       "      <td>...</td>\n",
       "      <td>...</td>\n",
       "      <td>...</td>\n",
       "      <td>...</td>\n",
       "      <td>...</td>\n",
       "      <td>...</td>\n",
       "      <td>...</td>\n",
       "      <td>...</td>\n",
       "      <td>...</td>\n",
       "      <td>...</td>\n",
       "    </tr>\n",
       "    <tr>\n",
       "      <th>1875</th>\n",
       "      <td>704</td>\n",
       "      <td>1506828960113441</td>\n",
       "      <td>1506828960000</td>\n",
       "      <td>5</td>\n",
       "      <td>258386</td>\n",
       "      <td>1506830868850</td>\n",
       "      <td>4</td>\n",
       "      <td>1</td>\n",
       "      <td>17</td>\n",
       "      <td>8</td>\n",
       "      <td>28</td>\n",
       "      <td>1</td>\n",
       "      <td>101104</td>\n",
       "      <td>True</td>\n",
       "      <td>True</td>\n",
       "    </tr>\n",
       "    <tr>\n",
       "      <th>1876</th>\n",
       "      <td>704</td>\n",
       "      <td>1506828960113441</td>\n",
       "      <td>1506828960000</td>\n",
       "      <td>5</td>\n",
       "      <td>141517</td>\n",
       "      <td>1506830969954</td>\n",
       "      <td>4</td>\n",
       "      <td>1</td>\n",
       "      <td>17</td>\n",
       "      <td>8</td>\n",
       "      <td>28</td>\n",
       "      <td>1</td>\n",
       "      <td>30000</td>\n",
       "      <td>True</td>\n",
       "      <td>True</td>\n",
       "    </tr>\n",
       "    <tr>\n",
       "      <th>1878</th>\n",
       "      <td>705</td>\n",
       "      <td>1506828968165442</td>\n",
       "      <td>1506828968000</td>\n",
       "      <td>2</td>\n",
       "      <td>119592</td>\n",
       "      <td>1506830912301</td>\n",
       "      <td>4</td>\n",
       "      <td>1</td>\n",
       "      <td>17</td>\n",
       "      <td>1</td>\n",
       "      <td>21</td>\n",
       "      <td>2</td>\n",
       "      <td>30000</td>\n",
       "      <td>True</td>\n",
       "      <td>True</td>\n",
       "    </tr>\n",
       "    <tr>\n",
       "      <th>1880</th>\n",
       "      <td>706</td>\n",
       "      <td>1506828979881443</td>\n",
       "      <td>1506828979000</td>\n",
       "      <td>3</td>\n",
       "      <td>108854</td>\n",
       "      <td>1506829027334</td>\n",
       "      <td>4</td>\n",
       "      <td>3</td>\n",
       "      <td>2</td>\n",
       "      <td>1</td>\n",
       "      <td>25</td>\n",
       "      <td>1</td>\n",
       "      <td>68398</td>\n",
       "      <td>True</td>\n",
       "      <td>True</td>\n",
       "    </tr>\n",
       "    <tr>\n",
       "      <th>1881</th>\n",
       "      <td>706</td>\n",
       "      <td>1506828979881443</td>\n",
       "      <td>1506828979000</td>\n",
       "      <td>3</td>\n",
       "      <td>96663</td>\n",
       "      <td>1506829095732</td>\n",
       "      <td>4</td>\n",
       "      <td>3</td>\n",
       "      <td>2</td>\n",
       "      <td>1</td>\n",
       "      <td>25</td>\n",
       "      <td>1</td>\n",
       "      <td>30000</td>\n",
       "      <td>True</td>\n",
       "      <td>True</td>\n",
       "    </tr>\n",
       "  </tbody>\n",
       "</table>\n",
       "<p>1176 rows × 15 columns</p>\n",
       "</div>"
      ],
      "text/plain": [
       "      user_id        session_id  session_start  session_size  \\\n",
       "0           0  1506825423271737  1506825423000             2   \n",
       "2           1  1506825426267738  1506825426000             2   \n",
       "4           2  1506825435299739  1506825435000             2   \n",
       "6           3  1506825442704740  1506825442000             2   \n",
       "8           4  1506825528135741  1506825528000             2   \n",
       "...       ...               ...            ...           ...   \n",
       "1875      704  1506828960113441  1506828960000             5   \n",
       "1876      704  1506828960113441  1506828960000             5   \n",
       "1878      705  1506828968165442  1506828968000             2   \n",
       "1880      706  1506828979881443  1506828979000             3   \n",
       "1881      706  1506828979881443  1506828979000             3   \n",
       "\n",
       "      click_article_id  click_timestamp  click_environment  click_deviceGroup  \\\n",
       "0               157541    1506826828020                  4                  3   \n",
       "2               235840    1506827017951                  4                  1   \n",
       "4               119592    1506827090575                  4                  1   \n",
       "6               236065    1506827536942                  4                  3   \n",
       "8                48915    1506826927593                  4                  1   \n",
       "...                ...              ...                ...                ...   \n",
       "1875            258386    1506830868850                  4                  1   \n",
       "1876            141517    1506830969954                  4                  1   \n",
       "1878            119592    1506830912301                  4                  1   \n",
       "1880            108854    1506829027334                  4                  3   \n",
       "1881             96663    1506829095732                  4                  3   \n",
       "\n",
       "      click_os  click_country  click_region  click_referrer_type  time_read  \\\n",
       "0           20              1            20                    2      30000   \n",
       "2           17              1            16                    2      30000   \n",
       "4           17              1            24                    2      30000   \n",
       "6            2              1            21                    1      30000   \n",
       "8           17              1            17                    1      30000   \n",
       "...        ...            ...           ...                  ...        ...   \n",
       "1875        17              8            28                    1     101104   \n",
       "1876        17              8            28                    1      30000   \n",
       "1878        17              1            21                    2      30000   \n",
       "1880         2              1            25                    1      68398   \n",
       "1881         2              1            25                    1      30000   \n",
       "\n",
       "      last  not_last  \n",
       "0     True      True  \n",
       "2     True      True  \n",
       "4     True      True  \n",
       "6     True      True  \n",
       "8     True      True  \n",
       "...    ...       ...  \n",
       "1875  True      True  \n",
       "1876  True      True  \n",
       "1878  True      True  \n",
       "1880  True      True  \n",
       "1881  True      True  \n",
       "\n",
       "[1176 rows x 15 columns]"
      ]
     },
     "execution_count": 73,
     "metadata": {},
     "output_type": "execute_result"
    }
   ],
   "source": [
    "clicks_samp_df[clicks_samp_df['not_last']]"
   ]
  },
  {
   "cell_type": "code",
   "execution_count": 48,
   "id": "515b446f",
   "metadata": {},
   "outputs": [
    {
     "data": {
      "text/plain": [
       "0       NaN\n",
       "1       0.0\n",
       "2       0.0\n",
       "3       0.0\n",
       "4       0.0\n",
       "       ... \n",
       "1878    0.0\n",
       "1879    0.0\n",
       "1880    0.0\n",
       "1881    0.0\n",
       "1882    NaN\n",
       "Name: click_timestamp, Length: 1883, dtype: float64"
      ]
     },
     "execution_count": 48,
     "metadata": {},
     "output_type": "execute_result"
    }
   ],
   "source": [
    "clicks_samp_df.iloc[:-1].click_timestamp - clicks_samp_df.iloc[1:].click_timestamp"
   ]
  },
  {
   "cell_type": "code",
   "execution_count": 13,
   "id": "03173fb4",
   "metadata": {
    "execution": {
     "iopub.execute_input": "2021-10-02T15:51:07.051851Z",
     "iopub.status.busy": "2021-10-02T15:51:07.051291Z",
     "iopub.status.idle": "2021-10-02T15:51:07.058693Z",
     "shell.execute_reply": "2021-10-02T15:51:07.058044Z",
     "shell.execute_reply.started": "2021-10-02T15:49:10.846028Z"
    },
    "papermill": {
     "duration": 0.059601,
     "end_time": "2021-10-02T15:51:07.058824",
     "exception": false,
     "start_time": "2021-10-02T15:51:06.999223",
     "status": "completed"
    },
    "tags": []
   },
   "outputs": [
    {
     "name": "stdout",
     "output_type": "stream",
     "text": [
      "user_id\n",
      "session_id\n",
      "session_start\n",
      "session_size\n",
      "click_article_id\n",
      "click_timestamp\n",
      "click_environment\n",
      "click_deviceGroup\n",
      "click_os\n",
      "click_country\n",
      "click_region\n",
      "click_referrer_type\n"
     ]
    }
   ],
   "source": [
    "[print(x) for x in clicks_samp_df.columns];"
   ]
  },
  {
   "cell_type": "markdown",
   "id": "353b9eed",
   "metadata": {
    "papermill": {
     "duration": 0.050189,
     "end_time": "2021-10-02T15:51:07.160773",
     "exception": false,
     "start_time": "2021-10-02T15:51:07.110584",
     "status": "completed"
    },
    "tags": []
   },
   "source": [
    "**clicks_{}.csv contain 12 columns :**\n",
    "* **user_id :** user ID\n",
    "* **session_id :** Session ID\n",
    "* **session_start :** Start of the session (timestamp)\n",
    "* **session_size :** number of click/session\n",
    "* **words_count :** Total word contain in the article\n",
    "* **click_article_id :** article ID user clicked\n",
    "* **click_timestamp :** When user clicked (timestamp)\n",
    "* **click_environment :** user env when click\n",
    "* **click_deviceGroup :** user device\n",
    "* **click_os :** user OS\n",
    "* **click_country :** localisation (country) when user clicked\n",
    "* **click_region :** localisation (region) when user clicked\n",
    "* **click_referrer_type :** ?"
   ]
  },
  {
   "cell_type": "markdown",
   "id": "003d0fe2",
   "metadata": {
    "papermill": {
     "duration": 0.050503,
     "end_time": "2021-10-02T15:51:07.262097",
     "exception": false,
     "start_time": "2021-10-02T15:51:07.211594",
     "status": "completed"
    },
    "tags": []
   },
   "source": [
    "### Distribution\n",
    "#### let's concat all clicks files and observe our datas"
   ]
  },
  {
   "cell_type": "code",
   "execution_count": 37,
   "id": "0ea9f15d",
   "metadata": {
    "execution": {
     "iopub.execute_input": "2021-10-02T15:51:07.370236Z",
     "iopub.status.busy": "2021-10-02T15:51:07.369580Z",
     "iopub.status.idle": "2021-10-02T15:51:14.538501Z",
     "shell.execute_reply": "2021-10-02T15:51:14.538941Z",
     "shell.execute_reply.started": "2021-10-02T15:49:10.862993Z"
    },
    "papermill": {
     "duration": 7.226663,
     "end_time": "2021-10-02T15:51:14.539122",
     "exception": false,
     "start_time": "2021-10-02T15:51:07.312459",
     "status": "completed"
    },
    "tags": []
   },
   "outputs": [
    {
     "name": "stdout",
     "output_type": "stream",
     "text": [
      "Total PATH contain in list :  385\n",
      "DataFrame shape : (2988181, 5)\n",
      "CPU times: total: 4.7 s\n",
      "Wall time: 4.73 s\n"
     ]
    }
   ],
   "source": [
    "%%time\n",
    "\n",
    "CLICK_FILES_PATH = \"news-portal-user-interactions-by-globocom/clicks/\"\n",
    "\n",
    "#Get all .csv contain in clicks folder\n",
    "click_files = [CLICK_FILES_PATH + x for x in os.listdir(CLICK_FILES_PATH)];\n",
    "\n",
    "#Sort all files PATH contain in list.\n",
    "click_files.sort()\n",
    "\n",
    "#Check if all files are present.\n",
    "print(\"Total PATH contain in list : \", len(click_files))\n",
    "\n",
    "list_click_file_to_df = [pd.read_csv(x, index_col=None, header=0) for x in click_files];\n",
    "\n",
    "#Remove unused columns\n",
    "list_click_file_to_df_cleaned = [x.drop(columns = [#'session_id',\n",
    "                                                   #'session_start',\n",
    "                                                   'session_size',\n",
    "                                                   #'click_timestamp',\n",
    "                                                   'click_environment',\n",
    "                                                   'click_deviceGroup',\n",
    "                                                   'click_os',\n",
    "                                                   'click_country',\n",
    "                                                   'click_region',\n",
    "                                                   'click_referrer_type']) for x in list_click_file_to_df]\n",
    "\n",
    "all_clicks_df = pd.concat(list_click_file_to_df_cleaned, axis=0, ignore_index=True)\n",
    "\n",
    "print(f\"DataFrame shape : {all_clicks_df.shape}\")"
   ]
  },
  {
   "cell_type": "code",
   "execution_count": 21,
   "id": "d09028ee",
   "metadata": {},
   "outputs": [
    {
     "data": {
      "text/html": [
       "<div>\n",
       "<style scoped>\n",
       "    .dataframe tbody tr th:only-of-type {\n",
       "        vertical-align: middle;\n",
       "    }\n",
       "\n",
       "    .dataframe tbody tr th {\n",
       "        vertical-align: top;\n",
       "    }\n",
       "\n",
       "    .dataframe thead th {\n",
       "        text-align: right;\n",
       "    }\n",
       "</style>\n",
       "<table border=\"1\" class=\"dataframe\">\n",
       "  <thead>\n",
       "    <tr style=\"text-align: right;\">\n",
       "      <th></th>\n",
       "      <th>user_id</th>\n",
       "      <th>session_id</th>\n",
       "      <th>session_start</th>\n",
       "      <th>click_article_id</th>\n",
       "      <th>click_timestamp</th>\n",
       "    </tr>\n",
       "  </thead>\n",
       "  <tbody>\n",
       "    <tr>\n",
       "      <th>0</th>\n",
       "      <td>0</td>\n",
       "      <td>1506825423271737</td>\n",
       "      <td>1506825423000</td>\n",
       "      <td>157541</td>\n",
       "      <td>1506826828020</td>\n",
       "    </tr>\n",
       "    <tr>\n",
       "      <th>1</th>\n",
       "      <td>0</td>\n",
       "      <td>1506825423271737</td>\n",
       "      <td>1506825423000</td>\n",
       "      <td>68866</td>\n",
       "      <td>1506826858020</td>\n",
       "    </tr>\n",
       "    <tr>\n",
       "      <th>2</th>\n",
       "      <td>1</td>\n",
       "      <td>1506825426267738</td>\n",
       "      <td>1506825426000</td>\n",
       "      <td>235840</td>\n",
       "      <td>1506827017951</td>\n",
       "    </tr>\n",
       "    <tr>\n",
       "      <th>3</th>\n",
       "      <td>1</td>\n",
       "      <td>1506825426267738</td>\n",
       "      <td>1506825426000</td>\n",
       "      <td>96663</td>\n",
       "      <td>1506827047951</td>\n",
       "    </tr>\n",
       "    <tr>\n",
       "      <th>4</th>\n",
       "      <td>2</td>\n",
       "      <td>1506825435299739</td>\n",
       "      <td>1506825435000</td>\n",
       "      <td>119592</td>\n",
       "      <td>1506827090575</td>\n",
       "    </tr>\n",
       "    <tr>\n",
       "      <th>...</th>\n",
       "      <td>...</td>\n",
       "      <td>...</td>\n",
       "      <td>...</td>\n",
       "      <td>...</td>\n",
       "      <td>...</td>\n",
       "    </tr>\n",
       "    <tr>\n",
       "      <th>2988176</th>\n",
       "      <td>10051</td>\n",
       "      <td>1508211372158328</td>\n",
       "      <td>1508211372000</td>\n",
       "      <td>84911</td>\n",
       "      <td>1508211557302</td>\n",
       "    </tr>\n",
       "    <tr>\n",
       "      <th>2988177</th>\n",
       "      <td>322896</td>\n",
       "      <td>1508211376302329</td>\n",
       "      <td>1508211376000</td>\n",
       "      <td>30760</td>\n",
       "      <td>1508211672520</td>\n",
       "    </tr>\n",
       "    <tr>\n",
       "      <th>2988178</th>\n",
       "      <td>322896</td>\n",
       "      <td>1508211376302329</td>\n",
       "      <td>1508211376000</td>\n",
       "      <td>157507</td>\n",
       "      <td>1508211702520</td>\n",
       "    </tr>\n",
       "    <tr>\n",
       "      <th>2988179</th>\n",
       "      <td>123718</td>\n",
       "      <td>1508211379189330</td>\n",
       "      <td>1508211379000</td>\n",
       "      <td>234481</td>\n",
       "      <td>1508211513583</td>\n",
       "    </tr>\n",
       "    <tr>\n",
       "      <th>2988180</th>\n",
       "      <td>123718</td>\n",
       "      <td>1508211379189330</td>\n",
       "      <td>1508211379000</td>\n",
       "      <td>233578</td>\n",
       "      <td>1508211543583</td>\n",
       "    </tr>\n",
       "  </tbody>\n",
       "</table>\n",
       "<p>2988181 rows × 5 columns</p>\n",
       "</div>"
      ],
      "text/plain": [
       "        user_id        session_id  session_start click_article_id  \\\n",
       "0             0  1506825423271737  1506825423000           157541   \n",
       "1             0  1506825423271737  1506825423000            68866   \n",
       "2             1  1506825426267738  1506825426000           235840   \n",
       "3             1  1506825426267738  1506825426000            96663   \n",
       "4             2  1506825435299739  1506825435000           119592   \n",
       "...         ...               ...            ...              ...   \n",
       "2988176   10051  1508211372158328  1508211372000            84911   \n",
       "2988177  322896  1508211376302329  1508211376000            30760   \n",
       "2988178  322896  1508211376302329  1508211376000           157507   \n",
       "2988179  123718  1508211379189330  1508211379000           234481   \n",
       "2988180  123718  1508211379189330  1508211379000           233578   \n",
       "\n",
       "        click_timestamp  \n",
       "0         1506826828020  \n",
       "1         1506826858020  \n",
       "2         1506827017951  \n",
       "3         1506827047951  \n",
       "4         1506827090575  \n",
       "...                 ...  \n",
       "2988176   1508211557302  \n",
       "2988177   1508211672520  \n",
       "2988178   1508211702520  \n",
       "2988179   1508211513583  \n",
       "2988180   1508211543583  \n",
       "\n",
       "[2988181 rows x 5 columns]"
      ]
     },
     "execution_count": 21,
     "metadata": {},
     "output_type": "execute_result"
    }
   ],
   "source": [
    "all_clicks_df"
   ]
  },
  {
   "cell_type": "code",
   "execution_count": null,
   "id": "94e5c5a6",
   "metadata": {},
   "outputs": [],
   "source": [
    "all"
   ]
  },
  {
   "cell_type": "code",
   "execution_count": 23,
   "id": "3306c655",
   "metadata": {},
   "outputs": [],
   "source": [
    "all_clicks_df['session_start'] = all_clicks_df.session_start//1000\n",
    "all_clicks_df['click_timestamp'] = all_clicks_df.click_timestamp//1000\n",
    "all_clicks_df['time_read'] = np.append((all_clicks_df.click_timestamp.values[1:] - all_clicks_df.click_timestamp.values[:-1]),-1)\n",
    "all_clicks_df['not_last'] = np.append((all_clicks_df.session_id.values[:-1] == all_clicks_df.session_id.values[1:]), [False])"
   ]
  },
  {
   "cell_type": "code",
   "execution_count": 33,
   "id": "b5cb8b1d",
   "metadata": {},
   "outputs": [
    {
     "data": {
      "text/html": [
       "<div>\n",
       "<style scoped>\n",
       "    .dataframe tbody tr th:only-of-type {\n",
       "        vertical-align: middle;\n",
       "    }\n",
       "\n",
       "    .dataframe tbody tr th {\n",
       "        vertical-align: top;\n",
       "    }\n",
       "\n",
       "    .dataframe thead th {\n",
       "        text-align: right;\n",
       "    }\n",
       "</style>\n",
       "<table border=\"1\" class=\"dataframe\">\n",
       "  <thead>\n",
       "    <tr style=\"text-align: right;\">\n",
       "      <th></th>\n",
       "      <th>user_id</th>\n",
       "      <th>session_id</th>\n",
       "      <th>session_start</th>\n",
       "      <th>click_article_id</th>\n",
       "      <th>click_timestamp</th>\n",
       "      <th>time_read</th>\n",
       "      <th>not_last</th>\n",
       "      <th>top</th>\n",
       "    </tr>\n",
       "  </thead>\n",
       "  <tbody>\n",
       "    <tr>\n",
       "      <th>0</th>\n",
       "      <td>0</td>\n",
       "      <td>1506825423271737</td>\n",
       "      <td>1506825423</td>\n",
       "      <td>157541</td>\n",
       "      <td>1506826828</td>\n",
       "      <td>30</td>\n",
       "      <td>True</td>\n",
       "      <td>1405</td>\n",
       "    </tr>\n",
       "    <tr>\n",
       "      <th>1</th>\n",
       "      <td>0</td>\n",
       "      <td>1506825423271737</td>\n",
       "      <td>1506825423</td>\n",
       "      <td>68866</td>\n",
       "      <td>1506826858</td>\n",
       "      <td>159</td>\n",
       "      <td>False</td>\n",
       "      <td>1435</td>\n",
       "    </tr>\n",
       "    <tr>\n",
       "      <th>2</th>\n",
       "      <td>1</td>\n",
       "      <td>1506825426267738</td>\n",
       "      <td>1506825426</td>\n",
       "      <td>235840</td>\n",
       "      <td>1506827017</td>\n",
       "      <td>30</td>\n",
       "      <td>True</td>\n",
       "      <td>1591</td>\n",
       "    </tr>\n",
       "    <tr>\n",
       "      <th>3</th>\n",
       "      <td>1</td>\n",
       "      <td>1506825426267738</td>\n",
       "      <td>1506825426</td>\n",
       "      <td>96663</td>\n",
       "      <td>1506827047</td>\n",
       "      <td>43</td>\n",
       "      <td>False</td>\n",
       "      <td>1621</td>\n",
       "    </tr>\n",
       "    <tr>\n",
       "      <th>4</th>\n",
       "      <td>2</td>\n",
       "      <td>1506825435299739</td>\n",
       "      <td>1506825435</td>\n",
       "      <td>119592</td>\n",
       "      <td>1506827090</td>\n",
       "      <td>30</td>\n",
       "      <td>True</td>\n",
       "      <td>1655</td>\n",
       "    </tr>\n",
       "    <tr>\n",
       "      <th>...</th>\n",
       "      <td>...</td>\n",
       "      <td>...</td>\n",
       "      <td>...</td>\n",
       "      <td>...</td>\n",
       "      <td>...</td>\n",
       "      <td>...</td>\n",
       "      <td>...</td>\n",
       "      <td>...</td>\n",
       "    </tr>\n",
       "    <tr>\n",
       "      <th>2988176</th>\n",
       "      <td>10051</td>\n",
       "      <td>1508211372158328</td>\n",
       "      <td>1508211372</td>\n",
       "      <td>84911</td>\n",
       "      <td>1508211557</td>\n",
       "      <td>115</td>\n",
       "      <td>False</td>\n",
       "      <td>185</td>\n",
       "    </tr>\n",
       "    <tr>\n",
       "      <th>2988177</th>\n",
       "      <td>322896</td>\n",
       "      <td>1508211376302329</td>\n",
       "      <td>1508211376</td>\n",
       "      <td>30760</td>\n",
       "      <td>1508211672</td>\n",
       "      <td>30</td>\n",
       "      <td>True</td>\n",
       "      <td>296</td>\n",
       "    </tr>\n",
       "    <tr>\n",
       "      <th>2988178</th>\n",
       "      <td>322896</td>\n",
       "      <td>1508211376302329</td>\n",
       "      <td>1508211376</td>\n",
       "      <td>157507</td>\n",
       "      <td>1508211702</td>\n",
       "      <td>-189</td>\n",
       "      <td>False</td>\n",
       "      <td>326</td>\n",
       "    </tr>\n",
       "    <tr>\n",
       "      <th>2988179</th>\n",
       "      <td>123718</td>\n",
       "      <td>1508211379189330</td>\n",
       "      <td>1508211379</td>\n",
       "      <td>234481</td>\n",
       "      <td>1508211513</td>\n",
       "      <td>30</td>\n",
       "      <td>True</td>\n",
       "      <td>134</td>\n",
       "    </tr>\n",
       "    <tr>\n",
       "      <th>2988180</th>\n",
       "      <td>123718</td>\n",
       "      <td>1508211379189330</td>\n",
       "      <td>1508211379</td>\n",
       "      <td>233578</td>\n",
       "      <td>1508211543</td>\n",
       "      <td>-1</td>\n",
       "      <td>False</td>\n",
       "      <td>164</td>\n",
       "    </tr>\n",
       "  </tbody>\n",
       "</table>\n",
       "<p>2988181 rows × 8 columns</p>\n",
       "</div>"
      ],
      "text/plain": [
       "        user_id        session_id session_start click_article_id  \\\n",
       "0             0  1506825423271737    1506825423           157541   \n",
       "1             0  1506825423271737    1506825423            68866   \n",
       "2             1  1506825426267738    1506825426           235840   \n",
       "3             1  1506825426267738    1506825426            96663   \n",
       "4             2  1506825435299739    1506825435           119592   \n",
       "...         ...               ...           ...              ...   \n",
       "2988176   10051  1508211372158328    1508211372            84911   \n",
       "2988177  322896  1508211376302329    1508211376            30760   \n",
       "2988178  322896  1508211376302329    1508211376           157507   \n",
       "2988179  123718  1508211379189330    1508211379           234481   \n",
       "2988180  123718  1508211379189330    1508211379           233578   \n",
       "\n",
       "        click_timestamp time_read  not_last   top  \n",
       "0            1506826828        30      True  1405  \n",
       "1            1506826858       159     False  1435  \n",
       "2            1506827017        30      True  1591  \n",
       "3            1506827047        43     False  1621  \n",
       "4            1506827090        30      True  1655  \n",
       "...                 ...       ...       ...   ...  \n",
       "2988176      1508211557       115     False   185  \n",
       "2988177      1508211672        30      True   296  \n",
       "2988178      1508211702      -189     False   326  \n",
       "2988179      1508211513        30      True   134  \n",
       "2988180      1508211543        -1     False   164  \n",
       "\n",
       "[2988181 rows x 8 columns]"
      ]
     },
     "execution_count": 33,
     "metadata": {},
     "output_type": "execute_result"
    }
   ],
   "source": [
    "all_clicks_df['top'] = all_clicks_df.click_timestamp - all_clicks_df.session_start\n",
    "all_clicks_df"
   ]
  },
  {
   "cell_type": "code",
   "execution_count": 24,
   "id": "1c84c146",
   "metadata": {},
   "outputs": [
    {
     "data": {
      "text/plain": [
       "(array([0, 1, 2, ..., 1006475, 1121327, 1212149], dtype=object),\n",
       " array([4931, 5618, 5049, ...,    1,    1,    1], dtype=int64))"
      ]
     },
     "execution_count": 24,
     "metadata": {},
     "output_type": "execute_result"
    }
   ],
   "source": [
    "np.unique(all_clicks_df[all_clicks_df.not_last].time_read.values, return_counts=True)"
   ]
  },
  {
   "cell_type": "code",
   "execution_count": 25,
   "id": "dfc43270",
   "metadata": {},
   "outputs": [
    {
     "data": {
      "text/html": [
       "<div>\n",
       "<style scoped>\n",
       "    .dataframe tbody tr th:only-of-type {\n",
       "        vertical-align: middle;\n",
       "    }\n",
       "\n",
       "    .dataframe tbody tr th {\n",
       "        vertical-align: top;\n",
       "    }\n",
       "\n",
       "    .dataframe thead th {\n",
       "        text-align: right;\n",
       "    }\n",
       "</style>\n",
       "<table border=\"1\" class=\"dataframe\">\n",
       "  <thead>\n",
       "    <tr style=\"text-align: right;\">\n",
       "      <th></th>\n",
       "      <th>user_id</th>\n",
       "      <th>session_id</th>\n",
       "      <th>session_start</th>\n",
       "      <th>click_article_id</th>\n",
       "      <th>click_timestamp</th>\n",
       "      <th>not_last</th>\n",
       "    </tr>\n",
       "    <tr>\n",
       "      <th>time_read</th>\n",
       "      <th></th>\n",
       "      <th></th>\n",
       "      <th></th>\n",
       "      <th></th>\n",
       "      <th></th>\n",
       "      <th></th>\n",
       "    </tr>\n",
       "  </thead>\n",
       "  <tbody>\n",
       "    <tr>\n",
       "      <th>30</th>\n",
       "      <td>1051613</td>\n",
       "      <td>1051613</td>\n",
       "      <td>1051613</td>\n",
       "      <td>1051613</td>\n",
       "      <td>1051613</td>\n",
       "      <td>1051613</td>\n",
       "    </tr>\n",
       "    <tr>\n",
       "      <th>1</th>\n",
       "      <td>5618</td>\n",
       "      <td>5618</td>\n",
       "      <td>5618</td>\n",
       "      <td>5618</td>\n",
       "      <td>5618</td>\n",
       "      <td>5618</td>\n",
       "    </tr>\n",
       "    <tr>\n",
       "      <th>4</th>\n",
       "      <td>5129</td>\n",
       "      <td>5129</td>\n",
       "      <td>5129</td>\n",
       "      <td>5129</td>\n",
       "      <td>5129</td>\n",
       "      <td>5129</td>\n",
       "    </tr>\n",
       "    <tr>\n",
       "      <th>2</th>\n",
       "      <td>5049</td>\n",
       "      <td>5049</td>\n",
       "      <td>5049</td>\n",
       "      <td>5049</td>\n",
       "      <td>5049</td>\n",
       "      <td>5049</td>\n",
       "    </tr>\n",
       "    <tr>\n",
       "      <th>5</th>\n",
       "      <td>4971</td>\n",
       "      <td>4971</td>\n",
       "      <td>4971</td>\n",
       "      <td>4971</td>\n",
       "      <td>4971</td>\n",
       "      <td>4971</td>\n",
       "    </tr>\n",
       "    <tr>\n",
       "      <th>...</th>\n",
       "      <td>...</td>\n",
       "      <td>...</td>\n",
       "      <td>...</td>\n",
       "      <td>...</td>\n",
       "      <td>...</td>\n",
       "      <td>...</td>\n",
       "    </tr>\n",
       "    <tr>\n",
       "      <th>15248</th>\n",
       "      <td>1</td>\n",
       "      <td>1</td>\n",
       "      <td>1</td>\n",
       "      <td>1</td>\n",
       "      <td>1</td>\n",
       "      <td>1</td>\n",
       "    </tr>\n",
       "    <tr>\n",
       "      <th>15239</th>\n",
       "      <td>1</td>\n",
       "      <td>1</td>\n",
       "      <td>1</td>\n",
       "      <td>1</td>\n",
       "      <td>1</td>\n",
       "      <td>1</td>\n",
       "    </tr>\n",
       "    <tr>\n",
       "      <th>15238</th>\n",
       "      <td>1</td>\n",
       "      <td>1</td>\n",
       "      <td>1</td>\n",
       "      <td>1</td>\n",
       "      <td>1</td>\n",
       "      <td>1</td>\n",
       "    </tr>\n",
       "    <tr>\n",
       "      <th>15237</th>\n",
       "      <td>1</td>\n",
       "      <td>1</td>\n",
       "      <td>1</td>\n",
       "      <td>1</td>\n",
       "      <td>1</td>\n",
       "      <td>1</td>\n",
       "    </tr>\n",
       "    <tr>\n",
       "      <th>1212149</th>\n",
       "      <td>1</td>\n",
       "      <td>1</td>\n",
       "      <td>1</td>\n",
       "      <td>1</td>\n",
       "      <td>1</td>\n",
       "      <td>1</td>\n",
       "    </tr>\n",
       "  </tbody>\n",
       "</table>\n",
       "<p>18898 rows × 6 columns</p>\n",
       "</div>"
      ],
      "text/plain": [
       "           user_id  session_id  session_start  click_article_id  \\\n",
       "time_read                                                         \n",
       "30         1051613     1051613        1051613           1051613   \n",
       "1             5618        5618           5618              5618   \n",
       "4             5129        5129           5129              5129   \n",
       "2             5049        5049           5049              5049   \n",
       "5             4971        4971           4971              4971   \n",
       "...            ...         ...            ...               ...   \n",
       "15248            1           1              1                 1   \n",
       "15239            1           1              1                 1   \n",
       "15238            1           1              1                 1   \n",
       "15237            1           1              1                 1   \n",
       "1212149          1           1              1                 1   \n",
       "\n",
       "           click_timestamp  not_last  \n",
       "time_read                             \n",
       "30                 1051613   1051613  \n",
       "1                     5618      5618  \n",
       "4                     5129      5129  \n",
       "2                     5049      5049  \n",
       "5                     4971      4971  \n",
       "...                    ...       ...  \n",
       "15248                    1         1  \n",
       "15239                    1         1  \n",
       "15238                    1         1  \n",
       "15237                    1         1  \n",
       "1212149                  1         1  \n",
       "\n",
       "[18898 rows x 6 columns]"
      ]
     },
     "execution_count": 25,
     "metadata": {},
     "output_type": "execute_result"
    }
   ],
   "source": [
    "all_clicks_df[all_clicks_df.not_last].groupby('time_read').count().sort_values('user_id', ascending=False)"
   ]
  },
  {
   "cell_type": "code",
   "execution_count": 17,
   "id": "28d20a82",
   "metadata": {},
   "outputs": [
    {
     "data": {
      "text/plain": [
       "160974    37213\n",
       "272143    28943\n",
       "336221    23851\n",
       "234698    23499\n",
       "123909    23122\n",
       "          ...  \n",
       "3306          1\n",
       "166713        1\n",
       "214721        1\n",
       "350088        1\n",
       "98243         1\n",
       "Name: click_article_id, Length: 46033, dtype: int64"
      ]
     },
     "execution_count": 17,
     "metadata": {},
     "output_type": "execute_result"
    }
   ],
   "source": [
    "all_clicks_df.click_article_id.value_counts()"
   ]
  },
  {
   "cell_type": "code",
   "execution_count": 18,
   "id": "8db67a16",
   "metadata": {},
   "outputs": [
    {
     "data": {
      "text/plain": [
       "160974    37213\n",
       "272143    28943\n",
       "336221    23851\n",
       "234698    23499\n",
       "123909    23122\n",
       "          ...  \n",
       "3306          1\n",
       "166713        1\n",
       "214721        1\n",
       "350088        1\n",
       "98243         1\n",
       "Name: click_article_id, Length: 46033, dtype: int64"
      ]
     },
     "execution_count": 18,
     "metadata": {},
     "output_type": "execute_result"
    }
   ],
   "source": [
    "all_clicks_df.click_article_id.value_counts()"
   ]
  },
  {
   "cell_type": "code",
   "execution_count": 91,
   "id": "9cd40065",
   "metadata": {},
   "outputs": [],
   "source": [
    "articles = all_clicks_df.click_article_id.value_counts().index\n",
    "articles_df = articles_df.iloc[articles]"
   ]
  },
  {
   "cell_type": "markdown",
   "id": "2747ca2f",
   "metadata": {
    "papermill": {
     "duration": 0.051837,
     "end_time": "2021-10-02T15:51:14.642955",
     "exception": false,
     "start_time": "2021-10-02T15:51:14.591118",
     "status": "completed"
    },
    "tags": []
   },
   "source": [
    "# 2. Build our Recommendation Models\n",
    "\n",
    "**[Helpful link : build-recommendation-engine-collaborative-filtering](https://realpython.com/build-recommendation-engine-collaborative-filtering/)**"
   ]
  },
  {
   "cell_type": "markdown",
   "id": "25642a15",
   "metadata": {
    "papermill": {
     "duration": 0.05329,
     "end_time": "2021-10-02T15:51:14.748873",
     "exception": false,
     "start_time": "2021-10-02T15:51:14.695583",
     "status": "completed"
    },
    "tags": []
   },
   "source": [
    "## 2.1 Data Preparation\n",
    "For our recommendation model we need to find a scoring system to help the model understand the preferences of each user.\n",
    "\n",
    "I decided to proceed like that : **Rating = Total_Click_Per_Cat_By_User / Total_Click_Done_By_User**"
   ]
  },
  {
   "cell_type": "code",
   "execution_count": 55,
   "id": "8d5ac306",
   "metadata": {},
   "outputs": [
    {
     "data": {
      "text/plain": [
       "1.0"
      ]
     },
     "execution_count": 55,
     "metadata": {},
     "output_type": "execute_result"
    }
   ],
   "source": [
    "all_clicks_df['total_clicks_article'] = all_clicks_df.groupby(['click_article_id'])['user_id'].transform('count')\n",
    "all_clicks_df['user_clicks_on_article'] = all_clicks_df.groupby(['user_id','click_article_id'])['click_article_id'].transform('count')\n",
    "all_clicks_df['popularity_rating'] = all_clicks_df['user_clicks_on_article'] / all_clicks_df['total_clicks_article']"
   ]
  },
  {
   "cell_type": "code",
   "execution_count": 56,
   "id": "eb329be4",
   "metadata": {},
   "outputs": [],
   "source": [
    "all_clicks_df = all_clicks_df.drop(['total_clicks_article', 'user_clicks_on_article'], axis=1)"
   ]
  },
  {
   "cell_type": "code",
   "execution_count": 104,
   "id": "1d08a1e2",
   "metadata": {
    "execution": {
     "iopub.execute_input": "2021-10-02T15:51:14.854820Z",
     "iopub.status.busy": "2021-10-02T15:51:14.854187Z",
     "iopub.status.idle": "2021-10-02T15:51:21.245064Z",
     "shell.execute_reply": "2021-10-02T15:51:21.245614Z",
     "shell.execute_reply.started": "2021-10-02T15:49:18.332255Z"
    },
    "papermill": {
     "duration": 6.444884,
     "end_time": "2021-10-02T15:51:21.245782",
     "exception": false,
     "start_time": "2021-10-02T15:51:14.800898",
     "status": "completed"
    },
    "tags": []
   },
   "outputs": [
    {
     "name": "stdout",
     "output_type": "stream",
     "text": [
      "Shape before dropping duplicate : (2988181, 14)\n",
      "Shape after dropping duplicate : (2988181, 14)\n"
     ]
    }
   ],
   "source": [
    "#Create a map to convert article_id to category\n",
    "dict_article_categories = articles_df.set_index('article_id')['category_id'].to_dict()\n",
    "\n",
    "#Get Categorie associate for each article\n",
    "all_clicks_df['category_id'] = all_clicks_df['click_article_id'].map(dict_article_categories).astype(int)\n",
    "all_clicks_df['total_click'] = all_clicks_df.groupby(['user_id'])['click_article_id'].transform('count')\n",
    "all_clicks_df['total_click_by_category_id'] = all_clicks_df.groupby(['user_id','category_id'])['click_article_id'].transform('count')\n",
    "all_clicks_df['total_click_on_article_id'] = all_clicks_df.groupby(['user_id','click_article_id'])['click_article_id'].transform('count')\n",
    "all_clicks_df['rating'] = all_clicks_df['total_click_by_category_id'] / all_clicks_df['total_click']\n",
    "\n",
    "print(f'Shape before dropping duplicate : {all_clicks_df.shape}')\n",
    "all_clicks_df = all_clicks_df.drop(['click_article_id'], axis=1)\n",
    "all_clicks_df = all_clicks_df.drop_duplicates()\n",
    "print(f'Shape after dropping duplicate : {all_clicks_df.shape}')"
   ]
  },
  {
   "cell_type": "code",
   "execution_count": null,
   "id": "9f83c5b4",
   "metadata": {},
   "outputs": [],
   "source": []
  },
  {
   "cell_type": "code",
   "execution_count": 106,
   "id": "e2bce8cd",
   "metadata": {},
   "outputs": [
    {
     "data": {
      "text/plain": [
       "<AxesSubplot:>"
      ]
     },
     "execution_count": 106,
     "metadata": {},
     "output_type": "execute_result"
    },
    {
     "data": {
      "image/png": "[encoded data removed]",
      "text/plain": [
       "<Figure size 432x288 with 1 Axes>"
      ]
     },
     "metadata": {},
     "output_type": "display_data"
    }
   ],
   "source": [
    "all_clicks_df.user_rating.hist()"
   ]
  },
  {
   "cell_type": "code",
   "execution_count": 61,
   "id": "f70d0803",
   "metadata": {
    "execution": {
     "iopub.execute_input": "2021-10-02T15:51:21.351549Z",
     "iopub.status.busy": "2021-10-02T15:51:21.350949Z",
     "iopub.status.idle": "2021-10-02T15:51:21.674208Z",
     "shell.execute_reply": "2021-10-02T15:51:21.674664Z",
     "shell.execute_reply.started": "2021-10-02T15:49:26.582914Z"
    },
    "papermill": {
     "duration": 0.377956,
     "end_time": "2021-10-02T15:51:21.674829",
     "exception": false,
     "start_time": "2021-10-02T15:51:21.296873",
     "status": "completed"
    },
    "tags": []
   },
   "outputs": [
    {
     "data": {
      "text/html": [
       "<div>\n",
       "<style scoped>\n",
       "    .dataframe tbody tr th:only-of-type {\n",
       "        vertical-align: middle;\n",
       "    }\n",
       "\n",
       "    .dataframe tbody tr th {\n",
       "        vertical-align: top;\n",
       "    }\n",
       "\n",
       "    .dataframe thead th {\n",
       "        text-align: right;\n",
       "    }\n",
       "</style>\n",
       "<table border=\"1\" class=\"dataframe\">\n",
       "  <thead>\n",
       "    <tr style=\"text-align: right;\">\n",
       "      <th></th>\n",
       "      <th>user_id</th>\n",
       "      <th>session_id</th>\n",
       "      <th>session_start</th>\n",
       "      <th>click_article_id</th>\n",
       "      <th>click_timestamp</th>\n",
       "      <th>popularity_rating</th>\n",
       "      <th>category_id</th>\n",
       "      <th>total_click_on_article_id</th>\n",
       "      <th>rating</th>\n",
       "    </tr>\n",
       "  </thead>\n",
       "  <tbody>\n",
       "    <tr>\n",
       "      <th>0</th>\n",
       "      <td>0</td>\n",
       "      <td>1506825423271737</td>\n",
       "      <td>1506825423000</td>\n",
       "      <td>157541</td>\n",
       "      <td>1506826828020</td>\n",
       "      <td>0.002717</td>\n",
       "      <td>281</td>\n",
       "      <td>1</td>\n",
       "      <td>0.250</td>\n",
       "    </tr>\n",
       "    <tr>\n",
       "      <th>1</th>\n",
       "      <td>0</td>\n",
       "      <td>1506825423271737</td>\n",
       "      <td>1506825423000</td>\n",
       "      <td>68866</td>\n",
       "      <td>1506826858020</td>\n",
       "      <td>0.000667</td>\n",
       "      <td>136</td>\n",
       "      <td>1</td>\n",
       "      <td>0.125</td>\n",
       "    </tr>\n",
       "    <tr>\n",
       "      <th>1287361</th>\n",
       "      <td>0</td>\n",
       "      <td>1507340000920377</td>\n",
       "      <td>1507340000000</td>\n",
       "      <td>96755</td>\n",
       "      <td>1507340033155</td>\n",
       "      <td>0.000168</td>\n",
       "      <td>209</td>\n",
       "      <td>1</td>\n",
       "      <td>0.125</td>\n",
       "    </tr>\n",
       "    <tr>\n",
       "      <th>1287362</th>\n",
       "      <td>0</td>\n",
       "      <td>1507340000920377</td>\n",
       "      <td>1507340000000</td>\n",
       "      <td>313996</td>\n",
       "      <td>1507340063155</td>\n",
       "      <td>0.000256</td>\n",
       "      <td>431</td>\n",
       "      <td>1</td>\n",
       "      <td>0.125</td>\n",
       "    </tr>\n",
       "    <tr>\n",
       "      <th>1352197</th>\n",
       "      <td>0</td>\n",
       "      <td>1507385847186982</td>\n",
       "      <td>1507385847000</td>\n",
       "      <td>160158</td>\n",
       "      <td>1507388090915</td>\n",
       "      <td>0.000536</td>\n",
       "      <td>281</td>\n",
       "      <td>1</td>\n",
       "      <td>0.250</td>\n",
       "    </tr>\n",
       "    <tr>\n",
       "      <th>1352198</th>\n",
       "      <td>0</td>\n",
       "      <td>1507385847186982</td>\n",
       "      <td>1507385847000</td>\n",
       "      <td>233470</td>\n",
       "      <td>1507388120915</td>\n",
       "      <td>0.001379</td>\n",
       "      <td>375</td>\n",
       "      <td>1</td>\n",
       "      <td>0.125</td>\n",
       "    </tr>\n",
       "    <tr>\n",
       "      <th>1535240</th>\n",
       "      <td>0</td>\n",
       "      <td>1507514030209212</td>\n",
       "      <td>1507514030000</td>\n",
       "      <td>87224</td>\n",
       "      <td>1507514056617</td>\n",
       "      <td>0.000205</td>\n",
       "      <td>186</td>\n",
       "      <td>1</td>\n",
       "      <td>0.250</td>\n",
       "    </tr>\n",
       "    <tr>\n",
       "      <th>1535241</th>\n",
       "      <td>0</td>\n",
       "      <td>1507514030209212</td>\n",
       "      <td>1507514030000</td>\n",
       "      <td>87205</td>\n",
       "      <td>1507514086617</td>\n",
       "      <td>0.000744</td>\n",
       "      <td>186</td>\n",
       "      <td>1</td>\n",
       "      <td>0.250</td>\n",
       "    </tr>\n",
       "  </tbody>\n",
       "</table>\n",
       "</div>"
      ],
      "text/plain": [
       "        user_id        session_id  session_start click_article_id  \\\n",
       "0             0  1506825423271737  1506825423000           157541   \n",
       "1             0  1506825423271737  1506825423000            68866   \n",
       "1287361       0  1507340000920377  1507340000000            96755   \n",
       "1287362       0  1507340000920377  1507340000000           313996   \n",
       "1352197       0  1507385847186982  1507385847000           160158   \n",
       "1352198       0  1507385847186982  1507385847000           233470   \n",
       "1535240       0  1507514030209212  1507514030000            87224   \n",
       "1535241       0  1507514030209212  1507514030000            87205   \n",
       "\n",
       "        click_timestamp  popularity_rating  category_id  \\\n",
       "0         1506826828020           0.002717          281   \n",
       "1         1506826858020           0.000667          136   \n",
       "1287361   1507340033155           0.000168          209   \n",
       "1287362   1507340063155           0.000256          431   \n",
       "1352197   1507388090915           0.000536          281   \n",
       "1352198   1507388120915           0.001379          375   \n",
       "1535240   1507514056617           0.000205          186   \n",
       "1535241   1507514086617           0.000744          186   \n",
       "\n",
       "         total_click_on_article_id  rating  \n",
       "0                                1   0.250  \n",
       "1                                1   0.125  \n",
       "1287361                          1   0.125  \n",
       "1287362                          1   0.125  \n",
       "1352197                          1   0.250  \n",
       "1352198                          1   0.125  \n",
       "1535240                          1   0.250  \n",
       "1535241                          1   0.250  "
      ]
     },
     "execution_count": 61,
     "metadata": {},
     "output_type": "execute_result"
    }
   ],
   "source": [
    "#Remove not used columns\n",
    "all_clicks_df = all_clicks_df.drop(['total_click', 'total_click_by_category_id'], axis=1)\n",
    "\n",
    "all_clicks_df[all_clicks_df['user_id'] == 0]"
   ]
  },
  {
   "cell_type": "code",
   "execution_count": 60,
   "id": "db9e16a4",
   "metadata": {},
   "outputs": [
    {
     "data": {
      "text/plain": [
       "1.0"
      ]
     },
     "execution_count": 60,
     "metadata": {},
     "output_type": "execute_result"
    }
   ],
   "source": [
    "all_clicks_df.rating.max()"
   ]
  },
  {
   "cell_type": "code",
   "execution_count": 102,
   "id": "26ac9426",
   "metadata": {},
   "outputs": [
    {
     "data": {
      "text/plain": [
       "<AxesSubplot:>"
      ]
     },
     "execution_count": 102,
     "metadata": {},
     "output_type": "execute_result"
    },
    {
     "data": {
      "image/png": "[encoded data removed]",
      "text/plain": [
       "<Figure size 432x288 with 1 Axes>"
      ]
     },
     "metadata": {},
     "output_type": "display_data"
    }
   ],
   "source": [
    "all_clicks_df.popularity_rating.hist()"
   ]
  },
  {
   "cell_type": "code",
   "execution_count": 62,
   "id": "d1adef24",
   "metadata": {},
   "outputs": [
    {
     "data": {
      "text/plain": [
       "<AxesSubplot:>"
      ]
     },
     "execution_count": 62,
     "metadata": {},
     "output_type": "execute_result"
    },
    {
     "data": {
      "image/png": "[encoded data removed]",
      "text/plain": [
       "<Figure size 432x288 with 1 Axes>"
      ]
     },
     "metadata": {},
     "output_type": "display_data"
    }
   ],
   "source": [
    "all_clicks_df.rating.hist()"
   ]
  },
  {
   "cell_type": "code",
   "execution_count": 59,
   "id": "d74a7047",
   "metadata": {},
   "outputs": [
    {
     "data": {
      "text/plain": [
       "<AxesSubplot:>"
      ]
     },
     "execution_count": 59,
     "metadata": {},
     "output_type": "execute_result"
    },
    {
     "data": {
      "image/png": "[encoded data removed]",
      "text/plain": [
       "<Figure size 432x288 with 1 Axes>"
      ]
     },
     "metadata": {},
     "output_type": "display_data"
    }
   ],
   "source": [
    "all_clicks_df.total_click.hist()"
   ]
  },
  {
   "cell_type": "code",
   "execution_count": null,
   "id": "add29202",
   "metadata": {},
   "outputs": [],
   "source": []
  },
  {
   "cell_type": "code",
   "execution_count": 69,
   "id": "8035f459",
   "metadata": {},
   "outputs": [
    {
     "data": {
      "text/plain": [
       "array([0.00537634, 0.00132626, 0.00227015, ..., 0.04      , 0.00320641,\n",
       "       0.05298013])"
      ]
     },
     "execution_count": 69,
     "metadata": {},
     "output_type": "execute_result"
    }
   ],
   "source": [
    "scipy.stats.hmean(all_clicks_df[['rating', 'popularity_rating']], axis=1)"
   ]
  },
  {
   "cell_type": "code",
   "execution_count": 72,
   "id": "dd65cd75",
   "metadata": {},
   "outputs": [
    {
     "data": {
      "text/plain": [
       "<AxesSubplot:>"
      ]
     },
     "execution_count": 72,
     "metadata": {},
     "output_type": "execute_result"
    },
    {
     "data": {
      "image/png": "[encoded data removed]",
      "text/plain": [
       "<Figure size 432x288 with 1 Axes>"
      ]
     },
     "metadata": {},
     "output_type": "display_data"
    }
   ],
   "source": [
    "import scipy\n",
    "all_clicks_df['hmean_rating'] = scipy.stats.hmean(all_clicks_df[['rating', 'popularity_rating']], axis=1)\n",
    "all_clicks_df['hmean_rating'].hist()"
   ]
  },
  {
   "cell_type": "code",
   "execution_count": 73,
   "id": "7eb8e223",
   "metadata": {},
   "outputs": [
    {
     "data": {
      "text/plain": [
       "<AxesSubplot:>"
      ]
     },
     "execution_count": 73,
     "metadata": {},
     "output_type": "execute_result"
    },
    {
     "data": {
      "image/png": "[encoded data removed]",
      "text/plain": [
       "<Figure size 432x288 with 1 Axes>"
      ]
     },
     "metadata": {},
     "output_type": "display_data"
    }
   ],
   "source": [
    "all_clicks_df['mean_rating'] = all_clicks_df[['rating', 'popularity_rating']].mean(axis=1)\n",
    "all_clicks_df['mean_rating'].hist()"
   ]
  },
  {
   "cell_type": "markdown",
   "id": "d4c7fd9e",
   "metadata": {
    "papermill": {
     "duration": 0.052748,
     "end_time": "2021-10-02T15:51:21.782272",
     "exception": false,
     "start_time": "2021-10-02T15:51:21.729524",
     "status": "completed"
    },
    "tags": []
   },
   "source": [
    "We don't need Total_click and total_click_by_category_id anymore."
   ]
  },
  {
   "cell_type": "code",
   "execution_count": 74,
   "id": "46a6ef0f",
   "metadata": {
    "execution": {
     "iopub.execute_input": "2021-10-02T15:51:21.891294Z",
     "iopub.status.busy": "2021-10-02T15:51:21.890713Z",
     "iopub.status.idle": "2021-10-02T15:51:22.136669Z",
     "shell.execute_reply": "2021-10-02T15:51:22.137244Z",
     "shell.execute_reply.started": "2021-10-02T15:49:26.945297Z"
    },
    "papermill": {
     "duration": 0.301028,
     "end_time": "2021-10-02T15:51:22.137432",
     "exception": false,
     "start_time": "2021-10-02T15:51:21.836404",
     "status": "completed"
    },
    "tags": []
   },
   "outputs": [
    {
     "name": "stdout",
     "output_type": "stream",
     "text": [
      "size of our sample : (770610, 11)\n"
     ]
    }
   ],
   "source": [
    "#keep ~42 000 users to build our model.\n",
    "df = all_clicks_df[all_clicks_df['user_id'] < 42000]\n",
    "print(f'size of our sample : {df.shape}')"
   ]
  },
  {
   "cell_type": "code",
   "execution_count": 75,
   "id": "28016cea",
   "metadata": {
    "execution": {
     "iopub.execute_input": "2021-10-02T15:51:22.244640Z",
     "iopub.status.busy": "2021-10-02T15:51:22.244004Z",
     "iopub.status.idle": "2021-10-02T15:51:23.934931Z",
     "shell.execute_reply": "2021-10-02T15:51:23.935644Z",
     "shell.execute_reply.started": "2021-10-02T15:49:27.248505Z"
    },
    "papermill": {
     "duration": 1.747059,
     "end_time": "2021-10-02T15:51:23.935847",
     "exception": false,
     "start_time": "2021-10-02T15:51:22.188788",
     "status": "completed"
    },
    "tags": []
   },
   "outputs": [
    {
     "name": "stdout",
     "output_type": "stream",
     "text": [
      "Size of test set : 192653\n"
     ]
    }
   ],
   "source": [
    "# A reader is still needed but only the rating_scale param is requiered.\n",
    "reader = Reader(rating_scale=(0, 1))\n",
    "\n",
    "#Split our Dataframe 75% train / 25% test\n",
    "data = Dataset.load_from_df(df[['user_id', 'category_id', 'mean_rating']], reader)\n",
    "train_set, test_set = train_test_split(data, test_size=.25)\n",
    "print(f'Size of test set : {len(test_set)}')"
   ]
  },
  {
   "cell_type": "markdown",
   "id": "59a3f452",
   "metadata": {
    "papermill": {
     "duration": 0.052262,
     "end_time": "2021-10-02T15:51:24.042928",
     "exception": false,
     "start_time": "2021-10-02T15:51:23.990666",
     "status": "completed"
    },
    "tags": []
   },
   "source": [
    "## 2.2 SVD (baseline)\n",
    "### 2.3.1 Train Model"
   ]
  },
  {
   "cell_type": "code",
   "execution_count": 76,
   "id": "1986f368",
   "metadata": {
    "execution": {
     "iopub.execute_input": "2021-10-02T15:51:24.165066Z",
     "iopub.status.busy": "2021-10-02T15:51:24.159808Z",
     "iopub.status.idle": "2021-10-02T15:51:58.229937Z",
     "shell.execute_reply": "2021-10-02T15:51:58.230662Z",
     "shell.execute_reply.started": "2021-10-02T15:49:29.127136Z"
    },
    "papermill": {
     "duration": 34.135645,
     "end_time": "2021-10-02T15:51:58.230884",
     "exception": false,
     "start_time": "2021-10-02T15:51:24.095239",
     "status": "completed"
    },
    "tags": []
   },
   "outputs": [
    {
     "name": "stdout",
     "output_type": "stream",
     "text": [
      "CPU times: total: 5.95 s\n",
      "Wall time: 5.95 s\n"
     ]
    }
   ],
   "source": [
    "%%time\n",
    "\n",
    "model = SVD().fit(train_set)"
   ]
  },
  {
   "cell_type": "markdown",
   "id": "c5ebc4b5",
   "metadata": {
    "papermill": {
     "duration": 0.053366,
     "end_time": "2021-10-02T15:51:58.339991",
     "exception": false,
     "start_time": "2021-10-02T15:51:58.286625",
     "status": "completed"
    },
    "tags": []
   },
   "source": [
    "### 2.3.2 Results"
   ]
  },
  {
   "cell_type": "code",
   "execution_count": 79,
   "id": "4bfd2650",
   "metadata": {
    "execution": {
     "iopub.execute_input": "2021-10-02T15:51:58.459130Z",
     "iopub.status.busy": "2021-10-02T15:51:58.448677Z",
     "iopub.status.idle": "2021-10-02T15:52:00.304611Z",
     "shell.execute_reply": "2021-10-02T15:52:00.305048Z",
     "shell.execute_reply.started": "2021-10-02T15:50:06.443703Z"
    },
    "papermill": {
     "duration": 1.912735,
     "end_time": "2021-10-02T15:52:00.305234",
     "exception": false,
     "start_time": "2021-10-02T15:51:58.392499",
     "status": "completed"
    },
    "tags": []
   },
   "outputs": [
    {
     "name": "stdout",
     "output_type": "stream",
     "text": [
      "RMSE: 0.1192\n",
      "MSE: 0.0142\n",
      "MAE:  0.0997\n",
      "Prediction rating for User 0 with cat 281 : 0.29516472032903046\n",
      "Current rating : [0.25 0.25]\n"
     ]
    }
   ],
   "source": [
    "predict = model.test(test_set)\n",
    "\n",
    "#Print our Results\n",
    "accuracy.rmse(predict)\n",
    "accuracy.mse(predict)\n",
    "accuracy.mae(predict);\n",
    "\n",
    "print(f'Prediction rating for User 0 with cat 281 : {model.predict(0, 281).est}')\n",
    "print(f'Current rating : {df[(df[\"user_id\"] == 0) & (df[\"category_id\"] == 281)][\"rating\"].values}')"
   ]
  },
  {
   "cell_type": "markdown",
   "id": "11c9aea7",
   "metadata": {
    "papermill": {
     "duration": 0.053719,
     "end_time": "2021-10-02T15:52:00.413085",
     "exception": false,
     "start_time": "2021-10-02T15:52:00.359366",
     "status": "completed"
    },
    "tags": []
   },
   "source": [
    "### 2.3.3 Predictions with test set"
   ]
  },
  {
   "cell_type": "code",
   "execution_count": 80,
   "id": "d7e8316e",
   "metadata": {
    "execution": {
     "iopub.execute_input": "2021-10-02T15:52:00.527500Z",
     "iopub.status.busy": "2021-10-02T15:52:00.526812Z",
     "iopub.status.idle": "2021-10-02T15:52:00.529236Z",
     "shell.execute_reply": "2021-10-02T15:52:00.528740Z",
     "shell.execute_reply.started": "2021-10-02T15:50:09.000116Z"
    },
    "papermill": {
     "duration": 0.062461,
     "end_time": "2021-10-02T15:52:00.529369",
     "exception": false,
     "start_time": "2021-10-02T15:52:00.466908",
     "status": "completed"
    },
    "tags": []
   },
   "outputs": [],
   "source": [
    "#Function from https://github.com/NicolasHug/Surprise/blob/master/examples/top_n_recommendations.py\n",
    "def get_top_n(predictions, n=10):\n",
    "    \"\"\"Return the top-N recommendation for each user from a set of predictions.\n",
    "    Args:\n",
    "        predictions(list of Prediction objects): The list of predictions, as\n",
    "            returned by the test method of an algorithm.\n",
    "        n(int): The number of recommendation to output for each user. Default\n",
    "            is 10.\n",
    "    Returns:\n",
    "    A dict where keys are user (raw) ids and values are lists of tuples:\n",
    "        [(raw item id, rating estimation), ...] of size n.\n",
    "    \"\"\"\n",
    "\n",
    "    # First map the predictions to each user.\n",
    "    top_n = defaultdict(list)\n",
    "    for uid, iid, true_r, est, _ in predictions:\n",
    "        top_n[uid].append((iid, est))\n",
    "\n",
    "    # Then sort the predictions for each user and retrieve the k highest ones.\n",
    "    for uid, user_ratings in top_n.items():\n",
    "        user_ratings.sort(key=lambda x: x[1], reverse=True)\n",
    "        top_n[uid] = user_ratings[:n]\n",
    "\n",
    "    return top_n"
   ]
  },
  {
   "cell_type": "code",
   "execution_count": 81,
   "id": "a243d656",
   "metadata": {
    "execution": {
     "iopub.execute_input": "2021-10-02T15:52:00.663140Z",
     "iopub.status.busy": "2021-10-02T15:52:00.640382Z",
     "iopub.status.idle": "2021-10-02T15:52:00.808090Z",
     "shell.execute_reply": "2021-10-02T15:52:00.807554Z",
     "shell.execute_reply.started": "2021-10-02T15:50:09.008370Z"
    },
    "papermill": {
     "duration": 0.224008,
     "end_time": "2021-10-02T15:52:00.808252",
     "exception": false,
     "start_time": "2021-10-02T15:52:00.584244",
     "status": "completed"
    },
    "tags": []
   },
   "outputs": [],
   "source": [
    "top_n = get_top_n(predict, n=10)"
   ]
  },
  {
   "cell_type": "code",
   "execution_count": 82,
   "id": "966bda9b",
   "metadata": {},
   "outputs": [
    {
     "name": "stdout",
     "output_type": "stream",
     "text": [
      "[281, 281, 375, 375]\n"
     ]
    },
    {
     "data": {
      "text/plain": [
       "array([232092, 162269, 234229, 159030, 231100], dtype=int64)"
      ]
     },
     "execution_count": 82,
     "metadata": {},
     "output_type": "execute_result"
    }
   ],
   "source": [
    "recommanded_cat = [iid for iid, _ in top_n[1]]\n",
    "print(recommanded_cat)\n",
    "np.random.choice(np.hstack([articles_df[articles_df['category_id'] == x]['article_id'].values for x in recommanded_cat]), 5)"
   ]
  },
  {
   "cell_type": "code",
   "execution_count": 83,
   "id": "cedeb015",
   "metadata": {
    "execution": {
     "iopub.execute_input": "2021-10-02T15:52:00.919960Z",
     "iopub.status.busy": "2021-10-02T15:52:00.919317Z",
     "iopub.status.idle": "2021-10-02T15:52:00.925801Z",
     "shell.execute_reply": "2021-10-02T15:52:00.926411Z",
     "shell.execute_reply.started": "2021-10-02T15:50:09.346884Z"
    },
    "papermill": {
     "duration": 0.064295,
     "end_time": "2021-10-02T15:52:00.926593",
     "exception": false,
     "start_time": "2021-10-02T15:52:00.862298",
     "status": "completed"
    },
    "tags": []
   },
   "outputs": [],
   "source": [
    "#Make simple recommendation for user.\n",
    "def make_recommendation(user_ID, top_n, df_rating, articles_df):\n",
    "    \"\"\"Return a list of recommanded articles based on the taste of the user and all recommended categories\n",
    "    Args:\n",
    "        user_id -> user id used for recommendation\n",
    "        top_n -> top-N recommendation for each user from a set of predictions\n",
    "        df_rating -> df used to train our algo\n",
    "        articles_df -> df with metadata of all articles.\n",
    "    Returns:\n",
    "        list(recommanded articles), list(recommanded categories)\n",
    "    \"\"\"\n",
    "    #Get top 5 cat and adding it to our list\n",
    "    recommanded_cat = [iid for iid, _ in top_n[user_ID]]\n",
    "    \n",
    "    '''#If we don't have any recommandation, use our data.\n",
    "    if not recommanded_cat:\n",
    "        recommanded_cat = df_rating[df_rating['user_id'] == user_ID].nlargest(1, ['rating'])['category_id'].values'''\n",
    "    \n",
    "    #Select 5 randoms articles from all the articles in the recommanded categegories.\n",
    "    recommanded_articles = np.random.choice(np.hstack([articles_df[articles_df['category_id'] == x]['article_id'].values for x in recommanded_cat]), 5)\n",
    "\n",
    "    \n",
    "    return recommanded_articles, recommanded_cat"
   ]
  },
  {
   "cell_type": "code",
   "execution_count": 84,
   "id": "e7cecc51",
   "metadata": {
    "execution": {
     "iopub.execute_input": "2021-10-02T15:52:01.042227Z",
     "iopub.status.busy": "2021-10-02T15:52:01.041555Z",
     "iopub.status.idle": "2021-10-02T15:52:01.047865Z",
     "shell.execute_reply": "2021-10-02T15:52:01.048329Z",
     "shell.execute_reply.started": "2021-10-02T15:50:09.357314Z"
    },
    "papermill": {
     "duration": 0.0672,
     "end_time": "2021-10-02T15:52:01.048496",
     "exception": false,
     "start_time": "2021-10-02T15:52:00.981296",
     "status": "completed"
    },
    "tags": []
   },
   "outputs": [
    {
     "name": "stdout",
     "output_type": "stream",
     "text": [
      "recommanded categories for user_id[1] : [281, 281, 375, 375]\n",
      "recommanded articles for user_id[1] : [235998 152392 159315 235101 229914]\n"
     ]
    }
   ],
   "source": [
    "recommendation, categories = make_recommendation(1, top_n, df, articles_df)\n",
    "print(f'recommanded categories for user_id[1] : {categories}')\n",
    "print(f'recommanded articles for user_id[1] : {recommendation}')"
   ]
  },
  {
   "cell_type": "markdown",
   "id": "4ec76607",
   "metadata": {
    "papermill": {
     "duration": 0.054584,
     "end_time": "2021-10-02T15:52:01.157864",
     "exception": false,
     "start_time": "2021-10-02T15:52:01.103280",
     "status": "completed"
    },
    "tags": []
   },
   "source": [
    "## 2.3 KNNWithMeans (Collaborative model)\n",
    "### 2.3.1 Train Model"
   ]
  },
  {
   "cell_type": "code",
   "execution_count": 85,
   "id": "2a01df3b",
   "metadata": {
    "execution": {
     "iopub.execute_input": "2021-10-02T15:52:01.271668Z",
     "iopub.status.busy": "2021-10-02T15:52:01.271024Z",
     "iopub.status.idle": "2021-10-02T15:52:01.577757Z",
     "shell.execute_reply": "2021-10-02T15:52:01.578298Z",
     "shell.execute_reply.started": "2021-10-02T15:50:09.378090Z"
    },
    "papermill": {
     "duration": 0.366032,
     "end_time": "2021-10-02T15:52:01.578496",
     "exception": false,
     "start_time": "2021-10-02T15:52:01.212464",
     "status": "completed"
    },
    "tags": []
   },
   "outputs": [
    {
     "name": "stdout",
     "output_type": "stream",
     "text": [
      "Computing the cosine similarity matrix...\n",
      "Done computing similarity matrix.\n",
      "CPU times: total: 1.92 s\n",
      "Wall time: 1.93 s\n"
     ]
    }
   ],
   "source": [
    "%%time \n",
    "\n",
    "# To use item-based cosine similarity\n",
    "sim_options = {\n",
    "    \"name\": \"cosine\",\n",
    "    \"user_based\": False,  # Compute similarities between items\n",
    "}\n",
    "\n",
    "model = KNNWithMeans(sim_options=sim_options).fit(train_set)"
   ]
  },
  {
   "cell_type": "markdown",
   "id": "6db8c4cb",
   "metadata": {
    "papermill": {
     "duration": 0.063667,
     "end_time": "2021-10-02T15:52:01.720057",
     "exception": false,
     "start_time": "2021-10-02T15:52:01.656390",
     "status": "completed"
    },
    "tags": []
   },
   "source": [
    "### 2.3.2 Results"
   ]
  },
  {
   "cell_type": "code",
   "execution_count": 86,
   "id": "87b31b6e",
   "metadata": {
    "execution": {
     "iopub.execute_input": "2021-10-02T15:52:01.859555Z",
     "iopub.status.busy": "2021-10-02T15:52:01.849064Z",
     "iopub.status.idle": "2021-10-02T15:52:07.716315Z",
     "shell.execute_reply": "2021-10-02T15:52:07.717320Z",
     "shell.execute_reply.started": "2021-10-02T15:50:09.840809Z"
    },
    "papermill": {
     "duration": 5.942298,
     "end_time": "2021-10-02T15:52:07.717546",
     "exception": false,
     "start_time": "2021-10-02T15:52:01.775248",
     "status": "completed"
    },
    "tags": []
   },
   "outputs": [
    {
     "name": "stdout",
     "output_type": "stream",
     "text": [
      "RMSE: 0.0595\n",
      "MSE: 0.0035\n",
      "MAE:  0.0337\n"
     ]
    }
   ],
   "source": [
    "predict = model.test(test_set)\n",
    "\n",
    "#Print our Results\n",
    "accuracy.rmse(predict)\n",
    "accuracy.mse(predict)\n",
    "accuracy.mae(predict);"
   ]
  },
  {
   "cell_type": "markdown",
   "id": "560ea0f6",
   "metadata": {
    "papermill": {
     "duration": 0.055136,
     "end_time": "2021-10-02T15:52:07.830800",
     "exception": false,
     "start_time": "2021-10-02T15:52:07.775664",
     "status": "completed"
    },
    "tags": []
   },
   "source": [
    "pretty good ! now let's see if our model will predictions will be different from SVD"
   ]
  },
  {
   "cell_type": "code",
   "execution_count": 87,
   "id": "778cfa80",
   "metadata": {
    "execution": {
     "iopub.execute_input": "2021-10-02T15:52:08.010680Z",
     "iopub.status.busy": "2021-10-02T15:52:08.009940Z",
     "iopub.status.idle": "2021-10-02T15:52:08.016104Z",
     "shell.execute_reply": "2021-10-02T15:52:08.015075Z",
     "shell.execute_reply.started": "2021-10-02T15:50:16.943964Z"
    },
    "papermill": {
     "duration": 0.130032,
     "end_time": "2021-10-02T15:52:08.016354",
     "exception": false,
     "start_time": "2021-10-02T15:52:07.886322",
     "status": "completed"
    },
    "tags": []
   },
   "outputs": [
    {
     "name": "stdout",
     "output_type": "stream",
     "text": [
      "Prediction rating for User 0 with cat 281 : 0.14662937762123407\n",
      "Current rating : [0.25 0.25]\n"
     ]
    }
   ],
   "source": [
    "print(f'Prediction rating for User 0 with cat 281 : {model.predict(0, 281).est}')\n",
    "print(f'Current rating : {df[(df[\"user_id\"] == 0) & (df[\"category_id\"] == 281)][\"rating\"].values}')"
   ]
  },
  {
   "cell_type": "markdown",
   "id": "1eeb98c2",
   "metadata": {
    "papermill": {
     "duration": 0.055726,
     "end_time": "2021-10-02T15:52:08.129714",
     "exception": false,
     "start_time": "2021-10-02T15:52:08.073988",
     "status": "completed"
    },
    "tags": []
   },
   "source": [
    "### 2.3.3 Prediction with testSet"
   ]
  },
  {
   "cell_type": "code",
   "execution_count": 88,
   "id": "5bbcaa7b",
   "metadata": {
    "execution": {
     "iopub.execute_input": "2021-10-02T15:52:08.520084Z",
     "iopub.status.busy": "2021-10-02T15:52:08.499519Z",
     "iopub.status.idle": "2021-10-02T15:52:08.672138Z",
     "shell.execute_reply": "2021-10-02T15:52:08.671585Z",
     "shell.execute_reply.started": "2021-10-02T15:50:17.029459Z"
    },
    "papermill": {
     "duration": 0.487361,
     "end_time": "2021-10-02T15:52:08.672280",
     "exception": false,
     "start_time": "2021-10-02T15:52:08.184919",
     "status": "completed"
    },
    "tags": []
   },
   "outputs": [],
   "source": [
    "top_n = get_top_n(predict, n=10)"
   ]
  },
  {
   "cell_type": "code",
   "execution_count": 89,
   "id": "78b6cd10",
   "metadata": {
    "execution": {
     "iopub.execute_input": "2021-10-02T15:52:08.791805Z",
     "iopub.status.busy": "2021-10-02T15:52:08.791146Z",
     "iopub.status.idle": "2021-10-02T15:52:08.793571Z",
     "shell.execute_reply": "2021-10-02T15:52:08.794034Z",
     "shell.execute_reply.started": "2021-10-02T15:50:17.345871Z"
    },
    "papermill": {
     "duration": 0.065389,
     "end_time": "2021-10-02T15:52:08.794225",
     "exception": false,
     "start_time": "2021-10-02T15:52:08.728836",
     "status": "completed"
    },
    "tags": []
   },
   "outputs": [
    {
     "name": "stdout",
     "output_type": "stream",
     "text": [
      "recommanded categories for user_id[0] : [375, 375, 375, 375, 421]\n",
      "recommanded articles for user_id[0] : [229629 228918 229683 233966 230090]\n"
     ]
    }
   ],
   "source": [
    "recommendation, categories = make_recommendation(3, top_n, df, articles_df)\n",
    "\n",
    "print(f'recommanded categories for user_id[0] : {categories}')\n",
    "print(f'recommanded articles for user_id[0] : {recommendation}')"
   ]
  },
  {
   "cell_type": "markdown",
   "id": "4540080c",
   "metadata": {
    "papermill": {
     "duration": 0.055322,
     "end_time": "2021-10-02T15:52:09.016918",
     "exception": false,
     "start_time": "2021-10-02T15:52:08.961596",
     "status": "completed"
    },
    "tags": []
   },
   "source": [
    "## 2.4 Content-Based Prediction\n",
    "Simple content-based prediction.\n",
    "\n",
    "[towardsdatascience article that helped me](https://towardsdatascience.com/recommender-system-in-python-part-1-preparation-and-analysis-d6bb7939091e)\n",
    "\n",
    "### 2.4.1 Using word embedding"
   ]
  },
  {
   "cell_type": "code",
   "execution_count": 93,
   "id": "508ea19f",
   "metadata": {},
   "outputs": [
    {
     "data": {
      "text/plain": [
       "(46033, 250)"
      ]
     },
     "execution_count": 93,
     "metadata": {},
     "output_type": "execute_result"
    }
   ],
   "source": [
    "pickle = pd.read_pickle('news-portal-user-interactions-by-globocom/articles_embeddings.pickle')\n",
    "pickle = pickle[articles]\n",
    "pickle.shape"
   ]
  },
  {
   "cell_type": "code",
   "execution_count": 94,
   "id": "531dd4a6",
   "metadata": {},
   "outputs": [
    {
     "data": {
      "text/html": [
       "<div>\n",
       "<style scoped>\n",
       "    .dataframe tbody tr th:only-of-type {\n",
       "        vertical-align: middle;\n",
       "    }\n",
       "\n",
       "    .dataframe tbody tr th {\n",
       "        vertical-align: top;\n",
       "    }\n",
       "\n",
       "    .dataframe thead th {\n",
       "        text-align: right;\n",
       "    }\n",
       "</style>\n",
       "<table border=\"1\" class=\"dataframe\">\n",
       "  <thead>\n",
       "    <tr style=\"text-align: right;\">\n",
       "      <th></th>\n",
       "      <th>article_id</th>\n",
       "      <th>category_id</th>\n",
       "      <th>created_at_ts</th>\n",
       "      <th>publisher_id</th>\n",
       "      <th>words_count</th>\n",
       "    </tr>\n",
       "  </thead>\n",
       "  <tbody>\n",
       "    <tr>\n",
       "      <th>160974</th>\n",
       "      <td>160974</td>\n",
       "      <td>281</td>\n",
       "      <td>1506912747000</td>\n",
       "      <td>0</td>\n",
       "      <td>259</td>\n",
       "    </tr>\n",
       "    <tr>\n",
       "      <th>272143</th>\n",
       "      <td>272143</td>\n",
       "      <td>399</td>\n",
       "      <td>1506961870000</td>\n",
       "      <td>0</td>\n",
       "      <td>184</td>\n",
       "    </tr>\n",
       "    <tr>\n",
       "      <th>336221</th>\n",
       "      <td>336221</td>\n",
       "      <td>437</td>\n",
       "      <td>1507613161000</td>\n",
       "      <td>0</td>\n",
       "      <td>158</td>\n",
       "    </tr>\n",
       "    <tr>\n",
       "      <th>234698</th>\n",
       "      <td>234698</td>\n",
       "      <td>375</td>\n",
       "      <td>1507618597000</td>\n",
       "      <td>0</td>\n",
       "      <td>183</td>\n",
       "    </tr>\n",
       "    <tr>\n",
       "      <th>123909</th>\n",
       "      <td>123909</td>\n",
       "      <td>250</td>\n",
       "      <td>1507198955000</td>\n",
       "      <td>0</td>\n",
       "      <td>240</td>\n",
       "    </tr>\n",
       "    <tr>\n",
       "      <th>...</th>\n",
       "      <td>...</td>\n",
       "      <td>...</td>\n",
       "      <td>...</td>\n",
       "      <td>...</td>\n",
       "      <td>...</td>\n",
       "    </tr>\n",
       "    <tr>\n",
       "      <th>3306</th>\n",
       "      <td>3306</td>\n",
       "      <td>1</td>\n",
       "      <td>1505861726000</td>\n",
       "      <td>0</td>\n",
       "      <td>164</td>\n",
       "    </tr>\n",
       "    <tr>\n",
       "      <th>166713</th>\n",
       "      <td>166713</td>\n",
       "      <td>290</td>\n",
       "      <td>1431842611000</td>\n",
       "      <td>0</td>\n",
       "      <td>197</td>\n",
       "    </tr>\n",
       "    <tr>\n",
       "      <th>214721</th>\n",
       "      <td>214721</td>\n",
       "      <td>348</td>\n",
       "      <td>1496820319000</td>\n",
       "      <td>0</td>\n",
       "      <td>282</td>\n",
       "    </tr>\n",
       "    <tr>\n",
       "      <th>350088</th>\n",
       "      <td>350088</td>\n",
       "      <td>442</td>\n",
       "      <td>1451470418000</td>\n",
       "      <td>0</td>\n",
       "      <td>182</td>\n",
       "    </tr>\n",
       "    <tr>\n",
       "      <th>98243</th>\n",
       "      <td>98243</td>\n",
       "      <td>220</td>\n",
       "      <td>1476754285000</td>\n",
       "      <td>0</td>\n",
       "      <td>44</td>\n",
       "    </tr>\n",
       "  </tbody>\n",
       "</table>\n",
       "<p>46033 rows × 5 columns</p>\n",
       "</div>"
      ],
      "text/plain": [
       "        article_id  category_id  created_at_ts  publisher_id  words_count\n",
       "160974      160974          281  1506912747000             0          259\n",
       "272143      272143          399  1506961870000             0          184\n",
       "336221      336221          437  1507613161000             0          158\n",
       "234698      234698          375  1507618597000             0          183\n",
       "123909      123909          250  1507198955000             0          240\n",
       "...            ...          ...            ...           ...          ...\n",
       "3306          3306            1  1505861726000             0          164\n",
       "166713      166713          290  1431842611000             0          197\n",
       "214721      214721          348  1496820319000             0          282\n",
       "350088      350088          442  1451470418000             0          182\n",
       "98243        98243          220  1476754285000             0           44\n",
       "\n",
       "[46033 rows x 5 columns]"
      ]
     },
     "execution_count": 94,
     "metadata": {},
     "output_type": "execute_result"
    }
   ],
   "source": [
    "articles_df"
   ]
  },
  {
   "cell_type": "code",
   "execution_count": 95,
   "id": "514d247a",
   "metadata": {},
   "outputs": [
    {
     "name": "stdout",
     "output_type": "stream",
     "text": [
      "CPU times: total: 38.3 s\n",
      "Wall time: 22.5 s\n"
     ]
    }
   ],
   "source": [
    "%%time\n",
    "\n",
    "from sklearn.metrics.pairwise import linear_kernel\n",
    "from sklearn.metrics.pairwise import cosine_similarity\n",
    "\n",
    "cosine_similarities  = cosine_similarity(pickle, pickle)"
   ]
  },
  {
   "cell_type": "code",
   "execution_count": 96,
   "id": "4e1a89d4",
   "metadata": {},
   "outputs": [],
   "source": [
    "articles_df = articles_df.reset_index()"
   ]
  },
  {
   "cell_type": "code",
   "execution_count": 97,
   "id": "00c0e7a4",
   "metadata": {},
   "outputs": [
    {
     "data": {
      "application/vnd.jupyter.widget-view+json": {
       "model_id": "a99f13472c614888b5ecd27306c21da2",
       "version_major": 2,
       "version_minor": 0
      },
      "text/plain": [
       "0it [00:00, ?it/s]"
      ]
     },
     "metadata": {},
     "output_type": "display_data"
    }
   ],
   "source": [
    "from tqdm.notebook import  tqdm\n",
    "results = {}\n",
    "for idx, row in tqdm(articles_df.iterrows()):\n",
    "    similar_indices = cosine_similarities[idx].argsort()[:-100:-1] \n",
    "    similar_items = [(cosine_similarities[idx][i], articles_df['article_id'][i]) for i in similar_indices] \n",
    "    results[row['article_id']] = similar_items[1:]"
   ]
  },
  {
   "cell_type": "code",
   "execution_count": 99,
   "id": "4e6e22a8",
   "metadata": {},
   "outputs": [
    {
     "data": {
      "text/html": [
       "<div>\n",
       "<style scoped>\n",
       "    .dataframe tbody tr th:only-of-type {\n",
       "        vertical-align: middle;\n",
       "    }\n",
       "\n",
       "    .dataframe tbody tr th {\n",
       "        vertical-align: top;\n",
       "    }\n",
       "\n",
       "    .dataframe thead th {\n",
       "        text-align: right;\n",
       "    }\n",
       "</style>\n",
       "<table border=\"1\" class=\"dataframe\">\n",
       "  <thead>\n",
       "    <tr style=\"text-align: right;\">\n",
       "      <th></th>\n",
       "      <th>index</th>\n",
       "      <th>article_id</th>\n",
       "      <th>category_id</th>\n",
       "      <th>created_at_ts</th>\n",
       "      <th>publisher_id</th>\n",
       "      <th>words_count</th>\n",
       "    </tr>\n",
       "  </thead>\n",
       "  <tbody>\n",
       "    <tr>\n",
       "      <th>0</th>\n",
       "      <td>160974</td>\n",
       "      <td>160974</td>\n",
       "      <td>281</td>\n",
       "      <td>1506912747000</td>\n",
       "      <td>0</td>\n",
       "      <td>259</td>\n",
       "    </tr>\n",
       "    <tr>\n",
       "      <th>1</th>\n",
       "      <td>272143</td>\n",
       "      <td>272143</td>\n",
       "      <td>399</td>\n",
       "      <td>1506961870000</td>\n",
       "      <td>0</td>\n",
       "      <td>184</td>\n",
       "    </tr>\n",
       "    <tr>\n",
       "      <th>2</th>\n",
       "      <td>336221</td>\n",
       "      <td>336221</td>\n",
       "      <td>437</td>\n",
       "      <td>1507613161000</td>\n",
       "      <td>0</td>\n",
       "      <td>158</td>\n",
       "    </tr>\n",
       "    <tr>\n",
       "      <th>3</th>\n",
       "      <td>234698</td>\n",
       "      <td>234698</td>\n",
       "      <td>375</td>\n",
       "      <td>1507618597000</td>\n",
       "      <td>0</td>\n",
       "      <td>183</td>\n",
       "    </tr>\n",
       "    <tr>\n",
       "      <th>4</th>\n",
       "      <td>123909</td>\n",
       "      <td>123909</td>\n",
       "      <td>250</td>\n",
       "      <td>1507198955000</td>\n",
       "      <td>0</td>\n",
       "      <td>240</td>\n",
       "    </tr>\n",
       "    <tr>\n",
       "      <th>...</th>\n",
       "      <td>...</td>\n",
       "      <td>...</td>\n",
       "      <td>...</td>\n",
       "      <td>...</td>\n",
       "      <td>...</td>\n",
       "      <td>...</td>\n",
       "    </tr>\n",
       "    <tr>\n",
       "      <th>46028</th>\n",
       "      <td>3306</td>\n",
       "      <td>3306</td>\n",
       "      <td>1</td>\n",
       "      <td>1505861726000</td>\n",
       "      <td>0</td>\n",
       "      <td>164</td>\n",
       "    </tr>\n",
       "    <tr>\n",
       "      <th>46029</th>\n",
       "      <td>166713</td>\n",
       "      <td>166713</td>\n",
       "      <td>290</td>\n",
       "      <td>1431842611000</td>\n",
       "      <td>0</td>\n",
       "      <td>197</td>\n",
       "    </tr>\n",
       "    <tr>\n",
       "      <th>46030</th>\n",
       "      <td>214721</td>\n",
       "      <td>214721</td>\n",
       "      <td>348</td>\n",
       "      <td>1496820319000</td>\n",
       "      <td>0</td>\n",
       "      <td>282</td>\n",
       "    </tr>\n",
       "    <tr>\n",
       "      <th>46031</th>\n",
       "      <td>350088</td>\n",
       "      <td>350088</td>\n",
       "      <td>442</td>\n",
       "      <td>1451470418000</td>\n",
       "      <td>0</td>\n",
       "      <td>182</td>\n",
       "    </tr>\n",
       "    <tr>\n",
       "      <th>46032</th>\n",
       "      <td>98243</td>\n",
       "      <td>98243</td>\n",
       "      <td>220</td>\n",
       "      <td>1476754285000</td>\n",
       "      <td>0</td>\n",
       "      <td>44</td>\n",
       "    </tr>\n",
       "  </tbody>\n",
       "</table>\n",
       "<p>46033 rows × 6 columns</p>\n",
       "</div>"
      ],
      "text/plain": [
       "        index  article_id  category_id  created_at_ts  publisher_id  \\\n",
       "0      160974      160974          281  1506912747000             0   \n",
       "1      272143      272143          399  1506961870000             0   \n",
       "2      336221      336221          437  1507613161000             0   \n",
       "3      234698      234698          375  1507618597000             0   \n",
       "4      123909      123909          250  1507198955000             0   \n",
       "...       ...         ...          ...            ...           ...   \n",
       "46028    3306        3306            1  1505861726000             0   \n",
       "46029  166713      166713          290  1431842611000             0   \n",
       "46030  214721      214721          348  1496820319000             0   \n",
       "46031  350088      350088          442  1451470418000             0   \n",
       "46032   98243       98243          220  1476754285000             0   \n",
       "\n",
       "       words_count  \n",
       "0              259  \n",
       "1              184  \n",
       "2              158  \n",
       "3              183  \n",
       "4              240  \n",
       "...            ...  \n",
       "46028          164  \n",
       "46029          197  \n",
       "46030          282  \n",
       "46031          182  \n",
       "46032           44  \n",
       "\n",
       "[46033 rows x 6 columns]"
      ]
     },
     "execution_count": 99,
     "metadata": {},
     "output_type": "execute_result"
    }
   ],
   "source": [
    "articles_df"
   ]
  },
  {
   "cell_type": "code",
   "execution_count": 101,
   "id": "2f7827a3",
   "metadata": {},
   "outputs": [
    {
     "name": "stdout",
     "output_type": "stream",
     "text": [
      "Recommending 5 products similar to 160974...\n",
      "-------\n",
      "[(0.89519405, 156560), (0.8683922, 161100), (0.8603612, 159764), (0.8603498, 162765), (0.85822546, 159034)]\n"
     ]
    }
   ],
   "source": [
    "def recommend(item_id, num):\n",
    "    print(\"Recommending \" + str(num) + \" products similar to \" + str(item_id) + \"...\")   \n",
    "    print(\"-------\")\n",
    "    recs = results[item_id][:num]   \n",
    "    print(recs)\n",
    "        \n",
    "recommend(160974, 5)"
   ]
  },
  {
   "cell_type": "code",
   "execution_count": null,
   "id": "858cf25d",
   "metadata": {},
   "outputs": [],
   "source": [
    "def recommend_user(user_id, num):\n",
    "    "
   ]
  },
  {
   "cell_type": "markdown",
   "id": "d939d542",
   "metadata": {
    "papermill": {
     "duration": 0.055911,
     "end_time": "2021-10-02T15:52:09.129155",
     "exception": false,
     "start_time": "2021-10-02T15:52:09.073244",
     "status": "completed"
    },
    "tags": []
   },
   "source": [
    "### 2.4.1 Content-based"
   ]
  },
  {
   "cell_type": "code",
   "execution_count": 52,
   "id": "899f4f8a",
   "metadata": {
    "execution": {
     "iopub.execute_input": "2021-10-02T15:52:09.252359Z",
     "iopub.status.busy": "2021-10-02T15:52:09.251718Z",
     "iopub.status.idle": "2021-10-02T15:52:09.397620Z",
     "shell.execute_reply": "2021-10-02T15:52:09.397089Z",
     "shell.execute_reply.started": "2021-10-02T15:50:17.360148Z"
    },
    "papermill": {
     "duration": 0.212625,
     "end_time": "2021-10-02T15:52:09.397761",
     "exception": false,
     "start_time": "2021-10-02T15:52:09.185136",
     "status": "completed"
    },
    "tags": []
   },
   "outputs": [],
   "source": [
    "df_cb = df.copy()\n",
    "\n",
    "#Add number total of rating for each\n",
    "num_ratings = pd.DataFrame(df_cb.groupby('category_id').count()['rating']).reset_index()\n",
    "df_cb = pd.merge(left=df_cb, right=num_ratings, on='category_id')\n",
    "df_cb.rename(columns={'rating_x': 'rating', 'rating_y': 'numRatings'}, inplace=True)"
   ]
  },
  {
   "cell_type": "code",
   "execution_count": 53,
   "id": "e63045c7",
   "metadata": {
    "execution": {
     "iopub.execute_input": "2021-10-02T15:52:09.518084Z",
     "iopub.status.busy": "2021-10-02T15:52:09.517461Z",
     "iopub.status.idle": "2021-10-02T15:52:09.519703Z",
     "shell.execute_reply": "2021-10-02T15:52:09.520134Z",
     "shell.execute_reply.started": "2021-10-02T15:50:17.665266Z"
    },
    "papermill": {
     "duration": 0.066242,
     "end_time": "2021-10-02T15:52:09.520307",
     "exception": false,
     "start_time": "2021-10-02T15:52:09.454065",
     "status": "completed"
    },
    "tags": []
   },
   "outputs": [],
   "source": [
    "#Category_id\n",
    "def get_similar_category(category_id, df, n_ratings_filter=50, n_recommendations=5):\n",
    "    matrix = df.pivot_table(\n",
    "        index='user_id',\n",
    "        columns='category_id',\n",
    "        values='rating'\n",
    "    )\n",
    "    \n",
    "    similar = matrix.corrwith(matrix[category_id])\n",
    "    corr_similar = pd.DataFrame(similar, columns=['correlation'])\n",
    "    corr_similar.dropna(inplace=True)\n",
    "    \n",
    "    orig = df.copy()\n",
    "    \n",
    "    corr_with_category = pd.merge(\n",
    "        left=corr_similar, \n",
    "        right=orig,\n",
    "        on='category_id')[['category_id', 'correlation', 'numRatings']].drop_duplicates().reset_index(drop=True)\n",
    "    \n",
    "    result = corr_with_category[corr_with_category['numRatings'] > n_ratings_filter].sort_values(by='correlation', ascending=False)\n",
    "    \n",
    "    result = result[result['category_id'] != category_id]\n",
    "    return result.head(n_recommendations)"
   ]
  },
  {
   "cell_type": "code",
   "execution_count": 60,
   "id": "4906e8a5",
   "metadata": {
    "execution": {
     "iopub.execute_input": "2021-10-02T15:52:09.805579Z",
     "iopub.status.busy": "2021-10-02T15:52:09.634202Z",
     "iopub.status.idle": "2021-10-02T15:52:10.540004Z",
     "shell.execute_reply": "2021-10-02T15:52:10.539511Z",
     "shell.execute_reply.started": "2021-10-02T15:50:17.679684Z"
    },
    "papermill": {
     "duration": 0.964296,
     "end_time": "2021-10-02T15:52:10.540153",
     "exception": false,
     "start_time": "2021-10-02T15:52:09.575857",
     "status": "completed"
    },
    "tags": []
   },
   "outputs": [
    {
     "data": {
      "text/html": [
       "<div>\n",
       "<style scoped>\n",
       "    .dataframe tbody tr th:only-of-type {\n",
       "        vertical-align: middle;\n",
       "    }\n",
       "\n",
       "    .dataframe tbody tr th {\n",
       "        vertical-align: top;\n",
       "    }\n",
       "\n",
       "    .dataframe thead th {\n",
       "        text-align: right;\n",
       "    }\n",
       "</style>\n",
       "<table border=\"1\" class=\"dataframe\">\n",
       "  <thead>\n",
       "    <tr style=\"text-align: right;\">\n",
       "      <th></th>\n",
       "      <th>category_id</th>\n",
       "      <th>correlation</th>\n",
       "      <th>numRatings</th>\n",
       "    </tr>\n",
       "  </thead>\n",
       "  <tbody>\n",
       "    <tr>\n",
       "      <th>38</th>\n",
       "      <td>123</td>\n",
       "      <td>0.854137</td>\n",
       "      <td>5382</td>\n",
       "    </tr>\n",
       "    <tr>\n",
       "      <th>107</th>\n",
       "      <td>285</td>\n",
       "      <td>0.820774</td>\n",
       "      <td>1010</td>\n",
       "    </tr>\n",
       "    <tr>\n",
       "      <th>159</th>\n",
       "      <td>396</td>\n",
       "      <td>0.794898</td>\n",
       "      <td>1217</td>\n",
       "    </tr>\n",
       "    <tr>\n",
       "      <th>131</th>\n",
       "      <td>339</td>\n",
       "      <td>0.782811</td>\n",
       "      <td>824</td>\n",
       "    </tr>\n",
       "    <tr>\n",
       "      <th>138</th>\n",
       "      <td>353</td>\n",
       "      <td>0.716940</td>\n",
       "      <td>3297</td>\n",
       "    </tr>\n",
       "  </tbody>\n",
       "</table>\n",
       "</div>"
      ],
      "text/plain": [
       "     category_id  correlation  numRatings\n",
       "38           123     0.854137        5382\n",
       "107          285     0.820774        1010\n",
       "159          396     0.794898        1217\n",
       "131          339     0.782811         824\n",
       "138          353     0.716940        3297"
      ]
     },
     "execution_count": 60,
     "metadata": {},
     "output_type": "execute_result"
    }
   ],
   "source": [
    "result = get_similar_category(412, df_cb)\n",
    "\n",
    "#Top 5 corr categories with category_id = 1\n",
    "result.head(5)"
   ]
  },
  {
   "cell_type": "markdown",
   "id": "3ade4feb",
   "metadata": {
    "papermill": {
     "duration": 0.056379,
     "end_time": "2021-10-02T15:52:10.653489",
     "exception": false,
     "start_time": "2021-10-02T15:52:10.597110",
     "status": "completed"
    },
    "tags": []
   },
   "source": [
    "### 2.4.2 Evaluation"
   ]
  },
  {
   "cell_type": "code",
   "execution_count": 55,
   "id": "5a074233",
   "metadata": {
    "execution": {
     "iopub.execute_input": "2021-10-02T15:52:10.781770Z",
     "iopub.status.busy": "2021-10-02T15:52:10.768106Z",
     "iopub.status.idle": "2021-10-02T15:52:10.830752Z",
     "shell.execute_reply": "2021-10-02T15:52:10.830082Z",
     "shell.execute_reply.started": "2021-10-02T15:50:19.111975Z"
    },
    "papermill": {
     "duration": 0.121501,
     "end_time": "2021-10-02T15:52:10.830882",
     "exception": false,
     "start_time": "2021-10-02T15:52:10.709381",
     "status": "completed"
    },
    "tags": []
   },
   "outputs": [],
   "source": [
    "train, test = sklearn.model_selection.train_test_split(df_cb, test_size=0.3, random_state=42, shuffle=True)"
   ]
  },
  {
   "cell_type": "code",
   "execution_count": 56,
   "id": "918b735f",
   "metadata": {
    "execution": {
     "iopub.execute_input": "2021-10-02T15:52:10.951352Z",
     "iopub.status.busy": "2021-10-02T15:52:10.950430Z",
     "iopub.status.idle": "2021-10-02T15:54:40.579559Z",
     "shell.execute_reply": "2021-10-02T15:54:40.580089Z",
     "shell.execute_reply.started": "2021-10-02T15:50:19.264678Z"
    },
    "papermill": {
     "duration": 149.691884,
     "end_time": "2021-10-02T15:54:40.580288",
     "exception": false,
     "start_time": "2021-10-02T15:52:10.888404",
     "status": "completed"
    },
    "tags": []
   },
   "outputs": [
    {
     "name": "stdout",
     "output_type": "stream",
     "text": [
      "CPU times: total: 2min 59s\n",
      "Wall time: 3min\n"
     ]
    }
   ],
   "source": [
    "%%time\n",
    "\n",
    "all_categories = train['category_id'].unique()\n",
    "predictions = {}\n",
    "\n",
    "for val in all_categories:\n",
    "    predictions[val] = get_similar_category(val, train)"
   ]
  },
  {
   "cell_type": "code",
   "execution_count": 34,
   "id": "57a27690",
   "metadata": {
    "execution": {
     "iopub.execute_input": "2021-10-02T15:54:40.697816Z",
     "iopub.status.busy": "2021-10-02T15:54:40.696883Z",
     "iopub.status.idle": "2021-10-02T15:54:40.767759Z",
     "shell.execute_reply": "2021-10-02T15:54:40.768262Z",
     "shell.execute_reply.started": "2021-10-02T15:50:25.445271Z"
    },
    "papermill": {
     "duration": 0.131049,
     "end_time": "2021-10-02T15:54:40.768436",
     "exception": false,
     "start_time": "2021-10-02T15:54:40.637387",
     "status": "completed"
    },
    "tags": []
   },
   "outputs": [
    {
     "data": {
      "text/html": [
       "<div>\n",
       "<style scoped>\n",
       "    .dataframe tbody tr th:only-of-type {\n",
       "        vertical-align: middle;\n",
       "    }\n",
       "\n",
       "    .dataframe tbody tr th {\n",
       "        vertical-align: top;\n",
       "    }\n",
       "\n",
       "    .dataframe thead th {\n",
       "        text-align: right;\n",
       "    }\n",
       "</style>\n",
       "<table border=\"1\" class=\"dataframe\">\n",
       "  <thead>\n",
       "    <tr style=\"text-align: right;\">\n",
       "      <th></th>\n",
       "      <th>user_id</th>\n",
       "      <th>category_id</th>\n",
       "      <th>rating</th>\n",
       "      <th>numRatings</th>\n",
       "    </tr>\n",
       "  </thead>\n",
       "  <tbody>\n",
       "    <tr>\n",
       "      <th>418918</th>\n",
       "      <td>2</td>\n",
       "      <td>332</td>\n",
       "      <td>0.25</td>\n",
       "      <td>2769</td>\n",
       "    </tr>\n",
       "  </tbody>\n",
       "</table>\n",
       "</div>"
      ],
      "text/plain": [
       "       user_id  category_id  rating  numRatings\n",
       "418918       2          332    0.25        2769"
      ]
     },
     "execution_count": 34,
     "metadata": {},
     "output_type": "execute_result"
    }
   ],
   "source": [
    "train[train['user_id'] == 2]"
   ]
  },
  {
   "cell_type": "code",
   "execution_count": 35,
   "id": "dc5f792b",
   "metadata": {
    "execution": {
     "iopub.execute_input": "2021-10-02T15:54:40.894947Z",
     "iopub.status.busy": "2021-10-02T15:54:40.894284Z",
     "iopub.status.idle": "2021-10-02T15:54:40.896818Z",
     "shell.execute_reply": "2021-10-02T15:54:40.897290Z",
     "shell.execute_reply.started": "2021-10-02T15:50:25.545469Z"
    },
    "papermill": {
     "duration": 0.069992,
     "end_time": "2021-10-02T15:54:40.897447",
     "exception": false,
     "start_time": "2021-10-02T15:54:40.827455",
     "status": "completed"
    },
    "tags": []
   },
   "outputs": [
    {
     "data": {
      "text/html": [
       "<div>\n",
       "<style scoped>\n",
       "    .dataframe tbody tr th:only-of-type {\n",
       "        vertical-align: middle;\n",
       "    }\n",
       "\n",
       "    .dataframe tbody tr th {\n",
       "        vertical-align: top;\n",
       "    }\n",
       "\n",
       "    .dataframe thead th {\n",
       "        text-align: right;\n",
       "    }\n",
       "</style>\n",
       "<table border=\"1\" class=\"dataframe\">\n",
       "  <thead>\n",
       "    <tr style=\"text-align: right;\">\n",
       "      <th></th>\n",
       "      <th>category_id</th>\n",
       "      <th>correlation</th>\n",
       "      <th>numRatings</th>\n",
       "    </tr>\n",
       "  </thead>\n",
       "  <tbody>\n",
       "    <tr>\n",
       "      <th>125</th>\n",
       "      <td>402</td>\n",
       "      <td>1.000000</td>\n",
       "      <td>62</td>\n",
       "    </tr>\n",
       "    <tr>\n",
       "      <th>81</th>\n",
       "      <td>295</td>\n",
       "      <td>0.998921</td>\n",
       "      <td>74</td>\n",
       "    </tr>\n",
       "    <tr>\n",
       "      <th>54</th>\n",
       "      <td>211</td>\n",
       "      <td>0.996745</td>\n",
       "      <td>54</td>\n",
       "    </tr>\n",
       "    <tr>\n",
       "      <th>74</th>\n",
       "      <td>271</td>\n",
       "      <td>0.994981</td>\n",
       "      <td>53</td>\n",
       "    </tr>\n",
       "    <tr>\n",
       "      <th>46</th>\n",
       "      <td>184</td>\n",
       "      <td>0.992412</td>\n",
       "      <td>79</td>\n",
       "    </tr>\n",
       "  </tbody>\n",
       "</table>\n",
       "</div>"
      ],
      "text/plain": [
       "     category_id  correlation  numRatings\n",
       "125          402     1.000000          62\n",
       "81           295     0.998921          74\n",
       "54           211     0.996745          54\n",
       "74           271     0.994981          53\n",
       "46           184     0.992412          79"
      ]
     },
     "execution_count": 35,
     "metadata": {},
     "output_type": "execute_result"
    }
   ],
   "source": [
    "predictions[332]"
   ]
  },
  {
   "cell_type": "code",
   "execution_count": 36,
   "id": "63229240",
   "metadata": {
    "execution": {
     "iopub.execute_input": "2021-10-02T15:54:41.046976Z",
     "iopub.status.busy": "2021-10-02T15:54:41.015908Z",
     "iopub.status.idle": "2021-10-02T15:54:41.051906Z",
     "shell.execute_reply": "2021-10-02T15:54:41.052412Z",
     "shell.execute_reply.started": "2021-10-02T15:50:25.576591Z"
    },
    "papermill": {
     "duration": 0.09774,
     "end_time": "2021-10-02T15:54:41.052577",
     "exception": false,
     "start_time": "2021-10-02T15:54:40.954837",
     "status": "completed"
    },
    "tags": []
   },
   "outputs": [
    {
     "data": {
      "text/html": [
       "<div>\n",
       "<style scoped>\n",
       "    .dataframe tbody tr th:only-of-type {\n",
       "        vertical-align: middle;\n",
       "    }\n",
       "\n",
       "    .dataframe tbody tr th {\n",
       "        vertical-align: top;\n",
       "    }\n",
       "\n",
       "    .dataframe thead th {\n",
       "        text-align: right;\n",
       "    }\n",
       "</style>\n",
       "<table border=\"1\" class=\"dataframe\">\n",
       "  <thead>\n",
       "    <tr style=\"text-align: right;\">\n",
       "      <th></th>\n",
       "      <th>user_id</th>\n",
       "      <th>category_id</th>\n",
       "      <th>rating</th>\n",
       "      <th>numRatings</th>\n",
       "    </tr>\n",
       "  </thead>\n",
       "  <tbody>\n",
       "    <tr>\n",
       "      <th>71148</th>\n",
       "      <td>2</td>\n",
       "      <td>247</td>\n",
       "      <td>0.25</td>\n",
       "      <td>10563</td>\n",
       "    </tr>\n",
       "    <tr>\n",
       "      <th>81711</th>\n",
       "      <td>2</td>\n",
       "      <td>26</td>\n",
       "      <td>0.50</td>\n",
       "      <td>7542</td>\n",
       "    </tr>\n",
       "  </tbody>\n",
       "</table>\n",
       "</div>"
      ],
      "text/plain": [
       "      user_id  category_id  rating  numRatings\n",
       "71148       2          247    0.25       10563\n",
       "81711       2           26    0.50        7542"
      ]
     },
     "execution_count": 36,
     "metadata": {},
     "output_type": "execute_result"
    }
   ],
   "source": [
    "test[test['user_id'] == 2]"
   ]
  },
  {
   "cell_type": "markdown",
   "id": "b30e2b8a",
   "metadata": {
    "papermill": {
     "duration": 0.057884,
     "end_time": "2021-10-02T15:54:41.169097",
     "exception": false,
     "start_time": "2021-10-02T15:54:41.111213",
     "status": "completed"
    },
    "tags": []
   },
   "source": [
    "after a few tries with different users i realize that the lack of information does not allow me to use this method in an efficient way..."
   ]
  },
  {
   "cell_type": "markdown",
   "id": "6b65a6ae",
   "metadata": {
    "papermill": {
     "duration": 0.05857,
     "end_time": "2021-10-02T15:54:41.285812",
     "exception": false,
     "start_time": "2021-10-02T15:54:41.227242",
     "status": "completed"
    },
    "tags": []
   },
   "source": [
    "# 3. Select best model and deployment"
   ]
  },
  {
   "cell_type": "code",
   "execution_count": 114,
   "id": "21caa441",
   "metadata": {
    "execution": {
     "iopub.execute_input": "2021-10-02T15:54:41.404392Z",
     "iopub.status.busy": "2021-10-02T15:54:41.403769Z",
     "iopub.status.idle": "2021-10-02T15:54:42.514600Z",
     "shell.execute_reply": "2021-10-02T15:54:42.513860Z",
     "shell.execute_reply.started": "2021-10-02T15:50:25.578561Z"
    },
    "papermill": {
     "duration": 1.171219,
     "end_time": "2021-10-02T15:54:42.514779",
     "exception": false,
     "start_time": "2021-10-02T15:54:41.343560",
     "status": "completed"
    },
    "tags": []
   },
   "outputs": [
    {
     "name": "stdout",
     "output_type": "stream",
     "text": [
      "Computing the cosine similarity matrix...\n",
      "Done computing similarity matrix.\n",
      "CPU times: total: 1.38 s\n",
      "Wall time: 1.38 s\n"
     ]
    }
   ],
   "source": [
    "%%time\n",
    "\n",
    "# Retrieve the trainset.\n",
    "train_set = data.build_full_trainset()\n",
    "\n",
    "# To use item-based cosine similarity\n",
    "sim_options = {\n",
    "    \"name\": \"cosine\",\n",
    "    \"user_based\": False,  # Compute similarities between items\n",
    "}\n",
    "\n",
    "model = KNNWithMeans(sim_options=sim_options).fit(train_set)"
   ]
  },
  {
   "cell_type": "code",
   "execution_count": 57,
   "id": "c3908d12",
   "metadata": {
    "execution": {
     "iopub.execute_input": "2021-10-02T15:54:42.697089Z",
     "iopub.status.busy": "2021-10-02T15:54:42.696345Z",
     "iopub.status.idle": "2021-10-02T15:54:42.699136Z",
     "shell.execute_reply": "2021-10-02T15:54:42.698650Z",
     "shell.execute_reply.started": "2021-10-02T15:50:25.580178Z"
    },
    "papermill": {
     "duration": 0.123474,
     "end_time": "2021-10-02T15:54:42.699392",
     "exception": false,
     "start_time": "2021-10-02T15:54:42.575918",
     "status": "completed"
    },
    "tags": []
   },
   "outputs": [],
   "source": [
    "def predict_best_category_for_user(user_id, model, article_df):\n",
    "    predictions = {}\n",
    "    \n",
    "    #Category 1 to 460\n",
    "    for i in range(1, 460):\n",
    "        _, cat_id, _, est, err = model.predict(user_id, i)\n",
    "        \n",
    "        #Keep prediction only if we could keep it.\n",
    "        if (err != True):\n",
    "            predictions[cat_id] = est\n",
    "    \n",
    "    best_cats_to_recommend = dict(sorted(predictions.items(), key=lambda x: x[1], reverse=True)[:5])\n",
    "    \n",
    "    recommended_articles = []\n",
    "    for key, _ in best_cats_to_recommend.items():\n",
    "        recommended_articles.append(int(articles_df[articles_df['category_id'] == key]['article_id'].sample(1).values))\n",
    "    \n",
    "    #return random_articles_for_best_cat, best_cat_to_recommend\n",
    "    return recommended_articles, best_cats_to_recommend"
   ]
  },
  {
   "cell_type": "code",
   "execution_count": 58,
   "id": "8f900477",
   "metadata": {
    "execution": {
     "iopub.execute_input": "2021-10-02T15:54:42.892105Z",
     "iopub.status.busy": "2021-10-02T15:54:42.860988Z",
     "iopub.status.idle": "2021-10-02T15:54:43.081728Z",
     "shell.execute_reply": "2021-10-02T15:54:43.081158Z",
     "shell.execute_reply.started": "2021-10-02T15:50:25.582094Z"
    },
    "papermill": {
     "duration": 0.321887,
     "end_time": "2021-10-02T15:54:43.081879",
     "exception": false,
     "start_time": "2021-10-02T15:54:42.759992",
     "status": "completed"
    },
    "tags": []
   },
   "outputs": [
    {
     "name": "stdout",
     "output_type": "stream",
     "text": [
      "Reco cat : {22: 0.5, 202: 0.5, 62: 0.33164799195228956, 240: 0.3070882376685252, 287: 0.2581979853659435}\n",
      "5 randoms articles from cat [24993, 91200, 38897, 115224, 164362]\n"
     ]
    }
   ],
   "source": [
    "results, recommended_cats = predict_best_category_for_user(1, model, articles_df)\n",
    "\n",
    "print(f'Reco cat : {recommended_cats}')\n",
    "print(f'5 randoms articles from cat {results}')"
   ]
  },
  {
   "cell_type": "code",
   "execution_count": 59,
   "id": "70048f9a",
   "metadata": {
    "execution": {
     "iopub.execute_input": "2021-10-02T15:54:43.205824Z",
     "iopub.status.busy": "2021-10-02T15:54:43.205204Z",
     "iopub.status.idle": "2021-10-02T15:54:44.219234Z",
     "shell.execute_reply": "2021-10-02T15:54:44.218654Z",
     "shell.execute_reply.started": "2021-10-02T15:50:25.584743Z"
    },
    "papermill": {
     "duration": 1.077457,
     "end_time": "2021-10-02T15:54:44.219383",
     "exception": false,
     "start_time": "2021-10-02T15:54:43.141926",
     "status": "completed"
    },
    "tags": []
   },
   "outputs": [],
   "source": [
    "# Save to file in the current working directory\n",
    "pkl_filename = \"pickle_surprise_model_KNNWithMeans.pkl\"\n",
    "\n",
    "with open(pkl_filename, 'wb') as file:\n",
    "    pickle.dump(model, file)\n",
    "\n",
    "# Load from file\n",
    "with open(pkl_filename, 'rb') as file:\n",
    "    pickle_model = pickle.load(file)"
   ]
  },
  {
   "cell_type": "code",
   "execution_count": 41,
   "id": "9f7528ab",
   "metadata": {
    "execution": {
     "iopub.execute_input": "2021-10-02T15:54:44.353468Z",
     "iopub.status.busy": "2021-10-02T15:54:44.352078Z",
     "iopub.status.idle": "2021-10-02T15:54:44.362018Z",
     "shell.execute_reply": "2021-10-02T15:54:44.361481Z",
     "shell.execute_reply.started": "2021-10-02T15:50:25.586620Z"
    },
    "papermill": {
     "duration": 0.082911,
     "end_time": "2021-10-02T15:54:44.362180",
     "exception": false,
     "start_time": "2021-10-02T15:54:44.279269",
     "status": "completed"
    },
    "tags": []
   },
   "outputs": [
    {
     "name": "stdout",
     "output_type": "stream",
     "text": [
      "Reco cat : {22: 0.5, 70: 0.5, 159: 0.5, 370: 0.5, 62: 0.311823069331905}\n",
      "5 randoms articles from cat [24998, 43050, 78546, 227592, 38878]\n"
     ]
    }
   ],
   "source": [
    "results, recommended_cats = predict_best_category_for_user(1, pickle_model, articles_df)\n",
    "\n",
    "print(f'Reco cat : {recommended_cats}')\n",
    "print(f'5 randoms articles from cat {results}')"
   ]
  }
 ],
 "metadata": {
  "kernelspec": {
   "display_name": "Python 3 (ipykernel)",
   "language": "python",
   "name": "python3"
  },
  "language_info": {
   "codemirror_mode": {
    "name": "ipython",
    "version": 3
   },
   "file_extension": ".py",
   "mimetype": "text/x-python",
   "name": "python",
   "nbconvert_exporter": "python",
   "pygments_lexer": "ipython3",
   "version": "3.8.13"
  },
  "papermill": {
   "default_parameters": {},
   "duration": 239.718806,
   "end_time": "2021-10-02T15:54:45.632996",
   "environment_variables": {},
   "exception": null,
   "input_path": "__notebook__.ipynb",
   "output_path": "__notebook__.ipynb",
   "parameters": {},
   "start_time": "2021-10-02T15:50:45.914190",
   "version": "2.3.3"
  }
 },
 "nbformat": 4,
 "nbformat_minor": 5
}
