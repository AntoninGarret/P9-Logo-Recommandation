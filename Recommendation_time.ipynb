{
 "cells": [
  {
   "cell_type": "code",
   "execution_count": 68,
   "id": "8cf4672f",
   "metadata": {
    "_cell_guid": "b1076dfc-b9ad-4769-8c92-a6c4dae69d19",
    "_uuid": "8f2839f25d086af736a60e9eeb907d3b93b6e0e5",
    "execution": {
     "iopub.execute_input": "2021-10-02T15:50:53.718012Z",
     "iopub.status.busy": "2021-10-02T15:50:53.712960Z",
     "iopub.status.idle": "2021-10-02T15:50:54.748617Z",
     "shell.execute_reply": "2021-10-02T15:50:54.747891Z",
     "shell.execute_reply.started": "2021-10-02T15:50:25.590715Z"
    },
    "papermill": {
     "duration": 1.088893,
     "end_time": "2021-10-02T15:50:54.748818",
     "exception": false,
     "start_time": "2021-10-02T15:50:53.659925",
     "status": "completed"
    },
    "tags": []
   },
   "outputs": [],
   "source": [
    "import os\n",
    "\n",
    "import random\n",
    "\n",
    "import pandas as pd\n",
    "import numpy as np\n",
    "from collections import defaultdict\n",
    "\n",
    "import seaborn as sns\n",
    "import matplotlib.pyplot as plt\n",
    "%matplotlib inline\n",
    "\n",
    "import missingno\n",
    "from tqdm.notebook import tqdm\n",
    "import json\n",
    "\n",
    "import sklearn\n",
    "import sklearn.model_selection\n",
    "from sklearn.metrics.pairwise import linear_kernel\n",
    "from sklearn.metrics.pairwise import cosine_similarity\n",
    "\n",
    "from surprise import NormalPredictor\n",
    "from surprise import Dataset\n",
    "from surprise import Reader\n",
    "from surprise.model_selection import cross_validate, train_test_split, GridSearchCV\n",
    "from surprise import KNNWithMeans, SVD\n",
    "from surprise import accuracy\n",
    "\n",
    "import pickle\n",
    "\n",
    "#Settings\n",
    "pd.set_option('display.max_columns', None)\n",
    "sns.set(color_codes=True)\n",
    "\n",
    "#To be avoided in your notebook.\n",
    "import warnings\n",
    "warnings.filterwarnings(\"ignore\")"
   ]
  },
  {
   "cell_type": "markdown",
   "id": "053aef80",
   "metadata": {
    "papermill": {
     "duration": 0.044856,
     "end_time": "2021-10-02T15:50:54.839324",
     "exception": false,
     "start_time": "2021-10-02T15:50:54.794468",
     "status": "completed"
    },
    "tags": []
   },
   "source": [
    "# 1. Exploratory Data Analysis"
   ]
  },
  {
   "cell_type": "markdown",
   "id": "236a890e",
   "metadata": {
    "papermill": {
     "duration": 0.043907,
     "end_time": "2021-10-02T15:50:54.927809",
     "exception": false,
     "start_time": "2021-10-02T15:50:54.883902",
     "status": "completed"
    },
    "tags": []
   },
   "source": [
    "## Dataset Content\n",
    "\n",
    "* **articles_metadata.csv** : CSV file with metadata information about all (364047) published articles\n",
    "* **articles_embeddings.pickle** : Pickle (Python 3) of a NumPy matrix containing the Article Content Embeddings (250-dimensional vectors), trained upon articles' text and metadata by the CHAMELEON's ACR module (see paper for details) for 364047 published articles.\n",
    "* **clicks** : Folder with CSV files (one per hour), containing user sessions interactions in the news portal.\n",
    "* **clicks_sample.csv** : CSV file containing user sessions interactions in the news portal."
   ]
  },
  {
   "cell_type": "code",
   "execution_count": 2,
   "id": "863d29c1",
   "metadata": {
    "execution": {
     "iopub.execute_input": "2021-10-02T15:50:55.024491Z",
     "iopub.status.busy": "2021-10-02T15:50:55.023705Z",
     "iopub.status.idle": "2021-10-02T15:50:55.034338Z",
     "shell.execute_reply": "2021-10-02T15:50:55.034867Z",
     "shell.execute_reply.started": "2021-10-02T15:48:58.684026Z"
    },
    "papermill": {
     "duration": 0.062679,
     "end_time": "2021-10-02T15:50:55.035026",
     "exception": false,
     "start_time": "2021-10-02T15:50:54.972347",
     "status": "completed"
    },
    "tags": []
   },
   "outputs": [
    {
     "name": "stdout",
     "output_type": "stream",
     "text": [
      "articles_embeddings.pickle\n",
      "articles_metadata.csv\n",
      "clicks\n",
      "clicks_sample.csv\n"
     ]
    }
   ],
   "source": [
    "[print(x) for x in os.listdir('news-portal-user-interactions-by-globocom')];"
   ]
  },
  {
   "cell_type": "markdown",
   "id": "b707e43b",
   "metadata": {
    "papermill": {
     "duration": 0.045969,
     "end_time": "2021-10-02T15:50:55.126796",
     "exception": false,
     "start_time": "2021-10-02T15:50:55.080827",
     "status": "completed"
    },
    "tags": []
   },
   "source": [
    "## 1.1 **articles_metadata.csv**"
   ]
  },
  {
   "cell_type": "markdown",
   "id": "3ad2c1d4",
   "metadata": {
    "papermill": {
     "duration": 0.044372,
     "end_time": "2021-10-02T15:50:55.216436",
     "exception": false,
     "start_time": "2021-10-02T15:50:55.172064",
     "status": "completed"
    },
    "tags": []
   },
   "source": [
    "### Content"
   ]
  },
  {
   "cell_type": "code",
   "execution_count": 3,
   "id": "f744f1fc",
   "metadata": {
    "execution": {
     "iopub.execute_input": "2021-10-02T15:50:55.310164Z",
     "iopub.status.busy": "2021-10-02T15:50:55.309564Z",
     "iopub.status.idle": "2021-10-02T15:50:55.614756Z",
     "shell.execute_reply": "2021-10-02T15:50:55.615278Z",
     "shell.execute_reply.started": "2021-10-02T15:48:58.702929Z"
    },
    "papermill": {
     "duration": 0.353371,
     "end_time": "2021-10-02T15:50:55.615467",
     "exception": false,
     "start_time": "2021-10-02T15:50:55.262096",
     "status": "completed"
    },
    "tags": []
   },
   "outputs": [],
   "source": [
    "PATH_ARTICLES_DATA = \"news-portal-user-interactions-by-globocom/articles_metadata.csv\"\n",
    "articles_df = pd.read_csv(PATH_ARTICLES_DATA)"
   ]
  },
  {
   "cell_type": "code",
   "execution_count": 4,
   "id": "694d8aa2",
   "metadata": {
    "execution": {
     "iopub.execute_input": "2021-10-02T15:50:55.732804Z",
     "iopub.status.busy": "2021-10-02T15:50:55.732087Z",
     "iopub.status.idle": "2021-10-02T15:50:55.743984Z",
     "shell.execute_reply": "2021-10-02T15:50:55.743523Z",
     "shell.execute_reply.started": "2021-10-02T15:48:58.940552Z"
    },
    "papermill": {
     "duration": 0.068603,
     "end_time": "2021-10-02T15:50:55.744128",
     "exception": false,
     "start_time": "2021-10-02T15:50:55.675525",
     "status": "completed"
    },
    "tags": []
   },
   "outputs": [
    {
     "data": {
      "text/html": [
       "<div>\n",
       "<style scoped>\n",
       "    .dataframe tbody tr th:only-of-type {\n",
       "        vertical-align: middle;\n",
       "    }\n",
       "\n",
       "    .dataframe tbody tr th {\n",
       "        vertical-align: top;\n",
       "    }\n",
       "\n",
       "    .dataframe thead th {\n",
       "        text-align: right;\n",
       "    }\n",
       "</style>\n",
       "<table border=\"1\" class=\"dataframe\">\n",
       "  <thead>\n",
       "    <tr style=\"text-align: right;\">\n",
       "      <th></th>\n",
       "      <th>article_id</th>\n",
       "      <th>category_id</th>\n",
       "      <th>created_at_ts</th>\n",
       "      <th>publisher_id</th>\n",
       "      <th>words_count</th>\n",
       "    </tr>\n",
       "  </thead>\n",
       "  <tbody>\n",
       "    <tr>\n",
       "      <th>0</th>\n",
       "      <td>0</td>\n",
       "      <td>0</td>\n",
       "      <td>1513144419000</td>\n",
       "      <td>0</td>\n",
       "      <td>168</td>\n",
       "    </tr>\n",
       "    <tr>\n",
       "      <th>1</th>\n",
       "      <td>1</td>\n",
       "      <td>1</td>\n",
       "      <td>1405341936000</td>\n",
       "      <td>0</td>\n",
       "      <td>189</td>\n",
       "    </tr>\n",
       "    <tr>\n",
       "      <th>2</th>\n",
       "      <td>2</td>\n",
       "      <td>1</td>\n",
       "      <td>1408667706000</td>\n",
       "      <td>0</td>\n",
       "      <td>250</td>\n",
       "    </tr>\n",
       "    <tr>\n",
       "      <th>3</th>\n",
       "      <td>3</td>\n",
       "      <td>1</td>\n",
       "      <td>1408468313000</td>\n",
       "      <td>0</td>\n",
       "      <td>230</td>\n",
       "    </tr>\n",
       "    <tr>\n",
       "      <th>4</th>\n",
       "      <td>4</td>\n",
       "      <td>1</td>\n",
       "      <td>1407071171000</td>\n",
       "      <td>0</td>\n",
       "      <td>162</td>\n",
       "    </tr>\n",
       "  </tbody>\n",
       "</table>\n",
       "</div>"
      ],
      "text/plain": [
       "   article_id  category_id  created_at_ts  publisher_id  words_count\n",
       "0           0            0  1513144419000             0          168\n",
       "1           1            1  1405341936000             0          189\n",
       "2           2            1  1408667706000             0          250\n",
       "3           3            1  1408468313000             0          230\n",
       "4           4            1  1407071171000             0          162"
      ]
     },
     "execution_count": 4,
     "metadata": {},
     "output_type": "execute_result"
    }
   ],
   "source": [
    "articles_df.head(5)"
   ]
  },
  {
   "cell_type": "markdown",
   "id": "0b6bad8b",
   "metadata": {
    "papermill": {
     "duration": 0.045353,
     "end_time": "2021-10-02T15:50:55.834711",
     "exception": false,
     "start_time": "2021-10-02T15:50:55.789358",
     "status": "completed"
    },
    "tags": []
   },
   "source": [
    "**articles_metadata.csv contain 5 columns :**\n",
    "* **article_id :** ID of the article\n",
    "* **category_id :** Category ID of the article\n",
    "* **created_at_ts :** Date of creation (timestamp)\n",
    "* **publisher_id :** ID of the publisher\n",
    "* **words_count :** Total word contain in the article"
   ]
  },
  {
   "cell_type": "markdown",
   "id": "e5a4fc02",
   "metadata": {
    "papermill": {
     "duration": 0.044804,
     "end_time": "2021-10-02T15:50:55.925435",
     "exception": false,
     "start_time": "2021-10-02T15:50:55.880631",
     "status": "completed"
    },
    "tags": []
   },
   "source": [
    "### Missing Values"
   ]
  },
  {
   "cell_type": "code",
   "execution_count": 5,
   "id": "cb0601d9",
   "metadata": {
    "execution": {
     "iopub.execute_input": "2021-10-02T15:50:56.020428Z",
     "iopub.status.busy": "2021-10-02T15:50:56.019359Z",
     "iopub.status.idle": "2021-10-02T15:50:57.230972Z",
     "shell.execute_reply": "2021-10-02T15:50:57.231643Z",
     "shell.execute_reply.started": "2021-10-02T15:48:58.957804Z"
    },
    "papermill": {
     "duration": 1.261039,
     "end_time": "2021-10-02T15:50:57.231826",
     "exception": false,
     "start_time": "2021-10-02T15:50:55.970787",
     "status": "completed"
    },
    "tags": []
   },
   "outputs": [
    {
     "data": {
      "image/png": "[encoded data removed]",
      "text/plain": [
       "<Figure size 1800x720 with 2 Axes>"
      ]
     },
     "metadata": {},
     "output_type": "display_data"
    }
   ],
   "source": [
    "missingno.matrix(articles_df);"
   ]
  },
  {
   "cell_type": "markdown",
   "id": "6f35e4a4",
   "metadata": {
    "papermill": {
     "duration": 0.047246,
     "end_time": "2021-10-02T15:50:57.326979",
     "exception": false,
     "start_time": "2021-10-02T15:50:57.279733",
     "status": "completed"
    },
    "tags": []
   },
   "source": [
    "No value are missing."
   ]
  },
  {
   "cell_type": "code",
   "execution_count": 6,
   "id": "2b93ab95",
   "metadata": {
    "execution": {
     "iopub.execute_input": "2021-10-02T15:50:57.429357Z",
     "iopub.status.busy": "2021-10-02T15:50:57.428664Z",
     "iopub.status.idle": "2021-10-02T15:50:57.446805Z",
     "shell.execute_reply": "2021-10-02T15:50:57.447406Z",
     "shell.execute_reply.started": "2021-10-02T15:49:00.445413Z"
    },
    "papermill": {
     "duration": 0.073277,
     "end_time": "2021-10-02T15:50:57.447569",
     "exception": false,
     "start_time": "2021-10-02T15:50:57.374292",
     "status": "completed"
    },
    "tags": []
   },
   "outputs": [
    {
     "data": {
      "text/plain": [
       "count    364047.000000\n",
       "mean        190.897727\n",
       "std          59.502766\n",
       "min           0.000000\n",
       "25%         159.000000\n",
       "50%         186.000000\n",
       "75%         218.000000\n",
       "max        6690.000000\n",
       "Name: words_count, dtype: float64"
      ]
     },
     "execution_count": 6,
     "metadata": {},
     "output_type": "execute_result"
    }
   ],
   "source": [
    "articles_df['words_count'].describe()"
   ]
  },
  {
   "cell_type": "code",
   "execution_count": 7,
   "id": "4f1560b1",
   "metadata": {
    "execution": {
     "iopub.execute_input": "2021-10-02T15:50:57.546080Z",
     "iopub.status.busy": "2021-10-02T15:50:57.545501Z",
     "iopub.status.idle": "2021-10-02T15:51:05.660708Z",
     "shell.execute_reply": "2021-10-02T15:51:05.660196Z",
     "shell.execute_reply.started": "2021-10-02T15:49:00.473133Z"
    },
    "papermill": {
     "duration": 8.165598,
     "end_time": "2021-10-02T15:51:05.660885",
     "exception": false,
     "start_time": "2021-10-02T15:50:57.495287",
     "status": "completed"
    },
    "tags": []
   },
   "outputs": [
    {
     "data": {
      "image/png": "[encoded data removed]",
      "text/plain": [
       "<Figure size 864x576 with 1 Axes>"
      ]
     },
     "metadata": {},
     "output_type": "display_data"
    }
   ],
   "source": [
    "fig, ax = plt.subplots(figsize=(12, 8))\n",
    "\n",
    "sns.histplot(articles_df['words_count'],\n",
    "            color=\"deepskyblue\",\n",
    "            edgecolor=\"black\",\n",
    "            alpha=0.7,\n",
    "            ax=ax)\n",
    "\n",
    "plt.xlim([0,400])\n",
    "plt.title('words per article distribution');\n",
    "plt.show()"
   ]
  },
  {
   "cell_type": "code",
   "execution_count": 8,
   "id": "9fb14646",
   "metadata": {
    "execution": {
     "iopub.execute_input": "2021-10-02T15:51:05.763327Z",
     "iopub.status.busy": "2021-10-02T15:51:05.762653Z",
     "iopub.status.idle": "2021-10-02T15:51:05.769660Z",
     "shell.execute_reply": "2021-10-02T15:51:05.770338Z",
     "shell.execute_reply.started": "2021-10-02T15:49:10.027644Z"
    },
    "papermill": {
     "duration": 0.059769,
     "end_time": "2021-10-02T15:51:05.770576",
     "exception": false,
     "start_time": "2021-10-02T15:51:05.710807",
     "status": "completed"
    },
    "tags": []
   },
   "outputs": [
    {
     "name": "stdout",
     "output_type": "stream",
     "text": [
      "Empty article(s) : 35\n"
     ]
    }
   ],
   "source": [
    "print(f'Empty article(s) : {articles_df[articles_df[\"words_count\"] == 0].count()[0]}')"
   ]
  },
  {
   "cell_type": "code",
   "execution_count": 9,
   "id": "0afc51e2",
   "metadata": {
    "execution": {
     "iopub.execute_input": "2021-10-02T15:51:05.872374Z",
     "iopub.status.busy": "2021-10-02T15:51:05.871738Z",
     "iopub.status.idle": "2021-10-02T15:51:06.496436Z",
     "shell.execute_reply": "2021-10-02T15:51:06.496974Z",
     "shell.execute_reply.started": "2021-10-02T15:49:10.039069Z"
    },
    "papermill": {
     "duration": 0.676756,
     "end_time": "2021-10-02T15:51:06.497151",
     "exception": false,
     "start_time": "2021-10-02T15:51:05.820395",
     "status": "completed"
    },
    "tags": []
   },
   "outputs": [
    {
     "data": {
      "image/png": "[encoded data removed]",
      "text/plain": [
       "<Figure size 864x576 with 1 Axes>"
      ]
     },
     "metadata": {},
     "output_type": "display_data"
    }
   ],
   "source": [
    "fig, ax = plt.subplots(figsize=(12, 8))\n",
    "\n",
    "sns.histplot(articles_df['category_id'],\n",
    "            color=\"deepskyblue\",\n",
    "            edgecolor=\"black\",\n",
    "            alpha=0.7,\n",
    "            ax=ax)\n",
    "\n",
    "plt.title('categories distribution');\n",
    "plt.show()"
   ]
  },
  {
   "cell_type": "markdown",
   "id": "b5873e5d",
   "metadata": {
    "papermill": {
     "duration": 0.053399,
     "end_time": "2021-10-02T15:51:06.601007",
     "exception": false,
     "start_time": "2021-10-02T15:51:06.547608",
     "status": "completed"
    },
    "tags": []
   },
   "source": [
    "## **1.2 clicks_{}.csv**"
   ]
  },
  {
   "cell_type": "markdown",
   "id": "9792aec2",
   "metadata": {
    "papermill": {
     "duration": 0.055116,
     "end_time": "2021-10-02T15:51:06.716837",
     "exception": false,
     "start_time": "2021-10-02T15:51:06.661721",
     "status": "completed"
    },
    "tags": []
   },
   "source": [
    "### Content"
   ]
  },
  {
   "cell_type": "code",
   "execution_count": 10,
   "id": "93d1b01c",
   "metadata": {
    "execution": {
     "iopub.execute_input": "2021-10-02T15:51:06.819133Z",
     "iopub.status.busy": "2021-10-02T15:51:06.818521Z",
     "iopub.status.idle": "2021-10-02T15:51:06.834065Z",
     "shell.execute_reply": "2021-10-02T15:51:06.834567Z",
     "shell.execute_reply.started": "2021-10-02T15:49:10.810041Z"
    },
    "papermill": {
     "duration": 0.068228,
     "end_time": "2021-10-02T15:51:06.834742",
     "exception": false,
     "start_time": "2021-10-02T15:51:06.766514",
     "status": "completed"
    },
    "tags": []
   },
   "outputs": [],
   "source": [
    "PATH_CLICK_SAMPLE_DATA = \"news-portal-user-interactions-by-globocom/clicks_sample.csv\"\n",
    "clicks_samp_df = pd.read_csv(PATH_CLICK_SAMPLE_DATA)"
   ]
  },
  {
   "cell_type": "code",
   "execution_count": 11,
   "id": "0c360589",
   "metadata": {
    "execution": {
     "iopub.execute_input": "2021-10-02T15:51:06.936682Z",
     "iopub.status.busy": "2021-10-02T15:51:06.936075Z",
     "iopub.status.idle": "2021-10-02T15:51:06.948407Z",
     "shell.execute_reply": "2021-10-02T15:51:06.949015Z",
     "shell.execute_reply.started": "2021-10-02T15:49:10.826683Z"
    },
    "papermill": {
     "duration": 0.064544,
     "end_time": "2021-10-02T15:51:06.949198",
     "exception": false,
     "start_time": "2021-10-02T15:51:06.884654",
     "status": "completed"
    },
    "tags": []
   },
   "outputs": [
    {
     "data": {
      "text/html": [
       "<div>\n",
       "<style scoped>\n",
       "    .dataframe tbody tr th:only-of-type {\n",
       "        vertical-align: middle;\n",
       "    }\n",
       "\n",
       "    .dataframe tbody tr th {\n",
       "        vertical-align: top;\n",
       "    }\n",
       "\n",
       "    .dataframe thead th {\n",
       "        text-align: right;\n",
       "    }\n",
       "</style>\n",
       "<table border=\"1\" class=\"dataframe\">\n",
       "  <thead>\n",
       "    <tr style=\"text-align: right;\">\n",
       "      <th></th>\n",
       "      <th>user_id</th>\n",
       "      <th>session_id</th>\n",
       "      <th>session_start</th>\n",
       "      <th>session_size</th>\n",
       "      <th>click_article_id</th>\n",
       "      <th>click_timestamp</th>\n",
       "      <th>click_environment</th>\n",
       "      <th>click_deviceGroup</th>\n",
       "      <th>click_os</th>\n",
       "      <th>click_country</th>\n",
       "      <th>click_region</th>\n",
       "      <th>click_referrer_type</th>\n",
       "    </tr>\n",
       "  </thead>\n",
       "  <tbody>\n",
       "    <tr>\n",
       "      <th>0</th>\n",
       "      <td>0</td>\n",
       "      <td>1506825423271737</td>\n",
       "      <td>1506825423000</td>\n",
       "      <td>2</td>\n",
       "      <td>157541</td>\n",
       "      <td>1506826828020</td>\n",
       "      <td>4</td>\n",
       "      <td>3</td>\n",
       "      <td>20</td>\n",
       "      <td>1</td>\n",
       "      <td>20</td>\n",
       "      <td>2</td>\n",
       "    </tr>\n",
       "    <tr>\n",
       "      <th>1</th>\n",
       "      <td>0</td>\n",
       "      <td>1506825423271737</td>\n",
       "      <td>1506825423000</td>\n",
       "      <td>2</td>\n",
       "      <td>68866</td>\n",
       "      <td>1506826858020</td>\n",
       "      <td>4</td>\n",
       "      <td>3</td>\n",
       "      <td>20</td>\n",
       "      <td>1</td>\n",
       "      <td>20</td>\n",
       "      <td>2</td>\n",
       "    </tr>\n",
       "    <tr>\n",
       "      <th>2</th>\n",
       "      <td>1</td>\n",
       "      <td>1506825426267738</td>\n",
       "      <td>1506825426000</td>\n",
       "      <td>2</td>\n",
       "      <td>235840</td>\n",
       "      <td>1506827017951</td>\n",
       "      <td>4</td>\n",
       "      <td>1</td>\n",
       "      <td>17</td>\n",
       "      <td>1</td>\n",
       "      <td>16</td>\n",
       "      <td>2</td>\n",
       "    </tr>\n",
       "    <tr>\n",
       "      <th>3</th>\n",
       "      <td>1</td>\n",
       "      <td>1506825426267738</td>\n",
       "      <td>1506825426000</td>\n",
       "      <td>2</td>\n",
       "      <td>96663</td>\n",
       "      <td>1506827047951</td>\n",
       "      <td>4</td>\n",
       "      <td>1</td>\n",
       "      <td>17</td>\n",
       "      <td>1</td>\n",
       "      <td>16</td>\n",
       "      <td>2</td>\n",
       "    </tr>\n",
       "    <tr>\n",
       "      <th>4</th>\n",
       "      <td>2</td>\n",
       "      <td>1506825435299739</td>\n",
       "      <td>1506825435000</td>\n",
       "      <td>2</td>\n",
       "      <td>119592</td>\n",
       "      <td>1506827090575</td>\n",
       "      <td>4</td>\n",
       "      <td>1</td>\n",
       "      <td>17</td>\n",
       "      <td>1</td>\n",
       "      <td>24</td>\n",
       "      <td>2</td>\n",
       "    </tr>\n",
       "  </tbody>\n",
       "</table>\n",
       "</div>"
      ],
      "text/plain": [
       "   user_id        session_id  session_start  session_size  click_article_id  \\\n",
       "0        0  1506825423271737  1506825423000             2            157541   \n",
       "1        0  1506825423271737  1506825423000             2             68866   \n",
       "2        1  1506825426267738  1506825426000             2            235840   \n",
       "3        1  1506825426267738  1506825426000             2             96663   \n",
       "4        2  1506825435299739  1506825435000             2            119592   \n",
       "\n",
       "   click_timestamp  click_environment  click_deviceGroup  click_os  \\\n",
       "0    1506826828020                  4                  3        20   \n",
       "1    1506826858020                  4                  3        20   \n",
       "2    1506827017951                  4                  1        17   \n",
       "3    1506827047951                  4                  1        17   \n",
       "4    1506827090575                  4                  1        17   \n",
       "\n",
       "   click_country  click_region  click_referrer_type  \n",
       "0              1            20                    2  \n",
       "1              1            20                    2  \n",
       "2              1            16                    2  \n",
       "3              1            16                    2  \n",
       "4              1            24                    2  "
      ]
     },
     "execution_count": 11,
     "metadata": {},
     "output_type": "execute_result"
    }
   ],
   "source": [
    "clicks_samp_df.head(5)"
   ]
  },
  {
   "cell_type": "code",
   "execution_count": 12,
   "id": "0e38a5e1",
   "metadata": {},
   "outputs": [],
   "source": [
    "for session in clicks_samp_df.session_id:\n",
    "    session_cliks = clicks_samp_df[clicks_samp_df.session_id == session]\n",
    "    "
   ]
  },
  {
   "cell_type": "code",
   "execution_count": 13,
   "id": "0cbb1cb8",
   "metadata": {},
   "outputs": [
    {
     "data": {
      "text/plain": [
       "<AxesSubplot:>"
      ]
     },
     "execution_count": 13,
     "metadata": {},
     "output_type": "execute_result"
    },
    {
     "data": {
      "image/png": "[encoded data removed]",
      "text/plain": [
       "<Figure size 432x288 with 1 Axes>"
      ]
     },
     "metadata": {},
     "output_type": "display_data"
    }
   ],
   "source": [
    "clicks_samp_df.session_size.hist()"
   ]
  },
  {
   "cell_type": "code",
   "execution_count": 14,
   "id": "03173fb4",
   "metadata": {
    "execution": {
     "iopub.execute_input": "2021-10-02T15:51:07.051851Z",
     "iopub.status.busy": "2021-10-02T15:51:07.051291Z",
     "iopub.status.idle": "2021-10-02T15:51:07.058693Z",
     "shell.execute_reply": "2021-10-02T15:51:07.058044Z",
     "shell.execute_reply.started": "2021-10-02T15:49:10.846028Z"
    },
    "papermill": {
     "duration": 0.059601,
     "end_time": "2021-10-02T15:51:07.058824",
     "exception": false,
     "start_time": "2021-10-02T15:51:06.999223",
     "status": "completed"
    },
    "tags": []
   },
   "outputs": [
    {
     "name": "stdout",
     "output_type": "stream",
     "text": [
      "user_id\n",
      "session_id\n",
      "session_start\n",
      "session_size\n",
      "click_article_id\n",
      "click_timestamp\n",
      "click_environment\n",
      "click_deviceGroup\n",
      "click_os\n",
      "click_country\n",
      "click_region\n",
      "click_referrer_type\n"
     ]
    }
   ],
   "source": [
    "[print(x) for x in clicks_samp_df.columns];"
   ]
  },
  {
   "cell_type": "markdown",
   "id": "353b9eed",
   "metadata": {
    "papermill": {
     "duration": 0.050189,
     "end_time": "2021-10-02T15:51:07.160773",
     "exception": false,
     "start_time": "2021-10-02T15:51:07.110584",
     "status": "completed"
    },
    "tags": []
   },
   "source": [
    "**clicks_{}.csv contain 12 columns :**\n",
    "* **user_id :** user ID\n",
    "* **session_id :** Session ID\n",
    "* **session_start :** Start of the session (timestamp)\n",
    "* **session_size :** number of click/session\n",
    "* **words_count :** Total word contain in the article\n",
    "* **click_article_id :** article ID user clicked\n",
    "* **click_timestamp :** When user clicked (timestamp)\n",
    "* **click_environment :** user env when click\n",
    "* **click_deviceGroup :** user device\n",
    "* **click_os :** user OS\n",
    "* **click_country :** localisation (country) when user clicked\n",
    "* **click_region :** localisation (region) when user clicked\n",
    "* **click_referrer_type :** ?"
   ]
  },
  {
   "cell_type": "markdown",
   "id": "003d0fe2",
   "metadata": {
    "papermill": {
     "duration": 0.050503,
     "end_time": "2021-10-02T15:51:07.262097",
     "exception": false,
     "start_time": "2021-10-02T15:51:07.211594",
     "status": "completed"
    },
    "tags": []
   },
   "source": [
    "### Distribution\n",
    "#### let's concat all clicks files and observe our datas"
   ]
  },
  {
   "cell_type": "code",
   "execution_count": 15,
   "id": "0ea9f15d",
   "metadata": {
    "execution": {
     "iopub.execute_input": "2021-10-02T15:51:07.370236Z",
     "iopub.status.busy": "2021-10-02T15:51:07.369580Z",
     "iopub.status.idle": "2021-10-02T15:51:14.538501Z",
     "shell.execute_reply": "2021-10-02T15:51:14.538941Z",
     "shell.execute_reply.started": "2021-10-02T15:49:10.862993Z"
    },
    "papermill": {
     "duration": 7.226663,
     "end_time": "2021-10-02T15:51:14.539122",
     "exception": false,
     "start_time": "2021-10-02T15:51:07.312459",
     "status": "completed"
    },
    "tags": []
   },
   "outputs": [
    {
     "name": "stdout",
     "output_type": "stream",
     "text": [
      "Total PATH contain in list :  385\n",
      "DataFrame shape : (2988181, 3)\n",
      "CPU times: total: 4.47 s\n",
      "Wall time: 7.34 s\n"
     ]
    }
   ],
   "source": [
    "%%time\n",
    "\n",
    "CLICK_FILES_PATH = \"news-portal-user-interactions-by-globocom/clicks/\"\n",
    "\n",
    "#Get all .csv contain in clicks folder\n",
    "click_files = [CLICK_FILES_PATH + x for x in os.listdir(CLICK_FILES_PATH)];\n",
    "\n",
    "#Sort all files PATH contain in list.\n",
    "click_files.sort()\n",
    "\n",
    "#Check if all files are present.\n",
    "print(\"Total PATH contain in list : \", len(click_files))\n",
    "\n",
    "list_click_file_to_df = [pd.read_csv(x, index_col=None, header=0) for x in click_files];\n",
    "\n",
    "#Remove unused columns\n",
    "list_click_file_to_df_cleaned = [x.drop(columns = ['session_id',\n",
    "                                                   'session_start',\n",
    "                                                   'session_size',\n",
    "                                                   #'click_timestamp',\n",
    "                                                   'click_environment',\n",
    "                                                   'click_deviceGroup',\n",
    "                                                   'click_os',\n",
    "                                                   'click_country',\n",
    "                                                   'click_region',\n",
    "                                                   'click_referrer_type']) for x in list_click_file_to_df]\n",
    "\n",
    "all_clicks_df = pd.concat(list_click_file_to_df_cleaned, axis=0, ignore_index=True)\n",
    "\n",
    "print(f\"DataFrame shape : {all_clicks_df.shape}\")"
   ]
  },
  {
   "cell_type": "code",
   "execution_count": 16,
   "id": "d09028ee",
   "metadata": {},
   "outputs": [
    {
     "data": {
      "text/html": [
       "<div>\n",
       "<style scoped>\n",
       "    .dataframe tbody tr th:only-of-type {\n",
       "        vertical-align: middle;\n",
       "    }\n",
       "\n",
       "    .dataframe tbody tr th {\n",
       "        vertical-align: top;\n",
       "    }\n",
       "\n",
       "    .dataframe thead th {\n",
       "        text-align: right;\n",
       "    }\n",
       "</style>\n",
       "<table border=\"1\" class=\"dataframe\">\n",
       "  <thead>\n",
       "    <tr style=\"text-align: right;\">\n",
       "      <th></th>\n",
       "      <th>user_id</th>\n",
       "      <th>click_article_id</th>\n",
       "      <th>click_timestamp</th>\n",
       "    </tr>\n",
       "  </thead>\n",
       "  <tbody>\n",
       "    <tr>\n",
       "      <th>0</th>\n",
       "      <td>0</td>\n",
       "      <td>157541</td>\n",
       "      <td>1506826828020</td>\n",
       "    </tr>\n",
       "    <tr>\n",
       "      <th>1</th>\n",
       "      <td>0</td>\n",
       "      <td>68866</td>\n",
       "      <td>1506826858020</td>\n",
       "    </tr>\n",
       "    <tr>\n",
       "      <th>2</th>\n",
       "      <td>1</td>\n",
       "      <td>235840</td>\n",
       "      <td>1506827017951</td>\n",
       "    </tr>\n",
       "    <tr>\n",
       "      <th>3</th>\n",
       "      <td>1</td>\n",
       "      <td>96663</td>\n",
       "      <td>1506827047951</td>\n",
       "    </tr>\n",
       "    <tr>\n",
       "      <th>4</th>\n",
       "      <td>2</td>\n",
       "      <td>119592</td>\n",
       "      <td>1506827090575</td>\n",
       "    </tr>\n",
       "    <tr>\n",
       "      <th>...</th>\n",
       "      <td>...</td>\n",
       "      <td>...</td>\n",
       "      <td>...</td>\n",
       "    </tr>\n",
       "    <tr>\n",
       "      <th>2988176</th>\n",
       "      <td>10051</td>\n",
       "      <td>84911</td>\n",
       "      <td>1508211557302</td>\n",
       "    </tr>\n",
       "    <tr>\n",
       "      <th>2988177</th>\n",
       "      <td>322896</td>\n",
       "      <td>30760</td>\n",
       "      <td>1508211672520</td>\n",
       "    </tr>\n",
       "    <tr>\n",
       "      <th>2988178</th>\n",
       "      <td>322896</td>\n",
       "      <td>157507</td>\n",
       "      <td>1508211702520</td>\n",
       "    </tr>\n",
       "    <tr>\n",
       "      <th>2988179</th>\n",
       "      <td>123718</td>\n",
       "      <td>234481</td>\n",
       "      <td>1508211513583</td>\n",
       "    </tr>\n",
       "    <tr>\n",
       "      <th>2988180</th>\n",
       "      <td>123718</td>\n",
       "      <td>233578</td>\n",
       "      <td>1508211543583</td>\n",
       "    </tr>\n",
       "  </tbody>\n",
       "</table>\n",
       "<p>2988181 rows × 3 columns</p>\n",
       "</div>"
      ],
      "text/plain": [
       "        user_id click_article_id click_timestamp\n",
       "0             0           157541   1506826828020\n",
       "1             0            68866   1506826858020\n",
       "2             1           235840   1506827017951\n",
       "3             1            96663   1506827047951\n",
       "4             2           119592   1506827090575\n",
       "...         ...              ...             ...\n",
       "2988176   10051            84911   1508211557302\n",
       "2988177  322896            30760   1508211672520\n",
       "2988178  322896           157507   1508211702520\n",
       "2988179  123718           234481   1508211513583\n",
       "2988180  123718           233578   1508211543583\n",
       "\n",
       "[2988181 rows x 3 columns]"
      ]
     },
     "execution_count": 16,
     "metadata": {},
     "output_type": "execute_result"
    }
   ],
   "source": [
    "all_clicks_df"
   ]
  },
  {
   "cell_type": "code",
   "execution_count": 17,
   "id": "9cd40065",
   "metadata": {},
   "outputs": [],
   "source": [
    "articles = all_clicks_df.click_article_id.value_counts().index\n",
    "articles_df = articles_df.iloc[articles]"
   ]
  },
  {
   "cell_type": "markdown",
   "id": "2747ca2f",
   "metadata": {
    "papermill": {
     "duration": 0.051837,
     "end_time": "2021-10-02T15:51:14.642955",
     "exception": false,
     "start_time": "2021-10-02T15:51:14.591118",
     "status": "completed"
    },
    "tags": []
   },
   "source": [
    "# 2. Build our Recommendation Models\n",
    "\n",
    "**[Helpful link : build-recommendation-engine-collaborative-filtering](https://realpython.com/build-recommendation-engine-collaborative-filtering/)**"
   ]
  },
  {
   "cell_type": "markdown",
   "id": "25642a15",
   "metadata": {
    "papermill": {
     "duration": 0.05329,
     "end_time": "2021-10-02T15:51:14.748873",
     "exception": false,
     "start_time": "2021-10-02T15:51:14.695583",
     "status": "completed"
    },
    "tags": []
   },
   "source": [
    "## 2.1 Data Preparation\n",
    "For our recommendation model we need to find a scoring system to help the model understand the preferences of each user.\n",
    "\n",
    "I decided to proceed like that : **Rating = Total_Click_Per_Cat_By_User / Total_Click_Done_By_User**"
   ]
  },
  {
   "cell_type": "code",
   "execution_count": 18,
   "id": "a6005157",
   "metadata": {},
   "outputs": [
    {
     "data": {
      "text/plain": [
       "2988181"
      ]
     },
     "execution_count": 18,
     "metadata": {},
     "output_type": "execute_result"
    }
   ],
   "source": [
    "len(all_clicks_df)"
   ]
  },
  {
   "cell_type": "code",
   "execution_count": 19,
   "id": "1d08a1e2",
   "metadata": {
    "execution": {
     "iopub.execute_input": "2021-10-02T15:51:14.854820Z",
     "iopub.status.busy": "2021-10-02T15:51:14.854187Z",
     "iopub.status.idle": "2021-10-02T15:51:21.245064Z",
     "shell.execute_reply": "2021-10-02T15:51:21.245614Z",
     "shell.execute_reply.started": "2021-10-02T15:49:18.332255Z"
    },
    "papermill": {
     "duration": 6.444884,
     "end_time": "2021-10-02T15:51:21.245782",
     "exception": false,
     "start_time": "2021-10-02T15:51:14.800898",
     "status": "completed"
    },
    "tags": []
   },
   "outputs": [
    {
     "name": "stdout",
     "output_type": "stream",
     "text": [
      "Shape before dropping duplicate : (2988181, 9)\n",
      "Shape after dropping duplicate : (2988181, 9)\n"
     ]
    }
   ],
   "source": [
    "#Create a map to convert article_id to category\n",
    "dict_article_categories = articles_df.set_index('article_id')['category_id'].to_dict()\n",
    "\n",
    "all_clicks_df['total_click'] = all_clicks_df.groupby(['user_id'])['click_article_id'].transform('count')\n",
    "all_clicks_df['total_click_on_article_id'] = all_clicks_df.groupby(['user_id','click_article_id'])['click_article_id'].transform('count')\n",
    "all_clicks_df['art_rating'] = all_clicks_df['total_click_on_article_id'] / all_clicks_df['total_click']\n",
    "\n",
    "#Get Categorie associate for each article\n",
    "all_clicks_df['category_id'] = all_clicks_df['click_article_id'].map(dict_article_categories).astype(int)\n",
    "all_clicks_df['total_click_by_category_id'] = all_clicks_df.groupby(['user_id','category_id'])['click_article_id'].transform('count')\n",
    "all_clicks_df['cat_rating'] = all_clicks_df['total_click_by_category_id'] / all_clicks_df['total_click']\n",
    "\n",
    "print(f'Shape before dropping duplicate : {all_clicks_df.shape}')\n",
    "#all_clicks_df = all_clicks_df.drop(['click_article_id'], axis=1)\n",
    "all_clicks_df = all_clicks_df.drop_duplicates()\n",
    "print(f'Shape after dropping duplicate : {all_clicks_df.shape}')"
   ]
  },
  {
   "cell_type": "code",
   "execution_count": 20,
   "id": "144e17a1",
   "metadata": {},
   "outputs": [
    {
     "data": {
      "text/html": [
       "<div>\n",
       "<style scoped>\n",
       "    .dataframe tbody tr th:only-of-type {\n",
       "        vertical-align: middle;\n",
       "    }\n",
       "\n",
       "    .dataframe tbody tr th {\n",
       "        vertical-align: top;\n",
       "    }\n",
       "\n",
       "    .dataframe thead th {\n",
       "        text-align: right;\n",
       "    }\n",
       "</style>\n",
       "<table border=\"1\" class=\"dataframe\">\n",
       "  <thead>\n",
       "    <tr style=\"text-align: right;\">\n",
       "      <th></th>\n",
       "      <th>user_id</th>\n",
       "      <th>click_article_id</th>\n",
       "      <th>click_timestamp</th>\n",
       "      <th>total_click</th>\n",
       "      <th>total_click_on_article_id</th>\n",
       "      <th>art_rating</th>\n",
       "      <th>category_id</th>\n",
       "      <th>total_click_by_category_id</th>\n",
       "      <th>cat_rating</th>\n",
       "    </tr>\n",
       "  </thead>\n",
       "  <tbody>\n",
       "    <tr>\n",
       "      <th>0</th>\n",
       "      <td>0</td>\n",
       "      <td>157541</td>\n",
       "      <td>1506826828020</td>\n",
       "      <td>8</td>\n",
       "      <td>1</td>\n",
       "      <td>0.125000</td>\n",
       "      <td>281</td>\n",
       "      <td>2</td>\n",
       "      <td>0.250000</td>\n",
       "    </tr>\n",
       "    <tr>\n",
       "      <th>1</th>\n",
       "      <td>0</td>\n",
       "      <td>68866</td>\n",
       "      <td>1506826858020</td>\n",
       "      <td>8</td>\n",
       "      <td>1</td>\n",
       "      <td>0.125000</td>\n",
       "      <td>136</td>\n",
       "      <td>1</td>\n",
       "      <td>0.125000</td>\n",
       "    </tr>\n",
       "    <tr>\n",
       "      <th>2</th>\n",
       "      <td>1</td>\n",
       "      <td>235840</td>\n",
       "      <td>1506827017951</td>\n",
       "      <td>12</td>\n",
       "      <td>1</td>\n",
       "      <td>0.083333</td>\n",
       "      <td>375</td>\n",
       "      <td>2</td>\n",
       "      <td>0.166667</td>\n",
       "    </tr>\n",
       "    <tr>\n",
       "      <th>3</th>\n",
       "      <td>1</td>\n",
       "      <td>96663</td>\n",
       "      <td>1506827047951</td>\n",
       "      <td>12</td>\n",
       "      <td>1</td>\n",
       "      <td>0.083333</td>\n",
       "      <td>209</td>\n",
       "      <td>1</td>\n",
       "      <td>0.083333</td>\n",
       "    </tr>\n",
       "    <tr>\n",
       "      <th>4</th>\n",
       "      <td>2</td>\n",
       "      <td>119592</td>\n",
       "      <td>1506827090575</td>\n",
       "      <td>4</td>\n",
       "      <td>1</td>\n",
       "      <td>0.250000</td>\n",
       "      <td>247</td>\n",
       "      <td>1</td>\n",
       "      <td>0.250000</td>\n",
       "    </tr>\n",
       "    <tr>\n",
       "      <th>...</th>\n",
       "      <td>...</td>\n",
       "      <td>...</td>\n",
       "      <td>...</td>\n",
       "      <td>...</td>\n",
       "      <td>...</td>\n",
       "      <td>...</td>\n",
       "      <td>...</td>\n",
       "      <td>...</td>\n",
       "      <td>...</td>\n",
       "    </tr>\n",
       "    <tr>\n",
       "      <th>2988176</th>\n",
       "      <td>10051</td>\n",
       "      <td>84911</td>\n",
       "      <td>1508211557302</td>\n",
       "      <td>49</td>\n",
       "      <td>1</td>\n",
       "      <td>0.020408</td>\n",
       "      <td>174</td>\n",
       "      <td>15</td>\n",
       "      <td>0.306122</td>\n",
       "    </tr>\n",
       "    <tr>\n",
       "      <th>2988177</th>\n",
       "      <td>322896</td>\n",
       "      <td>30760</td>\n",
       "      <td>1508211672520</td>\n",
       "      <td>2</td>\n",
       "      <td>1</td>\n",
       "      <td>0.500000</td>\n",
       "      <td>26</td>\n",
       "      <td>1</td>\n",
       "      <td>0.500000</td>\n",
       "    </tr>\n",
       "    <tr>\n",
       "      <th>2988178</th>\n",
       "      <td>322896</td>\n",
       "      <td>157507</td>\n",
       "      <td>1508211702520</td>\n",
       "      <td>2</td>\n",
       "      <td>1</td>\n",
       "      <td>0.500000</td>\n",
       "      <td>281</td>\n",
       "      <td>1</td>\n",
       "      <td>0.500000</td>\n",
       "    </tr>\n",
       "    <tr>\n",
       "      <th>2988179</th>\n",
       "      <td>123718</td>\n",
       "      <td>234481</td>\n",
       "      <td>1508211513583</td>\n",
       "      <td>14</td>\n",
       "      <td>1</td>\n",
       "      <td>0.071429</td>\n",
       "      <td>375</td>\n",
       "      <td>8</td>\n",
       "      <td>0.571429</td>\n",
       "    </tr>\n",
       "    <tr>\n",
       "      <th>2988180</th>\n",
       "      <td>123718</td>\n",
       "      <td>233578</td>\n",
       "      <td>1508211543583</td>\n",
       "      <td>14</td>\n",
       "      <td>1</td>\n",
       "      <td>0.071429</td>\n",
       "      <td>375</td>\n",
       "      <td>8</td>\n",
       "      <td>0.571429</td>\n",
       "    </tr>\n",
       "  </tbody>\n",
       "</table>\n",
       "<p>2988181 rows × 9 columns</p>\n",
       "</div>"
      ],
      "text/plain": [
       "        user_id click_article_id click_timestamp  total_click  \\\n",
       "0             0           157541   1506826828020            8   \n",
       "1             0            68866   1506826858020            8   \n",
       "2             1           235840   1506827017951           12   \n",
       "3             1            96663   1506827047951           12   \n",
       "4             2           119592   1506827090575            4   \n",
       "...         ...              ...             ...          ...   \n",
       "2988176   10051            84911   1508211557302           49   \n",
       "2988177  322896            30760   1508211672520            2   \n",
       "2988178  322896           157507   1508211702520            2   \n",
       "2988179  123718           234481   1508211513583           14   \n",
       "2988180  123718           233578   1508211543583           14   \n",
       "\n",
       "         total_click_on_article_id  art_rating  category_id  \\\n",
       "0                                1    0.125000          281   \n",
       "1                                1    0.125000          136   \n",
       "2                                1    0.083333          375   \n",
       "3                                1    0.083333          209   \n",
       "4                                1    0.250000          247   \n",
       "...                            ...         ...          ...   \n",
       "2988176                          1    0.020408          174   \n",
       "2988177                          1    0.500000           26   \n",
       "2988178                          1    0.500000          281   \n",
       "2988179                          1    0.071429          375   \n",
       "2988180                          1    0.071429          375   \n",
       "\n",
       "         total_click_by_category_id  cat_rating  \n",
       "0                                 2    0.250000  \n",
       "1                                 1    0.125000  \n",
       "2                                 2    0.166667  \n",
       "3                                 1    0.083333  \n",
       "4                                 1    0.250000  \n",
       "...                             ...         ...  \n",
       "2988176                          15    0.306122  \n",
       "2988177                           1    0.500000  \n",
       "2988178                           1    0.500000  \n",
       "2988179                           8    0.571429  \n",
       "2988180                           8    0.571429  \n",
       "\n",
       "[2988181 rows x 9 columns]"
      ]
     },
     "execution_count": 20,
     "metadata": {},
     "output_type": "execute_result"
    }
   ],
   "source": [
    "all_clicks_df"
   ]
  },
  {
   "cell_type": "code",
   "execution_count": 21,
   "id": "f70d0803",
   "metadata": {
    "execution": {
     "iopub.execute_input": "2021-10-02T15:51:21.351549Z",
     "iopub.status.busy": "2021-10-02T15:51:21.350949Z",
     "iopub.status.idle": "2021-10-02T15:51:21.674208Z",
     "shell.execute_reply": "2021-10-02T15:51:21.674664Z",
     "shell.execute_reply.started": "2021-10-02T15:49:26.582914Z"
    },
    "papermill": {
     "duration": 0.377956,
     "end_time": "2021-10-02T15:51:21.674829",
     "exception": false,
     "start_time": "2021-10-02T15:51:21.296873",
     "status": "completed"
    },
    "tags": []
   },
   "outputs": [
    {
     "data": {
      "text/html": [
       "<div>\n",
       "<style scoped>\n",
       "    .dataframe tbody tr th:only-of-type {\n",
       "        vertical-align: middle;\n",
       "    }\n",
       "\n",
       "    .dataframe tbody tr th {\n",
       "        vertical-align: top;\n",
       "    }\n",
       "\n",
       "    .dataframe thead th {\n",
       "        text-align: right;\n",
       "    }\n",
       "</style>\n",
       "<table border=\"1\" class=\"dataframe\">\n",
       "  <thead>\n",
       "    <tr style=\"text-align: right;\">\n",
       "      <th></th>\n",
       "      <th>user_id</th>\n",
       "      <th>click_article_id</th>\n",
       "      <th>click_timestamp</th>\n",
       "      <th>art_rating</th>\n",
       "      <th>category_id</th>\n",
       "      <th>cat_rating</th>\n",
       "    </tr>\n",
       "  </thead>\n",
       "  <tbody>\n",
       "    <tr>\n",
       "      <th>0</th>\n",
       "      <td>0</td>\n",
       "      <td>157541</td>\n",
       "      <td>1506826828020</td>\n",
       "      <td>0.125</td>\n",
       "      <td>281</td>\n",
       "      <td>0.250</td>\n",
       "    </tr>\n",
       "    <tr>\n",
       "      <th>1</th>\n",
       "      <td>0</td>\n",
       "      <td>68866</td>\n",
       "      <td>1506826858020</td>\n",
       "      <td>0.125</td>\n",
       "      <td>136</td>\n",
       "      <td>0.125</td>\n",
       "    </tr>\n",
       "    <tr>\n",
       "      <th>1287361</th>\n",
       "      <td>0</td>\n",
       "      <td>96755</td>\n",
       "      <td>1507340033155</td>\n",
       "      <td>0.125</td>\n",
       "      <td>209</td>\n",
       "      <td>0.125</td>\n",
       "    </tr>\n",
       "    <tr>\n",
       "      <th>1287362</th>\n",
       "      <td>0</td>\n",
       "      <td>313996</td>\n",
       "      <td>1507340063155</td>\n",
       "      <td>0.125</td>\n",
       "      <td>431</td>\n",
       "      <td>0.125</td>\n",
       "    </tr>\n",
       "    <tr>\n",
       "      <th>1352197</th>\n",
       "      <td>0</td>\n",
       "      <td>160158</td>\n",
       "      <td>1507388090915</td>\n",
       "      <td>0.125</td>\n",
       "      <td>281</td>\n",
       "      <td>0.250</td>\n",
       "    </tr>\n",
       "    <tr>\n",
       "      <th>1352198</th>\n",
       "      <td>0</td>\n",
       "      <td>233470</td>\n",
       "      <td>1507388120915</td>\n",
       "      <td>0.125</td>\n",
       "      <td>375</td>\n",
       "      <td>0.125</td>\n",
       "    </tr>\n",
       "    <tr>\n",
       "      <th>1535240</th>\n",
       "      <td>0</td>\n",
       "      <td>87224</td>\n",
       "      <td>1507514056617</td>\n",
       "      <td>0.125</td>\n",
       "      <td>186</td>\n",
       "      <td>0.250</td>\n",
       "    </tr>\n",
       "    <tr>\n",
       "      <th>1535241</th>\n",
       "      <td>0</td>\n",
       "      <td>87205</td>\n",
       "      <td>1507514086617</td>\n",
       "      <td>0.125</td>\n",
       "      <td>186</td>\n",
       "      <td>0.250</td>\n",
       "    </tr>\n",
       "  </tbody>\n",
       "</table>\n",
       "</div>"
      ],
      "text/plain": [
       "        user_id click_article_id click_timestamp  art_rating  category_id  \\\n",
       "0             0           157541   1506826828020       0.125          281   \n",
       "1             0            68866   1506826858020       0.125          136   \n",
       "1287361       0            96755   1507340033155       0.125          209   \n",
       "1287362       0           313996   1507340063155       0.125          431   \n",
       "1352197       0           160158   1507388090915       0.125          281   \n",
       "1352198       0           233470   1507388120915       0.125          375   \n",
       "1535240       0            87224   1507514056617       0.125          186   \n",
       "1535241       0            87205   1507514086617       0.125          186   \n",
       "\n",
       "         cat_rating  \n",
       "0             0.250  \n",
       "1             0.125  \n",
       "1287361       0.125  \n",
       "1287362       0.125  \n",
       "1352197       0.250  \n",
       "1352198       0.125  \n",
       "1535240       0.250  \n",
       "1535241       0.250  "
      ]
     },
     "execution_count": 21,
     "metadata": {},
     "output_type": "execute_result"
    }
   ],
   "source": [
    "#Remove unused columns\n",
    "all_clicks_df = all_clicks_df.drop(['total_click', 'total_click_by_category_id', 'total_click_on_article_id'], axis=1)\n",
    "\n",
    "all_clicks_df[all_clicks_df['user_id'] == 0]"
   ]
  },
  {
   "cell_type": "code",
   "execution_count": 22,
   "id": "dd65cd75",
   "metadata": {},
   "outputs": [
    {
     "data": {
      "text/plain": [
       "<AxesSubplot:>"
      ]
     },
     "execution_count": 22,
     "metadata": {},
     "output_type": "execute_result"
    },
    {
     "data": {
      "image/png": "[encoded data removed]",
      "text/plain": [
       "<Figure size 432x288 with 1 Axes>"
      ]
     },
     "metadata": {},
     "output_type": "display_data"
    }
   ],
   "source": [
    "import scipy\n",
    "all_clicks_df['hmean_rating'] = scipy.stats.hmean(all_clicks_df[['cat_rating', 'art_rating']], axis=1)\n",
    "all_clicks_df['hmean_rating'].hist()"
   ]
  },
  {
   "cell_type": "code",
   "execution_count": 23,
   "id": "d944ab5f",
   "metadata": {},
   "outputs": [
    {
     "data": {
      "text/plain": [
       "<AxesSubplot:>"
      ]
     },
     "execution_count": 23,
     "metadata": {},
     "output_type": "execute_result"
    },
    {
     "data": {
      "image/png": "[encoded data removed]",
      "text/plain": [
       "<Figure size 432x288 with 1 Axes>"
      ]
     },
     "metadata": {},
     "output_type": "display_data"
    }
   ],
   "source": [
    "all_clicks_df['mean_rating'] = all_clicks_df[['cat_rating', 'art_rating']].mean(axis=1)\n",
    "all_clicks_df['mean_rating'].hist()"
   ]
  },
  {
   "cell_type": "markdown",
   "id": "d4c7fd9e",
   "metadata": {
    "papermill": {
     "duration": 0.052748,
     "end_time": "2021-10-02T15:51:21.782272",
     "exception": false,
     "start_time": "2021-10-02T15:51:21.729524",
     "status": "completed"
    },
    "tags": []
   },
   "source": [
    "We don't need Total_click and total_click_by_category_id anymore."
   ]
  },
  {
   "cell_type": "code",
   "execution_count": 24,
   "id": "4cddd4c7",
   "metadata": {},
   "outputs": [
    {
     "data": {
      "text/html": [
       "<div>\n",
       "<style scoped>\n",
       "    .dataframe tbody tr th:only-of-type {\n",
       "        vertical-align: middle;\n",
       "    }\n",
       "\n",
       "    .dataframe tbody tr th {\n",
       "        vertical-align: top;\n",
       "    }\n",
       "\n",
       "    .dataframe thead th {\n",
       "        text-align: right;\n",
       "    }\n",
       "</style>\n",
       "<table border=\"1\" class=\"dataframe\">\n",
       "  <thead>\n",
       "    <tr style=\"text-align: right;\">\n",
       "      <th></th>\n",
       "      <th>user_id</th>\n",
       "      <th>click_article_id</th>\n",
       "      <th>click_timestamp</th>\n",
       "      <th>art_rating</th>\n",
       "      <th>category_id</th>\n",
       "      <th>cat_rating</th>\n",
       "      <th>hmean_rating</th>\n",
       "      <th>mean_rating</th>\n",
       "    </tr>\n",
       "  </thead>\n",
       "  <tbody>\n",
       "    <tr>\n",
       "      <th>0</th>\n",
       "      <td>0</td>\n",
       "      <td>157541</td>\n",
       "      <td>1506826828020</td>\n",
       "      <td>0.125000</td>\n",
       "      <td>281</td>\n",
       "      <td>0.250000</td>\n",
       "      <td>0.166667</td>\n",
       "      <td>0.187500</td>\n",
       "    </tr>\n",
       "    <tr>\n",
       "      <th>1</th>\n",
       "      <td>0</td>\n",
       "      <td>68866</td>\n",
       "      <td>1506826858020</td>\n",
       "      <td>0.125000</td>\n",
       "      <td>136</td>\n",
       "      <td>0.125000</td>\n",
       "      <td>0.125000</td>\n",
       "      <td>0.125000</td>\n",
       "    </tr>\n",
       "    <tr>\n",
       "      <th>2</th>\n",
       "      <td>1</td>\n",
       "      <td>235840</td>\n",
       "      <td>1506827017951</td>\n",
       "      <td>0.083333</td>\n",
       "      <td>375</td>\n",
       "      <td>0.166667</td>\n",
       "      <td>0.111111</td>\n",
       "      <td>0.125000</td>\n",
       "    </tr>\n",
       "    <tr>\n",
       "      <th>3</th>\n",
       "      <td>1</td>\n",
       "      <td>96663</td>\n",
       "      <td>1506827047951</td>\n",
       "      <td>0.083333</td>\n",
       "      <td>209</td>\n",
       "      <td>0.083333</td>\n",
       "      <td>0.083333</td>\n",
       "      <td>0.083333</td>\n",
       "    </tr>\n",
       "    <tr>\n",
       "      <th>4</th>\n",
       "      <td>2</td>\n",
       "      <td>119592</td>\n",
       "      <td>1506827090575</td>\n",
       "      <td>0.250000</td>\n",
       "      <td>247</td>\n",
       "      <td>0.250000</td>\n",
       "      <td>0.250000</td>\n",
       "      <td>0.250000</td>\n",
       "    </tr>\n",
       "    <tr>\n",
       "      <th>...</th>\n",
       "      <td>...</td>\n",
       "      <td>...</td>\n",
       "      <td>...</td>\n",
       "      <td>...</td>\n",
       "      <td>...</td>\n",
       "      <td>...</td>\n",
       "      <td>...</td>\n",
       "      <td>...</td>\n",
       "    </tr>\n",
       "    <tr>\n",
       "      <th>2988176</th>\n",
       "      <td>10051</td>\n",
       "      <td>84911</td>\n",
       "      <td>1508211557302</td>\n",
       "      <td>0.020408</td>\n",
       "      <td>174</td>\n",
       "      <td>0.306122</td>\n",
       "      <td>0.038265</td>\n",
       "      <td>0.163265</td>\n",
       "    </tr>\n",
       "    <tr>\n",
       "      <th>2988177</th>\n",
       "      <td>322896</td>\n",
       "      <td>30760</td>\n",
       "      <td>1508211672520</td>\n",
       "      <td>0.500000</td>\n",
       "      <td>26</td>\n",
       "      <td>0.500000</td>\n",
       "      <td>0.500000</td>\n",
       "      <td>0.500000</td>\n",
       "    </tr>\n",
       "    <tr>\n",
       "      <th>2988178</th>\n",
       "      <td>322896</td>\n",
       "      <td>157507</td>\n",
       "      <td>1508211702520</td>\n",
       "      <td>0.500000</td>\n",
       "      <td>281</td>\n",
       "      <td>0.500000</td>\n",
       "      <td>0.500000</td>\n",
       "      <td>0.500000</td>\n",
       "    </tr>\n",
       "    <tr>\n",
       "      <th>2988179</th>\n",
       "      <td>123718</td>\n",
       "      <td>234481</td>\n",
       "      <td>1508211513583</td>\n",
       "      <td>0.071429</td>\n",
       "      <td>375</td>\n",
       "      <td>0.571429</td>\n",
       "      <td>0.126984</td>\n",
       "      <td>0.321429</td>\n",
       "    </tr>\n",
       "    <tr>\n",
       "      <th>2988180</th>\n",
       "      <td>123718</td>\n",
       "      <td>233578</td>\n",
       "      <td>1508211543583</td>\n",
       "      <td>0.071429</td>\n",
       "      <td>375</td>\n",
       "      <td>0.571429</td>\n",
       "      <td>0.126984</td>\n",
       "      <td>0.321429</td>\n",
       "    </tr>\n",
       "  </tbody>\n",
       "</table>\n",
       "<p>2988181 rows × 8 columns</p>\n",
       "</div>"
      ],
      "text/plain": [
       "        user_id click_article_id click_timestamp  art_rating  category_id  \\\n",
       "0             0           157541   1506826828020    0.125000          281   \n",
       "1             0            68866   1506826858020    0.125000          136   \n",
       "2             1           235840   1506827017951    0.083333          375   \n",
       "3             1            96663   1506827047951    0.083333          209   \n",
       "4             2           119592   1506827090575    0.250000          247   \n",
       "...         ...              ...             ...         ...          ...   \n",
       "2988176   10051            84911   1508211557302    0.020408          174   \n",
       "2988177  322896            30760   1508211672520    0.500000           26   \n",
       "2988178  322896           157507   1508211702520    0.500000          281   \n",
       "2988179  123718           234481   1508211513583    0.071429          375   \n",
       "2988180  123718           233578   1508211543583    0.071429          375   \n",
       "\n",
       "         cat_rating  hmean_rating  mean_rating  \n",
       "0          0.250000      0.166667     0.187500  \n",
       "1          0.125000      0.125000     0.125000  \n",
       "2          0.166667      0.111111     0.125000  \n",
       "3          0.083333      0.083333     0.083333  \n",
       "4          0.250000      0.250000     0.250000  \n",
       "...             ...           ...          ...  \n",
       "2988176    0.306122      0.038265     0.163265  \n",
       "2988177    0.500000      0.500000     0.500000  \n",
       "2988178    0.500000      0.500000     0.500000  \n",
       "2988179    0.571429      0.126984     0.321429  \n",
       "2988180    0.571429      0.126984     0.321429  \n",
       "\n",
       "[2988181 rows x 8 columns]"
      ]
     },
     "execution_count": 24,
     "metadata": {},
     "output_type": "execute_result"
    }
   ],
   "source": [
    "all_clicks_df"
   ]
  },
  {
   "cell_type": "code",
   "execution_count": 25,
   "id": "e6613f72",
   "metadata": {},
   "outputs": [
    {
     "data": {
      "text/html": [
       "<div>\n",
       "<style scoped>\n",
       "    .dataframe tbody tr th:only-of-type {\n",
       "        vertical-align: middle;\n",
       "    }\n",
       "\n",
       "    .dataframe tbody tr th {\n",
       "        vertical-align: top;\n",
       "    }\n",
       "\n",
       "    .dataframe thead th {\n",
       "        text-align: right;\n",
       "    }\n",
       "</style>\n",
       "<table border=\"1\" class=\"dataframe\">\n",
       "  <thead>\n",
       "    <tr style=\"text-align: right;\">\n",
       "      <th></th>\n",
       "      <th>user_id</th>\n",
       "      <th>click_article_id</th>\n",
       "      <th>click_timestamp</th>\n",
       "      <th>hmean_rating</th>\n",
       "    </tr>\n",
       "  </thead>\n",
       "  <tbody>\n",
       "    <tr>\n",
       "      <th>0</th>\n",
       "      <td>0</td>\n",
       "      <td>157541</td>\n",
       "      <td>1506826828020</td>\n",
       "      <td>0.166667</td>\n",
       "    </tr>\n",
       "    <tr>\n",
       "      <th>1</th>\n",
       "      <td>0</td>\n",
       "      <td>68866</td>\n",
       "      <td>1506826858020</td>\n",
       "      <td>0.125000</td>\n",
       "    </tr>\n",
       "    <tr>\n",
       "      <th>1287361</th>\n",
       "      <td>0</td>\n",
       "      <td>96755</td>\n",
       "      <td>1507340033155</td>\n",
       "      <td>0.125000</td>\n",
       "    </tr>\n",
       "    <tr>\n",
       "      <th>1287362</th>\n",
       "      <td>0</td>\n",
       "      <td>313996</td>\n",
       "      <td>1507340063155</td>\n",
       "      <td>0.125000</td>\n",
       "    </tr>\n",
       "    <tr>\n",
       "      <th>1352197</th>\n",
       "      <td>0</td>\n",
       "      <td>160158</td>\n",
       "      <td>1507388090915</td>\n",
       "      <td>0.166667</td>\n",
       "    </tr>\n",
       "    <tr>\n",
       "      <th>1352198</th>\n",
       "      <td>0</td>\n",
       "      <td>233470</td>\n",
       "      <td>1507388120915</td>\n",
       "      <td>0.125000</td>\n",
       "    </tr>\n",
       "    <tr>\n",
       "      <th>1535240</th>\n",
       "      <td>0</td>\n",
       "      <td>87224</td>\n",
       "      <td>1507514056617</td>\n",
       "      <td>0.166667</td>\n",
       "    </tr>\n",
       "    <tr>\n",
       "      <th>1535241</th>\n",
       "      <td>0</td>\n",
       "      <td>87205</td>\n",
       "      <td>1507514086617</td>\n",
       "      <td>0.166667</td>\n",
       "    </tr>\n",
       "  </tbody>\n",
       "</table>\n",
       "</div>"
      ],
      "text/plain": [
       "        user_id click_article_id click_timestamp  hmean_rating\n",
       "0             0           157541   1506826828020      0.166667\n",
       "1             0            68866   1506826858020      0.125000\n",
       "1287361       0            96755   1507340033155      0.125000\n",
       "1287362       0           313996   1507340063155      0.125000\n",
       "1352197       0           160158   1507388090915      0.166667\n",
       "1352198       0           233470   1507388120915      0.125000\n",
       "1535240       0            87224   1507514056617      0.166667\n",
       "1535241       0            87205   1507514086617      0.166667"
      ]
     },
     "execution_count": 25,
     "metadata": {},
     "output_type": "execute_result"
    }
   ],
   "source": [
    "#Remove unused columns\n",
    "all_clicks_df = all_clicks_df.drop(['category_id', 'art_rating', 'cat_rating', 'mean_rating'], axis=1)\n",
    "\n",
    "all_clicks_df[all_clicks_df['user_id'] == 0]"
   ]
  },
  {
   "cell_type": "code",
   "execution_count": 26,
   "id": "95d5612e",
   "metadata": {},
   "outputs": [],
   "source": [
    "all_clicks_df['nb_cliks_user'] = all_clicks_df.groupby('user_id')['user_id'].transform('count')"
   ]
  },
  {
   "cell_type": "code",
   "execution_count": 27,
   "id": "91e94c0f",
   "metadata": {},
   "outputs": [
    {
     "data": {
      "text/plain": [
       "\"\\n#keep ~42 000 users to build our model.\\ndf = all_clicks_df[all_clicks_df['user_id'] < 42000]\\nprint(f'size of our sample : {df.shape}')\\n\""
      ]
     },
     "execution_count": 27,
     "metadata": {},
     "output_type": "execute_result"
    }
   ],
   "source": [
    "\"\"\"\n",
    "#keep ~42 000 users to build our model.\n",
    "df = all_clicks_df[all_clicks_df['user_id'] < 42000]\n",
    "print(f'size of our sample : {df.shape}')\n",
    "\"\"\""
   ]
  },
  {
   "cell_type": "code",
   "execution_count": 28,
   "id": "46a6ef0f",
   "metadata": {
    "execution": {
     "iopub.execute_input": "2021-10-02T15:51:21.891294Z",
     "iopub.status.busy": "2021-10-02T15:51:21.890713Z",
     "iopub.status.idle": "2021-10-02T15:51:22.136669Z",
     "shell.execute_reply": "2021-10-02T15:51:22.137244Z",
     "shell.execute_reply.started": "2021-10-02T15:49:26.945297Z"
    },
    "papermill": {
     "duration": 0.301028,
     "end_time": "2021-10-02T15:51:22.137432",
     "exception": false,
     "start_time": "2021-10-02T15:51:21.836404",
     "status": "completed"
    },
    "tags": []
   },
   "outputs": [
    {
     "name": "stdout",
     "output_type": "stream",
     "text": [
      "size of our sample : (1340326, 5)\n"
     ]
    }
   ],
   "source": [
    "#keep only users who clicked on more than 20 articles\n",
    "df = all_clicks_df[all_clicks_df['nb_cliks_user'] > 20]\n",
    "print(f'size of our sample : {df.shape}')"
   ]
  },
  {
   "cell_type": "code",
   "execution_count": 42,
   "id": "ba162e9d",
   "metadata": {},
   "outputs": [
    {
     "name": "stdout",
     "output_type": "stream",
     "text": [
      "number of users : 33292\n",
      "number of articles : 26287\n"
     ]
    }
   ],
   "source": [
    "users = df.user_id.unique().astype(int)\n",
    "articles = df.click_article_id.unique().astype(int)\n",
    "print('number of users :', len(users))\n",
    "print('number of articles :', len(articles))"
   ]
  },
  {
   "cell_type": "code",
   "execution_count": 30,
   "id": "1362f447",
   "metadata": {},
   "outputs": [
    {
     "data": {
      "text/plain": [
       "<AxesSubplot:ylabel='Count'>"
      ]
     },
     "execution_count": 30,
     "metadata": {},
     "output_type": "execute_result"
    },
    {
     "data": {
      "image/png": "[encoded data removed]",
      "text/plain": [
       "<Figure size 432x288 with 1 Axes>"
      ]
     },
     "metadata": {},
     "output_type": "display_data"
    }
   ],
   "source": [
    "sns.histplot(df.click_timestamp.values)"
   ]
  },
  {
   "cell_type": "code",
   "execution_count": 31,
   "id": "e474527f",
   "metadata": {},
   "outputs": [
    {
     "data": {
      "text/plain": [
       "<AxesSubplot:xlabel='user_id', ylabel='Count'>"
      ]
     },
     "execution_count": 31,
     "metadata": {},
     "output_type": "execute_result"
    },
    {
     "data": {
      "image/png": "[encoded data removed]",
      "text/plain": [
       "<Figure size 432x288 with 1 Axes>"
      ]
     },
     "metadata": {},
     "output_type": "display_data"
    }
   ],
   "source": [
    "sns.histplot(df.user_id.value_counts())"
   ]
  },
  {
   "cell_type": "code",
   "execution_count": 32,
   "id": "26a8ef1d",
   "metadata": {},
   "outputs": [],
   "source": [
    "ids_time_sorted = np.argsort(df.click_timestamp.values)"
   ]
  },
  {
   "cell_type": "code",
   "execution_count": 33,
   "id": "cecb4adf",
   "metadata": {},
   "outputs": [
    {
     "name": "stdout",
     "output_type": "stream",
     "text": [
      "TRAIN: 268066 TEST: 268065\n",
      "TRAIN: 536131 TEST: 268065\n",
      "TRAIN: 804196 TEST: 268065\n",
      "TRAIN: 1072261 TEST: 268065\n"
     ]
    }
   ],
   "source": [
    "from sklearn.model_selection import TimeSeriesSplit\n",
    "\n",
    "tscv = TimeSeriesSplit(n_splits=4)\n",
    "\n",
    "for train_index, test_index in tscv.split(ids_time_sorted):\n",
    "    print(\"TRAIN:\", len(train_index), \"TEST:\", len(test_index))\n",
    "    test_df = df.iloc[test_index]\n",
    "    train_df = df.iloc[train_index]"
   ]
  },
  {
   "cell_type": "code",
   "execution_count": 40,
   "id": "8258ba55",
   "metadata": {},
   "outputs": [
    {
     "name": "stdout",
     "output_type": "stream",
     "text": [
      "users in train set : 33260\n",
      "users in test set : 28730\n"
     ]
    }
   ],
   "source": [
    "print(\"users in train set :\", len(df.iloc[train_index].user_id.unique()))\n",
    "print(\"users in test set :\", len(df.iloc[test_index].user_id.unique()))"
   ]
  },
  {
   "cell_type": "code",
   "execution_count": 43,
   "id": "c4916b2e",
   "metadata": {
    "scrolled": true
   },
   "outputs": [
    {
     "name": "stdout",
     "output_type": "stream",
     "text": [
      "users present in train set with more than 5 clicks in test set : 20497\n"
     ]
    }
   ],
   "source": [
    "m_user = ((test_df.user_id.value_counts() >= 5) & (train_df.user_id.value_counts() > 1))\n",
    "users = users[m_user]\n",
    "print(\"users present in train set with more than 5 clicks in test set :\", m_user.sum())"
   ]
  },
  {
   "cell_type": "code",
   "execution_count": 44,
   "id": "2717a857",
   "metadata": {},
   "outputs": [],
   "source": [
    "# A reader is still needed but only the rating_scale param is requiered.\n",
    "reader = Reader(rating_scale=(0, 1))\n",
    "\n",
    "#We build datsets from the split dataframes, so they conforme to the surprise models\n",
    "train_set = Dataset.load_from_df(train_df[['user_id', 'click_article_id', 'hmean_rating']], reader)\n",
    "train_set = train_set.build_full_trainset()\n",
    "\n",
    "test_set = Dataset.load_from_df(test_df[['user_id', 'click_article_id', 'hmean_rating']], reader)\n",
    "test_set = test_set.build_full_trainset().build_testset()"
   ]
  },
  {
   "cell_type": "markdown",
   "id": "fb94a78b",
   "metadata": {},
   "source": [
    "## 2.2 SVD (baseline)\n",
    "### 2.3.1 Train Model"
   ]
  },
  {
   "cell_type": "code",
   "execution_count": 46,
   "id": "86038340",
   "metadata": {},
   "outputs": [
    {
     "name": "stdout",
     "output_type": "stream",
     "text": [
      "CPU times: total: 10.6 s\n",
      "Wall time: 10.6 s\n"
     ]
    }
   ],
   "source": [
    "%%time\n",
    "\n",
    "model = SVD().fit(train_set)"
   ]
  },
  {
   "cell_type": "code",
   "execution_count": 146,
   "id": "133582ab",
   "metadata": {
    "scrolled": true
   },
   "outputs": [],
   "source": [
    "#anti_testset = train_set.build_anti_testset()"
   ]
  },
  {
   "cell_type": "code",
   "execution_count": 44,
   "id": "08b9f70d",
   "metadata": {},
   "outputs": [
    {
     "name": "stdout",
     "output_type": "stream",
     "text": [
      "RMSE: 0.0499\n",
      "MSE: 0.0025\n",
      "MAE:  0.0310\n",
      "Prediction rating for User 0 with article 157541 : 0.062173442495222435\n",
      "Current rating : [0.01149425]\n"
     ]
    }
   ],
   "source": [
    "predict = model.test(test_set)\n",
    "\n",
    "#Print our Results\n",
    "accuracy.rmse(predict)\n",
    "accuracy.mse(predict)\n",
    "accuracy.mae(predict);\n",
    "\n",
    "print(f'Prediction rating for User 0 with article 157541 : {model.predict(5, 168868).est}')\n",
    "print(f'Current rating : {df[(df[\"user_id\"] == 5) & (df[\"click_article_id\"] == 168868)][\"hmean_rating\"].values}')"
   ]
  },
  {
   "cell_type": "markdown",
   "id": "df0d1b84",
   "metadata": {},
   "source": [
    "### 2.3.3 Predictions with test set"
   ]
  },
  {
   "cell_type": "code",
   "execution_count": 47,
   "id": "04682e39",
   "metadata": {},
   "outputs": [],
   "source": [
    "articles_by_user_train = train_df[['user_id', 'click_article_id']].groupby('user_id').value_counts()"
   ]
  },
  {
   "cell_type": "code",
   "execution_count": 48,
   "id": "01839c04",
   "metadata": {
    "scrolled": true
   },
   "outputs": [
    {
     "data": {
      "text/plain": [
       "[312102, 76009, 298328, 324423, 285556]"
      ]
     },
     "execution_count": 48,
     "metadata": {},
     "output_type": "execute_result"
    }
   ],
   "source": [
    "def make_recommandation(model, user, num=5):\n",
    "    already_read = np.array(articles_by_user_train[user].index)\n",
    "    pred_user = [model.predict(user, iid) for iid in articles]\n",
    "    pred_user.sort(key=lambda x: x[3], reverse=False)\n",
    "    i = 0\n",
    "    pred_short = []\n",
    "    while i<num:\n",
    "        curr_pred = pred_user.pop()\n",
    "        if curr_pred[1] not in already_read:\n",
    "            pred_short.append(curr_pred[1])\n",
    "            i+=1\n",
    "    return pred_short\n",
    "\n",
    "#%timeit make_recommandation(model, 5)\n",
    "make_recommandation(model, 5)"
   ]
  },
  {
   "cell_type": "code",
   "execution_count": 49,
   "id": "cbfc393a",
   "metadata": {},
   "outputs": [],
   "source": [
    "#Function from https://github.com/NicolasHug/Surprise/blob/master/examples/top_n_recommendations.py\n",
    "def get_top_n(predictions, n=10):\n",
    "    \"\"\"Return the top-N recommendation for each user from a set of predictions.\n",
    "    Args:\n",
    "        predictions(list of Prediction objects): The list of predictions, as\n",
    "            returned by the test method of an algorithm.\n",
    "        n(int): The number of recommendation to output for each user. Default\n",
    "            is 10.\n",
    "    Returns:\n",
    "    A dict where keys are user (raw) ids and values are lists of tuples:\n",
    "        [(raw item id, rating estimation), ...] of size n.\n",
    "    \"\"\"\n",
    "\n",
    "    # First map the predictions to each user.\n",
    "    top_n = defaultdict(list)\n",
    "    for uid, iid, true_r, est, _ in predictions:\n",
    "        top_n[uid].append((iid, est))\n",
    "\n",
    "    # Then sort the predictions for each user and retrieve the k highest ones.\n",
    "    for uid, user_ratings in top_n.items():\n",
    "        user_ratings.sort(key=lambda x: x[1], reverse=True)\n",
    "        top_n[uid] = user_ratings[:n]\n",
    "\n",
    "    return top_n\n",
    "\n",
    "#top_n = get_top_n(predict, n=5)"
   ]
  },
  {
   "cell_type": "code",
   "execution_count": 84,
   "id": "db51968d",
   "metadata": {},
   "outputs": [
    {
     "data": {
      "text/plain": [
       "click_article_id\n",
       "271262    1\n",
       "218028    1\n",
       "235105    1\n",
       "277107    1\n",
       "313920    1\n",
       "331116    1\n",
       "dtype: int64"
      ]
     },
     "execution_count": 84,
     "metadata": {},
     "output_type": "execute_result"
    }
   ],
   "source": [
    "test_df[['user_id', 'click_article_id']].groupby('user_id').value_counts()[25937]"
   ]
  },
  {
   "cell_type": "code",
   "execution_count": 50,
   "id": "f6703ca9",
   "metadata": {},
   "outputs": [],
   "source": [
    "def get_top_n(model, users, num=5):\n",
    "    recs = defaultdict(list)\n",
    "    for uid in tqdm(users):\n",
    "        recs[uid] = make_recommandation(model, uid, num)\n",
    "    return recs\n",
    "#top_n = get_top_n(model, users)"
   ]
  },
  {
   "cell_type": "code",
   "execution_count": 66,
   "id": "ce0c9913",
   "metadata": {},
   "outputs": [],
   "source": [
    "\"\"\"\n",
    "with open('svd_recs.json', 'w') as f:\n",
    "    json.dump(top_n, f)\n",
    "\"\"\""
   ]
  },
  {
   "cell_type": "code",
   "execution_count": 51,
   "id": "ecfc617c",
   "metadata": {},
   "outputs": [
    {
     "data": {
      "text/plain": [
       "20497"
      ]
     },
     "execution_count": 51,
     "metadata": {},
     "output_type": "execute_result"
    }
   ],
   "source": [
    "def load_predictions(json_file):    \n",
    "    with open(json_file, 'r') as f:\n",
    "            str_pred = json.load(f)\n",
    "            pred = defaultdict(list)\n",
    "            for user in str_pred:\n",
    "                pred[int(user)] = str_pred[user]\n",
    "    return pred\n",
    "\n",
    "top_n = load_predictions('svd_recs.json')\n",
    "len(top_n)"
   ]
  },
  {
   "cell_type": "code",
   "execution_count": 52,
   "id": "dc30b37c",
   "metadata": {},
   "outputs": [
    {
     "name": "stdout",
     "output_type": "stream",
     "text": [
      "recommendation for user 25937 : [102856, 273447, 115233, 166031, 21106]\n"
     ]
    }
   ],
   "source": [
    "print('recommendation for user 25937 :', top_n[25937])"
   ]
  },
  {
   "cell_type": "code",
   "execution_count": 76,
   "id": "8946f1f1",
   "metadata": {},
   "outputs": [],
   "source": [
    "articles_test = test_df.click_article_id.values\n",
    "users_test = test_df.user_id.values\n",
    "\n",
    "\"\"\"\n",
    "print('via numpy :')\n",
    "%timeit j = articles[users_test == 34979]\n",
    "print('via numpy + unique test :')\n",
    "%timeit j = np.unique(articles[users_test == 34979])\n",
    "print('via pandas :')\n",
    "%timeit j = test_df[test_df.user_id == 34979].click_article_id.values\n",
    "print('via pandas + unique test :')\n",
    "%timeit j = test_df.click_article_id[test_df.user_id == 34979].values\n",
    "\"\"\"\n",
    "articles_by_user_test = test_df[['user_id', 'click_article_id']].groupby('user_id').value_counts()"
   ]
  },
  {
   "cell_type": "code",
   "execution_count": 53,
   "id": "afef2649",
   "metadata": {},
   "outputs": [
    {
     "data": {
      "text/plain": [
       "array([209122, 211442], dtype=object)"
      ]
     },
     "execution_count": 53,
     "metadata": {},
     "output_type": "execute_result"
    }
   ],
   "source": [
    "def get_read_article(uid, df):\n",
    "    articles = df.click_article_id.values\n",
    "    users = df.user_id.values\n",
    "    return np.unique(articles[users == uid])\n",
    "\n",
    "np.sort(get_read_article(32383, test_df))"
   ]
  },
  {
   "cell_type": "code",
   "execution_count": 54,
   "id": "b849a47a",
   "metadata": {},
   "outputs": [
    {
     "data": {
      "text/plain": [
       "0.0"
      ]
     },
     "execution_count": 54,
     "metadata": {},
     "output_type": "execute_result"
    }
   ],
   "source": [
    "def rate_prediction(predicted, real):\n",
    "    return len([iid for iid in predicted if iid in real])/len(predicted)\n",
    "\n",
    "rate_prediction(top_n[5], get_read_article(5, test_df))"
   ]
  },
  {
   "cell_type": "code",
   "execution_count": 55,
   "id": "358b8666",
   "metadata": {},
   "outputs": [],
   "source": [
    "def global_precision_score(pred, test_data):\n",
    "    score = 0\n",
    "    counter = 0\n",
    "    articles_by_user = test_data[['user_id', 'click_article_id']].groupby('user_id').value_counts()\n",
    "    for user in tqdm(pred):\n",
    "        #print(type(user))\n",
    "        recs = pred[user]\n",
    "        real = np.array(articles_by_user[user].index)\n",
    "        if len(real) >= len(recs):\n",
    "            #print(user, recs, real, rate_prediction(recs, real))\n",
    "            score += rate_prediction(recs, real)\n",
    "            counter +=1\n",
    "    print(counter, \"users analysed\")\n",
    "    return score/counter"
   ]
  },
  {
   "cell_type": "code",
   "execution_count": 96,
   "id": "024d7c30",
   "metadata": {},
   "outputs": [
    {
     "data": {
      "application/vnd.jupyter.widget-view+json": {
       "model_id": "61822e48149a4421aec47d83e794b847",
       "version_major": 2,
       "version_minor": 0
      },
      "text/plain": [
       "  0%|          | 0/20497 [00:00<?, ?it/s]"
      ]
     },
     "metadata": {},
     "output_type": "display_data"
    },
    {
     "name": "stdout",
     "output_type": "stream",
     "text": [
      "20451 users analysed\n"
     ]
    },
    {
     "data": {
      "text/plain": [
       "0.0001955894577282285"
      ]
     },
     "execution_count": 96,
     "metadata": {},
     "output_type": "execute_result"
    }
   ],
   "source": [
    "global_precision_score(top_n, test_df)"
   ]
  },
  {
   "cell_type": "markdown",
   "id": "bdd42d7e",
   "metadata": {},
   "source": [
    "## 2.3 KNNWithMeans (Collaborative model)\n",
    "### 2.3.1 Train Model"
   ]
  },
  {
   "cell_type": "code",
   "execution_count": 98,
   "id": "4f617462",
   "metadata": {},
   "outputs": [
    {
     "name": "stdout",
     "output_type": "stream",
     "text": [
      "Computing the cosine similarity matrix...\n",
      "Done computing similarity matrix.\n",
      "CPU times: total: 20 s\n",
      "Wall time: 20.5 s\n"
     ]
    }
   ],
   "source": [
    "%%time \n",
    "\n",
    "# To use item-based cosine similarity\n",
    "sim_options = {\n",
    "    \"name\": \"cosine\",\n",
    "    \"user_based\": False,  # Compute similarities between items\n",
    "}\n",
    "\n",
    "model_knn = KNNWithMeans(sim_options=sim_options).fit(train_set)"
   ]
  },
  {
   "cell_type": "markdown",
   "id": "99ba9c50",
   "metadata": {},
   "source": [
    "### 2.3.2 Results"
   ]
  },
  {
   "cell_type": "code",
   "execution_count": 99,
   "id": "2f9bbfe5",
   "metadata": {},
   "outputs": [
    {
     "name": "stdout",
     "output_type": "stream",
     "text": [
      "RMSE: 0.0164\n",
      "MSE: 0.0003\n",
      "MAE:  0.0124\n"
     ]
    },
    {
     "data": {
      "text/plain": [
       "0.012359779205268831"
      ]
     },
     "execution_count": 99,
     "metadata": {},
     "output_type": "execute_result"
    }
   ],
   "source": [
    "predict = model_knn.test(test_set)\n",
    "\n",
    "#Print our Results\n",
    "accuracy.rmse(predict)\n",
    "accuracy.mse(predict)\n",
    "accuracy.mae(predict);"
   ]
  },
  {
   "cell_type": "markdown",
   "id": "e8c93d8b",
   "metadata": {},
   "source": [
    "### 2.3.3 Analyse des recommandations"
   ]
  },
  {
   "cell_type": "code",
   "execution_count": 100,
   "id": "4b4e0752",
   "metadata": {},
   "outputs": [
    {
     "data": {
      "application/vnd.jupyter.widget-view+json": {
       "model_id": "e07e44c9be454550b4ce6d89e4934fde",
       "version_major": 2,
       "version_minor": 0
      },
      "text/plain": [
       "  0%|          | 0/20497 [00:00<?, ?it/s]"
      ]
     },
     "metadata": {},
     "output_type": "display_data"
    }
   ],
   "source": [
    "#top_n_knn = get_top_n(model_knn, users, 5)"
   ]
  },
  {
   "cell_type": "code",
   "execution_count": 102,
   "id": "54d11535",
   "metadata": {},
   "outputs": [
    {
     "name": "stdout",
     "output_type": "stream",
     "text": [
      "recommendation for user 5 : [132196, 110629, 297346, 117846, 293205]\n"
     ]
    }
   ],
   "source": [
    "print('recommendation for user 5 :', top_n[5])"
   ]
  },
  {
   "cell_type": "code",
   "execution_count": 103,
   "id": "2fd3bc18",
   "metadata": {},
   "outputs": [],
   "source": [
    "\"\"\"\n",
    "with open('knn_recs.json', 'w') as f:\n",
    "    json.dump(top_n, f)\n",
    "\"\"\""
   ]
  },
  {
   "cell_type": "code",
   "execution_count": 56,
   "id": "bc31711f",
   "metadata": {},
   "outputs": [],
   "source": [
    "top_n_knn = load_predictions('knn_recs.json')"
   ]
  },
  {
   "cell_type": "code",
   "execution_count": 57,
   "id": "a1e72b09",
   "metadata": {},
   "outputs": [
    {
     "data": {
      "text/plain": [
       "[132196, 110629, 297346, 117846, 293205]"
      ]
     },
     "execution_count": 57,
     "metadata": {},
     "output_type": "execute_result"
    }
   ],
   "source": [
    "top_n_knn[5]"
   ]
  },
  {
   "cell_type": "code",
   "execution_count": 58,
   "id": "a6e95774",
   "metadata": {},
   "outputs": [
    {
     "data": {
      "application/vnd.jupyter.widget-view+json": {
       "model_id": "0b8db28fb5324ffa930415a50c4ad021",
       "version_major": 2,
       "version_minor": 0
      },
      "text/plain": [
       "  0%|          | 0/20497 [00:00<?, ?it/s]"
      ]
     },
     "metadata": {},
     "output_type": "display_data"
    },
    {
     "name": "stdout",
     "output_type": "stream",
     "text": [
      "20451 users analysed\n"
     ]
    },
    {
     "data": {
      "text/plain": [
       "0.0001955894577282285"
      ]
     },
     "execution_count": 58,
     "metadata": {},
     "output_type": "execute_result"
    }
   ],
   "source": [
    "global_precision_score(top_n_knn, test_df)"
   ]
  },
  {
   "cell_type": "code",
   "execution_count": 108,
   "id": "e955f0a3",
   "metadata": {},
   "outputs": [
    {
     "data": {
      "text/plain": [
       "[132196, 110629, 297346, 117846, 293205]"
      ]
     },
     "execution_count": 108,
     "metadata": {},
     "output_type": "execute_result"
    }
   ],
   "source": [
    "top_n[5]"
   ]
  },
  {
   "cell_type": "code",
   "execution_count": 67,
   "id": "93b340c4",
   "metadata": {},
   "outputs": [
    {
     "name": "stdout",
     "output_type": "stream",
     "text": [
      "recommandations pour l'utlisateur 5 avec KNNmeans : [132196, 110629, 297346, 117846, 293205]\n",
      "recommandations pour l'utlisateur 5 avec SVD      : [132196, 110629, 297346, 117846, 293205]\n"
     ]
    }
   ],
   "source": [
    "print(\"recommandations pour l'utlisateur 5 avec KNNmeans :\", top_n_knn[5])\n",
    "print(\"recommandations pour l'utlisateur 5 avec SVD      :\", top_n[5])"
   ]
  },
  {
   "cell_type": "code",
   "execution_count": 64,
   "id": "0c8deecc",
   "metadata": {},
   "outputs": [
    {
     "name": "stdout",
     "output_type": "stream",
     "text": [
      "pourcentage de recommandations identiques entre KNNmeans et SVD : 100.0\n"
     ]
    }
   ],
   "source": [
    "same_pred_counter = 0\n",
    "for user in users:\n",
    "    same_pred_counter += int(top_n[user] == top_n_knn[user])\n",
    "same_pred_counter /= len(users)  / 100\n",
    "print(\"pourcentage de recommandations identiques entre KNNmeans et SVD :\", same_pred_counter)"
   ]
  },
  {
   "cell_type": "markdown",
   "id": "f8e417ea",
   "metadata": {},
   "source": [
    "## 2.4 Content-Based Filtering"
   ]
  },
  {
   "cell_type": "code",
   "execution_count": 69,
   "id": "7908d5e9",
   "metadata": {},
   "outputs": [
    {
     "data": {
      "text/plain": [
       "(26287, 250)"
      ]
     },
     "execution_count": 69,
     "metadata": {},
     "output_type": "execute_result"
    }
   ],
   "source": [
    "word_embed = pd.read_pickle('news-portal-user-interactions-by-globocom/articles_embeddings.pickle')\n",
    "word_embed = word_embed[articles]\n",
    "word_embed.shape"
   ]
  },
  {
   "cell_type": "code",
   "execution_count": null,
   "id": "d66d7a5f",
   "metadata": {},
   "outputs": [],
   "source": [
    "def re"
   ]
  }
 ],
 "metadata": {
  "kernelspec": {
   "display_name": "Python 3 (ipykernel)",
   "language": "python",
   "name": "python3"
  },
  "language_info": {
   "codemirror_mode": {
    "name": "ipython",
    "version": 3
   },
   "file_extension": ".py",
   "mimetype": "text/x-python",
   "name": "python",
   "nbconvert_exporter": "python",
   "pygments_lexer": "ipython3",
   "version": "3.8.13"
  },
  "papermill": {
   "default_parameters": {},
   "duration": 239.718806,
   "end_time": "2021-10-02T15:54:45.632996",
   "environment_variables": {},
   "exception": null,
   "input_path": "__notebook__.ipynb",
   "output_path": "__notebook__.ipynb",
   "parameters": {},
   "start_time": "2021-10-02T15:50:45.914190",
   "version": "2.3.3"
  }
 },
 "nbformat": 4,
 "nbformat_minor": 5
}
