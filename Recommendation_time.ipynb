{
 "cells": [
  {
   "cell_type": "code",
   "execution_count": 1,
   "id": "8cf4672f",
   "metadata": {
    "_cell_guid": "b1076dfc-b9ad-4769-8c92-a6c4dae69d19",
    "_uuid": "8f2839f25d086af736a60e9eeb907d3b93b6e0e5",
    "execution": {
     "iopub.execute_input": "2021-10-02T15:50:53.718012Z",
     "iopub.status.busy": "2021-10-02T15:50:53.712960Z",
     "iopub.status.idle": "2021-10-02T15:50:54.748617Z",
     "shell.execute_reply": "2021-10-02T15:50:54.747891Z",
     "shell.execute_reply.started": "2021-10-02T15:50:25.590715Z"
    },
    "papermill": {
     "duration": 1.088893,
     "end_time": "2021-10-02T15:50:54.748818",
     "exception": false,
     "start_time": "2021-10-02T15:50:53.659925",
     "status": "completed"
    },
    "tags": []
   },
   "outputs": [],
   "source": [
    "import os\n",
    "\n",
    "import random\n",
    "\n",
    "import pandas as pd\n",
    "import numpy as np\n",
    "from collections import defaultdict\n",
    "\n",
    "import seaborn as sns\n",
    "import matplotlib.pyplot as plt\n",
    "%matplotlib inline\n",
    "\n",
    "import missingno\n",
    "from tqdm.notebook import tqdm\n",
    "import json\n",
    "\n",
    "import sklearn\n",
    "import sklearn.model_selection\n",
    "from sklearn.metrics.pairwise import linear_kernel\n",
    "from sklearn.metrics.pairwise import cosine_similarity\n",
    "\n",
    "from surprise import NormalPredictor\n",
    "from surprise import Dataset\n",
    "from surprise import Reader\n",
    "from surprise.model_selection import cross_validate, train_test_split, GridSearchCV\n",
    "from surprise import KNNWithMeans, SVD\n",
    "from surprise import accuracy\n",
    "\n",
    "import pickle\n",
    "\n",
    "#Settings\n",
    "pd.set_option('display.max_columns', None)\n",
    "sns.set(color_codes=True)\n",
    "\n",
    "#To be avoided in your notebook.\n",
    "import warnings\n",
    "warnings.filterwarnings(\"ignore\")"
   ]
  },
  {
   "cell_type": "markdown",
   "id": "053aef80",
   "metadata": {
    "papermill": {
     "duration": 0.044856,
     "end_time": "2021-10-02T15:50:54.839324",
     "exception": false,
     "start_time": "2021-10-02T15:50:54.794468",
     "status": "completed"
    },
    "tags": []
   },
   "source": [
    "# 1. Exploratory Data Analysis"
   ]
  },
  {
   "cell_type": "markdown",
   "id": "236a890e",
   "metadata": {
    "papermill": {
     "duration": 0.043907,
     "end_time": "2021-10-02T15:50:54.927809",
     "exception": false,
     "start_time": "2021-10-02T15:50:54.883902",
     "status": "completed"
    },
    "tags": []
   },
   "source": [
    "## Dataset Content\n",
    "\n",
    "* **articles_metadata.csv** : CSV file with metadata information about all (364047) published articles\n",
    "* **articles_embeddings.pickle** : Pickle (Python 3) of a NumPy matrix containing the Article Content Embeddings (250-dimensional vectors), trained upon articles' text and metadata by the CHAMELEON's ACR module (see paper for details) for 364047 published articles.\n",
    "* **clicks** : Folder with CSV files (one per hour), containing user sessions interactions in the news portal.\n",
    "* **clicks_sample.csv** : CSV file containing user sessions interactions in the news portal."
   ]
  },
  {
   "cell_type": "code",
   "execution_count": 2,
   "id": "863d29c1",
   "metadata": {
    "execution": {
     "iopub.execute_input": "2021-10-02T15:50:55.024491Z",
     "iopub.status.busy": "2021-10-02T15:50:55.023705Z",
     "iopub.status.idle": "2021-10-02T15:50:55.034338Z",
     "shell.execute_reply": "2021-10-02T15:50:55.034867Z",
     "shell.execute_reply.started": "2021-10-02T15:48:58.684026Z"
    },
    "papermill": {
     "duration": 0.062679,
     "end_time": "2021-10-02T15:50:55.035026",
     "exception": false,
     "start_time": "2021-10-02T15:50:54.972347",
     "status": "completed"
    },
    "tags": []
   },
   "outputs": [
    {
     "name": "stdout",
     "output_type": "stream",
     "text": [
      "articles_embeddings.pickle\n",
      "articles_metadata.csv\n",
      "clicks\n",
      "clicks_sample.csv\n"
     ]
    }
   ],
   "source": [
    "[print(x) for x in os.listdir('news-portal-user-interactions-by-globocom')];"
   ]
  },
  {
   "cell_type": "markdown",
   "id": "b707e43b",
   "metadata": {
    "papermill": {
     "duration": 0.045969,
     "end_time": "2021-10-02T15:50:55.126796",
     "exception": false,
     "start_time": "2021-10-02T15:50:55.080827",
     "status": "completed"
    },
    "tags": []
   },
   "source": [
    "## 1.1 **articles_metadata.csv**"
   ]
  },
  {
   "cell_type": "markdown",
   "id": "3ad2c1d4",
   "metadata": {
    "papermill": {
     "duration": 0.044372,
     "end_time": "2021-10-02T15:50:55.216436",
     "exception": false,
     "start_time": "2021-10-02T15:50:55.172064",
     "status": "completed"
    },
    "tags": []
   },
   "source": [
    "### Content"
   ]
  },
  {
   "cell_type": "code",
   "execution_count": 3,
   "id": "f744f1fc",
   "metadata": {
    "execution": {
     "iopub.execute_input": "2021-10-02T15:50:55.310164Z",
     "iopub.status.busy": "2021-10-02T15:50:55.309564Z",
     "iopub.status.idle": "2021-10-02T15:50:55.614756Z",
     "shell.execute_reply": "2021-10-02T15:50:55.615278Z",
     "shell.execute_reply.started": "2021-10-02T15:48:58.702929Z"
    },
    "papermill": {
     "duration": 0.353371,
     "end_time": "2021-10-02T15:50:55.615467",
     "exception": false,
     "start_time": "2021-10-02T15:50:55.262096",
     "status": "completed"
    },
    "tags": []
   },
   "outputs": [],
   "source": [
    "PATH_ARTICLES_DATA = \"news-portal-user-interactions-by-globocom/articles_metadata.csv\"\n",
    "articles_df = pd.read_csv(PATH_ARTICLES_DATA)"
   ]
  },
  {
   "cell_type": "code",
   "execution_count": 4,
   "id": "694d8aa2",
   "metadata": {
    "execution": {
     "iopub.execute_input": "2021-10-02T15:50:55.732804Z",
     "iopub.status.busy": "2021-10-02T15:50:55.732087Z",
     "iopub.status.idle": "2021-10-02T15:50:55.743984Z",
     "shell.execute_reply": "2021-10-02T15:50:55.743523Z",
     "shell.execute_reply.started": "2021-10-02T15:48:58.940552Z"
    },
    "papermill": {
     "duration": 0.068603,
     "end_time": "2021-10-02T15:50:55.744128",
     "exception": false,
     "start_time": "2021-10-02T15:50:55.675525",
     "status": "completed"
    },
    "tags": []
   },
   "outputs": [
    {
     "data": {
      "text/html": [
       "<div>\n",
       "<style scoped>\n",
       "    .dataframe tbody tr th:only-of-type {\n",
       "        vertical-align: middle;\n",
       "    }\n",
       "\n",
       "    .dataframe tbody tr th {\n",
       "        vertical-align: top;\n",
       "    }\n",
       "\n",
       "    .dataframe thead th {\n",
       "        text-align: right;\n",
       "    }\n",
       "</style>\n",
       "<table border=\"1\" class=\"dataframe\">\n",
       "  <thead>\n",
       "    <tr style=\"text-align: right;\">\n",
       "      <th></th>\n",
       "      <th>article_id</th>\n",
       "      <th>category_id</th>\n",
       "      <th>created_at_ts</th>\n",
       "      <th>publisher_id</th>\n",
       "      <th>words_count</th>\n",
       "    </tr>\n",
       "  </thead>\n",
       "  <tbody>\n",
       "    <tr>\n",
       "      <th>0</th>\n",
       "      <td>0</td>\n",
       "      <td>0</td>\n",
       "      <td>1513144419000</td>\n",
       "      <td>0</td>\n",
       "      <td>168</td>\n",
       "    </tr>\n",
       "    <tr>\n",
       "      <th>1</th>\n",
       "      <td>1</td>\n",
       "      <td>1</td>\n",
       "      <td>1405341936000</td>\n",
       "      <td>0</td>\n",
       "      <td>189</td>\n",
       "    </tr>\n",
       "    <tr>\n",
       "      <th>2</th>\n",
       "      <td>2</td>\n",
       "      <td>1</td>\n",
       "      <td>1408667706000</td>\n",
       "      <td>0</td>\n",
       "      <td>250</td>\n",
       "    </tr>\n",
       "    <tr>\n",
       "      <th>3</th>\n",
       "      <td>3</td>\n",
       "      <td>1</td>\n",
       "      <td>1408468313000</td>\n",
       "      <td>0</td>\n",
       "      <td>230</td>\n",
       "    </tr>\n",
       "    <tr>\n",
       "      <th>4</th>\n",
       "      <td>4</td>\n",
       "      <td>1</td>\n",
       "      <td>1407071171000</td>\n",
       "      <td>0</td>\n",
       "      <td>162</td>\n",
       "    </tr>\n",
       "  </tbody>\n",
       "</table>\n",
       "</div>"
      ],
      "text/plain": [
       "   article_id  category_id  created_at_ts  publisher_id  words_count\n",
       "0           0            0  1513144419000             0          168\n",
       "1           1            1  1405341936000             0          189\n",
       "2           2            1  1408667706000             0          250\n",
       "3           3            1  1408468313000             0          230\n",
       "4           4            1  1407071171000             0          162"
      ]
     },
     "execution_count": 4,
     "metadata": {},
     "output_type": "execute_result"
    }
   ],
   "source": [
    "articles_df.head(5)"
   ]
  },
  {
   "cell_type": "markdown",
   "id": "0b6bad8b",
   "metadata": {
    "papermill": {
     "duration": 0.045353,
     "end_time": "2021-10-02T15:50:55.834711",
     "exception": false,
     "start_time": "2021-10-02T15:50:55.789358",
     "status": "completed"
    },
    "tags": []
   },
   "source": [
    "**articles_metadata.csv contain 5 columns :**\n",
    "* **article_id :** ID of the article\n",
    "* **category_id :** Category ID of the article\n",
    "* **created_at_ts :** Date of creation (timestamp)\n",
    "* **publisher_id :** ID of the publisher\n",
    "* **words_count :** Total word contain in the article"
   ]
  },
  {
   "cell_type": "markdown",
   "id": "e5a4fc02",
   "metadata": {
    "papermill": {
     "duration": 0.044804,
     "end_time": "2021-10-02T15:50:55.925435",
     "exception": false,
     "start_time": "2021-10-02T15:50:55.880631",
     "status": "completed"
    },
    "tags": []
   },
   "source": [
    "### Missing Values"
   ]
  },
  {
   "cell_type": "code",
   "execution_count": 5,
   "id": "cb0601d9",
   "metadata": {
    "execution": {
     "iopub.execute_input": "2021-10-02T15:50:56.020428Z",
     "iopub.status.busy": "2021-10-02T15:50:56.019359Z",
     "iopub.status.idle": "2021-10-02T15:50:57.230972Z",
     "shell.execute_reply": "2021-10-02T15:50:57.231643Z",
     "shell.execute_reply.started": "2021-10-02T15:48:58.957804Z"
    },
    "papermill": {
     "duration": 1.261039,
     "end_time": "2021-10-02T15:50:57.231826",
     "exception": false,
     "start_time": "2021-10-02T15:50:55.970787",
     "status": "completed"
    },
    "tags": []
   },
   "outputs": [
    {
     "data": {
      "image/png": "[encoded data removed]",
      "text/plain": [
       "<Figure size 1800x720 with 2 Axes>"
      ]
     },
     "metadata": {},
     "output_type": "display_data"
    }
   ],
   "source": [
    "missingno.matrix(articles_df);"
   ]
  },
  {
   "cell_type": "markdown",
   "id": "6f35e4a4",
   "metadata": {
    "papermill": {
     "duration": 0.047246,
     "end_time": "2021-10-02T15:50:57.326979",
     "exception": false,
     "start_time": "2021-10-02T15:50:57.279733",
     "status": "completed"
    },
    "tags": []
   },
   "source": [
    "No value are missing."
   ]
  },
  {
   "cell_type": "code",
   "execution_count": 6,
   "id": "2b93ab95",
   "metadata": {
    "execution": {
     "iopub.execute_input": "2021-10-02T15:50:57.429357Z",
     "iopub.status.busy": "2021-10-02T15:50:57.428664Z",
     "iopub.status.idle": "2021-10-02T15:50:57.446805Z",
     "shell.execute_reply": "2021-10-02T15:50:57.447406Z",
     "shell.execute_reply.started": "2021-10-02T15:49:00.445413Z"
    },
    "papermill": {
     "duration": 0.073277,
     "end_time": "2021-10-02T15:50:57.447569",
     "exception": false,
     "start_time": "2021-10-02T15:50:57.374292",
     "status": "completed"
    },
    "tags": []
   },
   "outputs": [
    {
     "data": {
      "text/plain": [
       "count    364047.000000\n",
       "mean        190.897727\n",
       "std          59.502766\n",
       "min           0.000000\n",
       "25%         159.000000\n",
       "50%         186.000000\n",
       "75%         218.000000\n",
       "max        6690.000000\n",
       "Name: words_count, dtype: float64"
      ]
     },
     "execution_count": 6,
     "metadata": {},
     "output_type": "execute_result"
    }
   ],
   "source": [
    "articles_df['words_count'].describe()"
   ]
  },
  {
   "cell_type": "code",
   "execution_count": 7,
   "id": "4f1560b1",
   "metadata": {
    "execution": {
     "iopub.execute_input": "2021-10-02T15:50:57.546080Z",
     "iopub.status.busy": "2021-10-02T15:50:57.545501Z",
     "iopub.status.idle": "2021-10-02T15:51:05.660708Z",
     "shell.execute_reply": "2021-10-02T15:51:05.660196Z",
     "shell.execute_reply.started": "2021-10-02T15:49:00.473133Z"
    },
    "papermill": {
     "duration": 8.165598,
     "end_time": "2021-10-02T15:51:05.660885",
     "exception": false,
     "start_time": "2021-10-02T15:50:57.495287",
     "status": "completed"
    },
    "tags": []
   },
   "outputs": [
    {
     "data": {
      "image/png": "[encoded data removed]",
      "text/plain": [
       "<Figure size 864x576 with 1 Axes>"
      ]
     },
     "metadata": {},
     "output_type": "display_data"
    }
   ],
   "source": [
    "fig, ax = plt.subplots(figsize=(12, 8))\n",
    "\n",
    "sns.histplot(articles_df['words_count'],\n",
    "            color=\"deepskyblue\",\n",
    "            edgecolor=\"black\",\n",
    "            alpha=0.7,\n",
    "            ax=ax)\n",
    "\n",
    "plt.xlim([0,400])\n",
    "plt.title('words per article distribution');\n",
    "plt.show()"
   ]
  },
  {
   "cell_type": "code",
   "execution_count": 8,
   "id": "9fb14646",
   "metadata": {
    "execution": {
     "iopub.execute_input": "2021-10-02T15:51:05.763327Z",
     "iopub.status.busy": "2021-10-02T15:51:05.762653Z",
     "iopub.status.idle": "2021-10-02T15:51:05.769660Z",
     "shell.execute_reply": "2021-10-02T15:51:05.770338Z",
     "shell.execute_reply.started": "2021-10-02T15:49:10.027644Z"
    },
    "papermill": {
     "duration": 0.059769,
     "end_time": "2021-10-02T15:51:05.770576",
     "exception": false,
     "start_time": "2021-10-02T15:51:05.710807",
     "status": "completed"
    },
    "tags": []
   },
   "outputs": [
    {
     "name": "stdout",
     "output_type": "stream",
     "text": [
      "Empty article(s) : 35\n"
     ]
    }
   ],
   "source": [
    "print(f'Empty article(s) : {articles_df[articles_df[\"words_count\"] == 0].count()[0]}')"
   ]
  },
  {
   "cell_type": "code",
   "execution_count": 9,
   "id": "0afc51e2",
   "metadata": {
    "execution": {
     "iopub.execute_input": "2021-10-02T15:51:05.872374Z",
     "iopub.status.busy": "2021-10-02T15:51:05.871738Z",
     "iopub.status.idle": "2021-10-02T15:51:06.496436Z",
     "shell.execute_reply": "2021-10-02T15:51:06.496974Z",
     "shell.execute_reply.started": "2021-10-02T15:49:10.039069Z"
    },
    "papermill": {
     "duration": 0.676756,
     "end_time": "2021-10-02T15:51:06.497151",
     "exception": false,
     "start_time": "2021-10-02T15:51:05.820395",
     "status": "completed"
    },
    "tags": []
   },
   "outputs": [
    {
     "data": {
      "image/png": "[encoded data removed]",
      "text/plain": [
       "<Figure size 864x576 with 1 Axes>"
      ]
     },
     "metadata": {},
     "output_type": "display_data"
    }
   ],
   "source": [
    "fig, ax = plt.subplots(figsize=(12, 8))\n",
    "\n",
    "sns.histplot(articles_df['category_id'],\n",
    "            color=\"deepskyblue\",\n",
    "            edgecolor=\"black\",\n",
    "            alpha=0.7,\n",
    "            ax=ax)\n",
    "\n",
    "plt.title('categories distribution');\n",
    "plt.show()"
   ]
  },
  {
   "cell_type": "markdown",
   "id": "b5873e5d",
   "metadata": {
    "papermill": {
     "duration": 0.053399,
     "end_time": "2021-10-02T15:51:06.601007",
     "exception": false,
     "start_time": "2021-10-02T15:51:06.547608",
     "status": "completed"
    },
    "tags": []
   },
   "source": [
    "## **1.2 clicks_{}.csv**"
   ]
  },
  {
   "cell_type": "markdown",
   "id": "9792aec2",
   "metadata": {
    "papermill": {
     "duration": 0.055116,
     "end_time": "2021-10-02T15:51:06.716837",
     "exception": false,
     "start_time": "2021-10-02T15:51:06.661721",
     "status": "completed"
    },
    "tags": []
   },
   "source": [
    "### Content"
   ]
  },
  {
   "cell_type": "code",
   "execution_count": 10,
   "id": "93d1b01c",
   "metadata": {
    "execution": {
     "iopub.execute_input": "2021-10-02T15:51:06.819133Z",
     "iopub.status.busy": "2021-10-02T15:51:06.818521Z",
     "iopub.status.idle": "2021-10-02T15:51:06.834065Z",
     "shell.execute_reply": "2021-10-02T15:51:06.834567Z",
     "shell.execute_reply.started": "2021-10-02T15:49:10.810041Z"
    },
    "papermill": {
     "duration": 0.068228,
     "end_time": "2021-10-02T15:51:06.834742",
     "exception": false,
     "start_time": "2021-10-02T15:51:06.766514",
     "status": "completed"
    },
    "tags": []
   },
   "outputs": [],
   "source": [
    "PATH_CLICK_SAMPLE_DATA = \"news-portal-user-interactions-by-globocom/clicks_sample.csv\"\n",
    "clicks_samp_df = pd.read_csv(PATH_CLICK_SAMPLE_DATA)"
   ]
  },
  {
   "cell_type": "code",
   "execution_count": 11,
   "id": "0c360589",
   "metadata": {
    "execution": {
     "iopub.execute_input": "2021-10-02T15:51:06.936682Z",
     "iopub.status.busy": "2021-10-02T15:51:06.936075Z",
     "iopub.status.idle": "2021-10-02T15:51:06.948407Z",
     "shell.execute_reply": "2021-10-02T15:51:06.949015Z",
     "shell.execute_reply.started": "2021-10-02T15:49:10.826683Z"
    },
    "papermill": {
     "duration": 0.064544,
     "end_time": "2021-10-02T15:51:06.949198",
     "exception": false,
     "start_time": "2021-10-02T15:51:06.884654",
     "status": "completed"
    },
    "tags": []
   },
   "outputs": [
    {
     "data": {
      "text/html": [
       "<div>\n",
       "<style scoped>\n",
       "    .dataframe tbody tr th:only-of-type {\n",
       "        vertical-align: middle;\n",
       "    }\n",
       "\n",
       "    .dataframe tbody tr th {\n",
       "        vertical-align: top;\n",
       "    }\n",
       "\n",
       "    .dataframe thead th {\n",
       "        text-align: right;\n",
       "    }\n",
       "</style>\n",
       "<table border=\"1\" class=\"dataframe\">\n",
       "  <thead>\n",
       "    <tr style=\"text-align: right;\">\n",
       "      <th></th>\n",
       "      <th>user_id</th>\n",
       "      <th>session_id</th>\n",
       "      <th>session_start</th>\n",
       "      <th>session_size</th>\n",
       "      <th>click_article_id</th>\n",
       "      <th>click_timestamp</th>\n",
       "      <th>click_environment</th>\n",
       "      <th>click_deviceGroup</th>\n",
       "      <th>click_os</th>\n",
       "      <th>click_country</th>\n",
       "      <th>click_region</th>\n",
       "      <th>click_referrer_type</th>\n",
       "    </tr>\n",
       "  </thead>\n",
       "  <tbody>\n",
       "    <tr>\n",
       "      <th>0</th>\n",
       "      <td>0</td>\n",
       "      <td>1506825423271737</td>\n",
       "      <td>1506825423000</td>\n",
       "      <td>2</td>\n",
       "      <td>157541</td>\n",
       "      <td>1506826828020</td>\n",
       "      <td>4</td>\n",
       "      <td>3</td>\n",
       "      <td>20</td>\n",
       "      <td>1</td>\n",
       "      <td>20</td>\n",
       "      <td>2</td>\n",
       "    </tr>\n",
       "    <tr>\n",
       "      <th>1</th>\n",
       "      <td>0</td>\n",
       "      <td>1506825423271737</td>\n",
       "      <td>1506825423000</td>\n",
       "      <td>2</td>\n",
       "      <td>68866</td>\n",
       "      <td>1506826858020</td>\n",
       "      <td>4</td>\n",
       "      <td>3</td>\n",
       "      <td>20</td>\n",
       "      <td>1</td>\n",
       "      <td>20</td>\n",
       "      <td>2</td>\n",
       "    </tr>\n",
       "    <tr>\n",
       "      <th>2</th>\n",
       "      <td>1</td>\n",
       "      <td>1506825426267738</td>\n",
       "      <td>1506825426000</td>\n",
       "      <td>2</td>\n",
       "      <td>235840</td>\n",
       "      <td>1506827017951</td>\n",
       "      <td>4</td>\n",
       "      <td>1</td>\n",
       "      <td>17</td>\n",
       "      <td>1</td>\n",
       "      <td>16</td>\n",
       "      <td>2</td>\n",
       "    </tr>\n",
       "    <tr>\n",
       "      <th>3</th>\n",
       "      <td>1</td>\n",
       "      <td>1506825426267738</td>\n",
       "      <td>1506825426000</td>\n",
       "      <td>2</td>\n",
       "      <td>96663</td>\n",
       "      <td>1506827047951</td>\n",
       "      <td>4</td>\n",
       "      <td>1</td>\n",
       "      <td>17</td>\n",
       "      <td>1</td>\n",
       "      <td>16</td>\n",
       "      <td>2</td>\n",
       "    </tr>\n",
       "    <tr>\n",
       "      <th>4</th>\n",
       "      <td>2</td>\n",
       "      <td>1506825435299739</td>\n",
       "      <td>1506825435000</td>\n",
       "      <td>2</td>\n",
       "      <td>119592</td>\n",
       "      <td>1506827090575</td>\n",
       "      <td>4</td>\n",
       "      <td>1</td>\n",
       "      <td>17</td>\n",
       "      <td>1</td>\n",
       "      <td>24</td>\n",
       "      <td>2</td>\n",
       "    </tr>\n",
       "  </tbody>\n",
       "</table>\n",
       "</div>"
      ],
      "text/plain": [
       "   user_id        session_id  session_start  session_size  click_article_id  \\\n",
       "0        0  1506825423271737  1506825423000             2            157541   \n",
       "1        0  1506825423271737  1506825423000             2             68866   \n",
       "2        1  1506825426267738  1506825426000             2            235840   \n",
       "3        1  1506825426267738  1506825426000             2             96663   \n",
       "4        2  1506825435299739  1506825435000             2            119592   \n",
       "\n",
       "   click_timestamp  click_environment  click_deviceGroup  click_os  \\\n",
       "0    1506826828020                  4                  3        20   \n",
       "1    1506826858020                  4                  3        20   \n",
       "2    1506827017951                  4                  1        17   \n",
       "3    1506827047951                  4                  1        17   \n",
       "4    1506827090575                  4                  1        17   \n",
       "\n",
       "   click_country  click_region  click_referrer_type  \n",
       "0              1            20                    2  \n",
       "1              1            20                    2  \n",
       "2              1            16                    2  \n",
       "3              1            16                    2  \n",
       "4              1            24                    2  "
      ]
     },
     "execution_count": 11,
     "metadata": {},
     "output_type": "execute_result"
    }
   ],
   "source": [
    "clicks_samp_df.head(5)"
   ]
  },
  {
   "cell_type": "code",
   "execution_count": 12,
   "id": "0e38a5e1",
   "metadata": {},
   "outputs": [],
   "source": [
    "for session in clicks_samp_df.session_id:\n",
    "    session_cliks = clicks_samp_df[clicks_samp_df.session_id == session]\n",
    "    "
   ]
  },
  {
   "cell_type": "code",
   "execution_count": 13,
   "id": "0cbb1cb8",
   "metadata": {},
   "outputs": [
    {
     "data": {
      "text/plain": [
       "<AxesSubplot:>"
      ]
     },
     "execution_count": 13,
     "metadata": {},
     "output_type": "execute_result"
    },
    {
     "data": {
      "image/png": "[encoded data removed]",
      "text/plain": [
       "<Figure size 432x288 with 1 Axes>"
      ]
     },
     "metadata": {},
     "output_type": "display_data"
    }
   ],
   "source": [
    "clicks_samp_df.session_size.hist()"
   ]
  },
  {
   "cell_type": "code",
   "execution_count": 14,
   "id": "03173fb4",
   "metadata": {
    "execution": {
     "iopub.execute_input": "2021-10-02T15:51:07.051851Z",
     "iopub.status.busy": "2021-10-02T15:51:07.051291Z",
     "iopub.status.idle": "2021-10-02T15:51:07.058693Z",
     "shell.execute_reply": "2021-10-02T15:51:07.058044Z",
     "shell.execute_reply.started": "2021-10-02T15:49:10.846028Z"
    },
    "papermill": {
     "duration": 0.059601,
     "end_time": "2021-10-02T15:51:07.058824",
     "exception": false,
     "start_time": "2021-10-02T15:51:06.999223",
     "status": "completed"
    },
    "tags": []
   },
   "outputs": [
    {
     "name": "stdout",
     "output_type": "stream",
     "text": [
      "user_id\n",
      "session_id\n",
      "session_start\n",
      "session_size\n",
      "click_article_id\n",
      "click_timestamp\n",
      "click_environment\n",
      "click_deviceGroup\n",
      "click_os\n",
      "click_country\n",
      "click_region\n",
      "click_referrer_type\n"
     ]
    }
   ],
   "source": [
    "[print(x) for x in clicks_samp_df.columns];"
   ]
  },
  {
   "cell_type": "markdown",
   "id": "353b9eed",
   "metadata": {
    "papermill": {
     "duration": 0.050189,
     "end_time": "2021-10-02T15:51:07.160773",
     "exception": false,
     "start_time": "2021-10-02T15:51:07.110584",
     "status": "completed"
    },
    "tags": []
   },
   "source": [
    "**clicks_{}.csv contain 12 columns :**\n",
    "* **user_id :** user ID\n",
    "* **session_id :** Session ID\n",
    "* **session_start :** Start of the session (timestamp)\n",
    "* **session_size :** number of click/session\n",
    "* **words_count :** Total word contain in the article\n",
    "* **click_article_id :** article ID user clicked\n",
    "* **click_timestamp :** When user clicked (timestamp)\n",
    "* **click_environment :** user env when click\n",
    "* **click_deviceGroup :** user device\n",
    "* **click_os :** user OS\n",
    "* **click_country :** localisation (country) when user clicked\n",
    "* **click_region :** localisation (region) when user clicked\n",
    "* **click_referrer_type :** ?"
   ]
  },
  {
   "cell_type": "markdown",
   "id": "003d0fe2",
   "metadata": {
    "papermill": {
     "duration": 0.050503,
     "end_time": "2021-10-02T15:51:07.262097",
     "exception": false,
     "start_time": "2021-10-02T15:51:07.211594",
     "status": "completed"
    },
    "tags": []
   },
   "source": [
    "### Distribution\n",
    "#### let's concat all clicks files and observe our datas"
   ]
  },
  {
   "cell_type": "code",
   "execution_count": 15,
   "id": "0ea9f15d",
   "metadata": {
    "execution": {
     "iopub.execute_input": "2021-10-02T15:51:07.370236Z",
     "iopub.status.busy": "2021-10-02T15:51:07.369580Z",
     "iopub.status.idle": "2021-10-02T15:51:14.538501Z",
     "shell.execute_reply": "2021-10-02T15:51:14.538941Z",
     "shell.execute_reply.started": "2021-10-02T15:49:10.862993Z"
    },
    "papermill": {
     "duration": 7.226663,
     "end_time": "2021-10-02T15:51:14.539122",
     "exception": false,
     "start_time": "2021-10-02T15:51:07.312459",
     "status": "completed"
    },
    "tags": []
   },
   "outputs": [
    {
     "name": "stdout",
     "output_type": "stream",
     "text": [
      "Total PATH contain in list :  385\n",
      "DataFrame shape : (2988181, 3)\n",
      "CPU times: total: 4.83 s\n",
      "Wall time: 7.61 s\n"
     ]
    }
   ],
   "source": [
    "%%time\n",
    "\n",
    "CLICK_FILES_PATH = \"news-portal-user-interactions-by-globocom/clicks/\"\n",
    "\n",
    "#Get all .csv contain in clicks folder\n",
    "click_files = [CLICK_FILES_PATH + x for x in os.listdir(CLICK_FILES_PATH)];\n",
    "\n",
    "#Sort all files PATH contain in list.\n",
    "click_files.sort()\n",
    "\n",
    "#Check if all files are present.\n",
    "print(\"Total PATH contain in list : \", len(click_files))\n",
    "\n",
    "list_click_file_to_df = [pd.read_csv(x, index_col=None, header=0) for x in click_files];\n",
    "\n",
    "#Remove unused columns\n",
    "list_click_file_to_df_cleaned = [x.drop(columns = ['session_id',\n",
    "                                                   'session_start',\n",
    "                                                   'session_size',\n",
    "                                                   #'click_timestamp',\n",
    "                                                   'click_environment',\n",
    "                                                   'click_deviceGroup',\n",
    "                                                   'click_os',\n",
    "                                                   'click_country',\n",
    "                                                   'click_region',\n",
    "                                                   'click_referrer_type']) for x in list_click_file_to_df]\n",
    "\n",
    "all_clicks_df = pd.concat(list_click_file_to_df_cleaned, axis=0, ignore_index=True)\n",
    "\n",
    "print(f\"DataFrame shape : {all_clicks_df.shape}\")"
   ]
  },
  {
   "cell_type": "code",
   "execution_count": 16,
   "id": "d09028ee",
   "metadata": {},
   "outputs": [
    {
     "data": {
      "text/html": [
       "<div>\n",
       "<style scoped>\n",
       "    .dataframe tbody tr th:only-of-type {\n",
       "        vertical-align: middle;\n",
       "    }\n",
       "\n",
       "    .dataframe tbody tr th {\n",
       "        vertical-align: top;\n",
       "    }\n",
       "\n",
       "    .dataframe thead th {\n",
       "        text-align: right;\n",
       "    }\n",
       "</style>\n",
       "<table border=\"1\" class=\"dataframe\">\n",
       "  <thead>\n",
       "    <tr style=\"text-align: right;\">\n",
       "      <th></th>\n",
       "      <th>user_id</th>\n",
       "      <th>click_article_id</th>\n",
       "      <th>click_timestamp</th>\n",
       "    </tr>\n",
       "  </thead>\n",
       "  <tbody>\n",
       "    <tr>\n",
       "      <th>0</th>\n",
       "      <td>0</td>\n",
       "      <td>157541</td>\n",
       "      <td>1506826828020</td>\n",
       "    </tr>\n",
       "    <tr>\n",
       "      <th>1</th>\n",
       "      <td>0</td>\n",
       "      <td>68866</td>\n",
       "      <td>1506826858020</td>\n",
       "    </tr>\n",
       "    <tr>\n",
       "      <th>2</th>\n",
       "      <td>1</td>\n",
       "      <td>235840</td>\n",
       "      <td>1506827017951</td>\n",
       "    </tr>\n",
       "    <tr>\n",
       "      <th>3</th>\n",
       "      <td>1</td>\n",
       "      <td>96663</td>\n",
       "      <td>1506827047951</td>\n",
       "    </tr>\n",
       "    <tr>\n",
       "      <th>4</th>\n",
       "      <td>2</td>\n",
       "      <td>119592</td>\n",
       "      <td>1506827090575</td>\n",
       "    </tr>\n",
       "    <tr>\n",
       "      <th>...</th>\n",
       "      <td>...</td>\n",
       "      <td>...</td>\n",
       "      <td>...</td>\n",
       "    </tr>\n",
       "    <tr>\n",
       "      <th>2988176</th>\n",
       "      <td>10051</td>\n",
       "      <td>84911</td>\n",
       "      <td>1508211557302</td>\n",
       "    </tr>\n",
       "    <tr>\n",
       "      <th>2988177</th>\n",
       "      <td>322896</td>\n",
       "      <td>30760</td>\n",
       "      <td>1508211672520</td>\n",
       "    </tr>\n",
       "    <tr>\n",
       "      <th>2988178</th>\n",
       "      <td>322896</td>\n",
       "      <td>157507</td>\n",
       "      <td>1508211702520</td>\n",
       "    </tr>\n",
       "    <tr>\n",
       "      <th>2988179</th>\n",
       "      <td>123718</td>\n",
       "      <td>234481</td>\n",
       "      <td>1508211513583</td>\n",
       "    </tr>\n",
       "    <tr>\n",
       "      <th>2988180</th>\n",
       "      <td>123718</td>\n",
       "      <td>233578</td>\n",
       "      <td>1508211543583</td>\n",
       "    </tr>\n",
       "  </tbody>\n",
       "</table>\n",
       "<p>2988181 rows × 3 columns</p>\n",
       "</div>"
      ],
      "text/plain": [
       "        user_id click_article_id click_timestamp\n",
       "0             0           157541   1506826828020\n",
       "1             0            68866   1506826858020\n",
       "2             1           235840   1506827017951\n",
       "3             1            96663   1506827047951\n",
       "4             2           119592   1506827090575\n",
       "...         ...              ...             ...\n",
       "2988176   10051            84911   1508211557302\n",
       "2988177  322896            30760   1508211672520\n",
       "2988178  322896           157507   1508211702520\n",
       "2988179  123718           234481   1508211513583\n",
       "2988180  123718           233578   1508211543583\n",
       "\n",
       "[2988181 rows x 3 columns]"
      ]
     },
     "execution_count": 16,
     "metadata": {},
     "output_type": "execute_result"
    }
   ],
   "source": [
    "all_clicks_df"
   ]
  },
  {
   "cell_type": "code",
   "execution_count": 17,
   "id": "9cd40065",
   "metadata": {},
   "outputs": [],
   "source": [
    "articles = all_clicks_df.click_article_id.value_counts().index\n",
    "articles_df = articles_df.iloc[articles]\n",
    "\n",
    "articles_rev = {}\n",
    "for i, iid in enumerate(articles):\n",
    "    articles_rev[iid] = i"
   ]
  },
  {
   "cell_type": "markdown",
   "id": "2747ca2f",
   "metadata": {
    "papermill": {
     "duration": 0.051837,
     "end_time": "2021-10-02T15:51:14.642955",
     "exception": false,
     "start_time": "2021-10-02T15:51:14.591118",
     "status": "completed"
    },
    "tags": []
   },
   "source": [
    "# 2. Build our Recommendation Models\n",
    "\n",
    "**[Helpful link : build-recommendation-engine-collaborative-filtering](https://realpython.com/build-recommendation-engine-collaborative-filtering/)**"
   ]
  },
  {
   "cell_type": "markdown",
   "id": "25642a15",
   "metadata": {
    "papermill": {
     "duration": 0.05329,
     "end_time": "2021-10-02T15:51:14.748873",
     "exception": false,
     "start_time": "2021-10-02T15:51:14.695583",
     "status": "completed"
    },
    "tags": []
   },
   "source": [
    "## 2.1 Data Preparation\n",
    "For our recommendation model we need to find a scoring system to help the model understand the preferences of each user.\n",
    "\n",
    "I decided to proceed like that : **Rating = Total_Click_Per_Cat_By_User / Total_Click_Done_By_User**"
   ]
  },
  {
   "cell_type": "code",
   "execution_count": 18,
   "id": "a6005157",
   "metadata": {},
   "outputs": [
    {
     "data": {
      "text/plain": [
       "2988181"
      ]
     },
     "execution_count": 18,
     "metadata": {},
     "output_type": "execute_result"
    }
   ],
   "source": [
    "len(all_clicks_df)"
   ]
  },
  {
   "cell_type": "code",
   "execution_count": 40,
   "id": "1d08a1e2",
   "metadata": {
    "execution": {
     "iopub.execute_input": "2021-10-02T15:51:14.854820Z",
     "iopub.status.busy": "2021-10-02T15:51:14.854187Z",
     "iopub.status.idle": "2021-10-02T15:51:21.245064Z",
     "shell.execute_reply": "2021-10-02T15:51:21.245614Z",
     "shell.execute_reply.started": "2021-10-02T15:49:18.332255Z"
    },
    "papermill": {
     "duration": 6.444884,
     "end_time": "2021-10-02T15:51:21.245782",
     "exception": false,
     "start_time": "2021-10-02T15:51:14.800898",
     "status": "completed"
    },
    "tags": []
   },
   "outputs": [
    {
     "name": "stdout",
     "output_type": "stream",
     "text": [
      "Shape before dropping duplicate : (2988181, 11)\n",
      "Shape after dropping duplicate : (2988181, 11)\n"
     ]
    }
   ],
   "source": [
    "#Create a map to convert article_id to category\n",
    "dict_article_categories = articles_df.set_index('article_id')['category_id'].to_dict()\n",
    "\n",
    "all_clicks_df['total_click'] = all_clicks_df.groupby(['user_id'])['click_article_id'].transform('count')\n",
    "all_clicks_df['total_click_on_article_id'] = all_clicks_df.groupby(['user_id','click_article_id'])['click_article_id'].transform('count')\n",
    "all_clicks_df['art_rating'] = all_clicks_df['total_click_on_article_id'] / all_clicks_df['total_click']\n",
    "\n",
    "#Get Categorie associate for each article\n",
    "all_clicks_df['category_id'] = all_clicks_df['click_article_id'].map(dict_article_categories).astype(int)\n",
    "all_clicks_df['total_click_by_category_id'] = all_clicks_df.groupby(['user_id','category_id'])['click_article_id'].transform('count')\n",
    "all_clicks_df['cat_rating'] = all_clicks_df['total_click_by_category_id'] / all_clicks_df['total_click']\n",
    "\n",
    "print(f'Shape before dropping duplicate : {all_clicks_df.shape}')\n",
    "#all_clicks_df = all_clicks_df.drop(['click_article_id'], axis=1)\n",
    "all_clicks_df = all_clicks_df.drop_duplicates()\n",
    "print(f'Shape after dropping duplicate : {all_clicks_df.shape}')"
   ]
  },
  {
   "cell_type": "code",
   "execution_count": 41,
   "id": "144e17a1",
   "metadata": {},
   "outputs": [
    {
     "data": {
      "text/html": [
       "<div>\n",
       "<style scoped>\n",
       "    .dataframe tbody tr th:only-of-type {\n",
       "        vertical-align: middle;\n",
       "    }\n",
       "\n",
       "    .dataframe tbody tr th {\n",
       "        vertical-align: top;\n",
       "    }\n",
       "\n",
       "    .dataframe thead th {\n",
       "        text-align: right;\n",
       "    }\n",
       "</style>\n",
       "<table border=\"1\" class=\"dataframe\">\n",
       "  <thead>\n",
       "    <tr style=\"text-align: right;\">\n",
       "      <th></th>\n",
       "      <th>user_id</th>\n",
       "      <th>click_article_id</th>\n",
       "      <th>click_timestamp</th>\n",
       "      <th>hmean_rating</th>\n",
       "      <th>nb_cliks_user</th>\n",
       "      <th>total_click</th>\n",
       "      <th>total_click_on_article_id</th>\n",
       "      <th>art_rating</th>\n",
       "      <th>category_id</th>\n",
       "      <th>total_click_by_category_id</th>\n",
       "      <th>cat_rating</th>\n",
       "    </tr>\n",
       "  </thead>\n",
       "  <tbody>\n",
       "    <tr>\n",
       "      <th>0</th>\n",
       "      <td>0</td>\n",
       "      <td>157541</td>\n",
       "      <td>1506826828020</td>\n",
       "      <td>0.166667</td>\n",
       "      <td>8</td>\n",
       "      <td>8</td>\n",
       "      <td>1</td>\n",
       "      <td>0.125000</td>\n",
       "      <td>281</td>\n",
       "      <td>2</td>\n",
       "      <td>0.250000</td>\n",
       "    </tr>\n",
       "    <tr>\n",
       "      <th>1</th>\n",
       "      <td>0</td>\n",
       "      <td>68866</td>\n",
       "      <td>1506826858020</td>\n",
       "      <td>0.125000</td>\n",
       "      <td>8</td>\n",
       "      <td>8</td>\n",
       "      <td>1</td>\n",
       "      <td>0.125000</td>\n",
       "      <td>136</td>\n",
       "      <td>1</td>\n",
       "      <td>0.125000</td>\n",
       "    </tr>\n",
       "    <tr>\n",
       "      <th>2</th>\n",
       "      <td>1</td>\n",
       "      <td>235840</td>\n",
       "      <td>1506827017951</td>\n",
       "      <td>0.111111</td>\n",
       "      <td>12</td>\n",
       "      <td>12</td>\n",
       "      <td>1</td>\n",
       "      <td>0.083333</td>\n",
       "      <td>375</td>\n",
       "      <td>2</td>\n",
       "      <td>0.166667</td>\n",
       "    </tr>\n",
       "    <tr>\n",
       "      <th>3</th>\n",
       "      <td>1</td>\n",
       "      <td>96663</td>\n",
       "      <td>1506827047951</td>\n",
       "      <td>0.083333</td>\n",
       "      <td>12</td>\n",
       "      <td>12</td>\n",
       "      <td>1</td>\n",
       "      <td>0.083333</td>\n",
       "      <td>209</td>\n",
       "      <td>1</td>\n",
       "      <td>0.083333</td>\n",
       "    </tr>\n",
       "    <tr>\n",
       "      <th>4</th>\n",
       "      <td>2</td>\n",
       "      <td>119592</td>\n",
       "      <td>1506827090575</td>\n",
       "      <td>0.250000</td>\n",
       "      <td>4</td>\n",
       "      <td>4</td>\n",
       "      <td>1</td>\n",
       "      <td>0.250000</td>\n",
       "      <td>247</td>\n",
       "      <td>1</td>\n",
       "      <td>0.250000</td>\n",
       "    </tr>\n",
       "    <tr>\n",
       "      <th>...</th>\n",
       "      <td>...</td>\n",
       "      <td>...</td>\n",
       "      <td>...</td>\n",
       "      <td>...</td>\n",
       "      <td>...</td>\n",
       "      <td>...</td>\n",
       "      <td>...</td>\n",
       "      <td>...</td>\n",
       "      <td>...</td>\n",
       "      <td>...</td>\n",
       "      <td>...</td>\n",
       "    </tr>\n",
       "    <tr>\n",
       "      <th>2988176</th>\n",
       "      <td>10051</td>\n",
       "      <td>84911</td>\n",
       "      <td>1508211557302</td>\n",
       "      <td>0.038265</td>\n",
       "      <td>49</td>\n",
       "      <td>49</td>\n",
       "      <td>1</td>\n",
       "      <td>0.020408</td>\n",
       "      <td>174</td>\n",
       "      <td>15</td>\n",
       "      <td>0.306122</td>\n",
       "    </tr>\n",
       "    <tr>\n",
       "      <th>2988177</th>\n",
       "      <td>322896</td>\n",
       "      <td>30760</td>\n",
       "      <td>1508211672520</td>\n",
       "      <td>0.500000</td>\n",
       "      <td>2</td>\n",
       "      <td>2</td>\n",
       "      <td>1</td>\n",
       "      <td>0.500000</td>\n",
       "      <td>26</td>\n",
       "      <td>1</td>\n",
       "      <td>0.500000</td>\n",
       "    </tr>\n",
       "    <tr>\n",
       "      <th>2988178</th>\n",
       "      <td>322896</td>\n",
       "      <td>157507</td>\n",
       "      <td>1508211702520</td>\n",
       "      <td>0.500000</td>\n",
       "      <td>2</td>\n",
       "      <td>2</td>\n",
       "      <td>1</td>\n",
       "      <td>0.500000</td>\n",
       "      <td>281</td>\n",
       "      <td>1</td>\n",
       "      <td>0.500000</td>\n",
       "    </tr>\n",
       "    <tr>\n",
       "      <th>2988179</th>\n",
       "      <td>123718</td>\n",
       "      <td>234481</td>\n",
       "      <td>1508211513583</td>\n",
       "      <td>0.126984</td>\n",
       "      <td>14</td>\n",
       "      <td>14</td>\n",
       "      <td>1</td>\n",
       "      <td>0.071429</td>\n",
       "      <td>375</td>\n",
       "      <td>8</td>\n",
       "      <td>0.571429</td>\n",
       "    </tr>\n",
       "    <tr>\n",
       "      <th>2988180</th>\n",
       "      <td>123718</td>\n",
       "      <td>233578</td>\n",
       "      <td>1508211543583</td>\n",
       "      <td>0.126984</td>\n",
       "      <td>14</td>\n",
       "      <td>14</td>\n",
       "      <td>1</td>\n",
       "      <td>0.071429</td>\n",
       "      <td>375</td>\n",
       "      <td>8</td>\n",
       "      <td>0.571429</td>\n",
       "    </tr>\n",
       "  </tbody>\n",
       "</table>\n",
       "<p>2988181 rows × 11 columns</p>\n",
       "</div>"
      ],
      "text/plain": [
       "        user_id click_article_id click_timestamp  hmean_rating  nb_cliks_user  \\\n",
       "0             0           157541   1506826828020      0.166667              8   \n",
       "1             0            68866   1506826858020      0.125000              8   \n",
       "2             1           235840   1506827017951      0.111111             12   \n",
       "3             1            96663   1506827047951      0.083333             12   \n",
       "4             2           119592   1506827090575      0.250000              4   \n",
       "...         ...              ...             ...           ...            ...   \n",
       "2988176   10051            84911   1508211557302      0.038265             49   \n",
       "2988177  322896            30760   1508211672520      0.500000              2   \n",
       "2988178  322896           157507   1508211702520      0.500000              2   \n",
       "2988179  123718           234481   1508211513583      0.126984             14   \n",
       "2988180  123718           233578   1508211543583      0.126984             14   \n",
       "\n",
       "         total_click  total_click_on_article_id  art_rating  category_id  \\\n",
       "0                  8                          1    0.125000          281   \n",
       "1                  8                          1    0.125000          136   \n",
       "2                 12                          1    0.083333          375   \n",
       "3                 12                          1    0.083333          209   \n",
       "4                  4                          1    0.250000          247   \n",
       "...              ...                        ...         ...          ...   \n",
       "2988176           49                          1    0.020408          174   \n",
       "2988177            2                          1    0.500000           26   \n",
       "2988178            2                          1    0.500000          281   \n",
       "2988179           14                          1    0.071429          375   \n",
       "2988180           14                          1    0.071429          375   \n",
       "\n",
       "         total_click_by_category_id  cat_rating  \n",
       "0                                 2    0.250000  \n",
       "1                                 1    0.125000  \n",
       "2                                 2    0.166667  \n",
       "3                                 1    0.083333  \n",
       "4                                 1    0.250000  \n",
       "...                             ...         ...  \n",
       "2988176                          15    0.306122  \n",
       "2988177                           1    0.500000  \n",
       "2988178                           1    0.500000  \n",
       "2988179                           8    0.571429  \n",
       "2988180                           8    0.571429  \n",
       "\n",
       "[2988181 rows x 11 columns]"
      ]
     },
     "execution_count": 41,
     "metadata": {},
     "output_type": "execute_result"
    }
   ],
   "source": [
    "all_clicks_df"
   ]
  },
  {
   "cell_type": "code",
   "execution_count": 42,
   "id": "f70d0803",
   "metadata": {
    "execution": {
     "iopub.execute_input": "2021-10-02T15:51:21.351549Z",
     "iopub.status.busy": "2021-10-02T15:51:21.350949Z",
     "iopub.status.idle": "2021-10-02T15:51:21.674208Z",
     "shell.execute_reply": "2021-10-02T15:51:21.674664Z",
     "shell.execute_reply.started": "2021-10-02T15:49:26.582914Z"
    },
    "papermill": {
     "duration": 0.377956,
     "end_time": "2021-10-02T15:51:21.674829",
     "exception": false,
     "start_time": "2021-10-02T15:51:21.296873",
     "status": "completed"
    },
    "tags": []
   },
   "outputs": [
    {
     "data": {
      "text/html": [
       "<div>\n",
       "<style scoped>\n",
       "    .dataframe tbody tr th:only-of-type {\n",
       "        vertical-align: middle;\n",
       "    }\n",
       "\n",
       "    .dataframe tbody tr th {\n",
       "        vertical-align: top;\n",
       "    }\n",
       "\n",
       "    .dataframe thead th {\n",
       "        text-align: right;\n",
       "    }\n",
       "</style>\n",
       "<table border=\"1\" class=\"dataframe\">\n",
       "  <thead>\n",
       "    <tr style=\"text-align: right;\">\n",
       "      <th></th>\n",
       "      <th>user_id</th>\n",
       "      <th>click_article_id</th>\n",
       "      <th>click_timestamp</th>\n",
       "      <th>hmean_rating</th>\n",
       "      <th>nb_cliks_user</th>\n",
       "      <th>art_rating</th>\n",
       "      <th>category_id</th>\n",
       "      <th>cat_rating</th>\n",
       "    </tr>\n",
       "  </thead>\n",
       "  <tbody>\n",
       "    <tr>\n",
       "      <th>0</th>\n",
       "      <td>0</td>\n",
       "      <td>157541</td>\n",
       "      <td>1506826828020</td>\n",
       "      <td>0.166667</td>\n",
       "      <td>8</td>\n",
       "      <td>0.125</td>\n",
       "      <td>281</td>\n",
       "      <td>0.250</td>\n",
       "    </tr>\n",
       "    <tr>\n",
       "      <th>1</th>\n",
       "      <td>0</td>\n",
       "      <td>68866</td>\n",
       "      <td>1506826858020</td>\n",
       "      <td>0.125000</td>\n",
       "      <td>8</td>\n",
       "      <td>0.125</td>\n",
       "      <td>136</td>\n",
       "      <td>0.125</td>\n",
       "    </tr>\n",
       "    <tr>\n",
       "      <th>1287361</th>\n",
       "      <td>0</td>\n",
       "      <td>96755</td>\n",
       "      <td>1507340033155</td>\n",
       "      <td>0.125000</td>\n",
       "      <td>8</td>\n",
       "      <td>0.125</td>\n",
       "      <td>209</td>\n",
       "      <td>0.125</td>\n",
       "    </tr>\n",
       "    <tr>\n",
       "      <th>1287362</th>\n",
       "      <td>0</td>\n",
       "      <td>313996</td>\n",
       "      <td>1507340063155</td>\n",
       "      <td>0.125000</td>\n",
       "      <td>8</td>\n",
       "      <td>0.125</td>\n",
       "      <td>431</td>\n",
       "      <td>0.125</td>\n",
       "    </tr>\n",
       "    <tr>\n",
       "      <th>1352197</th>\n",
       "      <td>0</td>\n",
       "      <td>160158</td>\n",
       "      <td>1507388090915</td>\n",
       "      <td>0.166667</td>\n",
       "      <td>8</td>\n",
       "      <td>0.125</td>\n",
       "      <td>281</td>\n",
       "      <td>0.250</td>\n",
       "    </tr>\n",
       "    <tr>\n",
       "      <th>1352198</th>\n",
       "      <td>0</td>\n",
       "      <td>233470</td>\n",
       "      <td>1507388120915</td>\n",
       "      <td>0.125000</td>\n",
       "      <td>8</td>\n",
       "      <td>0.125</td>\n",
       "      <td>375</td>\n",
       "      <td>0.125</td>\n",
       "    </tr>\n",
       "    <tr>\n",
       "      <th>1535240</th>\n",
       "      <td>0</td>\n",
       "      <td>87224</td>\n",
       "      <td>1507514056617</td>\n",
       "      <td>0.166667</td>\n",
       "      <td>8</td>\n",
       "      <td>0.125</td>\n",
       "      <td>186</td>\n",
       "      <td>0.250</td>\n",
       "    </tr>\n",
       "    <tr>\n",
       "      <th>1535241</th>\n",
       "      <td>0</td>\n",
       "      <td>87205</td>\n",
       "      <td>1507514086617</td>\n",
       "      <td>0.166667</td>\n",
       "      <td>8</td>\n",
       "      <td>0.125</td>\n",
       "      <td>186</td>\n",
       "      <td>0.250</td>\n",
       "    </tr>\n",
       "  </tbody>\n",
       "</table>\n",
       "</div>"
      ],
      "text/plain": [
       "        user_id click_article_id click_timestamp  hmean_rating  nb_cliks_user  \\\n",
       "0             0           157541   1506826828020      0.166667              8   \n",
       "1             0            68866   1506826858020      0.125000              8   \n",
       "1287361       0            96755   1507340033155      0.125000              8   \n",
       "1287362       0           313996   1507340063155      0.125000              8   \n",
       "1352197       0           160158   1507388090915      0.166667              8   \n",
       "1352198       0           233470   1507388120915      0.125000              8   \n",
       "1535240       0            87224   1507514056617      0.166667              8   \n",
       "1535241       0            87205   1507514086617      0.166667              8   \n",
       "\n",
       "         art_rating  category_id  cat_rating  \n",
       "0             0.125          281       0.250  \n",
       "1             0.125          136       0.125  \n",
       "1287361       0.125          209       0.125  \n",
       "1287362       0.125          431       0.125  \n",
       "1352197       0.125          281       0.250  \n",
       "1352198       0.125          375       0.125  \n",
       "1535240       0.125          186       0.250  \n",
       "1535241       0.125          186       0.250  "
      ]
     },
     "execution_count": 42,
     "metadata": {},
     "output_type": "execute_result"
    }
   ],
   "source": [
    "#Remove unused columns\n",
    "all_clicks_df = all_clicks_df.drop(['total_click', 'total_click_by_category_id', 'total_click_on_article_id'], axis=1)\n",
    "\n",
    "all_clicks_df[all_clicks_df['user_id'] == 0]"
   ]
  },
  {
   "cell_type": "code",
   "execution_count": 43,
   "id": "dd65cd75",
   "metadata": {},
   "outputs": [
    {
     "data": {
      "text/plain": [
       "<AxesSubplot:>"
      ]
     },
     "execution_count": 43,
     "metadata": {},
     "output_type": "execute_result"
    },
    {
     "data": {
      "image/png": "[encoded data removed]",
      "text/plain": [
       "<Figure size 432x288 with 1 Axes>"
      ]
     },
     "metadata": {},
     "output_type": "display_data"
    }
   ],
   "source": [
    "import scipy\n",
    "all_clicks_df['hmean_rating'] = scipy.stats.hmean(all_clicks_df[['cat_rating', 'art_rating']], axis=1)\n",
    "all_clicks_df['hmean_rating'].hist()"
   ]
  },
  {
   "cell_type": "code",
   "execution_count": 44,
   "id": "d944ab5f",
   "metadata": {},
   "outputs": [
    {
     "data": {
      "text/plain": [
       "<AxesSubplot:>"
      ]
     },
     "execution_count": 44,
     "metadata": {},
     "output_type": "execute_result"
    },
    {
     "data": {
      "image/png": "[encoded data removed]",
      "text/plain": [
       "<Figure size 432x288 with 1 Axes>"
      ]
     },
     "metadata": {},
     "output_type": "display_data"
    }
   ],
   "source": [
    "all_clicks_df['mean_rating'] = all_clicks_df[['cat_rating', 'art_rating']].mean(axis=1)\n",
    "all_clicks_df['mean_rating'].hist()"
   ]
  },
  {
   "cell_type": "markdown",
   "id": "d4c7fd9e",
   "metadata": {
    "papermill": {
     "duration": 0.052748,
     "end_time": "2021-10-02T15:51:21.782272",
     "exception": false,
     "start_time": "2021-10-02T15:51:21.729524",
     "status": "completed"
    },
    "tags": []
   },
   "source": [
    "We don't need Total_click and total_click_by_category_id anymore."
   ]
  },
  {
   "cell_type": "code",
   "execution_count": 45,
   "id": "4cddd4c7",
   "metadata": {},
   "outputs": [
    {
     "data": {
      "text/html": [
       "<div>\n",
       "<style scoped>\n",
       "    .dataframe tbody tr th:only-of-type {\n",
       "        vertical-align: middle;\n",
       "    }\n",
       "\n",
       "    .dataframe tbody tr th {\n",
       "        vertical-align: top;\n",
       "    }\n",
       "\n",
       "    .dataframe thead th {\n",
       "        text-align: right;\n",
       "    }\n",
       "</style>\n",
       "<table border=\"1\" class=\"dataframe\">\n",
       "  <thead>\n",
       "    <tr style=\"text-align: right;\">\n",
       "      <th></th>\n",
       "      <th>user_id</th>\n",
       "      <th>click_article_id</th>\n",
       "      <th>click_timestamp</th>\n",
       "      <th>hmean_rating</th>\n",
       "      <th>nb_cliks_user</th>\n",
       "      <th>art_rating</th>\n",
       "      <th>category_id</th>\n",
       "      <th>cat_rating</th>\n",
       "      <th>mean_rating</th>\n",
       "    </tr>\n",
       "  </thead>\n",
       "  <tbody>\n",
       "    <tr>\n",
       "      <th>0</th>\n",
       "      <td>0</td>\n",
       "      <td>157541</td>\n",
       "      <td>1506826828020</td>\n",
       "      <td>0.166667</td>\n",
       "      <td>8</td>\n",
       "      <td>0.125000</td>\n",
       "      <td>281</td>\n",
       "      <td>0.250000</td>\n",
       "      <td>0.187500</td>\n",
       "    </tr>\n",
       "    <tr>\n",
       "      <th>1</th>\n",
       "      <td>0</td>\n",
       "      <td>68866</td>\n",
       "      <td>1506826858020</td>\n",
       "      <td>0.125000</td>\n",
       "      <td>8</td>\n",
       "      <td>0.125000</td>\n",
       "      <td>136</td>\n",
       "      <td>0.125000</td>\n",
       "      <td>0.125000</td>\n",
       "    </tr>\n",
       "    <tr>\n",
       "      <th>2</th>\n",
       "      <td>1</td>\n",
       "      <td>235840</td>\n",
       "      <td>1506827017951</td>\n",
       "      <td>0.111111</td>\n",
       "      <td>12</td>\n",
       "      <td>0.083333</td>\n",
       "      <td>375</td>\n",
       "      <td>0.166667</td>\n",
       "      <td>0.125000</td>\n",
       "    </tr>\n",
       "    <tr>\n",
       "      <th>3</th>\n",
       "      <td>1</td>\n",
       "      <td>96663</td>\n",
       "      <td>1506827047951</td>\n",
       "      <td>0.083333</td>\n",
       "      <td>12</td>\n",
       "      <td>0.083333</td>\n",
       "      <td>209</td>\n",
       "      <td>0.083333</td>\n",
       "      <td>0.083333</td>\n",
       "    </tr>\n",
       "    <tr>\n",
       "      <th>4</th>\n",
       "      <td>2</td>\n",
       "      <td>119592</td>\n",
       "      <td>1506827090575</td>\n",
       "      <td>0.250000</td>\n",
       "      <td>4</td>\n",
       "      <td>0.250000</td>\n",
       "      <td>247</td>\n",
       "      <td>0.250000</td>\n",
       "      <td>0.250000</td>\n",
       "    </tr>\n",
       "    <tr>\n",
       "      <th>...</th>\n",
       "      <td>...</td>\n",
       "      <td>...</td>\n",
       "      <td>...</td>\n",
       "      <td>...</td>\n",
       "      <td>...</td>\n",
       "      <td>...</td>\n",
       "      <td>...</td>\n",
       "      <td>...</td>\n",
       "      <td>...</td>\n",
       "    </tr>\n",
       "    <tr>\n",
       "      <th>2988176</th>\n",
       "      <td>10051</td>\n",
       "      <td>84911</td>\n",
       "      <td>1508211557302</td>\n",
       "      <td>0.038265</td>\n",
       "      <td>49</td>\n",
       "      <td>0.020408</td>\n",
       "      <td>174</td>\n",
       "      <td>0.306122</td>\n",
       "      <td>0.163265</td>\n",
       "    </tr>\n",
       "    <tr>\n",
       "      <th>2988177</th>\n",
       "      <td>322896</td>\n",
       "      <td>30760</td>\n",
       "      <td>1508211672520</td>\n",
       "      <td>0.500000</td>\n",
       "      <td>2</td>\n",
       "      <td>0.500000</td>\n",
       "      <td>26</td>\n",
       "      <td>0.500000</td>\n",
       "      <td>0.500000</td>\n",
       "    </tr>\n",
       "    <tr>\n",
       "      <th>2988178</th>\n",
       "      <td>322896</td>\n",
       "      <td>157507</td>\n",
       "      <td>1508211702520</td>\n",
       "      <td>0.500000</td>\n",
       "      <td>2</td>\n",
       "      <td>0.500000</td>\n",
       "      <td>281</td>\n",
       "      <td>0.500000</td>\n",
       "      <td>0.500000</td>\n",
       "    </tr>\n",
       "    <tr>\n",
       "      <th>2988179</th>\n",
       "      <td>123718</td>\n",
       "      <td>234481</td>\n",
       "      <td>1508211513583</td>\n",
       "      <td>0.126984</td>\n",
       "      <td>14</td>\n",
       "      <td>0.071429</td>\n",
       "      <td>375</td>\n",
       "      <td>0.571429</td>\n",
       "      <td>0.321429</td>\n",
       "    </tr>\n",
       "    <tr>\n",
       "      <th>2988180</th>\n",
       "      <td>123718</td>\n",
       "      <td>233578</td>\n",
       "      <td>1508211543583</td>\n",
       "      <td>0.126984</td>\n",
       "      <td>14</td>\n",
       "      <td>0.071429</td>\n",
       "      <td>375</td>\n",
       "      <td>0.571429</td>\n",
       "      <td>0.321429</td>\n",
       "    </tr>\n",
       "  </tbody>\n",
       "</table>\n",
       "<p>2988181 rows × 9 columns</p>\n",
       "</div>"
      ],
      "text/plain": [
       "        user_id click_article_id click_timestamp  hmean_rating  nb_cliks_user  \\\n",
       "0             0           157541   1506826828020      0.166667              8   \n",
       "1             0            68866   1506826858020      0.125000              8   \n",
       "2             1           235840   1506827017951      0.111111             12   \n",
       "3             1            96663   1506827047951      0.083333             12   \n",
       "4             2           119592   1506827090575      0.250000              4   \n",
       "...         ...              ...             ...           ...            ...   \n",
       "2988176   10051            84911   1508211557302      0.038265             49   \n",
       "2988177  322896            30760   1508211672520      0.500000              2   \n",
       "2988178  322896           157507   1508211702520      0.500000              2   \n",
       "2988179  123718           234481   1508211513583      0.126984             14   \n",
       "2988180  123718           233578   1508211543583      0.126984             14   \n",
       "\n",
       "         art_rating  category_id  cat_rating  mean_rating  \n",
       "0          0.125000          281    0.250000     0.187500  \n",
       "1          0.125000          136    0.125000     0.125000  \n",
       "2          0.083333          375    0.166667     0.125000  \n",
       "3          0.083333          209    0.083333     0.083333  \n",
       "4          0.250000          247    0.250000     0.250000  \n",
       "...             ...          ...         ...          ...  \n",
       "2988176    0.020408          174    0.306122     0.163265  \n",
       "2988177    0.500000           26    0.500000     0.500000  \n",
       "2988178    0.500000          281    0.500000     0.500000  \n",
       "2988179    0.071429          375    0.571429     0.321429  \n",
       "2988180    0.071429          375    0.571429     0.321429  \n",
       "\n",
       "[2988181 rows x 9 columns]"
      ]
     },
     "execution_count": 45,
     "metadata": {},
     "output_type": "execute_result"
    }
   ],
   "source": [
    "all_clicks_df"
   ]
  },
  {
   "cell_type": "code",
   "execution_count": 46,
   "id": "e6613f72",
   "metadata": {},
   "outputs": [
    {
     "data": {
      "text/html": [
       "<div>\n",
       "<style scoped>\n",
       "    .dataframe tbody tr th:only-of-type {\n",
       "        vertical-align: middle;\n",
       "    }\n",
       "\n",
       "    .dataframe tbody tr th {\n",
       "        vertical-align: top;\n",
       "    }\n",
       "\n",
       "    .dataframe thead th {\n",
       "        text-align: right;\n",
       "    }\n",
       "</style>\n",
       "<table border=\"1\" class=\"dataframe\">\n",
       "  <thead>\n",
       "    <tr style=\"text-align: right;\">\n",
       "      <th></th>\n",
       "      <th>user_id</th>\n",
       "      <th>click_article_id</th>\n",
       "      <th>click_timestamp</th>\n",
       "      <th>hmean_rating</th>\n",
       "      <th>nb_cliks_user</th>\n",
       "    </tr>\n",
       "  </thead>\n",
       "  <tbody>\n",
       "    <tr>\n",
       "      <th>0</th>\n",
       "      <td>0</td>\n",
       "      <td>157541</td>\n",
       "      <td>1506826828020</td>\n",
       "      <td>0.166667</td>\n",
       "      <td>8</td>\n",
       "    </tr>\n",
       "    <tr>\n",
       "      <th>1</th>\n",
       "      <td>0</td>\n",
       "      <td>68866</td>\n",
       "      <td>1506826858020</td>\n",
       "      <td>0.125000</td>\n",
       "      <td>8</td>\n",
       "    </tr>\n",
       "    <tr>\n",
       "      <th>1287361</th>\n",
       "      <td>0</td>\n",
       "      <td>96755</td>\n",
       "      <td>1507340033155</td>\n",
       "      <td>0.125000</td>\n",
       "      <td>8</td>\n",
       "    </tr>\n",
       "    <tr>\n",
       "      <th>1287362</th>\n",
       "      <td>0</td>\n",
       "      <td>313996</td>\n",
       "      <td>1507340063155</td>\n",
       "      <td>0.125000</td>\n",
       "      <td>8</td>\n",
       "    </tr>\n",
       "    <tr>\n",
       "      <th>1352197</th>\n",
       "      <td>0</td>\n",
       "      <td>160158</td>\n",
       "      <td>1507388090915</td>\n",
       "      <td>0.166667</td>\n",
       "      <td>8</td>\n",
       "    </tr>\n",
       "    <tr>\n",
       "      <th>1352198</th>\n",
       "      <td>0</td>\n",
       "      <td>233470</td>\n",
       "      <td>1507388120915</td>\n",
       "      <td>0.125000</td>\n",
       "      <td>8</td>\n",
       "    </tr>\n",
       "    <tr>\n",
       "      <th>1535240</th>\n",
       "      <td>0</td>\n",
       "      <td>87224</td>\n",
       "      <td>1507514056617</td>\n",
       "      <td>0.166667</td>\n",
       "      <td>8</td>\n",
       "    </tr>\n",
       "    <tr>\n",
       "      <th>1535241</th>\n",
       "      <td>0</td>\n",
       "      <td>87205</td>\n",
       "      <td>1507514086617</td>\n",
       "      <td>0.166667</td>\n",
       "      <td>8</td>\n",
       "    </tr>\n",
       "  </tbody>\n",
       "</table>\n",
       "</div>"
      ],
      "text/plain": [
       "        user_id click_article_id click_timestamp  hmean_rating  nb_cliks_user\n",
       "0             0           157541   1506826828020      0.166667              8\n",
       "1             0            68866   1506826858020      0.125000              8\n",
       "1287361       0            96755   1507340033155      0.125000              8\n",
       "1287362       0           313996   1507340063155      0.125000              8\n",
       "1352197       0           160158   1507388090915      0.166667              8\n",
       "1352198       0           233470   1507388120915      0.125000              8\n",
       "1535240       0            87224   1507514056617      0.166667              8\n",
       "1535241       0            87205   1507514086617      0.166667              8"
      ]
     },
     "execution_count": 46,
     "metadata": {},
     "output_type": "execute_result"
    }
   ],
   "source": [
    "#Remove unused columns\n",
    "all_clicks_df = all_clicks_df.drop(['category_id', 'art_rating', 'cat_rating', 'mean_rating'], axis=1)\n",
    "\n",
    "all_clicks_df[all_clicks_df['user_id'] == 0]"
   ]
  },
  {
   "cell_type": "code",
   "execution_count": 47,
   "id": "95d5612e",
   "metadata": {},
   "outputs": [],
   "source": [
    "all_clicks_df['nb_cliks_user'] = all_clicks_df.groupby('user_id')['user_id'].transform('count')"
   ]
  },
  {
   "cell_type": "code",
   "execution_count": 28,
   "id": "46a6ef0f",
   "metadata": {
    "execution": {
     "iopub.execute_input": "2021-10-02T15:51:21.891294Z",
     "iopub.status.busy": "2021-10-02T15:51:21.890713Z",
     "iopub.status.idle": "2021-10-02T15:51:22.136669Z",
     "shell.execute_reply": "2021-10-02T15:51:22.137244Z",
     "shell.execute_reply.started": "2021-10-02T15:49:26.945297Z"
    },
    "papermill": {
     "duration": 0.301028,
     "end_time": "2021-10-02T15:51:22.137432",
     "exception": false,
     "start_time": "2021-10-02T15:51:21.836404",
     "status": "completed"
    },
    "tags": []
   },
   "outputs": [
    {
     "name": "stdout",
     "output_type": "stream",
     "text": [
      "size of our sample : (1340326, 5)\n"
     ]
    }
   ],
   "source": [
    "#keep only users who clicked on more than 20 articles\n",
    "df = all_clicks_df[all_clicks_df['nb_cliks_user'] > 20]\n",
    "print(f'size of our sample : {df.shape}')"
   ]
  },
  {
   "cell_type": "code",
   "execution_count": 37,
   "id": "ba162e9d",
   "metadata": {},
   "outputs": [
    {
     "name": "stdout",
     "output_type": "stream",
     "text": [
      "number of users : 33292\n",
      "number of articles : 26287\n"
     ]
    }
   ],
   "source": [
    "users = df.user_id.unique().astype(int)\n",
    "articles = df.click_article_id.unique().astype(int)\n",
    "print('number of users :', len(users))\n",
    "print('number of articles :', len(articles))"
   ]
  },
  {
   "cell_type": "code",
   "execution_count": 30,
   "id": "1362f447",
   "metadata": {},
   "outputs": [
    {
     "data": {
      "text/plain": [
       "<AxesSubplot:ylabel='Count'>"
      ]
     },
     "execution_count": 30,
     "metadata": {},
     "output_type": "execute_result"
    },
    {
     "data": {
      "image/png": "[encoded data removed]",
      "text/plain": [
       "<Figure size 432x288 with 1 Axes>"
      ]
     },
     "metadata": {},
     "output_type": "display_data"
    }
   ],
   "source": [
    "sns.histplot(df.click_timestamp.values)"
   ]
  },
  {
   "cell_type": "code",
   "execution_count": 31,
   "id": "e474527f",
   "metadata": {},
   "outputs": [
    {
     "data": {
      "text/plain": [
       "<AxesSubplot:xlabel='user_id', ylabel='Count'>"
      ]
     },
     "execution_count": 31,
     "metadata": {},
     "output_type": "execute_result"
    },
    {
     "data": {
      "image/png": "[encoded data removed]",
      "text/plain": [
       "<Figure size 432x288 with 1 Axes>"
      ]
     },
     "metadata": {},
     "output_type": "display_data"
    }
   ],
   "source": [
    "sns.histplot(df.user_id.value_counts())"
   ]
  },
  {
   "cell_type": "code",
   "execution_count": 48,
   "id": "e2865f8f",
   "metadata": {},
   "outputs": [],
   "source": [
    "rated_articles_by_user = all_clicks_df[['user_id', 'click_article_id', 'hmean_rating']].groupby('user_id').value_counts()"
   ]
  },
  {
   "cell_type": "code",
   "execution_count": 52,
   "id": "13d36db7",
   "metadata": {},
   "outputs": [
    {
     "data": {
      "application/vnd.jupyter.widget-view+json": {
       "model_id": "563062884ef14320902413895be1e50c",
       "version_major": 2,
       "version_minor": 0
      },
      "text/plain": [
       "  0%|          | 0/322897 [00:00<?, ?it/s]"
      ]
     },
     "metadata": {},
     "output_type": "display_data"
    },
    {
     "ename": "NameError",
     "evalue": "name 'top_n' is not defined",
     "output_type": "error",
     "traceback": [
      "\u001b[1;31m---------------------------------------------------------------------------\u001b[0m",
      "\u001b[1;31mNameError\u001b[0m                                 Traceback (most recent call last)",
      "Input \u001b[1;32mIn [52]\u001b[0m, in \u001b[0;36m<cell line: 8>\u001b[1;34m()\u001b[0m\n\u001b[0;32m      6\u001b[0m     top_rated[user] \u001b[38;5;241m=\u001b[39m t\n\u001b[0;32m      8\u001b[0m \u001b[38;5;28;01mwith\u001b[39;00m \u001b[38;5;28mopen\u001b[39m(\u001b[38;5;124m'\u001b[39m\u001b[38;5;124mgenerated/top_rated.json\u001b[39m\u001b[38;5;124m'\u001b[39m, \u001b[38;5;124m'\u001b[39m\u001b[38;5;124mw\u001b[39m\u001b[38;5;124m'\u001b[39m) \u001b[38;5;28;01mas\u001b[39;00m f:\n\u001b[1;32m----> 9\u001b[0m     json\u001b[38;5;241m.\u001b[39mdump(\u001b[43mtop_n\u001b[49m, f)\n",
      "\u001b[1;31mNameError\u001b[0m: name 'top_n' is not defined"
     ]
    }
   ],
   "source": [
    "all_users = all_clicks_df.user_id.unique().astype(int)\n",
    "\n",
    "top_rated = defaultdict(list)\n",
    "for user in tqdm(all_users):\n",
    "    t = list(rated_articles_by_user[user].index.to_frame(False).sort_values('hmean_rating', ascending=False)['click_article_id'].values[:5])\n",
    "    top_rated[user] = t"
   ]
  },
  {
   "cell_type": "code",
   "execution_count": 81,
   "id": "dcc38402",
   "metadata": {},
   "outputs": [
    {
     "data": {
      "application/vnd.jupyter.widget-view+json": {
       "model_id": "350df2876acf49a589235ac8f461fb98",
       "version_major": 2,
       "version_minor": 0
      },
      "text/plain": [
       "  0%|          | 0/322897 [00:00<?, ?it/s]"
      ]
     },
     "metadata": {},
     "output_type": "display_data"
    }
   ],
   "source": [
    "top_rated_b = defaultdict(list)\n",
    "for user in tqdm(all_users):\n",
    "    top_rated_b[int(user)] = [int(iid) for iid in top_rated[user]]"
   ]
  },
  {
   "cell_type": "code",
   "execution_count": 85,
   "id": "23a33935",
   "metadata": {},
   "outputs": [
    {
     "data": {
      "text/plain": [
       "numpy.int64"
      ]
     },
     "execution_count": 85,
     "metadata": {},
     "output_type": "execute_result"
    }
   ],
   "source": [
    "type(top_rated[5][0])"
   ]
  },
  {
   "cell_type": "code",
   "execution_count": 87,
   "id": "fb64db54",
   "metadata": {},
   "outputs": [
    {
     "data": {
      "text/plain": [
       "int"
      ]
     },
     "execution_count": 87,
     "metadata": {},
     "output_type": "execute_result"
    }
   ],
   "source": [
    "type(top_rated_b[5][0])"
   ]
  },
  {
   "cell_type": "code",
   "execution_count": 89,
   "id": "cdab8737",
   "metadata": {},
   "outputs": [],
   "source": [
    "with open('generated/best_articles.json', 'w') as f:\n",
    "    json.dump(top_rated_b, f)"
   ]
  },
  {
   "cell_type": "code",
   "execution_count": 33,
   "id": "cecb4adf",
   "metadata": {},
   "outputs": [
    {
     "name": "stdout",
     "output_type": "stream",
     "text": [
      "TRAIN: 268066 TEST: 268065\n",
      "TRAIN: 536131 TEST: 268065\n",
      "TRAIN: 804196 TEST: 268065\n",
      "TRAIN: 1072261 TEST: 268065\n"
     ]
    }
   ],
   "source": [
    "from sklearn.model_selection import TimeSeriesSplit\n",
    "\n",
    "ids_time_sorted = np.argsort(df.click_timestamp.values)\n",
    "\n",
    "tscv = TimeSeriesSplit(n_splits=4)\n",
    "\n",
    "for train_index, test_index in tscv.split(ids_time_sorted):\n",
    "    print(\"TRAIN:\", len(train_index), \"TEST:\", len(test_index))\n",
    "    test_df = df.iloc[test_index]\n",
    "    train_df = df.iloc[train_index]"
   ]
  },
  {
   "cell_type": "code",
   "execution_count": 34,
   "id": "8258ba55",
   "metadata": {},
   "outputs": [
    {
     "name": "stdout",
     "output_type": "stream",
     "text": [
      "users in train set : 33260\n",
      "users in test set : 28730\n"
     ]
    }
   ],
   "source": [
    "print(\"users in train set :\", len(df.iloc[train_index].user_id.unique()))\n",
    "print(\"users in test set :\", len(df.iloc[test_index].user_id.unique()))"
   ]
  },
  {
   "cell_type": "code",
   "execution_count": 35,
   "id": "c4916b2e",
   "metadata": {
    "scrolled": true
   },
   "outputs": [
    {
     "name": "stdout",
     "output_type": "stream",
     "text": [
      "users present in train set with more than 5 clicks in test set : 20497\n"
     ]
    }
   ],
   "source": [
    "m_user = ((test_df.user_id.value_counts() >= 5) & (train_df.user_id.value_counts() > 1))\n",
    "users = users[m_user]\n",
    "print(\"users present in train set with more than 5 clicks in test set :\", m_user.sum())"
   ]
  },
  {
   "cell_type": "code",
   "execution_count": 36,
   "id": "2717a857",
   "metadata": {},
   "outputs": [],
   "source": [
    "# A reader is still needed but only the rating_scale param is requiered.\n",
    "reader = Reader(rating_scale=(0, 1))\n",
    "\n",
    "#We build datsets from the split dataframes, so they conforme to the surprise models\n",
    "train_set = Dataset.load_from_df(train_df[['user_id', 'click_article_id', 'hmean_rating']], reader)\n",
    "train_set = train_set.build_full_trainset()\n",
    "\n",
    "test_set = Dataset.load_from_df(test_df[['user_id', 'click_article_id', 'hmean_rating']], reader)\n",
    "test_set = test_set.build_full_trainset().build_testset()"
   ]
  },
  {
   "cell_type": "markdown",
   "id": "fb94a78b",
   "metadata": {},
   "source": [
    "## 2.2 SVD (baseline)\n",
    "### 2.3.1 Train Model"
   ]
  },
  {
   "cell_type": "code",
   "execution_count": 38,
   "id": "86038340",
   "metadata": {},
   "outputs": [
    {
     "name": "stdout",
     "output_type": "stream",
     "text": [
      "CPU times: total: 9.7 s\n",
      "Wall time: 9.7 s\n"
     ]
    }
   ],
   "source": [
    "%%time\n",
    "\n",
    "model = SVD().fit(train_set)"
   ]
  },
  {
   "cell_type": "code",
   "execution_count": 146,
   "id": "133582ab",
   "metadata": {
    "scrolled": true
   },
   "outputs": [],
   "source": [
    "#anti_testset = train_set.build_anti_testset()"
   ]
  },
  {
   "cell_type": "code",
   "execution_count": 44,
   "id": "08b9f70d",
   "metadata": {},
   "outputs": [
    {
     "name": "stdout",
     "output_type": "stream",
     "text": [
      "RMSE: 0.0499\n",
      "MSE: 0.0025\n",
      "MAE:  0.0310\n",
      "Prediction rating for User 0 with article 157541 : 0.062173442495222435\n",
      "Current rating : [0.01149425]\n"
     ]
    }
   ],
   "source": [
    "predict = model.test(test_set)\n",
    "\n",
    "#Print our Results\n",
    "accuracy.rmse(predict)\n",
    "accuracy.mse(predict)\n",
    "accuracy.mae(predict);\n",
    "\n",
    "print(f'Prediction rating for User 0 with article 157541 : {model.predict(5, 168868).est}')\n",
    "print(f'Current rating : {df[(df[\"user_id\"] == 5) & (df[\"click_article_id\"] == 168868)][\"hmean_rating\"].values}')"
   ]
  },
  {
   "cell_type": "markdown",
   "id": "df0d1b84",
   "metadata": {},
   "source": [
    "### 2.3.3 Predictions with test set"
   ]
  },
  {
   "cell_type": "code",
   "execution_count": 40,
   "id": "04682e39",
   "metadata": {},
   "outputs": [],
   "source": [
    "articles_by_user_train = train_df[['user_id', 'click_article_id']].groupby('user_id').value_counts()"
   ]
  },
  {
   "cell_type": "code",
   "execution_count": 41,
   "id": "01839c04",
   "metadata": {
    "scrolled": true
   },
   "outputs": [
    {
     "data": {
      "text/plain": [
       "[354541, 124310, 282799, 36294, 237049]"
      ]
     },
     "execution_count": 41,
     "metadata": {},
     "output_type": "execute_result"
    }
   ],
   "source": [
    "def make_recommandation(model, user, num=5):\n",
    "    already_read = np.array(articles_by_user_train[user].index)\n",
    "    pred_user = [model.predict(user, iid) for iid in articles]\n",
    "    pred_user.sort(key=lambda x: x[3], reverse=False)\n",
    "    i = 0\n",
    "    pred_short = []\n",
    "    while i<num:\n",
    "        curr_pred = pred_user.pop()\n",
    "        if curr_pred[1] not in already_read:\n",
    "            pred_short.append(curr_pred[1])\n",
    "            i+=1\n",
    "    return pred_short\n",
    "\n",
    "#%timeit make_recommandation(model, 5)\n",
    "make_recommandation(model, 5)"
   ]
  },
  {
   "cell_type": "code",
   "execution_count": 42,
   "id": "cbfc393a",
   "metadata": {},
   "outputs": [],
   "source": [
    "#Function from https://github.com/NicolasHug/Surprise/blob/master/examples/top_n_recommendations.py\n",
    "def get_top_n(predictions, n=10):\n",
    "    \"\"\"Return the top-N recommendation for each user from a set of predictions.\n",
    "    Args:\n",
    "        predictions(list of Prediction objects): The list of predictions, as\n",
    "            returned by the test method of an algorithm.\n",
    "        n(int): The number of recommendation to output for each user. Default\n",
    "            is 10.\n",
    "    Returns:\n",
    "    A dict where keys are user (raw) ids and values are lists of tuples:\n",
    "        [(raw item id, rating estimation), ...] of size n.\n",
    "    \"\"\"\n",
    "\n",
    "    # First map the predictions to each user.\n",
    "    top_n = defaultdict(list)\n",
    "    for uid, iid, true_r, est, _ in predictions:\n",
    "        top_n[uid].append((iid, est))\n",
    "\n",
    "    # Then sort the predictions for each user and retrieve the k highest ones.\n",
    "    for uid, user_ratings in top_n.items():\n",
    "        user_ratings.sort(key=lambda x: x[1], reverse=True)\n",
    "        top_n[uid] = user_ratings[:n]\n",
    "\n",
    "    return top_n\n",
    "\n",
    "#top_n = get_top_n(predict, n=5)"
   ]
  },
  {
   "cell_type": "code",
   "execution_count": 84,
   "id": "db51968d",
   "metadata": {},
   "outputs": [
    {
     "data": {
      "text/plain": [
       "click_article_id\n",
       "271262    1\n",
       "218028    1\n",
       "235105    1\n",
       "277107    1\n",
       "313920    1\n",
       "331116    1\n",
       "dtype: int64"
      ]
     },
     "execution_count": 84,
     "metadata": {},
     "output_type": "execute_result"
    }
   ],
   "source": [
    "test_df[['user_id', 'click_article_id']].groupby('user_id').value_counts()[25937]"
   ]
  },
  {
   "cell_type": "code",
   "execution_count": 43,
   "id": "f6703ca9",
   "metadata": {},
   "outputs": [],
   "source": [
    "def get_top_n(model, users, num=5):\n",
    "    recs = defaultdict(list)\n",
    "    for uid in tqdm(users):\n",
    "        recs[uid] = make_recommandation(model, uid, num)\n",
    "    return recs\n",
    "#top_n = get_top_n(model, users)"
   ]
  },
  {
   "cell_type": "code",
   "execution_count": 66,
   "id": "ce0c9913",
   "metadata": {},
   "outputs": [],
   "source": [
    "\"\"\"\n",
    "with open('svd_recs.json', 'w') as f:\n",
    "    json.dump(top_n, f)\n",
    "\"\"\""
   ]
  },
  {
   "cell_type": "code",
   "execution_count": 44,
   "id": "ecfc617c",
   "metadata": {},
   "outputs": [
    {
     "data": {
      "text/plain": [
       "20497"
      ]
     },
     "execution_count": 44,
     "metadata": {},
     "output_type": "execute_result"
    }
   ],
   "source": [
    "def load_predictions(json_file):    \n",
    "    with open(json_file, 'r') as f:\n",
    "            str_pred = json.load(f)\n",
    "            pred = defaultdict(list)\n",
    "            for user in str_pred:\n",
    "                pred[int(user)] = str_pred[user]\n",
    "    return pred\n",
    "\n",
    "top_n = load_predictions('svd_recs.json')\n",
    "len(top_n)"
   ]
  },
  {
   "cell_type": "code",
   "execution_count": 52,
   "id": "dc30b37c",
   "metadata": {},
   "outputs": [
    {
     "name": "stdout",
     "output_type": "stream",
     "text": [
      "recommendation for user 25937 : [102856, 273447, 115233, 166031, 21106]\n"
     ]
    }
   ],
   "source": [
    "print('recommendation for user 25937 :', top_n[25937])"
   ]
  },
  {
   "cell_type": "code",
   "execution_count": 45,
   "id": "8946f1f1",
   "metadata": {},
   "outputs": [],
   "source": [
    "articles_test = test_df.click_article_id.values\n",
    "users_test = test_df.user_id.values\n",
    "\n",
    "\"\"\"\n",
    "print('via numpy :')\n",
    "%timeit j = articles[users_test == 34979]\n",
    "print('via numpy + unique test :')\n",
    "%timeit j = np.unique(articles[users_test == 34979])\n",
    "print('via pandas :')\n",
    "%timeit j = test_df[test_df.user_id == 34979].click_article_id.values\n",
    "print('via pandas + unique test :')\n",
    "%timeit j = test_df.click_article_id[test_df.user_id == 34979].values\n",
    "\"\"\"\n",
    "articles_by_user_test = test_df[['user_id', 'click_article_id']].groupby('user_id').value_counts()"
   ]
  },
  {
   "cell_type": "code",
   "execution_count": 46,
   "id": "afef2649",
   "metadata": {},
   "outputs": [
    {
     "data": {
      "text/plain": [
       "array([209122, 211442], dtype=object)"
      ]
     },
     "execution_count": 46,
     "metadata": {},
     "output_type": "execute_result"
    }
   ],
   "source": [
    "def get_read_article(uid, df):\n",
    "    articles = df.click_article_id.values\n",
    "    users = df.user_id.values\n",
    "    return np.unique(articles[users == uid])\n",
    "\n",
    "np.sort(get_read_article(32383, test_df))"
   ]
  },
  {
   "cell_type": "code",
   "execution_count": 47,
   "id": "b849a47a",
   "metadata": {},
   "outputs": [
    {
     "data": {
      "text/plain": [
       "0.0"
      ]
     },
     "execution_count": 47,
     "metadata": {},
     "output_type": "execute_result"
    }
   ],
   "source": [
    "def rate_prediction(predicted, real):\n",
    "    return len([iid for iid in predicted if iid in real])/len(predicted)\n",
    "\n",
    "rate_prediction(top_n[5], get_read_article(5, test_df))"
   ]
  },
  {
   "cell_type": "code",
   "execution_count": 48,
   "id": "358b8666",
   "metadata": {},
   "outputs": [],
   "source": [
    "def global_precision_score(pred, test_data):\n",
    "    score = 0\n",
    "    counter = 0\n",
    "    articles_by_user = test_data[['user_id', 'click_article_id']].groupby('user_id').value_counts()\n",
    "    for user in tqdm(pred):\n",
    "        #print(type(user))\n",
    "        recs = pred[user]\n",
    "        real = np.array(articles_by_user[user].index)\n",
    "        if len(real) >= len(recs):\n",
    "            #print(user, recs, real, rate_prediction(recs, real))\n",
    "            score += rate_prediction(recs, real)\n",
    "            counter +=1\n",
    "    print(counter, \"users analysed\")\n",
    "    return score/counter"
   ]
  },
  {
   "cell_type": "code",
   "execution_count": 96,
   "id": "024d7c30",
   "metadata": {},
   "outputs": [
    {
     "data": {
      "application/vnd.jupyter.widget-view+json": {
       "model_id": "61822e48149a4421aec47d83e794b847",
       "version_major": 2,
       "version_minor": 0
      },
      "text/plain": [
       "  0%|          | 0/20497 [00:00<?, ?it/s]"
      ]
     },
     "metadata": {},
     "output_type": "display_data"
    },
    {
     "name": "stdout",
     "output_type": "stream",
     "text": [
      "20451 users analysed\n"
     ]
    },
    {
     "data": {
      "text/plain": [
       "0.0001955894577282285"
      ]
     },
     "execution_count": 96,
     "metadata": {},
     "output_type": "execute_result"
    }
   ],
   "source": [
    "global_precision_score(top_n, test_df)"
   ]
  },
  {
   "cell_type": "markdown",
   "id": "bdd42d7e",
   "metadata": {},
   "source": [
    "## 2.3 KNNWithMeans (Collaborative model)\n",
    "### 2.3.1 Train Model"
   ]
  },
  {
   "cell_type": "code",
   "execution_count": 98,
   "id": "4f617462",
   "metadata": {},
   "outputs": [
    {
     "name": "stdout",
     "output_type": "stream",
     "text": [
      "Computing the cosine similarity matrix...\n",
      "Done computing similarity matrix.\n",
      "CPU times: total: 20 s\n",
      "Wall time: 20.5 s\n"
     ]
    }
   ],
   "source": [
    "%%time \n",
    "\n",
    "# To use item-based cosine similarity\n",
    "sim_options = {\n",
    "    \"name\": \"cosine\",\n",
    "    \"user_based\": False,  # Compute similarities between items\n",
    "}\n",
    "\n",
    "model_knn = KNNWithMeans(sim_options=sim_options).fit(train_set)"
   ]
  },
  {
   "cell_type": "markdown",
   "id": "99ba9c50",
   "metadata": {},
   "source": [
    "### 2.3.2 Results"
   ]
  },
  {
   "cell_type": "code",
   "execution_count": 99,
   "id": "2f9bbfe5",
   "metadata": {},
   "outputs": [
    {
     "name": "stdout",
     "output_type": "stream",
     "text": [
      "RMSE: 0.0164\n",
      "MSE: 0.0003\n",
      "MAE:  0.0124\n"
     ]
    },
    {
     "data": {
      "text/plain": [
       "0.012359779205268831"
      ]
     },
     "execution_count": 99,
     "metadata": {},
     "output_type": "execute_result"
    }
   ],
   "source": [
    "predict = model_knn.test(test_set)\n",
    "\n",
    "#Print our Results\n",
    "accuracy.rmse(predict)\n",
    "accuracy.mse(predict)\n",
    "accuracy.mae(predict);"
   ]
  },
  {
   "cell_type": "markdown",
   "id": "e8c93d8b",
   "metadata": {},
   "source": [
    "### 2.3.3 Analyse des recommandations"
   ]
  },
  {
   "cell_type": "code",
   "execution_count": 100,
   "id": "4b4e0752",
   "metadata": {},
   "outputs": [
    {
     "data": {
      "application/vnd.jupyter.widget-view+json": {
       "model_id": "e07e44c9be454550b4ce6d89e4934fde",
       "version_major": 2,
       "version_minor": 0
      },
      "text/plain": [
       "  0%|          | 0/20497 [00:00<?, ?it/s]"
      ]
     },
     "metadata": {},
     "output_type": "display_data"
    }
   ],
   "source": [
    "#top_n_knn = get_top_n(model_knn, users, 5)"
   ]
  },
  {
   "cell_type": "code",
   "execution_count": 102,
   "id": "54d11535",
   "metadata": {},
   "outputs": [
    {
     "name": "stdout",
     "output_type": "stream",
     "text": [
      "recommendation for user 5 : [132196, 110629, 297346, 117846, 293205]\n"
     ]
    }
   ],
   "source": [
    "print('recommendation for user 5 :', top_n[5])"
   ]
  },
  {
   "cell_type": "code",
   "execution_count": 103,
   "id": "2fd3bc18",
   "metadata": {},
   "outputs": [],
   "source": [
    "\"\"\"\n",
    "with open('knn_recs.json', 'w') as f:\n",
    "    json.dump(top_n, f)\n",
    "\"\"\""
   ]
  },
  {
   "cell_type": "code",
   "execution_count": 56,
   "id": "bc31711f",
   "metadata": {},
   "outputs": [],
   "source": [
    "top_n_knn = load_predictions('knn_recs.json')"
   ]
  },
  {
   "cell_type": "code",
   "execution_count": 57,
   "id": "a1e72b09",
   "metadata": {},
   "outputs": [
    {
     "data": {
      "text/plain": [
       "[132196, 110629, 297346, 117846, 293205]"
      ]
     },
     "execution_count": 57,
     "metadata": {},
     "output_type": "execute_result"
    }
   ],
   "source": [
    "top_n_knn[5]"
   ]
  },
  {
   "cell_type": "code",
   "execution_count": 58,
   "id": "a6e95774",
   "metadata": {},
   "outputs": [
    {
     "data": {
      "application/vnd.jupyter.widget-view+json": {
       "model_id": "0b8db28fb5324ffa930415a50c4ad021",
       "version_major": 2,
       "version_minor": 0
      },
      "text/plain": [
       "  0%|          | 0/20497 [00:00<?, ?it/s]"
      ]
     },
     "metadata": {},
     "output_type": "display_data"
    },
    {
     "name": "stdout",
     "output_type": "stream",
     "text": [
      "20451 users analysed\n"
     ]
    },
    {
     "data": {
      "text/plain": [
       "0.0001955894577282285"
      ]
     },
     "execution_count": 58,
     "metadata": {},
     "output_type": "execute_result"
    }
   ],
   "source": [
    "global_precision_score(top_n_knn, test_df)"
   ]
  },
  {
   "cell_type": "code",
   "execution_count": 108,
   "id": "e955f0a3",
   "metadata": {},
   "outputs": [
    {
     "data": {
      "text/plain": [
       "[132196, 110629, 297346, 117846, 293205]"
      ]
     },
     "execution_count": 108,
     "metadata": {},
     "output_type": "execute_result"
    }
   ],
   "source": [
    "top_n[5]"
   ]
  },
  {
   "cell_type": "code",
   "execution_count": 67,
   "id": "93b340c4",
   "metadata": {},
   "outputs": [
    {
     "name": "stdout",
     "output_type": "stream",
     "text": [
      "recommandations pour l'utlisateur 5 avec KNNmeans : [132196, 110629, 297346, 117846, 293205]\n",
      "recommandations pour l'utlisateur 5 avec SVD      : [132196, 110629, 297346, 117846, 293205]\n"
     ]
    }
   ],
   "source": [
    "print(\"recommandations pour l'utlisateur 5 avec KNNmeans :\", top_n_knn[5])\n",
    "print(\"recommandations pour l'utlisateur 5 avec SVD      :\", top_n[5])"
   ]
  },
  {
   "cell_type": "code",
   "execution_count": 64,
   "id": "0c8deecc",
   "metadata": {},
   "outputs": [
    {
     "name": "stdout",
     "output_type": "stream",
     "text": [
      "pourcentage de recommandations identiques entre KNNmeans et SVD : 100.0\n"
     ]
    }
   ],
   "source": [
    "same_pred_counter = 0\n",
    "for user in users:\n",
    "    same_pred_counter += int(top_n[user] == top_n_knn[user])\n",
    "same_pred_counter /= len(users)  / 100\n",
    "print(\"pourcentage de recommandations identiques entre KNNmeans et SVD :\", same_pred_counter)"
   ]
  },
  {
   "cell_type": "markdown",
   "id": "ffc16984",
   "metadata": {},
   "source": [
    "## 2.4 Content-Based Filtering"
   ]
  },
  {
   "cell_type": "code",
   "execution_count": 57,
   "id": "7a360f9c",
   "metadata": {},
   "outputs": [
    {
     "data": {
      "text/plain": [
       "(26287, 250)"
      ]
     },
     "execution_count": 57,
     "metadata": {},
     "output_type": "execute_result"
    }
   ],
   "source": [
    "word_embed = pd.read_pickle('news-portal-user-interactions-by-globocom/articles_embeddings.pickle')\n",
    "word_embed = word_embed[articles]\n",
    "word_embed.shape"
   ]
  },
  {
   "cell_type": "code",
   "execution_count": 80,
   "id": "b7460bfe",
   "metadata": {},
   "outputs": [
    {
     "data": {
      "text/plain": [
       "user_id  click_article_id  hmean_rating\n",
       "0        68866             0.125000        1\n",
       "         87224             0.166667        1\n",
       "         96755             0.125000        1\n",
       "         157541            0.166667        1\n",
       "         160158            0.166667        1\n",
       "                                          ..\n",
       "322894   168401            0.500000        1\n",
       "322895   63746             0.500000        1\n",
       "         289197            0.500000        1\n",
       "322896   30760             0.500000        1\n",
       "         157507            0.500000        1\n",
       "Length: 2950710, dtype: int64"
      ]
     },
     "execution_count": 80,
     "metadata": {},
     "output_type": "execute_result"
    }
   ],
   "source": [
    "rated_articles_by_user"
   ]
  },
  {
   "cell_type": "code",
   "execution_count": 78,
   "id": "5730dc9c",
   "metadata": {},
   "outputs": [],
   "source": [
    "rated_articles_by_user_train = train_df[['user_id', 'click_article_id', 'hmean_rating']].groupby('user_id').value_counts()"
   ]
  },
  {
   "cell_type": "code",
   "execution_count": 60,
   "id": "c162ef91",
   "metadata": {},
   "outputs": [],
   "source": [
    "top_rated = defaultdict(list)\n",
    "for user in tqdm(users):\n",
    "    t = list(rated_articles_by_user_train[user].index.to_frame(False).sort_values('hmean_rating', ascending=False)['click_article_id'].values[:5])\n",
    "    top_rated[user] = t\n",
    "    \n",
    "with open('generated/best_articles.json', 'w') as f:\n",
    "    json.dump(top_rated, f)"
   ]
  },
  {
   "cell_type": "code",
   "execution_count": 61,
   "id": "91ed664f",
   "metadata": {},
   "outputs": [
    {
     "data": {
      "text/plain": [
       "'[284664 348128  36399 162663 156672]'"
      ]
     },
     "execution_count": 61,
     "metadata": {},
     "output_type": "execute_result"
    }
   ],
   "source": [
    "str(np.array(top_rated[5]))"
   ]
  },
  {
   "cell_type": "code",
   "execution_count": 112,
   "id": "b5136c1c",
   "metadata": {},
   "outputs": [
    {
     "data": {
      "text/plain": [
       "array([284664, 348128,  36399, 162663, 156672], dtype=int64)"
      ]
     },
     "execution_count": 112,
     "metadata": {},
     "output_type": "execute_result"
    }
   ],
   "source": [
    "v.to_frame(False).sort_values('hmean_rating', ascending=False)['click_article_id'].values[:5]"
   ]
  },
  {
   "cell_type": "code",
   "execution_count": 63,
   "id": "e3bfc999",
   "metadata": {},
   "outputs": [
    {
     "name": "stdout",
     "output_type": "stream",
     "text": [
      "24.2 ms ± 365 µs per loop (mean ± std. dev. of 7 runs, 10 loops each)\n"
     ]
    },
    {
     "data": {
      "text/plain": [
       "array([159761, 156672, 285233, 283276,  62132])"
      ]
     },
     "execution_count": 63,
     "metadata": {},
     "output_type": "execute_result"
    }
   ],
   "source": [
    "def get_recs_wordembed(word_embed, user, num=5):\n",
    "    top_rated = rated_articles_by_user_train[user].index.to_frame(False).sort_values('hmean_rating', ascending=False)['click_article_id'].values[:num]\n",
    "    profile_article = word_embed[[articles_rev[iid] for iid in top_rated]].mean(axis=0)\n",
    "    sim = cosine_similarity(profile_article.reshape(1,-1), word_embed)[0]\n",
    "    return articles[np.argsort(sim)[-num:]]\n",
    "\n",
    "%timeit get_recs_wordembed(word_embed, 5)\n",
    "get_recs_wordembed(word_embed, 5)"
   ]
  },
  {
   "cell_type": "code",
   "execution_count": 81,
   "id": "03ce1db9",
   "metadata": {},
   "outputs": [
    {
     "data": {
      "application/vnd.jupyter.widget-view+json": {
       "model_id": "fd79b279ab564776bd88deb904eb6827",
       "version_major": 2,
       "version_minor": 0
      },
      "text/plain": [
       "  0%|          | 0/20497 [00:00<?, ?it/s]"
      ]
     },
     "metadata": {},
     "output_type": "display_data"
    }
   ],
   "source": [
    "def get_top_n_wordembed(word_embed, users, num=5):\n",
    "    recs = defaultdict(list)\n",
    "    for uid in tqdm(users):\n",
    "        recs[int(uid)] = list(get_recs_wordembed(word_embed, uid, num))\n",
    "    return recs\n",
    "\n",
    "top_n_wordembed = get_top_n_wordembed(word_embed, users, 5)"
   ]
  },
  {
   "cell_type": "code",
   "execution_count": 82,
   "id": "d45139b6",
   "metadata": {},
   "outputs": [
    {
     "data": {
      "text/plain": [
       "defaultdict(list,\n",
       "            {5: [159761, 156672, 285233, 283276, 62132],\n",
       "             7: [278860, 106880, 158999, 284844, 282750],\n",
       "             8: [233769, 236103, 235230, 237201, 234193],\n",
       "             10: [198859, 200023, 198420, 199435, 198807],\n",
       "             11: [206661, 207982, 206492, 208169, 207757],\n",
       "             12: [233658, 236877, 235480, 233446, 237612],\n",
       "             16: [162286, 158657, 157735, 157725, 161766],\n",
       "             17: [363887, 157927, 157339, 161096, 157501],\n",
       "             19: [337087, 336587, 336220, 337316, 337643],\n",
       "             22: [233605, 237279, 236511, 236825, 235703],\n",
       "             23: [338340, 337763, 337746, 337867, 337058],\n",
       "             24: [207227, 206627, 206735, 159465, 207424],\n",
       "             32: [288984, 288843, 288320, 288321, 288260],\n",
       "             40: [156355, 158915, 160966, 162369, 158750],\n",
       "             42: [284346, 281820, 283978, 285760, 283794],\n",
       "             44: [157541, 162321, 161580, 158094, 159495],\n",
       "             48: [123757, 124177, 272999, 124755, 124228],\n",
       "             50: [162571, 162089, 159137, 158174, 158208],\n",
       "             51: [284547, 285587, 286161, 284396, 282750],\n",
       "             55: [157444, 161927, 207129, 207593, 206291],\n",
       "             59: [235546, 236645, 234987, 235936, 236289],\n",
       "             61: [208531, 205377, 208169, 205987, 207778],\n",
       "             64: [292620, 292978, 292981, 292942, 292613],\n",
       "             69: [270850, 274151, 272660, 273464, 272248],\n",
       "             77: [336362, 337277, 338164, 336430, 336431],\n",
       "             78: [158616, 160974, 156453, 161552, 158338],\n",
       "             89: [235669, 236444, 236289, 236171, 237279],\n",
       "             94: [206120, 208235, 207887, 206407, 207757],\n",
       "             98: [313218, 314807, 313242, 312896, 313995],\n",
       "             102: [160974, 156355, 158338, 159034, 157541],\n",
       "             104: [32750, 31097, 30895, 30446, 30510],\n",
       "             113: [157759, 159875, 159167, 162026, 157077],\n",
       "             117: [158261, 157261, 162200, 158331, 160966],\n",
       "             119: [158723, 158657, 161580, 162605, 157735],\n",
       "             120: [337051, 336964, 336928, 336380, 337830],\n",
       "             121: [236444, 236613, 236482, 236289, 236553],\n",
       "             122: [102981, 363910, 238165, 237618, 87174],\n",
       "             126: [255173, 255007, 254462, 255167, 255159],\n",
       "             127: [162300, 157332, 161801, 156457, 160140],\n",
       "             135: [234908, 235322, 235440, 235230, 234432],\n",
       "             136: [353190, 353856, 353433, 352902, 354086],\n",
       "             137: [337465, 337051, 336806, 337849, 336223],\n",
       "             140: [159944, 70397, 155096, 159407, 157500],\n",
       "             143: [161019, 158331, 158261, 162300, 159582],\n",
       "             144: [159764, 158040, 162585, 159805, 161019],\n",
       "             145: [235041, 227879, 236553, 235524, 235777],\n",
       "             146: [161801, 162117, 158187, 160416, 159938],\n",
       "             149: [157541, 159764, 162655, 161100, 160974],\n",
       "             152: [106996, 102848, 70144, 206684, 106906],\n",
       "             153: [160250, 162117, 160974, 161100, 162300],\n",
       "             154: [336698, 337849, 336873, 336664, 338201],\n",
       "             157: [273348, 271692, 271558, 272660, 271672],\n",
       "             169: [140678, 141416, 123368, 140676, 140528],\n",
       "             172: [236613, 286310, 236439, 283595, 279145],\n",
       "             183: [162413, 159495, 162369, 161100, 156355],\n",
       "             184: [230836, 235877, 236189, 236613, 235451],\n",
       "             185: [205866, 206999, 206492, 205958, 206639],\n",
       "             186: [156639, 235294, 158040, 160966, 158993],\n",
       "             188: [123698, 123826, 123289, 123909, 123756],\n",
       "             189: [214474, 201911, 283276, 315099, 214513],\n",
       "             190: [206526, 208531, 207757, 208235, 205901],\n",
       "             191: [208156, 207227, 206735, 207994, 206407],\n",
       "             196: [207209, 205845, 206457, 207887, 206639],\n",
       "             200: [161766, 161270, 158723, 160337, 157076],\n",
       "             201: [158911, 155096, 162605, 160474, 161019],\n",
       "             203: [285444, 282917, 283041, 286209, 285446],\n",
       "             206: [31068, 32292, 32517, 31817, 30367],\n",
       "             208: [159450, 162483, 156271, 158149, 159622],\n",
       "             210: [282606, 284547, 286394, 284396, 285719],\n",
       "             211: [206120, 206735, 207994, 208048, 206624],\n",
       "             212: [237437, 237279, 234128, 234481, 236862],\n",
       "             217: [236289, 236103, 236629, 236877, 234267],\n",
       "             219: [206492, 207887, 206194, 206639, 206845],\n",
       "             221: [158723, 159407, 159645, 158915, 156355],\n",
       "             225: [237437, 234778, 236289, 233769, 236645],\n",
       "             237: [156447, 161100, 159762, 156808, 156654],\n",
       "             238: [162655, 156624, 161100, 160974, 162338],\n",
       "             243: [159197, 156623, 157973, 160132, 160940],\n",
       "             244: [84153, 84634, 84905, 84770, 84238],\n",
       "             248: [304576, 304583, 304382, 304543, 304065],\n",
       "             249: [157541, 160974, 160131, 161100, 160132],\n",
       "             255: [284440, 280614, 284672, 286161, 285750],\n",
       "             260: [236342, 236415, 236086, 237437, 233769],\n",
       "             264: [158750, 159195, 156355, 160974, 158993],\n",
       "             265: [237279, 236179, 234778, 236613, 235383],\n",
       "             269: [159764, 162369, 157541, 158208, 161100],\n",
       "             270: [336220, 283192, 286077, 284847, 284845],\n",
       "             273: [231648, 237582, 100925, 234268, 234813],\n",
       "             274: [157927, 159137, 160132, 158536, 160131],\n",
       "             280: [161019, 159495, 162369, 156355, 157541],\n",
       "             281: [236629, 236877, 232150, 235859, 236294],\n",
       "             286: [123957, 124661, 123801, 124372, 123921],\n",
       "             290: [235936, 234128, 234338, 234193, 233769],\n",
       "             292: [285627, 281820, 284018, 283300, 281356],\n",
       "             293: [235270, 230265, 234269, 237264, 236140],\n",
       "             295: [336587, 336223, 338013, 337746, 336245],\n",
       "             297: [107151, 160377, 149711, 200810, 159310],\n",
       "             298: [203413, 202428, 207828, 202388, 202338],\n",
       "             300: [157541, 162286, 158915, 162338, 162035],\n",
       "             301: [15653, 16463, 16084, 14394, 13856],\n",
       "             302: [207349, 206808, 208232, 208562, 206414],\n",
       "             311: [48039, 48333, 47718, 48520, 48973],\n",
       "             313: [284985, 282853, 285997, 286176, 285587],\n",
       "             318: [283009, 283928, 286394, 285101, 285719],\n",
       "             325: [95834, 95507, 95987, 271118, 95716],\n",
       "             326: [157861, 158614, 160974, 158040, 159881],\n",
       "             331: [236244, 230265, 236629, 234267, 234269],\n",
       "             332: [160132, 161019, 158614, 160131, 158040],\n",
       "             333: [124667, 123826, 159119, 156610, 162017],\n",
       "             338: [218330, 218144, 218508, 218143, 218331],\n",
       "             341: [230836, 236613, 236511, 237279, 233478],\n",
       "             345: [96694, 235041, 234415, 237289, 235847],\n",
       "             348: [159034, 156355, 162369, 157541, 161100],\n",
       "             349: [156560, 159762, 160132, 158536, 161100],\n",
       "             350: [285635, 209348, 202746, 202436, 208480],\n",
       "             355: [194197, 195984, 195804, 194972, 194292],\n",
       "             359: [69649, 66252, 68428, 69279, 68816],\n",
       "             364: [198859, 198820, 199855, 198868, 199766],\n",
       "             366: [158915, 155144, 156910, 162286, 159137],\n",
       "             367: [48791, 48852, 49012, 48970, 48565],\n",
       "             369: [282761, 284490, 285818, 284168, 338339],\n",
       "             371: [30169, 30446, 31500, 30207, 30956],\n",
       "             376: [284339, 284361, 284474, 286161, 285444],\n",
       "             379: [236289, 237279, 236206, 236207, 233420],\n",
       "             388: [207887, 209236, 206407, 205837, 208048],\n",
       "             402: [162338, 158882, 158536, 158338, 157541],\n",
       "             405: [162338, 162655, 157541, 158338, 160474],\n",
       "             409: [237293, 236502, 235440, 236289, 230265],\n",
       "             413: [337187, 336574, 336430, 338020, 336972],\n",
       "             417: [202370, 202388, 202652, 202455, 202557],\n",
       "             422: [236553, 236446, 235616, 235777, 234819],\n",
       "             428: [157078, 158911, 156389, 158723, 160154],\n",
       "             432: [157735, 161270, 161091, 160966, 162286],\n",
       "             434: [158634, 160974, 158394, 158622, 160131],\n",
       "             442: [207282, 208071, 208063, 208197, 206627],\n",
       "             447: [162338, 159805, 161100, 156658, 162655],\n",
       "             448: [123826, 123290, 124749, 124350, 123289],\n",
       "             453: [288965, 330708, 235799, 288431, 348113],\n",
       "             459: [236904, 235363, 235240, 236613, 236365],\n",
       "             463: [236613, 234318, 236289, 237825, 236688],\n",
       "             464: [336220, 337563, 336223, 338013, 337746],\n",
       "             468: [158331, 156639, 158657, 157735, 161169],\n",
       "             476: [175201, 174660, 169116, 175040, 172121],\n",
       "             477: [158094, 159137, 157735, 161602, 161019],\n",
       "             480: [119491, 119056, 119291, 118294, 118697],\n",
       "             483: [233926, 235480, 236512, 233769, 234413],\n",
       "             484: [271371, 270958, 273273, 270609, 273348],\n",
       "             485: [159299, 156622, 156623, 157541, 160131],\n",
       "             496: [236289, 236877, 230265, 234269, 234819],\n",
       "             497: [201911, 161868, 159166, 157725, 160940],\n",
       "             499: [311487, 314882, 309931, 310696, 312199],\n",
       "             500: [237437, 236289, 236511, 236482, 236553],\n",
       "             504: [160974, 159805, 157541, 160132, 161100],\n",
       "             508: [118633, 118883, 119107, 118832, 119057],\n",
       "             509: [283667, 285007, 285446, 286336, 286209],\n",
       "             512: [235649, 230265, 234269, 236289, 236613],\n",
       "             517: [14644, 15637, 17001, 15665, 16981],\n",
       "             518: [162444, 156381, 156210, 162384, 162276],\n",
       "             520: [124204, 124549, 123289, 124337, 124176],\n",
       "             521: [285641, 286060, 286161, 283039, 284984],\n",
       "             524: [236565, 233658, 230265, 236613, 237582],\n",
       "             529: [95997, 95720, 96059, 96487, 96186],\n",
       "             532: [158973, 161915, 161100, 149989, 158619],\n",
       "             535: [208048, 205866, 207282, 207299, 207757],\n",
       "             539: [361441, 360701, 361107, 361301, 361264],\n",
       "             540: [205847, 205861, 206639, 206194, 207887],\n",
       "             556: [233689, 236766, 237825, 235069, 236289],\n",
       "             557: [98148, 103142, 103065, 107212, 284489],\n",
       "             561: [237279, 236167, 236512, 230836, 234651],\n",
       "             564: [299487, 300356, 299463, 300923, 300470],\n",
       "             568: [217852, 284178, 272755, 283027, 273665],\n",
       "             581: [158915, 162369, 157541, 161019, 156355],\n",
       "             585: [206707, 207141, 207963, 207982, 205987],\n",
       "             586: [158631, 156457, 162286, 155685, 156173],\n",
       "             593: [159775, 157735, 158657, 158723, 157541],\n",
       "             595: [283039, 285342, 283667, 284984, 286161],\n",
       "             598: [237825, 235373, 236478, 234443, 236444],\n",
       "             605: [235373, 237825, 236478, 235859, 234443],\n",
       "             607: [336761, 337735, 338040, 337878, 337437],\n",
       "             612: [128260, 124194, 128957, 127123, 132921],\n",
       "             620: [124755, 124196, 124353, 124177, 123826],\n",
       "             621: [236552, 234819, 235777, 235616, 236553],\n",
       "             629: [235154, 233689, 236478, 235141, 236444],\n",
       "             639: [16093, 16735, 15133, 15637, 15130],\n",
       "             642: [285563, 283642, 285810, 283779, 284847],\n",
       "             647: [118495, 119586, 207714, 208572, 208530],\n",
       "             651: [236512, 229462, 234968, 235453, 235872],\n",
       "             653: [159805, 157541, 159762, 161100, 156447],\n",
       "             654: [161019, 159805, 157541, 160131, 158536],\n",
       "             656: [235470, 234269, 236629, 230265, 236289],\n",
       "             657: [158850, 161858, 160974, 159299, 162655],\n",
       "             659: [159407, 282750, 284844, 156216, 158999],\n",
       "             667: [202338, 207720, 202428, 202436, 202676],\n",
       "             668: [153209, 162018, 161199, 158180, 159407],\n",
       "             671: [273273, 271140, 271568, 272955, 273256],\n",
       "             673: [159914, 150018, 161915, 160940, 283276],\n",
       "             675: [236565, 236289, 236552, 233446, 236648],\n",
       "             680: [194400, 195789, 195989, 194218, 195642],\n",
       "             681: [206566, 159167, 158546, 159912, 159715],\n",
       "             686: [207887, 207469, 205847, 206639, 207282],\n",
       "             687: [123290, 124350, 123374, 124204, 124749],\n",
       "             688: [283230, 283928, 278872, 282606, 284164],\n",
       "             692: [282761, 282685, 159875, 284847, 284371],\n",
       "             693: [158619, 162005, 156103, 157185, 158794],\n",
       "             702: [236553, 234195, 236511, 235777, 236289],\n",
       "             709: [162200, 160974, 157541, 157076, 156843],\n",
       "             712: [49067, 48973, 48852, 48543, 48673],\n",
       "             727: [158212, 161019, 156807, 158261, 157733],\n",
       "             728: [198867, 198159, 198659, 198355, 198333],\n",
       "             733: [166051, 159581, 161229, 160132, 158040],\n",
       "             737: [96491, 95997, 96742, 96653, 96576],\n",
       "             740: [15353, 15665, 14007, 16753, 16981],\n",
       "             743: [286394, 283039, 283009, 284396, 285101],\n",
       "             745: [158999, 160940, 156216, 285641, 284371],\n",
       "             751: [293018, 292904, 293348, 293114, 293173],\n",
       "             754: [159881, 157541, 160132, 156718, 160131],\n",
       "             761: [283779, 282949, 283086, 283642, 285641],\n",
       "             762: [158559, 160341, 155096, 159137, 161868],\n",
       "             765: [236446, 236289, 234195, 234481, 235470],\n",
       "             771: [156123, 160377, 157770, 156963, 156654],\n",
       "             772: [166177, 160974, 159581, 237264, 160132],\n",
       "             775: [234267, 237209, 236342, 233769, 236511],\n",
       "             785: [337024, 337051, 337263, 338164, 337055],\n",
       "             786: [159762, 156560, 160132, 160974, 161100],\n",
       "             787: [236522, 236799, 236511, 233769, 233717],\n",
       "             789: [283595, 235230, 234778, 237279, 234193],\n",
       "             792: [102863, 107209, 234633, 234409, 102810],\n",
       "             794: [207760, 285360, 284367, 285627, 284471],\n",
       "             795: [159764, 162655, 162338, 161100, 160974],\n",
       "             796: [157541, 159762, 158536, 162338, 160974],\n",
       "             797: [124177, 124196, 123757, 123368, 124228],\n",
       "             807: [158536, 161100, 160132, 160974, 156560],\n",
       "             814: [237612, 236883, 235777, 235616, 236553],\n",
       "             816: [161337, 160131, 161580, 155096, 162300],\n",
       "             817: [282750, 283039, 284547, 284396, 285641],\n",
       "             818: [160132, 156447, 161100, 158536, 159762],\n",
       "             820: [284990, 284374, 284474, 283327, 286108],\n",
       "             823: [57782, 57657, 58668, 59246, 58699],\n",
       "             824: [160132, 162286, 158536, 162338, 157541],\n",
       "             825: [162585, 158723, 162200, 156355, 157541],\n",
       "             827: [270609, 270958, 273201, 272660, 270589],\n",
       "             829: [160131, 162755, 160096, 160474, 162655],\n",
       "             831: [158915, 159495, 158750, 160783, 159450],\n",
       "             837: [174500, 173545, 169174, 173904, 172247],\n",
       "             838: [160807, 159582, 158331, 158723, 157735],\n",
       "             846: [206735, 206407, 206845, 206194, 207887],\n",
       "             847: [57782, 59574, 57871, 58609, 57474],\n",
       "             850: [108854, 108853, 108830, 108855, 108856],\n",
       "             851: [206492, 208071, 206104, 206194, 206315],\n",
       "             852: [237429, 283595, 283458, 284629, 284622],\n",
       "             856: [156355, 159299, 160132, 156623, 160131],\n",
       "             861: [236289, 237257, 237279, 236207, 236613],\n",
       "             865: [237201, 235669, 234193, 236512, 233769],\n",
       "             869: [293403, 293003, 293173, 292749, 292622],\n",
       "             876: [234411, 236511, 235669, 236565, 233446],\n",
       "             883: [150672, 156654, 159762, 162351, 162300],\n",
       "             884: [159762, 157541, 160974, 160132, 161100],\n",
       "             887: [234270, 236289, 237279, 237727, 230836],\n",
       "             888: [158208, 157735, 157555, 162605, 157541],\n",
       "             889: [206194, 206492, 208150, 207887, 206639],\n",
       "             891: [157541, 156453, 161506, 157735, 158657],\n",
       "             893: [161100, 160132, 160974, 162765, 156560],\n",
       "             895: [272733, 270857, 271705, 272660, 274078],\n",
       "             905: [119248, 118857, 118190, 118719, 119008],\n",
       "             907: [160409, 102981, 103095, 161592, 87232],\n",
       "             911: [237279, 236206, 236289, 236207, 234432],\n",
       "             916: [59758, 285619, 285164, 284374, 284622],\n",
       "             919: [159943, 160377, 159197, 154926, 157063],\n",
       "             920: [336221, 338040, 338013, 337563, 337746],\n",
       "             926: [124204, 156200, 156610, 161868, 156718],\n",
       "             942: [206194, 207353, 207887, 207209, 206845],\n",
       "             946: [161100, 162655, 159805, 156447, 157541],\n",
       "             948: [271149, 273273, 271936, 270256, 269048],\n",
       "             957: [158338, 159034, 157541, 162655, 158536],\n",
       "             959: [235480, 234192, 237201, 235524, 236512],\n",
       "             960: [159495, 161019, 162369, 156355, 157541],\n",
       "             961: [336574, 336698, 337167, 337051, 338020],\n",
       "             962: [286165, 206791, 209287, 206785, 119592],\n",
       "             963: [234987, 234220, 233605, 237279, 235936],\n",
       "             969: [233714, 236512, 106966, 236086, 236416],\n",
       "             971: [338217, 338040, 337978, 336877, 336574],\n",
       "             973: [158657, 157555, 158723, 158536, 157541],\n",
       "             982: [206492, 206414, 205926, 208562, 208150],\n",
       "             984: [173427, 169092, 169111, 169171, 175409],\n",
       "             986: [336775, 336220, 336223, 337643, 336806],\n",
       "             991: [352063, 352067, 351615, 353632, 353673],\n",
       "             993: [236565, 237582, 234813, 234819, 234195],\n",
       "             999: [157725, 160474, 158331, 161868, 162605],\n",
       "             1001: [162035, 157939, 162369, 157748, 158915],\n",
       "             1003: [336899, 336660, 337238, 336476, 333959],\n",
       "             1007: [96890, 96365, 96220, 95900, 96935],\n",
       "             1008: [336223, 337087, 336362, 336220, 337746],\n",
       "             1012: [58330, 58668, 59184, 57615, 58647],\n",
       "             1014: [124228, 124549, 123368, 124176, 123757],\n",
       "             1021: [227879, 237293, 236883, 236599, 236552],\n",
       "             1036: [286095, 284944, 272172, 280396, 284571],\n",
       "             1037: [161019, 157541, 159495, 162369, 156355],\n",
       "             1049: [161988, 159299, 160974, 160132, 160131],\n",
       "             1050: [58376, 59436, 58694, 58699, 58337],\n",
       "             1053: [336362, 337354, 337465, 336806, 336250],\n",
       "             1054: [162585, 158915, 156355, 157939, 156389],\n",
       "             1059: [285054, 278239, 284361, 285412, 284191],\n",
       "             1062: [156623, 156839, 158331, 156216, 161699],\n",
       "             1067: [236648, 236629, 236289, 230265, 236613],\n",
       "             1068: [190350, 190748, 190380, 190390, 190593],\n",
       "             1069: [220516, 220499, 220180, 220296, 219898],\n",
       "             1070: [155096, 161827, 161742, 160470, 156354],\n",
       "             1076: [40716, 43081, 40977, 42834, 42291],\n",
       "             1081: [118863, 119103, 119491, 118549, 118538],\n",
       "             1104: [337643, 336806, 337630, 336587, 336221],\n",
       "             1119: [145434, 146064, 145799, 145624, 145119],\n",
       "             1120: [160132, 156560, 156355, 161100, 160140],\n",
       "             1122: [156963, 161100, 158536, 160974, 156560],\n",
       "             1123: [255704, 255206, 254567, 254856, 255631],\n",
       "             1124: [32495, 31187, 30838, 32483, 31069],\n",
       "             1131: [156355, 158338, 157947, 159034, 157541],\n",
       "             1136: [207282, 205866, 207813, 206407, 207633],\n",
       "             1138: [285641, 284990, 285675, 283642, 282761],\n",
       "             1142: [157541, 159034, 158723, 157735, 162200],\n",
       "             1144: [319617, 284463, 282776, 284490, 321332],\n",
       "             1155: [183179, 183339, 184164, 182474, 184141],\n",
       "             1159: [333959, 337166, 337854, 337849, 336223],\n",
       "             1160: [160503, 159137, 162300, 157541, 157735],\n",
       "             1163: [205936, 156623, 272311, 162200, 270343],\n",
       "             1168: [292456, 292992, 293036, 293062, 292718],\n",
       "             1172: [233420, 206819, 234465, 234778, 235961],\n",
       "             1177: [206627, 205847, 206194, 207887, 205861],\n",
       "             1180: [156216, 158993, 158040, 160966, 237264],\n",
       "             1186: [332144, 332416, 332162, 330770, 331100],\n",
       "             1193: [285281, 285435, 278312, 285997, 286113],\n",
       "             1196: [161100, 159495, 157500, 156355, 161019],\n",
       "             1199: [95720, 96581, 95722, 93278, 96386],\n",
       "             1204: [255928, 254700, 255730, 255703, 255017],\n",
       "             1205: [159202, 158750, 160966, 158915, 158174],\n",
       "             1210: [156564, 157733, 161506, 159119, 158261],\n",
       "             1216: [156355, 162369, 158536, 157541, 160974],\n",
       "             1224: [155573, 157063, 159581, 214278, 158906],\n",
       "             1230: [236289, 236963, 236645, 237279, 234432],\n",
       "             1238: [57616, 58632, 58238, 59681, 57475],\n",
       "             1240: [158174, 158089, 161506, 158657, 157735],\n",
       "             1241: [206194, 205926, 207391, 206639, 207887],\n",
       "             1249: [123368, 123757, 124176, 123953, 124549],\n",
       "             1256: [124667, 123559, 124749, 123290, 124350],\n",
       "             1261: [299463, 299941, 298046, 300655, 299504],\n",
       "             1262: [83363, 84754, 84905, 84344, 83556],\n",
       "             1263: [236682, 233728, 236289, 237825, 233689],\n",
       "             1264: [235936, 233610, 236103, 234267, 236629],\n",
       "             1279: [158850, 59012, 57517, 58628, 162596],\n",
       "             1280: [159407, 70397, 159495, 157541, 158180],\n",
       "             1282: [236311, 234411, 234318, 235669, 235373],\n",
       "             1283: [235287, 235322, 234269, 234338, 236179],\n",
       "             1292: [96106, 95823, 96365, 96807, 96802],\n",
       "             1299: [265601, 271501, 271887, 273415, 205936],\n",
       "             1302: [159805, 161100, 157541, 160974, 160132],\n",
       "             1305: [293320, 293531, 292924, 292992, 292633],\n",
       "             1308: [284773, 284984, 286359, 282933, 285342],\n",
       "             1316: [234814, 237293, 236289, 230265, 234195],\n",
       "             1323: [228269, 235373, 237825, 235470, 234413],\n",
       "             1329: [242396, 243304, 243230, 242767, 242633],\n",
       "             1332: [198817, 199938, 199788, 199198, 198822],\n",
       "             1333: [157555, 161019, 157521, 157541, 160783],\n",
       "             1338: [237817, 236883, 234192, 237201, 235480],\n",
       "             1342: [285379, 283026, 285435, 285444, 284452],\n",
       "             1346: [159034, 158338, 157541, 158536, 153991],\n",
       "             1347: [300485, 298187, 300863, 300166, 299170],\n",
       "             1348: [273415, 272221, 270339, 271497, 273256],\n",
       "             1350: [158631, 156843, 161270, 158723, 162200],\n",
       "             1358: [160132, 156355, 161019, 157541, 160131],\n",
       "             1359: [158338, 161602, 157748, 157541, 157078],\n",
       "             1360: [285638, 283300, 284547, 285342, 286161],\n",
       "             1361: [337465, 336806, 338013, 336362, 337746],\n",
       "             1369: [159137, 156085, 158180, 157735, 158631],\n",
       "             1371: [124755, 123289, 124177, 124228, 123368],\n",
       "             1385: [31632, 31677, 31452, 30288, 31814],\n",
       "             1386: [96653, 235847, 233717, 96252, 96987],\n",
       "             1389: [106365, 96359, 94534, 207068, 235916],\n",
       "             1390: [237279, 236167, 237582, 236726, 235669],\n",
       "             1392: [160715, 158536, 160974, 160132, 160131],\n",
       "             1406: [162338, 162369, 157541, 158536, 161100],\n",
       "             1416: [87100, 100935, 87235, 85709, 87192],\n",
       "             1419: [88899, 88900, 88901, 88904, 88882],\n",
       "             1420: [158657, 159805, 158331, 161580, 158261],\n",
       "             1422: [207887, 202455, 202338, 203199, 206639],\n",
       "             1423: [284213, 282750, 286161, 284547, 285435],\n",
       "             1427: [123826, 124755, 124177, 124228, 123368],\n",
       "             1428: [215641, 216075, 215674, 215951, 216158],\n",
       "             1430: [236629, 234968, 236103, 236877, 234267],\n",
       "             1440: [234107, 237822, 236511, 236289, 236613],\n",
       "             1441: [156355, 237264, 156216, 158750, 159195],\n",
       "             1444: [158261, 157735, 160966, 209653, 157733],\n",
       "             1445: [156355, 158657, 162369, 158174, 157541],\n",
       "             1449: [157748, 162286, 162369, 162338, 157541],\n",
       "             1450: [158750, 162369, 157076, 157541, 156355],\n",
       "             1453: [158394, 156200, 161868, 158214, 159232],\n",
       "             1459: [337465, 31187, 217852, 336806, 31693],\n",
       "             1465: [158261, 158110, 160783, 162286, 153977],\n",
       "             1470: [87224, 87203, 87165, 86095, 86720],\n",
       "             1475: [174660, 172323, 175040, 174214, 175476],\n",
       "             1482: [96166, 96935, 96247, 96890, 96159],\n",
       "             1485: [161270, 156389, 159495, 162369, 156355],\n",
       "             1486: [157541, 160974, 156560, 160132, 160131],\n",
       "             1487: [235287, 235230, 157252, 237264, 233420],\n",
       "             1488: [155290, 158180, 159137, 158536, 156624],\n",
       "             1490: [95987, 91994, 96560, 97000, 95977],\n",
       "             1494: [159764, 160974, 159034, 160132, 157541],\n",
       "             1498: [202459, 202428, 202330, 202455, 202338],\n",
       "             1502: [284288, 284474, 286161, 284440, 284844],\n",
       "             1503: [205859, 203199, 208150, 208235, 208531],\n",
       "             1505: [293285, 293219, 292810, 293062, 293114],\n",
       "             1508: [160156, 161389, 158261, 160966, 160132],\n",
       "             1516: [283039, 284339, 284547, 283009, 285101],\n",
       "             1517: [235669, 234413, 235480, 235710, 236512],\n",
       "             1519: [124549, 124176, 123757, 124228, 124749],\n",
       "             1524: [237727, 234481, 230836, 235669, 236682],\n",
       "             1531: [336223, 100352, 282164, 336220, 160453],\n",
       "             1533: [300642, 298521, 299390, 299107, 123751],\n",
       "             1536: [236446, 236552, 236553, 234192, 235777],\n",
       "             1538: [254567, 255730, 256147, 255207, 254301],\n",
       "             1542: [286108, 284474, 284440, 284136, 286161],\n",
       "             1543: [118793, 119254, 119434, 119336, 119107],\n",
       "             1546: [157541, 158338, 158082, 162655, 156453],\n",
       "             1551: [333959, 337058, 336221, 337854, 336806],\n",
       "             1553: [284339, 286161, 285444, 285007, 284773],\n",
       "             1554: [235669, 235373, 237825, 233446, 236553],\n",
       "             1556: [123826, 124549, 124196, 124352, 124176],\n",
       "             1557: [123368, 124177, 123826, 123757, 124228],\n",
       "             1559: [157500, 160131, 155096, 156355, 161019],\n",
       "             1565: [231787, 107209, 234778, 102742, 230265],\n",
       "             1566: [96285, 94359, 96755, 96807, 96581],\n",
       "             1569: [202652, 202338, 202388, 202587, 202684],\n",
       "             1578: [236194, 236511, 236613, 235824, 236289],\n",
       "             1588: [236108, 236358, 237825, 236455, 236446],\n",
       "             1595: [157541, 158536, 160131, 160132, 161100],\n",
       "             1607: [162369, 155763, 162200, 156355, 156216],\n",
       "             1611: [69859, 160715, 68865, 284990, 289209],\n",
       "             1612: [254462, 254522, 255703, 254301, 254786],\n",
       "             1613: [162338, 162286, 160474, 160132, 161100],\n",
       "             1615: [284990, 331778, 58175, 285997, 331147],\n",
       "             1617: [272266, 272177, 274201, 272660, 270589],\n",
       "             1636: [234192, 237264, 158993, 234267, 235294],\n",
       "             1639: [162842, 162006, 158094, 161191, 161602],\n",
       "             1640: [161580, 158208, 158174, 157541, 158657],\n",
       "             1665: [32196, 30288, 30360, 30297, 30730],\n",
       "             1668: [206662, 206832, 206627, 208473, 208430],\n",
       "             1671: [159495, 157541, 158536, 161100, 158208],\n",
       "             1680: [336877, 336761, 338052, 338290, 336574],\n",
       "             1685: [158338, 158911, 158723, 157541, 157076],\n",
       "             1691: [236167, 236613, 230265, 236179, 236289],\n",
       "             1694: [203163, 207981, 206640, 206639, 208169],\n",
       "             1696: [157252, 159581, 159195, 237264, 235294],\n",
       "             1697: [285719, 285343, 284396, 286161, 284547],\n",
       "             1707: [160974, 208322, 161270, 159495, 162321],\n",
       "             1709: [284066, 284773, 286088, 283953, 285007],\n",
       "             1712: [299864, 297874, 298820, 300485, 299991],\n",
       "             1716: [207760, 206936, 207757, 205901, 208531],\n",
       "             1717: [236289, 236206, 233468, 234432, 235440],\n",
       "             1721: [5560, 159720, 8719, 9152, 158297],\n",
       "             1725: [159764, 160140, 158208, 156560, 161100],\n",
       "             1726: [206221, 207487, 207887, 206845, 206194],\n",
       "             1727: [336806, 336254, 336250, 336899, 333959],\n",
       "             1729: [32614, 31251, 30352, 31388, 30957],\n",
       "             1733: [236179, 205874, 235854, 208118, 235383],\n",
       "             1734: [203288, 202370, 202427, 202338, 202388],\n",
       "             1735: [236512, 235710, 236444, 235669, 235141],\n",
       "             1736: [272221, 270256, 272955, 266728, 270958],\n",
       "             1739: [337354, 336250, 338013, 336223, 337746],\n",
       "             1745: [160957, 158882, 159720, 162585, 159909],\n",
       "             1750: [158882, 161602, 162585, 157830, 158723],\n",
       "             1753: [113927, 114317, 114466, 114624, 114121],\n",
       "             1754: [336362, 348111, 100904, 353275, 336220],\n",
       "             1757: [156355, 157541, 160974, 161100, 160132],\n",
       "             1765: [96694, 96368, 96029, 93990, 96077],\n",
       "             1767: [237437, 237452, 235859, 233449, 234443],\n",
       "             1768: [199196, 198820, 198610, 198758, 199197],\n",
       "             1769: [159764, 156560, 161100, 162369, 156355],\n",
       "             1773: [158911, 157227, 158536, 201911, 157541],\n",
       "             1777: [161019, 159034, 156216, 162585, 160131],\n",
       "             1784: [272759, 270256, 273273, 271223, 270958],\n",
       "             1785: [106412, 85709, 104815, 106518, 38148],\n",
       "             1788: [156595, 159847, 156963, 155096, 160140],\n",
       "             1794: [162605, 157541, 156453, 159137, 157735],\n",
       "             1795: [207282, 207141, 205846, 207757, 207887],\n",
       "             1796: [314413, 315088, 311361, 313556, 313006],\n",
       "             1804: [156807, 61150, 162147, 156619, 235964],\n",
       "             1806: [159736, 337643, 158631, 160235, 336264],\n",
       "             1807: [283642, 284323, 286007, 284847, 284845],\n",
       "             1808: [272664, 271223, 270229, 273273, 270850],\n",
       "             1814: [59057, 58647, 57782, 55177, 57524],\n",
       "             1817: [195915, 195428, 195564, 195032, 195141],\n",
       "             1819: [336632, 337276, 336271, 338161, 336499],\n",
       "             1821: [160974, 157735, 157947, 161100, 157541],\n",
       "             1822: [161270, 158723, 157735, 157078, 157076],\n",
       "             1823: [158757, 157541, 160131, 161019, 157735],\n",
       "             1827: [157252, 234615, 235383, 233420, 235230],\n",
       "             1830: [194337, 195108, 194258, 195378, 195844],\n",
       "             1831: [157541, 161100, 162369, 156355, 162300],\n",
       "             1834: [237824, 235985, 234192, 107209, 235665],\n",
       "             1837: [233769, 236511, 237437, 234189, 236289],\n",
       "             1853: [156355, 160131, 161100, 160132, 156560],\n",
       "             1854: [157541, 160974, 162655, 162338, 161100],\n",
       "             1855: [285663, 207757, 207227, 208169, 205874],\n",
       "             1857: [156457, 157185, 161827, 159944, 157500],\n",
       "             1858: [158631, 156843, 156543, 158622, 158911],\n",
       "             1862: [293110, 293531, 293320, 293384, 292394],\n",
       "             1865: [284984, 283009, 283978, 160453, 284339],\n",
       "             1869: [123290, 124350, 124549, 124196, 124749],\n",
       "             1875: [284463, 284990, 282761, 284845, 284847],\n",
       "             1877: [84061, 81933, 84907, 84905, 83556],\n",
       "             1880: [236220, 203351, 207424, 234220, 208032],\n",
       "             1881: [284288, 284323, 284547, 284474, 286161],\n",
       "             1885: [162655, 158338, 161100, 156560, 160974],\n",
       "             1893: [202598, 203353, 203175, 36394, 160431],\n",
       "             1895: [208547, 206194, 205861, 206627, 207887],\n",
       "             1896: [236648, 236311, 236629, 236877, 234267],\n",
       "             1905: [289554, 275273, 276970, 277491, 42944],\n",
       "             1906: [207192, 69371, 52051, 62597, 69855],\n",
       "             1908: [119591, 206778, 208530, 119586, 205866],\n",
       "             1909: [236444, 234268, 234195, 100925, 234813],\n",
       "             1914: [206639, 205866, 206492, 206194, 207887],\n",
       "             1917: [158614, 156839, 160974, 237201, 158646],\n",
       "             1921: [87111, 87205, 87127, 87232, 86143],\n",
       "             1922: [159828, 156658, 161019, 159805, 161100],\n",
       "             1923: [158179, 156932, 159407, 156839, 157735],\n",
       "             1927: [206492, 207487, 207887, 206845, 206194],\n",
       "             1928: [283779, 76289, 156839, 157465, 283642],\n",
       "             1935: [236444, 234268, 234819, 100925, 234195],\n",
       "             1942: [160974, 156624, 156560, 159762, 161100],\n",
       "             1947: [158536, 159495, 157541, 162369, 156355],\n",
       "             1949: [233599, 157252, 233420, 234615, 237264],\n",
       "             1952: [161858, 166433, 159299, 162755, 160096],\n",
       "             1953: [161019, 157521, 157555, 157541, 159828],\n",
       "             1954: [236482, 237612, 236552, 235616, 236553],\n",
       "             1955: [207282, 207141, 206407, 205846, 207887],\n",
       "             1956: [234960, 236342, 236877, 237825, 234195],\n",
       "             1958: [159314, 157733, 158036, 160940, 124204],\n",
       "             1959: [235480, 284096, 234193, 237201, 235854],\n",
       "             1965: [158208, 157555, 162369, 157541, 159495],\n",
       "             1969: [236629, 234269, 237279, 230265, 236289],\n",
       "             1971: [157541, 158229, 162338, 160132, 161100],\n",
       "             1982: [156560, 156447, 161100, 160132, 160974],\n",
       "             1991: [286108, 123289, 284371, 160940, 123832],\n",
       "             1993: [118773, 118967, 118948, 119008, 118778],\n",
       "             1998: [264078, 263692, 263908, 264843, 263974],\n",
       "             1999: [118353, 118198, 119008, 118855, 118948],\n",
       "             2000: [353879, 338211, 337955, 352555, 336508],\n",
       "             2001: [57850, 59033, 58566, 58643, 57616],\n",
       "             2006: [162369, 160783, 158915, 159495, 157748],\n",
       "             2010: [273665, 284164, 100352, 283009, 283027],\n",
       "             2012: [336224, 338344, 337830, 336362, 337277],\n",
       "             2017: [292992, 292924, 293018, 292579, 293591],\n",
       "             2022: [202370, 202455, 202338, 202299, 203179],\n",
       "             2026: [284221, 338339, 158999, 156216, 284705],\n",
       "             2034: [338013, 337087, 338040, 337563, 337746],\n",
       "             2037: [284221, 286161, 158999, 284990, 284361],\n",
       "             2039: [337541, 336221, 337746, 338040, 336362],\n",
       "             2047: [124228, 123289, 123757, 124734, 123368],\n",
       "             2050: [158911, 156355, 158723, 158338, 157541],\n",
       "             2052: [156622, 156623, 123826, 124204, 160940],\n",
       "             2054: [158631, 157735, 160250, 160974, 158723],\n",
       "             2058: [242280, 241950, 243304, 243292, 242497],\n",
       "             2064: [207887, 208235, 208155, 206407, 208531],\n",
       "             2067: [283817, 285009, 283819, 283086, 283715],\n",
       "             2068: [159137, 157517, 160337, 157541, 159805],\n",
       "             2069: [158750, 158824, 161169, 158915, 162369],\n",
       "             2070: [285012, 284018, 286161, 283300, 284440],\n",
       "             2072: [124196, 124177, 123368, 124228, 123826],\n",
       "             2074: [236194, 236816, 230265, 237264, 236207],\n",
       "             2075: [337354, 336250, 337563, 336574, 337051],\n",
       "             2076: [118718, 119026, 119108, 119592, 118627],\n",
       "             2077: [284942, 279776, 292620, 284168, 284847],\n",
       "             2082: [236613, 236511, 237437, 233728, 236289],\n",
       "             2084: [336775, 337217, 337316, 337087, 336220],\n",
       "             2089: [236289, 237452, 235443, 236613, 234128],\n",
       "             2090: [96807, 96940, 95720, 96755, 97082],\n",
       "             2101: [30446, 31189, 32629, 32454, 30510],\n",
       "             2102: [159762, 157541, 159495, 156355, 162369],\n",
       "             2104: [95716, 96063, 96059, 96106, 96152],\n",
       "             2105: [157541, 159764, 160974, 160132, 161100],\n",
       "             2106: [161801, 150437, 158208, 157332, 161100],\n",
       "             2109: [160132, 162338, 161100, 162655, 160974],\n",
       "             2110: [157541, 159137, 160474, 161858, 157521],\n",
       "             2115: [162585, 158631, 157076, 155350, 158911],\n",
       "             2120: [128289, 129423, 128994, 129004, 129289],\n",
       "             2122: [207476, 207757, 207209, 206639, 207887],\n",
       "             2125: [237201, 162725, 158040, 159581, 159195],\n",
       "             2126: [206457, 206639, 206120, 207887, 206407],\n",
       "             2130: [303199, 304065, 304664, 303231, 304382],\n",
       "             2138: [270204, 270540, 270553, 270538, 274091],\n",
       "             2140: [202325, 202652, 202338, 202379, 202299],\n",
       "             2147: [293110, 293116, 293305, 292924, 293531],\n",
       "             2151: [154767, 162248, 157733, 156523, 161699],\n",
       "             2162: [282733, 284773, 286209, 282959, 283978],\n",
       "             2164: [162307, 158757, 156389, 158723, 161602],\n",
       "             2170: [236167, 236599, 236289, 235804, 234791],\n",
       "             2171: [236171, 236482, 236599, 236552, 236565],\n",
       "             2182: [233926, 234267, 284629, 283458, 234193],\n",
       "             2191: [284440, 283041, 284452, 284474, 285435],\n",
       "             2194: [96621, 95574, 95658, 106999, 103034],\n",
       "             2196: [285446, 284440, 285444, 286336, 284773],\n",
       "             2197: [282761, 284096, 283642, 284371, 285641],\n",
       "             2202: [118553, 208118, 118495, 206482, 207714],\n",
       "             2203: [158631, 158261, 159407, 156216, 156355],\n",
       "             2207: [162296, 157541, 159762, 158536, 160132],\n",
       "             2208: [159582, 151500, 162663, 162300, 157991],\n",
       "             2209: [162026, 157063, 159581, 160940, 160894],\n",
       "             2211: [227879, 235936, 234413, 235282, 235287],\n",
       "             2215: [235008, 233449, 235859, 234189, 234443],\n",
       "             2217: [286007, 286113, 284845, 282949, 284847],\n",
       "             2226: [162605, 162026, 155096, 158040, 156723],\n",
       "             2227: [195607, 195570, 195137, 194881, 195428],\n",
       "             2229: [286161, 283039, 284547, 282750, 284396],\n",
       "             2232: [207887, 207487, 206492, 206845, 206194],\n",
       "             2237: [202459, 203214, 202308, 202338, 203179],\n",
       "             2241: [195079, 195032, 195844, 194597, 195084],\n",
       "             2243: [208156, 207424, 205926, 205866, 207282],\n",
       "             2250: [235669, 236511, 236086, 233769, 237279],\n",
       "             2252: [206492, 206639, 206845, 207887, 206194],\n",
       "             2257: [283794, 284474, 284440, 286108, 284346],\n",
       "             2259: [162107, 159764, 159805, 162655, 160974],\n",
       "             2260: [157541, 160974, 159881, 161019, 158723],\n",
       "             2265: [162605, 158536, 161100, 160974, 160132],\n",
       "             2282: [284361, 285641, 284990, 284474, 284313],\n",
       "             2284: [206627, 207994, 206427, 205926, 207630],\n",
       "             2295: [293381, 292899, 293320, 293305, 292992],\n",
       "             2296: [337879, 337354, 336250, 337746, 336362],\n",
       "             2300: [337051, 336254, 338164, 337238, 336362],\n",
       "             2303: [160250, 161019, 159805, 161100, 160132],\n",
       "             2306: [58647, 59184, 58099, 58668, 58333],\n",
       "             2308: [271474, 268797, 271477, 270339, 273256],\n",
       "             2312: [284571, 284474, 284547, 284288, 286161],\n",
       "             2313: [156324, 158657, 162605, 201911, 160940],\n",
       "             2314: [156654, 160974, 158229, 161100, 160131],\n",
       "             2316: [161360, 160974, 156560, 160131, 162321],\n",
       "             2318: [103063, 88931, 107243, 50838, 100577],\n",
       "             2321: [236688, 236629, 230265, 236613, 236289],\n",
       "             2329: [156623, 160131, 155290, 160132, 160560],\n",
       "             2331: [160132, 162585, 156622, 158646, 160974],\n",
       "             2334: [155096, 161100, 159764, 160131, 160132],\n",
       "             2336: [285444, 285435, 284474, 286161, 285342],\n",
       "             2338: [158208, 158174, 160783, 162369, 159495],\n",
       "             2343: [237643, 230265, 234268, 236289, 236629],\n",
       "             2346: [235300, 235383, 236289, 237279, 236613],\n",
       "             2349: [207907, 208156, 205873, 159581, 206832],\n",
       "             2353: [161858, 160131, 158082, 160474, 162655],\n",
       "             2357: [202652, 202325, 202330, 202428, 202338],\n",
       "             2359: [362558, 96978, 217852, 217140, 124337],\n",
       "             2360: [162413, 157802, 70397, 358016, 159495],\n",
       "             2367: [156447, 162338, 159034, 160132, 161100],\n",
       "             2368: [158536, 156808, 160974, 161100, 156624],\n",
       "             2370: [202587, 202598, 202338, 202478, 202492],\n",
       "             2380: [161827, 157500, 158750, 150875, 160966],\n",
       "             2381: [162369, 159495, 161019, 157541, 156355],\n",
       "             2383: [15496, 14007, 16733, 15665, 16981],\n",
       "             2393: [206194, 205874, 207887, 206492, 206407],\n",
       "             2394: [95720, 97082, 96487, 96581, 96940],\n",
       "             2399: [283327, 283858, 284990, 285641, 283642],\n",
       "             2404: [161191, 158750, 159465, 159645, 161270],\n",
       "             2406: [284773, 284847, 283039, 286161, 285342],\n",
       "             2408: [270959, 270546, 271705, 270847, 272312],\n",
       "             2414: [208587, 206960, 207337, 205398, 207141],\n",
       "             2422: [140524, 140305, 141027, 141001, 141406],\n",
       "             2427: [123757, 123564, 124352, 124749, 123826],\n",
       "             2429: [160940, 158911, 313763, 313504, 315118],\n",
       "             2437: [182994, 182513, 183328, 181568, 184163],\n",
       "             2443: [234615, 236531, 234338, 235282, 235294],\n",
       "             2450: [207328, 208480, 352204, 206570, 205876],\n",
       "             2455: [233599, 158964, 157252, 158993, 237264],\n",
       "             2456: [285343, 283858, 283039, 284339, 283300],\n",
       "             2467: [123757, 123368, 124177, 123826, 124228],\n",
       "             2471: [234319, 235669, 233595, 233768, 233769],\n",
       "             2476: [157541, 158180, 156355, 158208, 162369],\n",
       "             2481: [207887, 206639, 208118, 207445, 205847],\n",
       "             2483: [157735, 158634, 156543, 162286, 160474],\n",
       "             2489: [157541, 161100, 160132, 159034, 160974],\n",
       "             2495: [228269, 233610, 233769, 235669, 236629],\n",
       "             2497: [157541, 160474, 160974, 161100, 158338],\n",
       "             2499: [124204, 124177, 124353, 123826, 124196],\n",
       "             2502: [337051, 336731, 337721, 338040, 336254],\n",
       "             2504: [202320, 202330, 202436, 202455, 202338],\n",
       "             2520: [159465, 157759, 158750, 156389, 154307],\n",
       "             2522: [234189, 236648, 234267, 233947, 236877],\n",
       "             2526: [314343, 312905, 312870, 315088, 313996],\n",
       "             2529: [158174, 158069, 157735, 158089, 156700],\n",
       "             2530: [336761, 337217, 335982, 337413, 335024],\n",
       "             2532: [336220, 336221, 336587, 336806, 337643],\n",
       "             2536: [207887, 207445, 206194, 207331, 205861],\n",
       "             2543: [283715, 283086, 285641, 283296, 283722],\n",
       "             2546: [101296, 101297, 101298, 101330, 101867],\n",
       "             2557: [161100, 157541, 158536, 158082, 162655],\n",
       "             2558: [84052, 84270, 84905, 83556, 84404],\n",
       "             2560: [206845, 207167, 206194, 207887, 206414],\n",
       "             2568: [95706, 95640, 160974, 166463, 96755],\n",
       "             2574: [158794, 161827, 162117, 158208, 157500],\n",
       "             2576: [250271, 250219, 251492, 250102, 251756],\n",
       "             2577: [161270, 205866, 208197, 206120, 206627],\n",
       "             2582: [159105, 159034, 160974, 156560, 161100],\n",
       "             2583: [84106, 84074, 84272, 84044, 83772],\n",
       "             2585: [205847, 206735, 206492, 206194, 207887],\n",
       "             2591: [332088, 332184, 331587, 331057, 331635],\n",
       "             2593: [160194, 160543, 160966, 156556, 156389],\n",
       "             2601: [160966, 158631, 161483, 156843, 158993],\n",
       "             2603: [161924, 161915, 161873, 149603, 159190],\n",
       "             2609: [283086, 283220, 285619, 284440, 284018],\n",
       "             2612: [336806, 337746, 336220, 337854, 336223],\n",
       "             2617: [206407, 208473, 208150, 206735, 205973],\n",
       "             2621: [162276, 161019, 157078, 161169, 161801],\n",
       "             2627: [236613, 235616, 236511, 234195, 236553],\n",
       "             2629: [284313, 284553, 283813, 284707, 285343],\n",
       "             2635: [124204, 158040, 156623, 157861, 160940],\n",
       "             2636: [136305, 136743, 136644, 136782, 135941],\n",
       "             2639: [225193, 224878, 224917, 225444, 225775],\n",
       "             2642: [236862, 234481, 237822, 237452, 235008],\n",
       "             2646: [160807, 161270, 207424, 159465, 157077],\n",
       "             2649: [236512, 235470, 234411, 233446, 235669],\n",
       "             2650: [160966, 160621, 161091, 156928, 158208],\n",
       "             2651: [161858, 160132, 158536, 166433, 156622],\n",
       "             2652: [206639, 205987, 202755, 207757, 207282],\n",
       "             2659: [284773, 283383, 283978, 283220, 283715],\n",
       "             2660: [132631, 136465, 124549, 158517, 124350],\n",
       "             2682: [206414, 207887, 207167, 206492, 206845],\n",
       "             2685: [298620, 296414, 297802, 298949, 300594],\n",
       "             2688: [206845, 206639, 205846, 206194, 207887],\n",
       "             2690: [234633, 235840, 234639, 236007, 234819],\n",
       "             2693: [237142, 237279, 236289, 235363, 235824],\n",
       "             2698: [158261, 157733, 158854, 156564, 160096],\n",
       "             2705: [161270, 162286, 160966, 158750, 158915],\n",
       "             2714: [234128, 236613, 236511, 233478, 233769],\n",
       "             2721: [159137, 155144, 158906, 160158, 156620],\n",
       "             2724: [157541, 162655, 161100, 158082, 160974],\n",
       "             2725: [236613, 236289, 234626, 236194, 236207],\n",
       "             2727: [158109, 160560, 159202, 160894, 160940],\n",
       "             2729: [206492, 207828, 207630, 207887, 206407],\n",
       "             2737: [157541, 162338, 156447, 162655, 160974],\n",
       "             2738: [157541, 156560, 161100, 160132, 160974],\n",
       "             2743: [86143, 86184, 160409, 87149, 87231],\n",
       "             2745: [31520, 32655, 124755, 124228, 30460],\n",
       "             2747: [303735, 83990, 305095, 158646, 303736],\n",
       "             2754: [235294, 235985, 233625, 234968, 235230],\n",
       "             2782: [32517, 314431, 314544, 31421, 133218],\n",
       "             2786: [285342, 284984, 284066, 282949, 284847],\n",
       "             2790: [338340, 336430, 338040, 338013, 337746],\n",
       "             2796: [236599, 236883, 237261, 234338, 235322],\n",
       "             2799: [338380, 336254, 337087, 337217, 336362],\n",
       "             2800: [154307, 158245, 158824, 159495, 155763],\n",
       "             2810: [162338, 158723, 158174, 158536, 157541],\n",
       "             2813: [205987, 206194, 206492, 207887, 206404],\n",
       "             2821: [235470, 236963, 236629, 230265, 236289],\n",
       "             2828: [202379, 202383, 202338, 202428, 202388],\n",
       "             2830: [235396, 237206, 234413, 234999, 237825],\n",
       "             2831: [236633, 230265, 236289, 235210, 236613],\n",
       "             2832: [84270, 83032, 84061, 84238, 84905],\n",
       "             2834: [161506, 153209, 158187, 157735, 162117],\n",
       "             2840: [85518, 86824, 87111, 87173, 87188],\n",
       "             2848: [337849, 336574, 338040, 337024, 337051],\n",
       "             2849: [158657, 158882, 158689, 161580, 160783],\n",
       "             2850: [293305, 292604, 292924, 293429, 293531],\n",
       "             2854: [157185, 162286, 157500, 155096, 156173],\n",
       "             2855: [314807, 313556, 315088, 313996, 313242],\n",
       "             2861: [285719, 284396, 285343, 284213, 286161],\n",
       "             2862: [162369, 157555, 157541, 162286, 156355],\n",
       "             2865: [236103, 237437, 236244, 234269, 236289],\n",
       "             2871: [161498, 124749, 124549, 124204, 123290],\n",
       "             2873: [95332, 96755, 96186, 95823, 91351],\n",
       "             2886: [254610, 255631, 254808, 254899, 252255],\n",
       "             2887: [59485, 235004, 237473, 293210, 282685],\n",
       "             2888: [284984, 285342, 284396, 284547, 286161],\n",
       "             2892: [162384, 161801, 161270, 158915, 157332],\n",
       "             2893: [207757, 205987, 208169, 209217, 207981],\n",
       "             2895: [225110, 224975, 225193, 225841, 224882],\n",
       "             2896: [207424, 206819, 224942, 233468, 235854],\n",
       "             2908: [279588, 285627, 281275, 160453, 203186],\n",
       "             2914: [84770, 84907, 81933, 83556, 84905],\n",
       "             2925: [230836, 236613, 235443, 237437, 236289],\n",
       "             2927: [32483, 30970, 28976, 32202, 31069],\n",
       "             2929: [159805, 157541, 160974, 156543, 161019],\n",
       "             2930: [341383, 293331, 313242, 314347, 329984],\n",
       "             2931: [207887, 206194, 206492, 205847, 206639],\n",
       "             2932: [236189, 230265, 234268, 236289, 236613],\n",
       "             2935: [235480, 233446, 235669, 235710, 235470],\n",
       "             2940: [237437, 236787, 236179, 236613, 234778],\n",
       "             2941: [161019, 154307, 157500, 159495, 156355],\n",
       "             2942: [106382, 87149, 87231, 86214, 87173],\n",
       "             2944: [283300, 284440, 284844, 283858, 284474],\n",
       "             2945: [208169, 206315, 206627, 208071, 205926],\n",
       "             2946: [66155, 66159, 65696, 66304, 66146],\n",
       "             2947: [270677, 272733, 271223, 271672, 273355],\n",
       "             2951: [203241, 202370, 202299, 202455, 202557],\n",
       "             2953: [234162, 236189, 237612, 236541, 236444],\n",
       "             2962: [76325, 76166, 75989, 76340, 75982],\n",
       "             2964: [236289, 233233, 233769, 236444, 235669],\n",
       "             2965: [233769, 236103, 235524, 237822, 234193],\n",
       "             2980: [198615, 198859, 199653, 199118, 199938],\n",
       "             2984: [286209, 284773, 284845, 283116, 283009],\n",
       "             2985: [283821, 284847, 285641, 284990, 284666],\n",
       "             2988: [284707, 285342, 284547, 286356, 283300],\n",
       "             2993: [132921, 124204, 124749, 124350, 123290],\n",
       "             2996: [162413, 159944, 157365, 158794, 159407],\n",
       "             2999: [336806, 336250, 336254, 337465, 337051],\n",
       "             3001: [234956, 234128, 233478, 236342, 234427],\n",
       "             3003: [16753, 14468, 16764, 16725, 16780],\n",
       "             3005: [235789, 236634, 235616, 236553, 237436],\n",
       "             3006: [206624, 207476, 208197, 206735, 205926],\n",
       "             3010: [237201, 235936, 234192, 235294, 228211],\n",
       "             3011: [187031, 186823, 186629, 185817, 187154],\n",
       "             3012: [237209, 233689, 236207, 234411, 235669],\n",
       "             3013: [161229, 158261, 161692, 161988, 160131],\n",
       "             3020: [336587, 338013, 337563, 337746, 336221],\n",
       "             3025: [160544, 162655, 332531, 159412, 160940],\n",
       "             3026: [336250, 338040, 338013, 337563, 337746],\n",
       "             3030: [331852, 332390, 331896, 330948, 330918],\n",
       "             3031: [337087, 336476, 336587, 337643, 336221],\n",
       "             3039: [202652, 202299, 202636, 202446, 202308],\n",
       "             3040: [162369, 157541, 158915, 162035, 157748],\n",
       "             3043: [157500, 157185, 161100, 158208, 156560],\n",
       "             3050: [158208, 161019, 162369, 157541, 161100],\n",
       "             3053: [124617, 124751, 123957, 123953, 123368],\n",
       "             3062: [156355, 160966, 158750, 159645, 158064],\n",
       "             3063: [162369, 162338, 158536, 160974, 157541],\n",
       "             3064: [162444, 158824, 156173, 161270, 156457],\n",
       "             3065: [160974, 157541, 158657, 158723, 160474],\n",
       "             3067: [159465, 206735, 155972, 207227, 206832],\n",
       "             3068: [336250, 336362, 336254, 337563, 337746],\n",
       "             3069: [270685, 273464, 274151, 273395, 273612],\n",
       "             3070: [208150, 206639, 207887, 206492, 206194],\n",
       "             3073: [236645, 235936, 234411, 234330, 234987],\n",
       "             3079: [206639, 207887, 202455, 202338, 202586],\n",
       "             3084: [157252, 207424, 234615, 233420, 237264],\n",
       "             3086: [202330, 202338, 202458, 202487, 202557],\n",
       "             3088: [156623, 157541, 158229, 160131, 156447],\n",
       "             3089: [202459, 202610, 205845, 202388, 202299],\n",
       "             3090: [233714, 234960, 236877, 237835, 236103],\n",
       "             3092: [118808, 117571, 119026, 119008, 284422],\n",
       "             3097: [289206, 285343, 284547, 283009, 286161],\n",
       "             3098: [58261, 58939, 59146, 59574, 59438],\n",
       "             3100: [123757, 124337, 124204, 123698, 123289],\n",
       "             3101: [159195, 234338, 235270, 235287, 233769],\n",
       "             3102: [285023, 235230, 235936, 237201, 235294],\n",
       "             3106: [70397, 159943, 158261, 159944, 157500],\n",
       "             3107: [96186, 96807, 97082, 95720, 95332],\n",
       "             3108: [338040, 337735, 337746, 336314, 337437],\n",
       "             3110: [337051, 336476, 337354, 333959, 337854],\n",
       "             3114: [208032, 157252, 234969, 234633, 235322],\n",
       "             3115: [202325, 202308, 202338, 202458, 202652],\n",
       "             3116: [119231, 119586, 119592, 119226, 119591],\n",
       "             3117: [206534, 207887, 208048, 206538, 206639],\n",
       "             3118: [162655, 160940, 124748, 201911, 158517],\n",
       "             3119: [160156, 157077, 157759, 159645, 161270],\n",
       "             3122: [195402, 195147, 195789, 195844, 195032],\n",
       "             3130: [235777, 235840, 236446, 234819, 235616],\n",
       "             3136: [336250, 337051, 338013, 338040, 337746],\n",
       "             3137: [235689, 236189, 236289, 234195, 236444],\n",
       "             3146: [207391, 206194, 206845, 207887, 207282],\n",
       "             3149: [123698, 123757, 124228, 123368, 123826],\n",
       "             3154: [236289, 235363, 236179, 235329, 236613],\n",
       "             3159: [166463, 162321, 160974, 157077, 159581],\n",
       "             3167: [157076, 160783, 157725, 158723, 157541],\n",
       "             3184: [236439, 235453, 237772, 234806, 236825],\n",
       "             3186: [207227, 158911, 156389, 159465, 208145],\n",
       "             3197: [327872, 326951, 327131, 327400, 327452],\n",
       "             3198: [157444, 76289, 158216, 161189, 159581],\n",
       "             3210: [161191, 158040, 158723, 161019, 161602],\n",
       "             3214: [299099, 300865, 300472, 295323, 300755],\n",
       "             3223: [338020, 336250, 338040, 336362, 336254],\n",
       "             3226: [270742, 271520, 273256, 272308, 272556],\n",
       "             3229: [237582, 236189, 231787, 236446, 235230],\n",
       "             3234: [159828, 157541, 155763, 161169, 159495],\n",
       "             3235: [234325, 236360, 234291, 235840, 234819],\n",
       "             3236: [160974, 162369, 161100, 157541, 162338],\n",
       "             3241: [208150, 207887, 206194, 207994, 206627],\n",
       "             3242: [206624, 205869, 207887, 205866, 206492],\n",
       "             3246: [156560, 160974, 161100, 160132, 159762],\n",
       "             3254: [206027, 206627, 208197, 206735, 157924],\n",
       "             3255: [236167, 235028, 235230, 237279, 233420],\n",
       "             3257: [162200, 158082, 157541, 158723, 158338],\n",
       "             3258: [197524, 199394, 199114, 198609, 198613],\n",
       "             3263: [205847, 205866, 207887, 207282, 206639],\n",
       "             3267: [14923, 13988, 14434, 14486, 15418],\n",
       "             3270: [285619, 333959, 280614, 285803, 283220],\n",
       "             3272: [206735, 205866, 208150, 208156, 208531],\n",
       "             3281: [338201, 337849, 336806, 336254, 336900],\n",
       "             3294: [160940, 156723, 157735, 337643, 162605],\n",
       "             3300: [128289, 128550, 128551, 128894, 129289],\n",
       "             3305: [57524, 57644, 58609, 57850, 59246],\n",
       "             3307: [236613, 235383, 233717, 234338, 233769],\n",
       "             3314: [208169, 206730, 207834, 205958, 207981],\n",
       "             3329: [107231, 96063, 96621, 95851, 96496],\n",
       "             3332: [172730, 174971, 175179, 175443, 174617],\n",
       "             3336: [313639, 315134, 312415, 314343, 314413],\n",
       "             3343: [286161, 286402, 284374, 283586, 284474],\n",
       "             3346: [273572, 273415, 271551, 272556, 272218],\n",
       "             3347: [235373, 230265, 235525, 234269, 236289],\n",
       "             3349: [160058, 160966, 156216, 158964, 158993],\n",
       "             3354: [206492, 206808, 207834, 205853, 208232],\n",
       "             3357: [157381, 158782, 158622, 156843, 158619],\n",
       "             3358: [158261, 161270, 157541, 156355, 162369],\n",
       "             3360: [338211, 336731, 337849, 337058, 336508],\n",
       "             3363: [283505, 336362, 337087, 336632, 337238],\n",
       "             3364: [207742, 207035, 206735, 207349, 208150],\n",
       "             3368: [123368, 123826, 124204, 124228, 124549],\n",
       "             3369: [157735, 162035, 158338, 157541, 158911],\n",
       "             3376: [234819, 236439, 285332, 235840, 337058],\n",
       "             3378: [158338, 158882, 157541, 162718, 158082],\n",
       "             3387: [161100, 156560, 158536, 160132, 160974],\n",
       "             3388: [161100, 159805, 158536, 160474, 160131],\n",
       "             3391: [107171, 102845, 102821, 107253, 106732],\n",
       "             3395: [158769, 159930, 161602, 159299, 158261],\n",
       "             3398: [159805, 160974, 161100, 157541, 162655],\n",
       "             3401: [118586, 119491, 118180, 119057, 119165],\n",
       "             3414: [236499, 237612, 236883, 236969, 233549],\n",
       "             3415: [87231, 86143, 86075, 86708, 160409],\n",
       "             3416: [158911, 156200, 162605, 157725, 161868],\n",
       "             3417: [69620, 207262, 160543, 62548, 205908],\n",
       "             3420: [58333, 55177, 57889, 57886, 58628],\n",
       "             3428: [331896, 331149, 331019, 330989, 331137],\n",
       "             3430: [48993, 48525, 47794, 48739, 49012],\n",
       "             3439: [162286, 158536, 162369, 156355, 157541],\n",
       "             3443: [162321, 162413, 156355, 160132, 159645],\n",
       "             3444: [160154, 156543, 160514, 159177, 152983],\n",
       "             3446: [160131, 156355, 156560, 160132, 160974],\n",
       "             3447: [353100, 353632, 353684, 353673, 353019],\n",
       "             3448: [205866, 207994, 206662, 206735, 208150],\n",
       "             3449: [156623, 160474, 158536, 160131, 160132],\n",
       "             3450: [236289, 236512, 233446, 235230, 235669],\n",
       "             3451: [160415, 159775, 158208, 159137, 162663],\n",
       "             3455: [102994, 86824, 86720, 87224, 87173],\n",
       "             3458: [162655, 159762, 162338, 161100, 160974],\n",
       "             3462: [158208, 156451, 161506, 157765, 157381],\n",
       "             3466: [285265, 284985, 285587, 284692, 283276],\n",
       "             3467: [158657, 158750, 156173, 161019, 161868],\n",
       "             3469: [162026, 154926, 160763, 158618, 158394],\n",
       "             3475: [160966, 158750, 157725, 159473, 158911],\n",
       "             3482: [207834, 206492, 206639, 207887, 206194],\n",
       "             3483: [286336, 284440, 285007, 283220, 284773],\n",
       "             3484: [273256, 273273, 271936, 272955, 272308],\n",
       "             3486: [42704, 42068, 42736, 42542, 42377],\n",
       "             3489: [118863, 118868, 119491, 118856, 119486],\n",
       "             3491: [283978, 283716, 285446, 285563, 284440],\n",
       "             3503: [205861, 205866, 207209, 206639, 208408],\n",
       "             3504: [206639, 206104, 206492, 207887, 206194],\n",
       "             3508: [158536, 159762, 156624, 160974, 161100],\n",
       "             3510: [158750, 237264, 158993, 159195, 159645],\n",
       "             3511: [48586, 48741, 48973, 49012, 48758],\n",
       "             3512: [158208, 158082, 158338, 162718, 161100],\n",
       "             3514: [158338, 158882, 157541, 158723, 162585],\n",
       "             3515: [157735, 158723, 159532, 158911, 162585],\n",
       "             3517: [230265, 236179, 236613, 234778, 236289],\n",
       "             3522: [234814, 236566, 233446, 234766, 234813],\n",
       "             3523: [159805, 161100, 156447, 64329, 160132],\n",
       "             3530: [160453, 284990, 284463, 285641, 284845],\n",
       "             3532: [224975, 225775, 224431, 223931, 224788],\n",
       "             3541: [331074, 280849, 277270, 351848, 206462],\n",
       "             3544: [284547, 284984, 286060, 282750, 285641],\n",
       "             3546: [324306, 324249, 324286, 323672, 324924],\n",
       "             3549: [234195, 236883, 235240, 237142, 236167],\n",
       "             3551: [160132, 156619, 159805, 161988, 158536],\n",
       "             3557: [159407, 161100, 158794, 156560, 160131],\n",
       "             3562: [140720, 140859, 141199, 140548, 140445],\n",
       "             3564: [338217, 337879, 337087, 336587, 337735],\n",
       "             3569: [285719, 284396, 284371, 283928, 286113],\n",
       "             3571: [162321, 157541, 162369, 161270, 156355],\n",
       "             3573: [299716, 300166, 299711, 300863, 299170],\n",
       "             3576: [162655, 157541, 160132, 161100, 156808],\n",
       "             3582: [161580, 158657, 157541, 160974, 159805],\n",
       "             3586: [234481, 234195, 236511, 236613, 236289],\n",
       "             3587: [158911, 158915, 157939, 158750, 157079],\n",
       "             3588: [234330, 234987, 234193, 237201, 235230],\n",
       "             3593: [161100, 159762, 160974, 162300, 156560],\n",
       "             3595: [156564, 161019, 157521, 201911, 158261],\n",
       "             3602: [284164, 284284, 285101, 283398, 283039],\n",
       "             3605: [172121, 174564, 175472, 173462, 175040],\n",
       "             3610: [236599, 236220, 236365, 236553, 235383],\n",
       "             3612: [235288, 237282, 236289, 236613, 236688],\n",
       "             3613: [313639, 314482, 314424, 313996, 314471],\n",
       "             3618: [205861, 206492, 206194, 206639, 207887],\n",
       "             3623: [159034, 162718, 162369, 158338, 157541],\n",
       "             3629: [161019, 161602, 158723, 157541, 160974],\n",
       "             3636: [235470, 236629, 236289, 233446, 236613],\n",
       "             3641: [256139, 255017, 255529, 255345, 256132],\n",
       "             3642: [162338, 157541, 158338, 160974, 158536],\n",
       "             3647: [338217, 338040, 336761, 337746, 337563],\n",
       "             3660: [124549, 123698, 124228, 123826, 123757],\n",
       "             3664: [236167, 235383, 236189, 234791, 233414],\n",
       "             3671: [106880, 106922, 283009, 285719, 235665],\n",
       "             3674: [123289, 123698, 124204, 123757, 123826],\n",
       "             3675: [119336, 119416, 119164, 119109, 118289],\n",
       "             3676: [237279, 237825, 234443, 236289, 236613],\n",
       "             3682: [160474, 156623, 160253, 160132, 160131],\n",
       "             3686: [285995, 208480, 285663, 285635, 202310],\n",
       "             3688: [161019, 157541, 158911, 162035, 161169],\n",
       "             3698: [181837, 184427, 181217, 183046, 182384],\n",
       "             3703: [342096, 342083, 342691, 342273, 342100],\n",
       "             3704: [234269, 234778, 230265, 207489, 236179],\n",
       "             3705: [160974, 156355, 160131, 161100, 160132],\n",
       "             3706: [337277, 336362, 337879, 337437, 337746],\n",
       "             3707: [156355, 159495, 160132, 159826, 159034],\n",
       "             3708: [336839, 337541, 337087, 336806, 336362],\n",
       "             3711: [156355, 158338, 158082, 158536, 157541],\n",
       "             3715: [159764, 162300, 160974, 161100, 156560],\n",
       "             3726: [96731, 95972, 96214, 96103, 95977],\n",
       "             3728: [206845, 206194, 208150, 208064, 207476],\n",
       "             ...})"
      ]
     },
     "execution_count": 82,
     "metadata": {},
     "output_type": "execute_result"
    }
   ],
   "source": [
    "top_n_wordembed"
   ]
  },
  {
   "cell_type": "code",
   "execution_count": 83,
   "id": "5de5b8cb",
   "metadata": {},
   "outputs": [
    {
     "ename": "TypeError",
     "evalue": "Object of type int32 is not JSON serializable",
     "output_type": "error",
     "traceback": [
      "\u001b[1;31m---------------------------------------------------------------------------\u001b[0m",
      "\u001b[1;31mTypeError\u001b[0m                                 Traceback (most recent call last)",
      "Input \u001b[1;32mIn [83]\u001b[0m, in \u001b[0;36m<cell line: 1>\u001b[1;34m()\u001b[0m\n\u001b[0;32m      1\u001b[0m \u001b[38;5;28;01mwith\u001b[39;00m \u001b[38;5;28mopen\u001b[39m(\u001b[38;5;124m'\u001b[39m\u001b[38;5;124mgenerated/embed_recs.json\u001b[39m\u001b[38;5;124m'\u001b[39m, \u001b[38;5;124m'\u001b[39m\u001b[38;5;124mw\u001b[39m\u001b[38;5;124m'\u001b[39m) \u001b[38;5;28;01mas\u001b[39;00m f:\n\u001b[1;32m----> 2\u001b[0m     \u001b[43mjson\u001b[49m\u001b[38;5;241;43m.\u001b[39;49m\u001b[43mdump\u001b[49m\u001b[43m(\u001b[49m\u001b[43mtop_n_wordembed\u001b[49m\u001b[43m,\u001b[49m\u001b[43m \u001b[49m\u001b[43mf\u001b[49m\u001b[43m)\u001b[49m\n",
      "File \u001b[1;32m~\\anaconda3\\lib\\json\\__init__.py:179\u001b[0m, in \u001b[0;36mdump\u001b[1;34m(obj, fp, skipkeys, ensure_ascii, check_circular, allow_nan, cls, indent, separators, default, sort_keys, **kw)\u001b[0m\n\u001b[0;32m    173\u001b[0m     iterable \u001b[38;5;241m=\u001b[39m \u001b[38;5;28mcls\u001b[39m(skipkeys\u001b[38;5;241m=\u001b[39mskipkeys, ensure_ascii\u001b[38;5;241m=\u001b[39mensure_ascii,\n\u001b[0;32m    174\u001b[0m         check_circular\u001b[38;5;241m=\u001b[39mcheck_circular, allow_nan\u001b[38;5;241m=\u001b[39mallow_nan, indent\u001b[38;5;241m=\u001b[39mindent,\n\u001b[0;32m    175\u001b[0m         separators\u001b[38;5;241m=\u001b[39mseparators,\n\u001b[0;32m    176\u001b[0m         default\u001b[38;5;241m=\u001b[39mdefault, sort_keys\u001b[38;5;241m=\u001b[39msort_keys, \u001b[38;5;241m*\u001b[39m\u001b[38;5;241m*\u001b[39mkw)\u001b[38;5;241m.\u001b[39miterencode(obj)\n\u001b[0;32m    177\u001b[0m \u001b[38;5;66;03m# could accelerate with writelines in some versions of Python, at\u001b[39;00m\n\u001b[0;32m    178\u001b[0m \u001b[38;5;66;03m# a debuggability cost\u001b[39;00m\n\u001b[1;32m--> 179\u001b[0m \u001b[38;5;28;01mfor\u001b[39;00m chunk \u001b[38;5;129;01min\u001b[39;00m iterable:\n\u001b[0;32m    180\u001b[0m     fp\u001b[38;5;241m.\u001b[39mwrite(chunk)\n",
      "File \u001b[1;32m~\\anaconda3\\lib\\json\\encoder.py:431\u001b[0m, in \u001b[0;36m_make_iterencode.<locals>._iterencode\u001b[1;34m(o, _current_indent_level)\u001b[0m\n\u001b[0;32m    429\u001b[0m     \u001b[38;5;28;01myield from\u001b[39;00m _iterencode_list(o, _current_indent_level)\n\u001b[0;32m    430\u001b[0m \u001b[38;5;28;01melif\u001b[39;00m \u001b[38;5;28misinstance\u001b[39m(o, \u001b[38;5;28mdict\u001b[39m):\n\u001b[1;32m--> 431\u001b[0m     \u001b[38;5;28;01myield from\u001b[39;00m _iterencode_dict(o, _current_indent_level)\n\u001b[0;32m    432\u001b[0m \u001b[38;5;28;01melse\u001b[39;00m:\n\u001b[0;32m    433\u001b[0m     \u001b[38;5;28;01mif\u001b[39;00m markers \u001b[38;5;129;01mis\u001b[39;00m \u001b[38;5;129;01mnot\u001b[39;00m \u001b[38;5;28;01mNone\u001b[39;00m:\n",
      "File \u001b[1;32m~\\anaconda3\\lib\\json\\encoder.py:405\u001b[0m, in \u001b[0;36m_make_iterencode.<locals>._iterencode_dict\u001b[1;34m(dct, _current_indent_level)\u001b[0m\n\u001b[0;32m    403\u001b[0m         \u001b[38;5;28;01melse\u001b[39;00m:\n\u001b[0;32m    404\u001b[0m             chunks \u001b[38;5;241m=\u001b[39m _iterencode(value, _current_indent_level)\n\u001b[1;32m--> 405\u001b[0m         \u001b[38;5;28;01myield from\u001b[39;00m chunks\n\u001b[0;32m    406\u001b[0m \u001b[38;5;28;01mif\u001b[39;00m newline_indent \u001b[38;5;129;01mis\u001b[39;00m \u001b[38;5;129;01mnot\u001b[39;00m \u001b[38;5;28;01mNone\u001b[39;00m:\n\u001b[0;32m    407\u001b[0m     _current_indent_level \u001b[38;5;241m-\u001b[39m\u001b[38;5;241m=\u001b[39m \u001b[38;5;241m1\u001b[39m\n",
      "File \u001b[1;32m~\\anaconda3\\lib\\json\\encoder.py:325\u001b[0m, in \u001b[0;36m_make_iterencode.<locals>._iterencode_list\u001b[1;34m(lst, _current_indent_level)\u001b[0m\n\u001b[0;32m    323\u001b[0m         \u001b[38;5;28;01melse\u001b[39;00m:\n\u001b[0;32m    324\u001b[0m             chunks \u001b[38;5;241m=\u001b[39m _iterencode(value, _current_indent_level)\n\u001b[1;32m--> 325\u001b[0m         \u001b[38;5;28;01myield from\u001b[39;00m chunks\n\u001b[0;32m    326\u001b[0m \u001b[38;5;28;01mif\u001b[39;00m newline_indent \u001b[38;5;129;01mis\u001b[39;00m \u001b[38;5;129;01mnot\u001b[39;00m \u001b[38;5;28;01mNone\u001b[39;00m:\n\u001b[0;32m    327\u001b[0m     _current_indent_level \u001b[38;5;241m-\u001b[39m\u001b[38;5;241m=\u001b[39m \u001b[38;5;241m1\u001b[39m\n",
      "File \u001b[1;32m~\\anaconda3\\lib\\json\\encoder.py:438\u001b[0m, in \u001b[0;36m_make_iterencode.<locals>._iterencode\u001b[1;34m(o, _current_indent_level)\u001b[0m\n\u001b[0;32m    436\u001b[0m         \u001b[38;5;28;01mraise\u001b[39;00m \u001b[38;5;167;01mValueError\u001b[39;00m(\u001b[38;5;124m\"\u001b[39m\u001b[38;5;124mCircular reference detected\u001b[39m\u001b[38;5;124m\"\u001b[39m)\n\u001b[0;32m    437\u001b[0m     markers[markerid] \u001b[38;5;241m=\u001b[39m o\n\u001b[1;32m--> 438\u001b[0m o \u001b[38;5;241m=\u001b[39m \u001b[43m_default\u001b[49m\u001b[43m(\u001b[49m\u001b[43mo\u001b[49m\u001b[43m)\u001b[49m\n\u001b[0;32m    439\u001b[0m \u001b[38;5;28;01myield from\u001b[39;00m _iterencode(o, _current_indent_level)\n\u001b[0;32m    440\u001b[0m \u001b[38;5;28;01mif\u001b[39;00m markers \u001b[38;5;129;01mis\u001b[39;00m \u001b[38;5;129;01mnot\u001b[39;00m \u001b[38;5;28;01mNone\u001b[39;00m:\n",
      "File \u001b[1;32m~\\anaconda3\\lib\\json\\encoder.py:179\u001b[0m, in \u001b[0;36mJSONEncoder.default\u001b[1;34m(self, o)\u001b[0m\n\u001b[0;32m    160\u001b[0m \u001b[38;5;28;01mdef\u001b[39;00m \u001b[38;5;21mdefault\u001b[39m(\u001b[38;5;28mself\u001b[39m, o):\n\u001b[0;32m    161\u001b[0m     \u001b[38;5;124;03m\"\"\"Implement this method in a subclass such that it returns\u001b[39;00m\n\u001b[0;32m    162\u001b[0m \u001b[38;5;124;03m    a serializable object for ``o``, or calls the base implementation\u001b[39;00m\n\u001b[0;32m    163\u001b[0m \u001b[38;5;124;03m    (to raise a ``TypeError``).\u001b[39;00m\n\u001b[1;32m   (...)\u001b[0m\n\u001b[0;32m    177\u001b[0m \n\u001b[0;32m    178\u001b[0m \u001b[38;5;124;03m    \"\"\"\u001b[39;00m\n\u001b[1;32m--> 179\u001b[0m     \u001b[38;5;28;01mraise\u001b[39;00m \u001b[38;5;167;01mTypeError\u001b[39;00m(\u001b[38;5;124mf\u001b[39m\u001b[38;5;124m'\u001b[39m\u001b[38;5;124mObject of type \u001b[39m\u001b[38;5;132;01m{\u001b[39;00mo\u001b[38;5;241m.\u001b[39m\u001b[38;5;18m__class__\u001b[39m\u001b[38;5;241m.\u001b[39m\u001b[38;5;18m__name__\u001b[39m\u001b[38;5;132;01m}\u001b[39;00m\u001b[38;5;124m \u001b[39m\u001b[38;5;124m'\u001b[39m\n\u001b[0;32m    180\u001b[0m                     \u001b[38;5;124mf\u001b[39m\u001b[38;5;124m'\u001b[39m\u001b[38;5;124mis not JSON serializable\u001b[39m\u001b[38;5;124m'\u001b[39m)\n",
      "\u001b[1;31mTypeError\u001b[0m: Object of type int32 is not JSON serializable"
     ]
    }
   ],
   "source": [
    "with open('generated/embed_recs.json', 'w') as f:\n",
    "    json.dump(top_n_wordembed, f)"
   ]
  },
  {
   "cell_type": "code",
   "execution_count": 143,
   "id": "02ee7d9f",
   "metadata": {},
   "outputs": [
    {
     "data": {
      "text/plain": [
       "array([ 36399, 284664, 348128, 286350, 272218, 277492, 282785, 282917,\n",
       "       283627, 283776, 283933, 284090, 284602, 284622, 284901, 286022,\n",
       "       286310, 286413, 237356, 286420, 348081, 348089, 348091, 348109,\n",
       "       348113, 348117, 348121, 348127, 348132, 348135, 271551, 237257,\n",
       "       158642,  50864,  59929,  60253,  61698,  61741,  62631,  69433,\n",
       "       124228, 149622, 156543, 156619, 156672, 158082, 158646, 233717,\n",
       "       158794, 159177, 159190, 159200, 160974, 161801, 162655, 162663,\n",
       "       168868, 169169, 202632, 202763, 207122,  42612], dtype=int64)"
      ]
     },
     "execution_count": 143,
     "metadata": {},
     "output_type": "execute_result"
    }
   ],
   "source": [
    "articles_by_user_train[5].index.values"
   ]
  },
  {
   "cell_type": "code",
   "execution_count": 144,
   "id": "b3d46957",
   "metadata": {},
   "outputs": [
    {
     "data": {
      "text/plain": [
       "0.0"
      ]
     },
     "execution_count": 144,
     "metadata": {},
     "output_type": "execute_result"
    }
   ],
   "source": [
    "j = articles_by_user_train[5].index.values\n",
    "rate_prediction(get_recs_wordembed(word_embed, 5), j)"
   ]
  },
  {
   "cell_type": "code",
   "execution_count": 147,
   "id": "ef3e730e",
   "metadata": {},
   "outputs": [
    {
     "data": {
      "text/plain": [
       "array([157970, 278987, 159056,  69260, 286255], dtype=int64)"
      ]
     },
     "execution_count": 147,
     "metadata": {},
     "output_type": "execute_result"
    }
   ],
   "source": [
    "get_recs_wordembed(word_embed, 5)"
   ]
  },
  {
   "cell_type": "code",
   "execution_count": 74,
   "id": "64a3875c",
   "metadata": {},
   "outputs": [
    {
     "data": {
      "application/vnd.jupyter.widget-view+json": {
       "model_id": "6b7a092d5b67451b8c44520e1d0027ba",
       "version_major": 2,
       "version_minor": 0
      },
      "text/plain": [
       "  0%|          | 0/20497 [00:00<?, ?it/s]"
      ]
     },
     "metadata": {},
     "output_type": "display_data"
    },
    {
     "name": "stdout",
     "output_type": "stream",
     "text": [
      "20451 users analysed\n"
     ]
    },
    {
     "data": {
      "text/plain": [
       "0.0071194562613075335"
      ]
     },
     "execution_count": 74,
     "metadata": {},
     "output_type": "execute_result"
    }
   ],
   "source": [
    "global_precision_score(top_n_wordembed, test_df)"
   ]
  },
  {
   "cell_type": "code",
   "execution_count": 78,
   "id": "3101bd40",
   "metadata": {},
   "outputs": [
    {
     "data": {
      "text/plain": [
       "array([ 36399, 284664, 348128, 286350, 272218, 277492, 282785, 282917,\n",
       "       283627, 283776, 283933, 284090, 284602, 284622, 284901, 286022,\n",
       "       286310, 286413, 237356, 286420, 348081, 348089, 348091, 348109,\n",
       "       348113, 348117, 348121, 348127, 348132, 348135, 271551, 237257,\n",
       "       158642,  50864,  59929,  60253,  61698,  61741,  62631,  69433,\n",
       "       124228, 149622, 156543, 156619, 156672, 158082, 158646, 233717,\n",
       "       158794, 159177, 159190, 159200, 160974, 161801, 162655, 162663,\n",
       "       168868, 169169, 202632, 202763, 207122,  42612], dtype=int64)"
      ]
     },
     "execution_count": 78,
     "metadata": {},
     "output_type": "execute_result"
    }
   ],
   "source": [
    "articles_by_user_train[5].index.values"
   ]
  },
  {
   "cell_type": "code",
   "execution_count": 95,
   "id": "dffe993c",
   "metadata": {},
   "outputs": [
    {
     "data": {
      "text/plain": [
       "int"
      ]
     },
     "execution_count": 95,
     "metadata": {},
     "output_type": "execute_result"
    }
   ],
   "source": [
    "def get_recs_wordembed_full(word_embed, user, num=5):\n",
    "    read = articles_by_user_train[user].index.values\n",
    "    profile_article = word_embed[[articles_rev[iid] for iid in read]].mean(axis=0)\n",
    "    sim = cosine_similarity(profile_article.reshape(1,-1), word_embed)[0]\n",
    "    return articles[np.argsort(sim)[-num:]]\n",
    "\n",
    "type(get_recs_wordembed_full(word_embed, 5).tolist()[0])"
   ]
  },
  {
   "cell_type": "code",
   "execution_count": 85,
   "id": "a27626fa",
   "metadata": {},
   "outputs": [
    {
     "data": {
      "application/vnd.jupyter.widget-view+json": {
       "model_id": "26403fb846964d909cac96c1c6df507f",
       "version_major": 2,
       "version_minor": 0
      },
      "text/plain": [
       "  0%|          | 0/20497 [00:00<?, ?it/s]"
      ]
     },
     "metadata": {},
     "output_type": "display_data"
    }
   ],
   "source": [
    "def get_top_n_wordembed_full(word_embed, users, num=5):\n",
    "    recs = defaultdict(list)\n",
    "    for uid in tqdm(users):\n",
    "        recs[int(uid)] = get_recs_wordembed_full(word_embed, uid, num).tolist()\n",
    "    return recs\n",
    "\n",
    "top_n_wordembed_full = get_top_n_wordembed_full(word_embed, users, 5)"
   ]
  },
  {
   "cell_type": "code",
   "execution_count": 86,
   "id": "aaf86acc",
   "metadata": {
    "collapsed": true
   },
   "outputs": [
    {
     "ename": "TypeError",
     "evalue": "Object of type int32 is not JSON serializable",
     "output_type": "error",
     "traceback": [
      "\u001b[1;31m---------------------------------------------------------------------------\u001b[0m",
      "\u001b[1;31mTypeError\u001b[0m                                 Traceback (most recent call last)",
      "Input \u001b[1;32mIn [86]\u001b[0m, in \u001b[0;36m<cell line: 1>\u001b[1;34m()\u001b[0m\n\u001b[0;32m      1\u001b[0m \u001b[38;5;28;01mwith\u001b[39;00m \u001b[38;5;28mopen\u001b[39m(\u001b[38;5;124m'\u001b[39m\u001b[38;5;124mgenerated/embed_recs.json\u001b[39m\u001b[38;5;124m'\u001b[39m, \u001b[38;5;124m'\u001b[39m\u001b[38;5;124mw\u001b[39m\u001b[38;5;124m'\u001b[39m) \u001b[38;5;28;01mas\u001b[39;00m f:\n\u001b[1;32m----> 2\u001b[0m     \u001b[43mjson\u001b[49m\u001b[38;5;241;43m.\u001b[39;49m\u001b[43mdump\u001b[49m\u001b[43m(\u001b[49m\u001b[43mtop_n_wordembed_full\u001b[49m\u001b[43m,\u001b[49m\u001b[43m \u001b[49m\u001b[43mf\u001b[49m\u001b[43m)\u001b[49m\n",
      "File \u001b[1;32m~\\anaconda3\\lib\\json\\__init__.py:179\u001b[0m, in \u001b[0;36mdump\u001b[1;34m(obj, fp, skipkeys, ensure_ascii, check_circular, allow_nan, cls, indent, separators, default, sort_keys, **kw)\u001b[0m\n\u001b[0;32m    173\u001b[0m     iterable \u001b[38;5;241m=\u001b[39m \u001b[38;5;28mcls\u001b[39m(skipkeys\u001b[38;5;241m=\u001b[39mskipkeys, ensure_ascii\u001b[38;5;241m=\u001b[39mensure_ascii,\n\u001b[0;32m    174\u001b[0m         check_circular\u001b[38;5;241m=\u001b[39mcheck_circular, allow_nan\u001b[38;5;241m=\u001b[39mallow_nan, indent\u001b[38;5;241m=\u001b[39mindent,\n\u001b[0;32m    175\u001b[0m         separators\u001b[38;5;241m=\u001b[39mseparators,\n\u001b[0;32m    176\u001b[0m         default\u001b[38;5;241m=\u001b[39mdefault, sort_keys\u001b[38;5;241m=\u001b[39msort_keys, \u001b[38;5;241m*\u001b[39m\u001b[38;5;241m*\u001b[39mkw)\u001b[38;5;241m.\u001b[39miterencode(obj)\n\u001b[0;32m    177\u001b[0m \u001b[38;5;66;03m# could accelerate with writelines in some versions of Python, at\u001b[39;00m\n\u001b[0;32m    178\u001b[0m \u001b[38;5;66;03m# a debuggability cost\u001b[39;00m\n\u001b[1;32m--> 179\u001b[0m \u001b[38;5;28;01mfor\u001b[39;00m chunk \u001b[38;5;129;01min\u001b[39;00m iterable:\n\u001b[0;32m    180\u001b[0m     fp\u001b[38;5;241m.\u001b[39mwrite(chunk)\n",
      "File \u001b[1;32m~\\anaconda3\\lib\\json\\encoder.py:431\u001b[0m, in \u001b[0;36m_make_iterencode.<locals>._iterencode\u001b[1;34m(o, _current_indent_level)\u001b[0m\n\u001b[0;32m    429\u001b[0m     \u001b[38;5;28;01myield from\u001b[39;00m _iterencode_list(o, _current_indent_level)\n\u001b[0;32m    430\u001b[0m \u001b[38;5;28;01melif\u001b[39;00m \u001b[38;5;28misinstance\u001b[39m(o, \u001b[38;5;28mdict\u001b[39m):\n\u001b[1;32m--> 431\u001b[0m     \u001b[38;5;28;01myield from\u001b[39;00m _iterencode_dict(o, _current_indent_level)\n\u001b[0;32m    432\u001b[0m \u001b[38;5;28;01melse\u001b[39;00m:\n\u001b[0;32m    433\u001b[0m     \u001b[38;5;28;01mif\u001b[39;00m markers \u001b[38;5;129;01mis\u001b[39;00m \u001b[38;5;129;01mnot\u001b[39;00m \u001b[38;5;28;01mNone\u001b[39;00m:\n",
      "File \u001b[1;32m~\\anaconda3\\lib\\json\\encoder.py:405\u001b[0m, in \u001b[0;36m_make_iterencode.<locals>._iterencode_dict\u001b[1;34m(dct, _current_indent_level)\u001b[0m\n\u001b[0;32m    403\u001b[0m         \u001b[38;5;28;01melse\u001b[39;00m:\n\u001b[0;32m    404\u001b[0m             chunks \u001b[38;5;241m=\u001b[39m _iterencode(value, _current_indent_level)\n\u001b[1;32m--> 405\u001b[0m         \u001b[38;5;28;01myield from\u001b[39;00m chunks\n\u001b[0;32m    406\u001b[0m \u001b[38;5;28;01mif\u001b[39;00m newline_indent \u001b[38;5;129;01mis\u001b[39;00m \u001b[38;5;129;01mnot\u001b[39;00m \u001b[38;5;28;01mNone\u001b[39;00m:\n\u001b[0;32m    407\u001b[0m     _current_indent_level \u001b[38;5;241m-\u001b[39m\u001b[38;5;241m=\u001b[39m \u001b[38;5;241m1\u001b[39m\n",
      "File \u001b[1;32m~\\anaconda3\\lib\\json\\encoder.py:325\u001b[0m, in \u001b[0;36m_make_iterencode.<locals>._iterencode_list\u001b[1;34m(lst, _current_indent_level)\u001b[0m\n\u001b[0;32m    323\u001b[0m         \u001b[38;5;28;01melse\u001b[39;00m:\n\u001b[0;32m    324\u001b[0m             chunks \u001b[38;5;241m=\u001b[39m _iterencode(value, _current_indent_level)\n\u001b[1;32m--> 325\u001b[0m         \u001b[38;5;28;01myield from\u001b[39;00m chunks\n\u001b[0;32m    326\u001b[0m \u001b[38;5;28;01mif\u001b[39;00m newline_indent \u001b[38;5;129;01mis\u001b[39;00m \u001b[38;5;129;01mnot\u001b[39;00m \u001b[38;5;28;01mNone\u001b[39;00m:\n\u001b[0;32m    327\u001b[0m     _current_indent_level \u001b[38;5;241m-\u001b[39m\u001b[38;5;241m=\u001b[39m \u001b[38;5;241m1\u001b[39m\n",
      "File \u001b[1;32m~\\anaconda3\\lib\\json\\encoder.py:438\u001b[0m, in \u001b[0;36m_make_iterencode.<locals>._iterencode\u001b[1;34m(o, _current_indent_level)\u001b[0m\n\u001b[0;32m    436\u001b[0m         \u001b[38;5;28;01mraise\u001b[39;00m \u001b[38;5;167;01mValueError\u001b[39;00m(\u001b[38;5;124m\"\u001b[39m\u001b[38;5;124mCircular reference detected\u001b[39m\u001b[38;5;124m\"\u001b[39m)\n\u001b[0;32m    437\u001b[0m     markers[markerid] \u001b[38;5;241m=\u001b[39m o\n\u001b[1;32m--> 438\u001b[0m o \u001b[38;5;241m=\u001b[39m \u001b[43m_default\u001b[49m\u001b[43m(\u001b[49m\u001b[43mo\u001b[49m\u001b[43m)\u001b[49m\n\u001b[0;32m    439\u001b[0m \u001b[38;5;28;01myield from\u001b[39;00m _iterencode(o, _current_indent_level)\n\u001b[0;32m    440\u001b[0m \u001b[38;5;28;01mif\u001b[39;00m markers \u001b[38;5;129;01mis\u001b[39;00m \u001b[38;5;129;01mnot\u001b[39;00m \u001b[38;5;28;01mNone\u001b[39;00m:\n",
      "File \u001b[1;32m~\\anaconda3\\lib\\json\\encoder.py:179\u001b[0m, in \u001b[0;36mJSONEncoder.default\u001b[1;34m(self, o)\u001b[0m\n\u001b[0;32m    160\u001b[0m \u001b[38;5;28;01mdef\u001b[39;00m \u001b[38;5;21mdefault\u001b[39m(\u001b[38;5;28mself\u001b[39m, o):\n\u001b[0;32m    161\u001b[0m     \u001b[38;5;124;03m\"\"\"Implement this method in a subclass such that it returns\u001b[39;00m\n\u001b[0;32m    162\u001b[0m \u001b[38;5;124;03m    a serializable object for ``o``, or calls the base implementation\u001b[39;00m\n\u001b[0;32m    163\u001b[0m \u001b[38;5;124;03m    (to raise a ``TypeError``).\u001b[39;00m\n\u001b[1;32m   (...)\u001b[0m\n\u001b[0;32m    177\u001b[0m \n\u001b[0;32m    178\u001b[0m \u001b[38;5;124;03m    \"\"\"\u001b[39;00m\n\u001b[1;32m--> 179\u001b[0m     \u001b[38;5;28;01mraise\u001b[39;00m \u001b[38;5;167;01mTypeError\u001b[39;00m(\u001b[38;5;124mf\u001b[39m\u001b[38;5;124m'\u001b[39m\u001b[38;5;124mObject of type \u001b[39m\u001b[38;5;132;01m{\u001b[39;00mo\u001b[38;5;241m.\u001b[39m\u001b[38;5;18m__class__\u001b[39m\u001b[38;5;241m.\u001b[39m\u001b[38;5;18m__name__\u001b[39m\u001b[38;5;132;01m}\u001b[39;00m\u001b[38;5;124m \u001b[39m\u001b[38;5;124m'\u001b[39m\n\u001b[0;32m    180\u001b[0m                     \u001b[38;5;124mf\u001b[39m\u001b[38;5;124m'\u001b[39m\u001b[38;5;124mis not JSON serializable\u001b[39m\u001b[38;5;124m'\u001b[39m)\n",
      "\u001b[1;31mTypeError\u001b[0m: Object of type int32 is not JSON serializable"
     ]
    }
   ],
   "source": [
    "with open('generated/embed_recs.json', 'w') as f:\n",
    "    json.dump(top_n_wordembed_full, f)"
   ]
  },
  {
   "cell_type": "code",
   "execution_count": 90,
   "id": "10f6ae91",
   "metadata": {},
   "outputs": [
    {
     "data": {
      "application/vnd.jupyter.widget-view+json": {
       "model_id": "47944bda0e0c4418b0959c019a5997ea",
       "version_major": 2,
       "version_minor": 0
      },
      "text/plain": [
       "  0%|          | 0/20497 [00:00<?, ?it/s]"
      ]
     },
     "metadata": {},
     "output_type": "display_data"
    },
    {
     "name": "stdout",
     "output_type": "stream",
     "text": [
      "20451 users analysed\n"
     ]
    },
    {
     "data": {
      "text/plain": [
       "0.004214952814043353"
      ]
     },
     "execution_count": 90,
     "metadata": {},
     "output_type": "execute_result"
    }
   ],
   "source": [
    "global_precision_score(top_n_wordembed_full, test_df)"
   ]
  },
  {
   "cell_type": "code",
   "execution_count": null,
   "id": "6176592c",
   "metadata": {},
   "outputs": [],
   "source": []
  }
 ],
 "metadata": {
  "kernelspec": {
   "display_name": "Python 3 (ipykernel)",
   "language": "python",
   "name": "python3"
  },
  "language_info": {
   "codemirror_mode": {
    "name": "ipython",
    "version": 3
   },
   "file_extension": ".py",
   "mimetype": "text/x-python",
   "name": "python",
   "nbconvert_exporter": "python",
   "pygments_lexer": "ipython3",
   "version": "3.8.13"
  },
  "papermill": {
   "default_parameters": {},
   "duration": 239.718806,
   "end_time": "2021-10-02T15:54:45.632996",
   "environment_variables": {},
   "exception": null,
   "input_path": "__notebook__.ipynb",
   "output_path": "__notebook__.ipynb",
   "parameters": {},
   "start_time": "2021-10-02T15:50:45.914190",
   "version": "2.3.3"
  }
 },
 "nbformat": 4,
 "nbformat_minor": 5
}
